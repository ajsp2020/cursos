{
  "nbformat": 4,
  "nbformat_minor": 0,
  "metadata": {
    "colab": {
      "name": "exercicios_python_para_data_science.ipynb",
      "provenance": [],
      "authorship_tag": "ABX9TyNUHxXLGp4Nh8zekUlPQiZP",
      "include_colab_link": true
    },
    "kernelspec": {
      "name": "python3",
      "display_name": "Python 3"
    }
  },
  "cells": [
    {
      "cell_type": "markdown",
      "metadata": {
        "id": "view-in-github",
        "colab_type": "text"
      },
      "source": [
        "<a href=\"https://colab.research.google.com/github/ajsp2020/alura/blob/main/exercicios_python_para_data_science.ipynb\" target=\"_parent\"><img src=\"https://colab.research.google.com/assets/colab-badge.svg\" alt=\"Open In Colab\"/></a>"
      ]
    },
    {
      "cell_type": "code",
      "metadata": {
        "id": "P0aQCvCbJ8lo"
      },
      "source": [
        "import pandas as pd"
      ],
      "execution_count": 1,
      "outputs": []
    },
    {
      "cell_type": "code",
      "metadata": {
        "id": "2TOPRn36KAEd"
      },
      "source": [
        "dados = {\r\n",
        "    'Crossfox': {'km': 35000, 'ano': 2005}, \r\n",
        "    'DS5': {'km': 17000, 'ano': 2015}, \r\n",
        "    'Fusca': {'km': 130000, 'ano': 1979}, \r\n",
        "    'Jetta': {'km': 56000, 'ano': 2011}, \r\n",
        "    'Passat': {'km': 62000, 'ano': 1999}\r\n",
        "}"
      ],
      "execution_count": 2,
      "outputs": []
    },
    {
      "cell_type": "code",
      "metadata": {
        "id": "OAoNSKiKKAqN"
      },
      "source": [
        "def km_media(dataset, ano_atual):\r\n",
        "  for item in dataset.items():\r\n",
        "    result = (item[1]['km'] / (ano_atual - item[1]['ano']))\r\n",
        "    print(result)\r\n"
      ],
      "execution_count": 39,
      "outputs": []
    },
    {
      "cell_type": "code",
      "metadata": {
        "colab": {
          "base_uri": "https://localhost:8080/"
        },
        "id": "IuuO4hZcKb8w",
        "outputId": "02c44fc2-dc98-4366-e66e-7d788771200f"
      },
      "source": [
        "km_media(dados, 2019)"
      ],
      "execution_count": 40,
      "outputs": [
        {
          "output_type": "stream",
          "text": [
            "2500.0\n",
            "4250.0\n",
            "3250.0\n",
            "7000.0\n",
            "3100.0\n"
          ],
          "name": "stdout"
        }
      ]
    },
    {
      "cell_type": "code",
      "metadata": {
        "id": "1PzTCKHGKl5d"
      },
      "source": [
        ""
      ],
      "execution_count": null,
      "outputs": []
    }
  ]
}