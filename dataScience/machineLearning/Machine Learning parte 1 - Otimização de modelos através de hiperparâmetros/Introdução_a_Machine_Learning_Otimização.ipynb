{
 "cells": [
  {
   "cell_type": "code",
   "execution_count": 3,
   "source": [
    "#!pip install graphviz\n",
    "#!pip install pydot\n"
   ],
   "outputs": [],
   "metadata": {
    "id": "hRzHdEIfaSOb"
   }
  },
  {
   "cell_type": "code",
   "execution_count": 4,
   "source": [
    "import pandas as pd\n",
    "\n",
    "\n",
    "uri = \"https://gist.githubusercontent.com/guilhermesilveira/e99a526b2e7ccc6c3b70f53db43a87d2/raw/1605fc74aa778066bf2e6695e24d53cf65f2f447/machine-learning-carros-simulacao.csv\"\n",
    "dados = pd.read_csv(uri).drop(columns=[\"Unnamed: 0\"], axis=1)\n",
    "dados.head()"
   ],
   "outputs": [
    {
     "output_type": "execute_result",
     "data": {
      "text/plain": [
       "       preco  vendido  idade_do_modelo   km_por_ano\n",
       "0   30941.02        1               18  35085.22134\n",
       "1   40557.96        1               20  12622.05362\n",
       "2   89627.50        0               12  11440.79806\n",
       "3   95276.14        0                3  43167.32682\n",
       "4  117384.68        1                4  12770.11290"
      ],
      "text/html": [
       "<div>\n",
       "<style scoped>\n",
       "    .dataframe tbody tr th:only-of-type {\n",
       "        vertical-align: middle;\n",
       "    }\n",
       "\n",
       "    .dataframe tbody tr th {\n",
       "        vertical-align: top;\n",
       "    }\n",
       "\n",
       "    .dataframe thead th {\n",
       "        text-align: right;\n",
       "    }\n",
       "</style>\n",
       "<table border=\"1\" class=\"dataframe\">\n",
       "  <thead>\n",
       "    <tr style=\"text-align: right;\">\n",
       "      <th></th>\n",
       "      <th>preco</th>\n",
       "      <th>vendido</th>\n",
       "      <th>idade_do_modelo</th>\n",
       "      <th>km_por_ano</th>\n",
       "    </tr>\n",
       "  </thead>\n",
       "  <tbody>\n",
       "    <tr>\n",
       "      <th>0</th>\n",
       "      <td>30941.02</td>\n",
       "      <td>1</td>\n",
       "      <td>18</td>\n",
       "      <td>35085.22134</td>\n",
       "    </tr>\n",
       "    <tr>\n",
       "      <th>1</th>\n",
       "      <td>40557.96</td>\n",
       "      <td>1</td>\n",
       "      <td>20</td>\n",
       "      <td>12622.05362</td>\n",
       "    </tr>\n",
       "    <tr>\n",
       "      <th>2</th>\n",
       "      <td>89627.50</td>\n",
       "      <td>0</td>\n",
       "      <td>12</td>\n",
       "      <td>11440.79806</td>\n",
       "    </tr>\n",
       "    <tr>\n",
       "      <th>3</th>\n",
       "      <td>95276.14</td>\n",
       "      <td>0</td>\n",
       "      <td>3</td>\n",
       "      <td>43167.32682</td>\n",
       "    </tr>\n",
       "    <tr>\n",
       "      <th>4</th>\n",
       "      <td>117384.68</td>\n",
       "      <td>1</td>\n",
       "      <td>4</td>\n",
       "      <td>12770.11290</td>\n",
       "    </tr>\n",
       "  </tbody>\n",
       "</table>\n",
       "</div>"
      ]
     },
     "metadata": {},
     "execution_count": 4
    }
   ],
   "metadata": {
    "colab": {
     "base_uri": "https://localhost:8080/",
     "height": 204
    },
    "id": "y7ik04NlDZMA",
    "outputId": "7a318058-4d1d-4373-ddc2-af50d69e3516"
   }
  },
  {
   "cell_type": "code",
   "execution_count": 5,
   "source": [
    "# situação horrível de \"azar\" onde as classes estão ordenadas por padrão\n",
    "\n",
    "dados_azar = dados.sort_values(\"vendido\", ascending=True)\n",
    "x_azar = dados_azar[[\"preco\", \"idade_do_modelo\",\"km_por_ano\"]]\n",
    "y_azar = dados_azar[\"vendido\"]\n",
    "dados_azar.head()"
   ],
   "outputs": [
    {
     "output_type": "execute_result",
     "data": {
      "text/plain": [
       "         preco  vendido  idade_do_modelo   km_por_ano\n",
       "4999  74023.29        0               12  24812.80412\n",
       "5322  84843.49        0               13  23095.63834\n",
       "5319  83100.27        0               19  36240.72746\n",
       "5316  87932.13        0               16  32249.56426\n",
       "5315  77937.01        0               15  28414.50704"
      ],
      "text/html": [
       "<div>\n",
       "<style scoped>\n",
       "    .dataframe tbody tr th:only-of-type {\n",
       "        vertical-align: middle;\n",
       "    }\n",
       "\n",
       "    .dataframe tbody tr th {\n",
       "        vertical-align: top;\n",
       "    }\n",
       "\n",
       "    .dataframe thead th {\n",
       "        text-align: right;\n",
       "    }\n",
       "</style>\n",
       "<table border=\"1\" class=\"dataframe\">\n",
       "  <thead>\n",
       "    <tr style=\"text-align: right;\">\n",
       "      <th></th>\n",
       "      <th>preco</th>\n",
       "      <th>vendido</th>\n",
       "      <th>idade_do_modelo</th>\n",
       "      <th>km_por_ano</th>\n",
       "    </tr>\n",
       "  </thead>\n",
       "  <tbody>\n",
       "    <tr>\n",
       "      <th>4999</th>\n",
       "      <td>74023.29</td>\n",
       "      <td>0</td>\n",
       "      <td>12</td>\n",
       "      <td>24812.80412</td>\n",
       "    </tr>\n",
       "    <tr>\n",
       "      <th>5322</th>\n",
       "      <td>84843.49</td>\n",
       "      <td>0</td>\n",
       "      <td>13</td>\n",
       "      <td>23095.63834</td>\n",
       "    </tr>\n",
       "    <tr>\n",
       "      <th>5319</th>\n",
       "      <td>83100.27</td>\n",
       "      <td>0</td>\n",
       "      <td>19</td>\n",
       "      <td>36240.72746</td>\n",
       "    </tr>\n",
       "    <tr>\n",
       "      <th>5316</th>\n",
       "      <td>87932.13</td>\n",
       "      <td>0</td>\n",
       "      <td>16</td>\n",
       "      <td>32249.56426</td>\n",
       "    </tr>\n",
       "    <tr>\n",
       "      <th>5315</th>\n",
       "      <td>77937.01</td>\n",
       "      <td>0</td>\n",
       "      <td>15</td>\n",
       "      <td>28414.50704</td>\n",
       "    </tr>\n",
       "  </tbody>\n",
       "</table>\n",
       "</div>"
      ]
     },
     "metadata": {},
     "execution_count": 5
    }
   ],
   "metadata": {
    "colab": {
     "base_uri": "https://localhost:8080/",
     "height": 204
    },
    "id": "b52E4e1hjegN",
    "outputId": "61dedbcd-b656-4b61-a222-094df0a9592a"
   }
  },
  {
   "cell_type": "code",
   "execution_count": 6,
   "source": [
    "from sklearn.model_selection import cross_validate\n",
    "from sklearn.dummy import DummyClassifier\n",
    "import numpy as np\n",
    "\n",
    "SEED = 301\n",
    "np.random.seed(SEED)\n",
    "\n",
    "modelo = DummyClassifier()\n",
    "results = cross_validate(modelo, x_azar, y_azar, cv = 10, return_train_score=False)\n",
    "media = results['test_score'].mean()\n",
    "desvio_padrao = results['test_score'].std()\n",
    "print(\"Accuracy com dummy stratified, 10 = [%.2f, %.2f]\" % ((media - 2 * desvio_padrao)*100, (media + 2 * desvio_padrao) * 100))"
   ],
   "outputs": [
    {
     "output_type": "stream",
     "name": "stdout",
     "text": [
      "Accuracy com dummy stratified, 10 = [58.00, 58.00]\n"
     ]
    }
   ],
   "metadata": {
    "colab": {
     "base_uri": "https://localhost:8080/"
    },
    "id": "ZNT26vFEeYmz",
    "outputId": "62c849d5-0b96-4c63-9232-b64cb3736b33"
   }
  },
  {
   "cell_type": "code",
   "execution_count": 7,
   "source": [
    "from sklearn.model_selection import cross_validate\n",
    "from sklearn.tree import DecisionTreeClassifier\n",
    "\n",
    "SEED = 301\n",
    "np.random.seed(SEED)\n",
    "\n",
    "modelo = DecisionTreeClassifier(max_depth=2)\n",
    "results = cross_validate(modelo, x_azar, y_azar, cv = 10, return_train_score=False)\n",
    "media = results['test_score'].mean()\n",
    "desvio_padrao = results['test_score'].std()\n",
    "print(\"Accuracy com cross validation, 10 = [%.2f, %.2f]\" % ((media - 2 * desvio_padrao)*100, (media + 2 * desvio_padrao) * 100))"
   ],
   "outputs": [
    {
     "output_type": "stream",
     "name": "stdout",
     "text": [
      "Accuracy com cross validation, 10 = [73.83, 77.73]\n"
     ]
    }
   ],
   "metadata": {
    "colab": {
     "base_uri": "https://localhost:8080/"
    },
    "id": "73mCcFA_eG_K",
    "outputId": "2801b3ef-516e-4818-dc4f-edf95dc7dd4b"
   }
  },
  {
   "cell_type": "code",
   "execution_count": 8,
   "source": [
    "# gerando dados elatorios de modelo de carro para simulacao de agrupamento ao usar nosso estimador\n",
    "\n",
    "np.random.seed(SEED)\n",
    "dados['modelo'] = dados.idade_do_modelo + np.random.randint(-2, 3, size=10000)\n",
    "dados.modelo = dados.modelo + abs(dados.modelo.min()) + 1\n",
    "dados.head()"
   ],
   "outputs": [
    {
     "output_type": "execute_result",
     "data": {
      "text/plain": [
       "       preco  vendido  idade_do_modelo   km_por_ano  modelo\n",
       "0   30941.02        1               18  35085.22134      18\n",
       "1   40557.96        1               20  12622.05362      24\n",
       "2   89627.50        0               12  11440.79806      14\n",
       "3   95276.14        0                3  43167.32682       6\n",
       "4  117384.68        1                4  12770.11290       5"
      ],
      "text/html": [
       "<div>\n",
       "<style scoped>\n",
       "    .dataframe tbody tr th:only-of-type {\n",
       "        vertical-align: middle;\n",
       "    }\n",
       "\n",
       "    .dataframe tbody tr th {\n",
       "        vertical-align: top;\n",
       "    }\n",
       "\n",
       "    .dataframe thead th {\n",
       "        text-align: right;\n",
       "    }\n",
       "</style>\n",
       "<table border=\"1\" class=\"dataframe\">\n",
       "  <thead>\n",
       "    <tr style=\"text-align: right;\">\n",
       "      <th></th>\n",
       "      <th>preco</th>\n",
       "      <th>vendido</th>\n",
       "      <th>idade_do_modelo</th>\n",
       "      <th>km_por_ano</th>\n",
       "      <th>modelo</th>\n",
       "    </tr>\n",
       "  </thead>\n",
       "  <tbody>\n",
       "    <tr>\n",
       "      <th>0</th>\n",
       "      <td>30941.02</td>\n",
       "      <td>1</td>\n",
       "      <td>18</td>\n",
       "      <td>35085.22134</td>\n",
       "      <td>18</td>\n",
       "    </tr>\n",
       "    <tr>\n",
       "      <th>1</th>\n",
       "      <td>40557.96</td>\n",
       "      <td>1</td>\n",
       "      <td>20</td>\n",
       "      <td>12622.05362</td>\n",
       "      <td>24</td>\n",
       "    </tr>\n",
       "    <tr>\n",
       "      <th>2</th>\n",
       "      <td>89627.50</td>\n",
       "      <td>0</td>\n",
       "      <td>12</td>\n",
       "      <td>11440.79806</td>\n",
       "      <td>14</td>\n",
       "    </tr>\n",
       "    <tr>\n",
       "      <th>3</th>\n",
       "      <td>95276.14</td>\n",
       "      <td>0</td>\n",
       "      <td>3</td>\n",
       "      <td>43167.32682</td>\n",
       "      <td>6</td>\n",
       "    </tr>\n",
       "    <tr>\n",
       "      <th>4</th>\n",
       "      <td>117384.68</td>\n",
       "      <td>1</td>\n",
       "      <td>4</td>\n",
       "      <td>12770.11290</td>\n",
       "      <td>5</td>\n",
       "    </tr>\n",
       "  </tbody>\n",
       "</table>\n",
       "</div>"
      ]
     },
     "metadata": {},
     "execution_count": 8
    }
   ],
   "metadata": {
    "colab": {
     "base_uri": "https://localhost:8080/",
     "height": 204
    },
    "id": "5C8Y6J-PGpYf",
    "outputId": "173d8dee-01b2-4809-f4db-6c6d95983386"
   }
  },
  {
   "cell_type": "code",
   "execution_count": 9,
   "source": [
    "def imprime_resultados(results):\n",
    "  media = results['test_score'].mean() * 100\n",
    "  desvio = results['test_score'].std() * 100\n",
    "  print(\"Accuracy médio %.2f\" % media)\n",
    "  print(\"Intervalo [%.2f, %.2f]\" % (media - 2 * desvio, media + 2 * desvio))"
   ],
   "outputs": [],
   "metadata": {
    "id": "3hmjt7qPHOZY"
   }
  },
  {
   "cell_type": "code",
   "execution_count": 10,
   "source": [
    "# GroupKFold para analisar como o modelo se comporta com novos grupos\n",
    "\n",
    "from sklearn.model_selection import GroupKFold\n",
    "\n",
    "SEED = 301\n",
    "np.random.seed(SEED)\n",
    "\n",
    "cv = GroupKFold(n_splits = 10)\n",
    "modelo = DecisionTreeClassifier(max_depth=2)\n",
    "results = cross_validate(modelo, x_azar, y_azar, cv = cv, groups = dados.modelo, return_train_score=False)\n",
    "imprime_resultados(results)"
   ],
   "outputs": [
    {
     "output_type": "stream",
     "name": "stdout",
     "text": [
      "Accuracy médio 75.78\n",
      "Intervalo [73.67, 77.90]\n"
     ]
    }
   ],
   "metadata": {
    "colab": {
     "base_uri": "https://localhost:8080/"
    },
    "id": "IKD8uaWkNcUL",
    "outputId": "2110cad1-8897-448a-aba0-d4aa270c8729"
   }
  },
  {
   "cell_type": "code",
   "execution_count": 11,
   "source": [
    "# GroupKFold em um pipeline com StandardScaler e SVC\n",
    "\n",
    "from sklearn.preprocessing import StandardScaler\n",
    "from sklearn.svm import SVC\n",
    "from sklearn.pipeline import Pipeline\n",
    "\n",
    "SEED = 301\n",
    "np.random.seed(SEED)\n",
    "\n",
    "scaler = StandardScaler()\n",
    "modelo = SVC()\n",
    "\n",
    "pipeline = Pipeline([('transformacao',scaler), ('estimador',modelo)])\n",
    "\n",
    "cv = GroupKFold(n_splits = 10)\n",
    "results = cross_validate(pipeline, x_azar, y_azar, cv = cv, groups = dados.modelo, return_train_score=False)\n",
    "imprime_resultados(results)"
   ],
   "outputs": [
    {
     "output_type": "stream",
     "name": "stdout",
     "text": [
      "Accuracy médio 76.68\n",
      "Intervalo [74.28, 79.08]\n"
     ]
    }
   ],
   "metadata": {
    "colab": {
     "base_uri": "https://localhost:8080/"
    },
    "id": "goijy0rSS7n-",
    "outputId": "a2c3b0c6-3484-4610-c564-2974ce920d0a"
   }
  },
  {
   "cell_type": "markdown",
   "source": [
    "# <font color='blue'> Hiperparâmetros, overfit e otimização copy 5 </font>"
   ],
   "metadata": {
    "id": "k5ofsDVdaSOk"
   }
  },
  {
   "cell_type": "code",
   "execution_count": 12,
   "source": [
    "# GroupKFold para analisar como o modelo se comporta com novos grupos\n",
    "\n",
    "from sklearn.model_selection import GroupKFold\n",
    "\n",
    "SEED = 301\n",
    "np.random.seed(SEED)\n",
    "\n",
    "cv = GroupKFold(n_splits = 10)\n",
    "modelo = DecisionTreeClassifier(max_depth=2)\n",
    "results = cross_validate(modelo, x_azar, y_azar, cv = cv, groups = dados.modelo, return_train_score=False)\n",
    "imprime_resultados(results)"
   ],
   "outputs": [
    {
     "output_type": "stream",
     "name": "stdout",
     "text": [
      "Accuracy médio 75.78\n",
      "Intervalo [73.67, 77.90]\n"
     ]
    }
   ],
   "metadata": {
    "colab": {
     "base_uri": "https://localhost:8080/"
    },
    "id": "KB-liE1raSOl",
    "outputId": "bac63574-1024-4ff0-e44c-05664cfb7ccb"
   }
  },
  {
   "cell_type": "code",
   "execution_count": 13,
   "source": [
    "modelo"
   ],
   "outputs": [
    {
     "output_type": "execute_result",
     "data": {
      "text/plain": [
       "DecisionTreeClassifier(max_depth=2)"
      ]
     },
     "metadata": {},
     "execution_count": 13
    }
   ],
   "metadata": {
    "colab": {
     "base_uri": "https://localhost:8080/"
    },
    "id": "fE-wUJ-CaSOm",
    "outputId": "5b54afe8-5e4f-4523-e844-c216b15a20f5"
   }
  },
  {
   "cell_type": "markdown",
   "source": [
    "### Visualizando a arvore de decisão:"
   ],
   "metadata": {
    "id": "NDb4f2N2aSOn"
   }
  },
  {
   "cell_type": "code",
   "execution_count": 14,
   "source": [
    "from sklearn.tree import export_graphviz\n",
    "import graphviz\n",
    "\n",
    "modelo.fit(x_azar, y_azar)\n",
    "features = x_azar.columns\n",
    "dot_data = export_graphviz(modelo, out_file=None, filled=True, rounded=True, \n",
    "                class_names=[\"não\", \"sim\"], \n",
    "                feature_names =  features)\n",
    "\n",
    "graph = graphviz.Source(dot_data)\n",
    "graph"
   ],
   "outputs": [
    {
     "output_type": "execute_result",
     "data": {
      "text/plain": [
       "<graphviz.files.Source at 0x7f863a8dae50>"
      ],
      "image/svg+xml": "<?xml version=\"1.0\" encoding=\"UTF-8\" standalone=\"no\"?>\n<!DOCTYPE svg PUBLIC \"-//W3C//DTD SVG 1.1//EN\"\n \"http://www.w3.org/Graphics/SVG/1.1/DTD/svg11.dtd\">\n<!-- Generated by graphviz version 2.40.1 (20161225.0304)\n -->\n<!-- Title: Tree Pages: 1 -->\n<svg width=\"610pt\" height=\"314pt\"\n viewBox=\"0.00 0.00 610.00 314.00\" xmlns=\"http://www.w3.org/2000/svg\" xmlns:xlink=\"http://www.w3.org/1999/xlink\">\n<g id=\"graph0\" class=\"graph\" transform=\"scale(1 1) rotate(0) translate(4 310)\">\n<title>Tree</title>\n<polygon fill=\"#ffffff\" stroke=\"transparent\" points=\"-4,4 -4,-310 606,-310 606,4 -4,4\"/>\n<!-- 0 -->\n<g id=\"node1\" class=\"node\">\n<title>0</title>\n<path fill=\"#c8e4f8\" stroke=\"#000000\" d=\"M351,-306C351,-306 231,-306 231,-306 225,-306 219,-300 219,-294 219,-294 219,-235 219,-235 219,-229 225,-223 231,-223 231,-223 351,-223 351,-223 357,-223 363,-229 363,-235 363,-235 363,-294 363,-294 363,-300 357,-306 351,-306\"/>\n<text text-anchor=\"middle\" x=\"291\" y=\"-290.8\" font-family=\"Helvetica,sans-Serif\" font-size=\"14.00\" fill=\"#000000\">preco &lt;= 59982.246</text>\n<text text-anchor=\"middle\" x=\"291\" y=\"-275.8\" font-family=\"Helvetica,sans-Serif\" font-size=\"14.00\" fill=\"#000000\">gini = 0.487</text>\n<text text-anchor=\"middle\" x=\"291\" y=\"-260.8\" font-family=\"Helvetica,sans-Serif\" font-size=\"14.00\" fill=\"#000000\">samples = 10000</text>\n<text text-anchor=\"middle\" x=\"291\" y=\"-245.8\" font-family=\"Helvetica,sans-Serif\" font-size=\"14.00\" fill=\"#000000\">value = [4200, 5800]</text>\n<text text-anchor=\"middle\" x=\"291\" y=\"-230.8\" font-family=\"Helvetica,sans-Serif\" font-size=\"14.00\" fill=\"#000000\">class = sim</text>\n</g>\n<!-- 1 -->\n<g id=\"node2\" class=\"node\">\n<title>1</title>\n<path fill=\"#52a9e8\" stroke=\"#000000\" d=\"M259,-187C259,-187 141,-187 141,-187 135,-187 129,-181 129,-175 129,-175 129,-116 129,-116 129,-110 135,-104 141,-104 141,-104 259,-104 259,-104 265,-104 271,-110 271,-116 271,-116 271,-175 271,-175 271,-181 265,-187 259,-187\"/>\n<text text-anchor=\"middle\" x=\"200\" y=\"-171.8\" font-family=\"Helvetica,sans-Serif\" font-size=\"14.00\" fill=\"#000000\">preco &lt;= 40083.385</text>\n<text text-anchor=\"middle\" x=\"200\" y=\"-156.8\" font-family=\"Helvetica,sans-Serif\" font-size=\"14.00\" fill=\"#000000\">gini = 0.198</text>\n<text text-anchor=\"middle\" x=\"200\" y=\"-141.8\" font-family=\"Helvetica,sans-Serif\" font-size=\"14.00\" fill=\"#000000\">samples = 4347</text>\n<text text-anchor=\"middle\" x=\"200\" y=\"-126.8\" font-family=\"Helvetica,sans-Serif\" font-size=\"14.00\" fill=\"#000000\">value = [484, 3863]</text>\n<text text-anchor=\"middle\" x=\"200\" y=\"-111.8\" font-family=\"Helvetica,sans-Serif\" font-size=\"14.00\" fill=\"#000000\">class = sim</text>\n</g>\n<!-- 0&#45;&gt;1 -->\n<g id=\"edge1\" class=\"edge\">\n<title>0&#45;&gt;1</title>\n<path fill=\"none\" stroke=\"#000000\" d=\"M259.1726,-222.8796C252.3543,-213.9633 245.0844,-204.4565 238.0579,-195.268\"/>\n<polygon fill=\"#000000\" stroke=\"#000000\" points=\"240.818,-193.1156 231.9632,-187.2981 235.2575,-197.3678 240.818,-193.1156\"/>\n<text text-anchor=\"middle\" x=\"228.6591\" y=\"-208.3788\" font-family=\"Helvetica,sans-Serif\" font-size=\"14.00\" fill=\"#000000\">True</text>\n</g>\n<!-- 4 -->\n<g id=\"node5\" class=\"node\">\n<title>4</title>\n<path fill=\"#f3c3a0\" stroke=\"#000000\" d=\"M462.5,-187C462.5,-187 301.5,-187 301.5,-187 295.5,-187 289.5,-181 289.5,-175 289.5,-175 289.5,-116 289.5,-116 289.5,-110 295.5,-104 301.5,-104 301.5,-104 462.5,-104 462.5,-104 468.5,-104 474.5,-110 474.5,-116 474.5,-116 474.5,-175 474.5,-175 474.5,-181 468.5,-187 462.5,-187\"/>\n<text text-anchor=\"middle\" x=\"382\" y=\"-171.8\" font-family=\"Helvetica,sans-Serif\" font-size=\"14.00\" fill=\"#000000\">km_por_ano &lt;= 24124.006</text>\n<text text-anchor=\"middle\" x=\"382\" y=\"-156.8\" font-family=\"Helvetica,sans-Serif\" font-size=\"14.00\" fill=\"#000000\">gini = 0.45</text>\n<text text-anchor=\"middle\" x=\"382\" y=\"-141.8\" font-family=\"Helvetica,sans-Serif\" font-size=\"14.00\" fill=\"#000000\">samples = 5653</text>\n<text text-anchor=\"middle\" x=\"382\" y=\"-126.8\" font-family=\"Helvetica,sans-Serif\" font-size=\"14.00\" fill=\"#000000\">value = [3716, 1937]</text>\n<text text-anchor=\"middle\" x=\"382\" y=\"-111.8\" font-family=\"Helvetica,sans-Serif\" font-size=\"14.00\" fill=\"#000000\">class = não</text>\n</g>\n<!-- 0&#45;&gt;4 -->\n<g id=\"edge4\" class=\"edge\">\n<title>0&#45;&gt;4</title>\n<path fill=\"none\" stroke=\"#000000\" d=\"M322.8274,-222.8796C329.6457,-213.9633 336.9156,-204.4565 343.9421,-195.268\"/>\n<polygon fill=\"#000000\" stroke=\"#000000\" points=\"346.7425,-197.3678 350.0368,-187.2981 341.182,-193.1156 346.7425,-197.3678\"/>\n<text text-anchor=\"middle\" x=\"353.3409\" y=\"-208.3788\" font-family=\"Helvetica,sans-Serif\" font-size=\"14.00\" fill=\"#000000\">False</text>\n</g>\n<!-- 2 -->\n<g id=\"node3\" class=\"node\">\n<title>2</title>\n<path fill=\"#399de5\" stroke=\"#000000\" d=\"M108,-68C108,-68 12,-68 12,-68 6,-68 0,-62 0,-56 0,-56 0,-12 0,-12 0,-6 6,0 12,0 12,0 108,0 108,0 114,0 120,-6 120,-12 120,-12 120,-56 120,-56 120,-62 114,-68 108,-68\"/>\n<text text-anchor=\"middle\" x=\"60\" y=\"-52.8\" font-family=\"Helvetica,sans-Serif\" font-size=\"14.00\" fill=\"#000000\">gini = 0.0</text>\n<text text-anchor=\"middle\" x=\"60\" y=\"-37.8\" font-family=\"Helvetica,sans-Serif\" font-size=\"14.00\" fill=\"#000000\">samples = 1935</text>\n<text text-anchor=\"middle\" x=\"60\" y=\"-22.8\" font-family=\"Helvetica,sans-Serif\" font-size=\"14.00\" fill=\"#000000\">value = [0, 1935]</text>\n<text text-anchor=\"middle\" x=\"60\" y=\"-7.8\" font-family=\"Helvetica,sans-Serif\" font-size=\"14.00\" fill=\"#000000\">class = sim</text>\n</g>\n<!-- 1&#45;&gt;2 -->\n<g id=\"edge2\" class=\"edge\">\n<title>1&#45;&gt;2</title>\n<path fill=\"none\" stroke=\"#000000\" d=\"M147.8692,-103.9815C135.8677,-94.4232 123.1152,-84.2668 111.1557,-74.7419\"/>\n<polygon fill=\"#000000\" stroke=\"#000000\" points=\"113.0244,-71.7558 103.0217,-68.2637 108.6635,-77.2314 113.0244,-71.7558\"/>\n</g>\n<!-- 3 -->\n<g id=\"node4\" class=\"node\">\n<title>3</title>\n<path fill=\"#6bb6ec\" stroke=\"#000000\" d=\"M262,-68C262,-68 150,-68 150,-68 144,-68 138,-62 138,-56 138,-56 138,-12 138,-12 138,-6 144,0 150,0 150,0 262,0 262,0 268,0 274,-6 274,-12 274,-12 274,-56 274,-56 274,-62 268,-68 262,-68\"/>\n<text text-anchor=\"middle\" x=\"206\" y=\"-52.8\" font-family=\"Helvetica,sans-Serif\" font-size=\"14.00\" fill=\"#000000\">gini = 0.321</text>\n<text text-anchor=\"middle\" x=\"206\" y=\"-37.8\" font-family=\"Helvetica,sans-Serif\" font-size=\"14.00\" fill=\"#000000\">samples = 2412</text>\n<text text-anchor=\"middle\" x=\"206\" y=\"-22.8\" font-family=\"Helvetica,sans-Serif\" font-size=\"14.00\" fill=\"#000000\">value = [484, 1928]</text>\n<text text-anchor=\"middle\" x=\"206\" y=\"-7.8\" font-family=\"Helvetica,sans-Serif\" font-size=\"14.00\" fill=\"#000000\">class = sim</text>\n</g>\n<!-- 1&#45;&gt;3 -->\n<g id=\"edge3\" class=\"edge\">\n<title>1&#45;&gt;3</title>\n<path fill=\"none\" stroke=\"#000000\" d=\"M202.2342,-103.9815C202.6842,-95.618 203.1589,-86.7965 203.6139,-78.3409\"/>\n<polygon fill=\"#000000\" stroke=\"#000000\" points=\"207.1137,-78.4373 204.1562,-68.2637 200.1238,-78.0611 207.1137,-78.4373\"/>\n</g>\n<!-- 5 -->\n<g id=\"node6\" class=\"node\">\n<title>5</title>\n<path fill=\"#fcefe5\" stroke=\"#000000\" d=\"M436,-68C436,-68 316,-68 316,-68 310,-68 304,-62 304,-56 304,-56 304,-12 304,-12 304,-6 310,0 316,0 316,0 436,0 436,0 442,0 448,-6 448,-12 448,-12 448,-56 448,-56 448,-62 442,-68 436,-68\"/>\n<text text-anchor=\"middle\" x=\"376\" y=\"-52.8\" font-family=\"Helvetica,sans-Serif\" font-size=\"14.00\" fill=\"#000000\">gini = 0.498</text>\n<text text-anchor=\"middle\" x=\"376\" y=\"-37.8\" font-family=\"Helvetica,sans-Serif\" font-size=\"14.00\" fill=\"#000000\">samples = 3513</text>\n<text text-anchor=\"middle\" x=\"376\" y=\"-22.8\" font-family=\"Helvetica,sans-Serif\" font-size=\"14.00\" fill=\"#000000\">value = [1879, 1634]</text>\n<text text-anchor=\"middle\" x=\"376\" y=\"-7.8\" font-family=\"Helvetica,sans-Serif\" font-size=\"14.00\" fill=\"#000000\">class = não</text>\n</g>\n<!-- 4&#45;&gt;5 -->\n<g id=\"edge5\" class=\"edge\">\n<title>4&#45;&gt;5</title>\n<path fill=\"none\" stroke=\"#000000\" d=\"M379.7658,-103.9815C379.3158,-95.618 378.8411,-86.7965 378.3861,-78.3409\"/>\n<polygon fill=\"#000000\" stroke=\"#000000\" points=\"381.8762,-78.0611 377.8438,-68.2637 374.8863,-78.4373 381.8762,-78.0611\"/>\n</g>\n<!-- 6 -->\n<g id=\"node7\" class=\"node\">\n<title>6</title>\n<path fill=\"#e9965a\" stroke=\"#000000\" d=\"M590,-68C590,-68 478,-68 478,-68 472,-68 466,-62 466,-56 466,-56 466,-12 466,-12 466,-6 472,0 478,0 478,0 590,0 590,0 596,0 602,-6 602,-12 602,-12 602,-56 602,-56 602,-62 596,-68 590,-68\"/>\n<text text-anchor=\"middle\" x=\"534\" y=\"-52.8\" font-family=\"Helvetica,sans-Serif\" font-size=\"14.00\" fill=\"#000000\">gini = 0.243</text>\n<text text-anchor=\"middle\" x=\"534\" y=\"-37.8\" font-family=\"Helvetica,sans-Serif\" font-size=\"14.00\" fill=\"#000000\">samples = 2140</text>\n<text text-anchor=\"middle\" x=\"534\" y=\"-22.8\" font-family=\"Helvetica,sans-Serif\" font-size=\"14.00\" fill=\"#000000\">value = [1837, 303]</text>\n<text text-anchor=\"middle\" x=\"534\" y=\"-7.8\" font-family=\"Helvetica,sans-Serif\" font-size=\"14.00\" fill=\"#000000\">class = não</text>\n</g>\n<!-- 4&#45;&gt;6 -->\n<g id=\"edge6\" class=\"edge\">\n<title>4&#45;&gt;6</title>\n<path fill=\"none\" stroke=\"#000000\" d=\"M438.5992,-103.9815C451.8799,-94.2394 466.0077,-83.8759 479.2077,-74.193\"/>\n<polygon fill=\"#000000\" stroke=\"#000000\" points=\"481.2977,-77.0006 487.2908,-68.2637 477.1574,-71.3564 481.2977,-77.0006\"/>\n</g>\n</g>\n</svg>\n"
     },
     "metadata": {},
     "execution_count": 14
    }
   ],
   "metadata": {
    "colab": {
     "base_uri": "https://localhost:8080/",
     "height": 440
    },
    "id": "MuLfIeu6aSOo",
    "outputId": "13f75851-9bf6-49c6-9b37-3898f387677a"
   }
  },
  {
   "cell_type": "code",
   "execution_count": 15,
   "source": [
    "# GroupKFold para analisar como o modelo se comporta com novos grupos\n",
    "\n",
    "from sklearn.model_selection import GroupKFold\n",
    "\n",
    "SEED = 301\n",
    "np.random.seed(SEED)\n",
    "\n",
    "cv = GroupKFold(n_splits = 10)\n",
    "modelo = DecisionTreeClassifier(max_depth=3)\n",
    "results = cross_validate(modelo, x_azar, y_azar, cv = cv, groups = dados.modelo, return_train_score=False)\n",
    "imprime_resultados(results)"
   ],
   "outputs": [
    {
     "output_type": "stream",
     "name": "stdout",
     "text": [
      "Accuracy médio 78.67\n",
      "Intervalo [76.40, 80.94]\n"
     ]
    }
   ],
   "metadata": {
    "colab": {
     "base_uri": "https://localhost:8080/"
    },
    "id": "8augrTFcaSOo",
    "outputId": "e4ad0ef6-2f21-44f2-849e-1371df69da1f"
   }
  },
  {
   "cell_type": "code",
   "execution_count": 16,
   "source": [
    "modelo.fit(x_azar, y_azar)\n",
    "features = x_azar.columns\n",
    "dot_data = export_graphviz(modelo, out_file=None, filled=True, rounded=True, \n",
    "                class_names=[\"não\", \"sim\"], \n",
    "                feature_names =  features)\n",
    "\n",
    "graph = graphviz.Source(dot_data)\n",
    "graph"
   ],
   "outputs": [
    {
     "output_type": "execute_result",
     "data": {
      "text/plain": [
       "<graphviz.files.Source at 0x7f863aabbb80>"
      ],
      "image/svg+xml": "<?xml version=\"1.0\" encoding=\"UTF-8\" standalone=\"no\"?>\n<!DOCTYPE svg PUBLIC \"-//W3C//DTD SVG 1.1//EN\"\n \"http://www.w3.org/Graphics/SVG/1.1/DTD/svg11.dtd\">\n<!-- Generated by graphviz version 2.40.1 (20161225.0304)\n -->\n<!-- Title: Tree Pages: 1 -->\n<svg width=\"885pt\" height=\"433pt\"\n viewBox=\"0.00 0.00 885.00 433.00\" xmlns=\"http://www.w3.org/2000/svg\" xmlns:xlink=\"http://www.w3.org/1999/xlink\">\n<g id=\"graph0\" class=\"graph\" transform=\"scale(1 1) rotate(0) translate(4 429)\">\n<title>Tree</title>\n<polygon fill=\"#ffffff\" stroke=\"transparent\" points=\"-4,4 -4,-429 881,-429 881,4 -4,4\"/>\n<!-- 0 -->\n<g id=\"node1\" class=\"node\">\n<title>0</title>\n<path fill=\"#c8e4f8\" stroke=\"#000000\" d=\"M360,-425C360,-425 240,-425 240,-425 234,-425 228,-419 228,-413 228,-413 228,-354 228,-354 228,-348 234,-342 240,-342 240,-342 360,-342 360,-342 366,-342 372,-348 372,-354 372,-354 372,-413 372,-413 372,-419 366,-425 360,-425\"/>\n<text text-anchor=\"middle\" x=\"300\" y=\"-409.8\" font-family=\"Helvetica,sans-Serif\" font-size=\"14.00\" fill=\"#000000\">preco &lt;= 59982.246</text>\n<text text-anchor=\"middle\" x=\"300\" y=\"-394.8\" font-family=\"Helvetica,sans-Serif\" font-size=\"14.00\" fill=\"#000000\">gini = 0.487</text>\n<text text-anchor=\"middle\" x=\"300\" y=\"-379.8\" font-family=\"Helvetica,sans-Serif\" font-size=\"14.00\" fill=\"#000000\">samples = 10000</text>\n<text text-anchor=\"middle\" x=\"300\" y=\"-364.8\" font-family=\"Helvetica,sans-Serif\" font-size=\"14.00\" fill=\"#000000\">value = [4200, 5800]</text>\n<text text-anchor=\"middle\" x=\"300\" y=\"-349.8\" font-family=\"Helvetica,sans-Serif\" font-size=\"14.00\" fill=\"#000000\">class = sim</text>\n</g>\n<!-- 1 -->\n<g id=\"node2\" class=\"node\">\n<title>1</title>\n<path fill=\"#52a9e8\" stroke=\"#000000\" d=\"M268,-306C268,-306 150,-306 150,-306 144,-306 138,-300 138,-294 138,-294 138,-235 138,-235 138,-229 144,-223 150,-223 150,-223 268,-223 268,-223 274,-223 280,-229 280,-235 280,-235 280,-294 280,-294 280,-300 274,-306 268,-306\"/>\n<text text-anchor=\"middle\" x=\"209\" y=\"-290.8\" font-family=\"Helvetica,sans-Serif\" font-size=\"14.00\" fill=\"#000000\">preco &lt;= 40083.385</text>\n<text text-anchor=\"middle\" x=\"209\" y=\"-275.8\" font-family=\"Helvetica,sans-Serif\" font-size=\"14.00\" fill=\"#000000\">gini = 0.198</text>\n<text text-anchor=\"middle\" x=\"209\" y=\"-260.8\" font-family=\"Helvetica,sans-Serif\" font-size=\"14.00\" fill=\"#000000\">samples = 4347</text>\n<text text-anchor=\"middle\" x=\"209\" y=\"-245.8\" font-family=\"Helvetica,sans-Serif\" font-size=\"14.00\" fill=\"#000000\">value = [484, 3863]</text>\n<text text-anchor=\"middle\" x=\"209\" y=\"-230.8\" font-family=\"Helvetica,sans-Serif\" font-size=\"14.00\" fill=\"#000000\">class = sim</text>\n</g>\n<!-- 0&#45;&gt;1 -->\n<g id=\"edge1\" class=\"edge\">\n<title>0&#45;&gt;1</title>\n<path fill=\"none\" stroke=\"#000000\" d=\"M268.1726,-341.8796C261.3543,-332.9633 254.0844,-323.4565 247.0579,-314.268\"/>\n<polygon fill=\"#000000\" stroke=\"#000000\" points=\"249.818,-312.1156 240.9632,-306.2981 244.2575,-316.3678 249.818,-312.1156\"/>\n<text text-anchor=\"middle\" x=\"237.6591\" y=\"-327.3788\" font-family=\"Helvetica,sans-Serif\" font-size=\"14.00\" fill=\"#000000\">True</text>\n</g>\n<!-- 6 -->\n<g id=\"node7\" class=\"node\">\n<title>6</title>\n<path fill=\"#f3c3a0\" stroke=\"#000000\" d=\"M526.5,-306C526.5,-306 365.5,-306 365.5,-306 359.5,-306 353.5,-300 353.5,-294 353.5,-294 353.5,-235 353.5,-235 353.5,-229 359.5,-223 365.5,-223 365.5,-223 526.5,-223 526.5,-223 532.5,-223 538.5,-229 538.5,-235 538.5,-235 538.5,-294 538.5,-294 538.5,-300 532.5,-306 526.5,-306\"/>\n<text text-anchor=\"middle\" x=\"446\" y=\"-290.8\" font-family=\"Helvetica,sans-Serif\" font-size=\"14.00\" fill=\"#000000\">km_por_ano &lt;= 24124.006</text>\n<text text-anchor=\"middle\" x=\"446\" y=\"-275.8\" font-family=\"Helvetica,sans-Serif\" font-size=\"14.00\" fill=\"#000000\">gini = 0.45</text>\n<text text-anchor=\"middle\" x=\"446\" y=\"-260.8\" font-family=\"Helvetica,sans-Serif\" font-size=\"14.00\" fill=\"#000000\">samples = 5653</text>\n<text text-anchor=\"middle\" x=\"446\" y=\"-245.8\" font-family=\"Helvetica,sans-Serif\" font-size=\"14.00\" fill=\"#000000\">value = [3716, 1937]</text>\n<text text-anchor=\"middle\" x=\"446\" y=\"-230.8\" font-family=\"Helvetica,sans-Serif\" font-size=\"14.00\" fill=\"#000000\">class = não</text>\n</g>\n<!-- 0&#45;&gt;6 -->\n<g id=\"edge6\" class=\"edge\">\n<title>0&#45;&gt;6</title>\n<path fill=\"none\" stroke=\"#000000\" d=\"M351.0637,-341.8796C362.5555,-332.513 374.8468,-322.4948 386.645,-312.8784\"/>\n<polygon fill=\"#000000\" stroke=\"#000000\" points=\"389.1782,-315.329 394.7183,-306.2981 384.7556,-309.903 389.1782,-315.329\"/>\n<text text-anchor=\"middle\" x=\"392.1843\" y=\"-327.4693\" font-family=\"Helvetica,sans-Serif\" font-size=\"14.00\" fill=\"#000000\">False</text>\n</g>\n<!-- 2 -->\n<g id=\"node3\" class=\"node\">\n<title>2</title>\n<path fill=\"#399de5\" stroke=\"#000000\" d=\"M108,-179.5C108,-179.5 12,-179.5 12,-179.5 6,-179.5 0,-173.5 0,-167.5 0,-167.5 0,-123.5 0,-123.5 0,-117.5 6,-111.5 12,-111.5 12,-111.5 108,-111.5 108,-111.5 114,-111.5 120,-117.5 120,-123.5 120,-123.5 120,-167.5 120,-167.5 120,-173.5 114,-179.5 108,-179.5\"/>\n<text text-anchor=\"middle\" x=\"60\" y=\"-164.3\" font-family=\"Helvetica,sans-Serif\" font-size=\"14.00\" fill=\"#000000\">gini = 0.0</text>\n<text text-anchor=\"middle\" x=\"60\" y=\"-149.3\" font-family=\"Helvetica,sans-Serif\" font-size=\"14.00\" fill=\"#000000\">samples = 1935</text>\n<text text-anchor=\"middle\" x=\"60\" y=\"-134.3\" font-family=\"Helvetica,sans-Serif\" font-size=\"14.00\" fill=\"#000000\">value = [0, 1935]</text>\n<text text-anchor=\"middle\" x=\"60\" y=\"-119.3\" font-family=\"Helvetica,sans-Serif\" font-size=\"14.00\" fill=\"#000000\">class = sim</text>\n</g>\n<!-- 1&#45;&gt;2 -->\n<g id=\"edge2\" class=\"edge\">\n<title>1&#45;&gt;2</title>\n<path fill=\"none\" stroke=\"#000000\" d=\"M156.887,-222.8796C142.0174,-211.0038 125.836,-198.0804 111.0317,-186.2568\"/>\n<polygon fill=\"#000000\" stroke=\"#000000\" points=\"112.9638,-183.3207 102.9658,-179.8149 108.5954,-188.7904 112.9638,-183.3207\"/>\n</g>\n<!-- 3 -->\n<g id=\"node4\" class=\"node\">\n<title>3</title>\n<path fill=\"#6bb6ec\" stroke=\"#000000\" d=\"M268,-187C268,-187 150,-187 150,-187 144,-187 138,-181 138,-175 138,-175 138,-116 138,-116 138,-110 144,-104 150,-104 150,-104 268,-104 268,-104 274,-104 280,-110 280,-116 280,-116 280,-175 280,-175 280,-181 274,-187 268,-187\"/>\n<text text-anchor=\"middle\" x=\"209\" y=\"-171.8\" font-family=\"Helvetica,sans-Serif\" font-size=\"14.00\" fill=\"#000000\">preco &lt;= 41083.029</text>\n<text text-anchor=\"middle\" x=\"209\" y=\"-156.8\" font-family=\"Helvetica,sans-Serif\" font-size=\"14.00\" fill=\"#000000\">gini = 0.321</text>\n<text text-anchor=\"middle\" x=\"209\" y=\"-141.8\" font-family=\"Helvetica,sans-Serif\" font-size=\"14.00\" fill=\"#000000\">samples = 2412</text>\n<text text-anchor=\"middle\" x=\"209\" y=\"-126.8\" font-family=\"Helvetica,sans-Serif\" font-size=\"14.00\" fill=\"#000000\">value = [484, 1928]</text>\n<text text-anchor=\"middle\" x=\"209\" y=\"-111.8\" font-family=\"Helvetica,sans-Serif\" font-size=\"14.00\" fill=\"#000000\">class = sim</text>\n</g>\n<!-- 1&#45;&gt;3 -->\n<g id=\"edge3\" class=\"edge\">\n<title>1&#45;&gt;3</title>\n<path fill=\"none\" stroke=\"#000000\" d=\"M209,-222.8796C209,-214.6838 209,-205.9891 209,-197.5013\"/>\n<polygon fill=\"#000000\" stroke=\"#000000\" points=\"212.5001,-197.298 209,-187.2981 205.5001,-197.2981 212.5001,-197.298\"/>\n</g>\n<!-- 4 -->\n<g id=\"node5\" class=\"node\">\n<title>4</title>\n<path fill=\"#95cbf1\" stroke=\"#000000\" d=\"M110.5,-68C110.5,-68 21.5,-68 21.5,-68 15.5,-68 9.5,-62 9.5,-56 9.5,-56 9.5,-12 9.5,-12 9.5,-6 15.5,0 21.5,0 21.5,0 110.5,0 110.5,0 116.5,0 122.5,-6 122.5,-12 122.5,-12 122.5,-56 122.5,-56 122.5,-62 116.5,-68 110.5,-68\"/>\n<text text-anchor=\"middle\" x=\"66\" y=\"-52.8\" font-family=\"Helvetica,sans-Serif\" font-size=\"14.00\" fill=\"#000000\">gini = 0.434</text>\n<text text-anchor=\"middle\" x=\"66\" y=\"-37.8\" font-family=\"Helvetica,sans-Serif\" font-size=\"14.00\" fill=\"#000000\">samples = 110</text>\n<text text-anchor=\"middle\" x=\"66\" y=\"-22.8\" font-family=\"Helvetica,sans-Serif\" font-size=\"14.00\" fill=\"#000000\">value = [35, 75]</text>\n<text text-anchor=\"middle\" x=\"66\" y=\"-7.8\" font-family=\"Helvetica,sans-Serif\" font-size=\"14.00\" fill=\"#000000\">class = sim</text>\n</g>\n<!-- 3&#45;&gt;4 -->\n<g id=\"edge4\" class=\"edge\">\n<title>3&#45;&gt;4</title>\n<path fill=\"none\" stroke=\"#000000\" d=\"M155.7521,-103.9815C143.3756,-94.3313 130.2172,-84.0714 117.8997,-74.4673\"/>\n<polygon fill=\"#000000\" stroke=\"#000000\" points=\"119.9818,-71.6525 109.9435,-68.2637 115.6775,-77.1728 119.9818,-71.6525\"/>\n</g>\n<!-- 5 -->\n<g id=\"node6\" class=\"node\">\n<title>5</title>\n<path fill=\"#69b5eb\" stroke=\"#000000\" d=\"M265,-68C265,-68 153,-68 153,-68 147,-68 141,-62 141,-56 141,-56 141,-12 141,-12 141,-6 147,0 153,0 153,0 265,0 265,0 271,0 277,-6 277,-12 277,-12 277,-56 277,-56 277,-62 271,-68 265,-68\"/>\n<text text-anchor=\"middle\" x=\"209\" y=\"-52.8\" font-family=\"Helvetica,sans-Serif\" font-size=\"14.00\" fill=\"#000000\">gini = 0.314</text>\n<text text-anchor=\"middle\" x=\"209\" y=\"-37.8\" font-family=\"Helvetica,sans-Serif\" font-size=\"14.00\" fill=\"#000000\">samples = 2302</text>\n<text text-anchor=\"middle\" x=\"209\" y=\"-22.8\" font-family=\"Helvetica,sans-Serif\" font-size=\"14.00\" fill=\"#000000\">value = [449, 1853]</text>\n<text text-anchor=\"middle\" x=\"209\" y=\"-7.8\" font-family=\"Helvetica,sans-Serif\" font-size=\"14.00\" fill=\"#000000\">class = sim</text>\n</g>\n<!-- 3&#45;&gt;5 -->\n<g id=\"edge5\" class=\"edge\">\n<title>3&#45;&gt;5</title>\n<path fill=\"none\" stroke=\"#000000\" d=\"M209,-103.9815C209,-95.618 209,-86.7965 209,-78.3409\"/>\n<polygon fill=\"#000000\" stroke=\"#000000\" points=\"212.5001,-78.2636 209,-68.2637 205.5001,-78.2637 212.5001,-78.2636\"/>\n</g>\n<!-- 7 -->\n<g id=\"node8\" class=\"node\">\n<title>7</title>\n<path fill=\"#fcefe5\" stroke=\"#000000\" d=\"M506,-187C506,-187 386,-187 386,-187 380,-187 374,-181 374,-175 374,-175 374,-116 374,-116 374,-110 380,-104 386,-104 386,-104 506,-104 506,-104 512,-104 518,-110 518,-116 518,-116 518,-175 518,-175 518,-181 512,-187 506,-187\"/>\n<text text-anchor=\"middle\" x=\"446\" y=\"-171.8\" font-family=\"Helvetica,sans-Serif\" font-size=\"14.00\" fill=\"#000000\">preco &lt;= 99974.41</text>\n<text text-anchor=\"middle\" x=\"446\" y=\"-156.8\" font-family=\"Helvetica,sans-Serif\" font-size=\"14.00\" fill=\"#000000\">gini = 0.498</text>\n<text text-anchor=\"middle\" x=\"446\" y=\"-141.8\" font-family=\"Helvetica,sans-Serif\" font-size=\"14.00\" fill=\"#000000\">samples = 3513</text>\n<text text-anchor=\"middle\" x=\"446\" y=\"-126.8\" font-family=\"Helvetica,sans-Serif\" font-size=\"14.00\" fill=\"#000000\">value = [1879, 1634]</text>\n<text text-anchor=\"middle\" x=\"446\" y=\"-111.8\" font-family=\"Helvetica,sans-Serif\" font-size=\"14.00\" fill=\"#000000\">class = não</text>\n</g>\n<!-- 6&#45;&gt;7 -->\n<g id=\"edge7\" class=\"edge\">\n<title>6&#45;&gt;7</title>\n<path fill=\"none\" stroke=\"#000000\" d=\"M446,-222.8796C446,-214.6838 446,-205.9891 446,-197.5013\"/>\n<polygon fill=\"#000000\" stroke=\"#000000\" points=\"449.5001,-197.298 446,-187.2981 442.5001,-197.2981 449.5001,-197.298\"/>\n</g>\n<!-- 10 -->\n<g id=\"node11\" class=\"node\">\n<title>10</title>\n<path fill=\"#e9965a\" stroke=\"#000000\" d=\"M730,-187C730,-187 604,-187 604,-187 598,-187 592,-181 592,-175 592,-175 592,-116 592,-116 592,-110 598,-104 604,-104 604,-104 730,-104 730,-104 736,-104 742,-110 742,-116 742,-116 742,-175 742,-175 742,-181 736,-187 730,-187\"/>\n<text text-anchor=\"middle\" x=\"667\" y=\"-171.8\" font-family=\"Helvetica,sans-Serif\" font-size=\"14.00\" fill=\"#000000\">preco &lt;= 100076.957</text>\n<text text-anchor=\"middle\" x=\"667\" y=\"-156.8\" font-family=\"Helvetica,sans-Serif\" font-size=\"14.00\" fill=\"#000000\">gini = 0.243</text>\n<text text-anchor=\"middle\" x=\"667\" y=\"-141.8\" font-family=\"Helvetica,sans-Serif\" font-size=\"14.00\" fill=\"#000000\">samples = 2140</text>\n<text text-anchor=\"middle\" x=\"667\" y=\"-126.8\" font-family=\"Helvetica,sans-Serif\" font-size=\"14.00\" fill=\"#000000\">value = [1837, 303]</text>\n<text text-anchor=\"middle\" x=\"667\" y=\"-111.8\" font-family=\"Helvetica,sans-Serif\" font-size=\"14.00\" fill=\"#000000\">class = não</text>\n</g>\n<!-- 6&#45;&gt;10 -->\n<g id=\"edge10\" class=\"edge\">\n<title>6&#45;&gt;10</title>\n<path fill=\"none\" stroke=\"#000000\" d=\"M523.2951,-222.8796C542.6165,-212.4757 563.4312,-201.2678 583.0576,-190.6997\"/>\n<polygon fill=\"#000000\" stroke=\"#000000\" points=\"584.8366,-193.717 591.982,-185.8943 581.5179,-187.5537 584.8366,-193.717\"/>\n</g>\n<!-- 8 -->\n<g id=\"node9\" class=\"node\">\n<title>8</title>\n<path fill=\"#f9e0ce\" stroke=\"#000000\" d=\"M427,-68C427,-68 307,-68 307,-68 301,-68 295,-62 295,-56 295,-56 295,-12 295,-12 295,-6 301,0 307,0 307,0 427,0 427,0 433,0 439,-6 439,-12 439,-12 439,-56 439,-56 439,-62 433,-68 427,-68\"/>\n<text text-anchor=\"middle\" x=\"367\" y=\"-52.8\" font-family=\"Helvetica,sans-Serif\" font-size=\"14.00\" fill=\"#000000\">gini = 0.49</text>\n<text text-anchor=\"middle\" x=\"367\" y=\"-37.8\" font-family=\"Helvetica,sans-Serif\" font-size=\"14.00\" fill=\"#000000\">samples = 2944</text>\n<text text-anchor=\"middle\" x=\"367\" y=\"-22.8\" font-family=\"Helvetica,sans-Serif\" font-size=\"14.00\" fill=\"#000000\">value = [1682, 1262]</text>\n<text text-anchor=\"middle\" x=\"367\" y=\"-7.8\" font-family=\"Helvetica,sans-Serif\" font-size=\"14.00\" fill=\"#000000\">class = não</text>\n</g>\n<!-- 7&#45;&gt;8 -->\n<g id=\"edge8\" class=\"edge\">\n<title>7&#45;&gt;8</title>\n<path fill=\"none\" stroke=\"#000000\" d=\"M416.5833,-103.9815C410.2669,-95.0666 403.5818,-85.6313 397.2349,-76.6734\"/>\n<polygon fill=\"#000000\" stroke=\"#000000\" points=\"399.9136,-74.3998 391.2765,-68.2637 394.2019,-78.4466 399.9136,-74.3998\"/>\n</g>\n<!-- 9 -->\n<g id=\"node10\" class=\"node\">\n<title>9</title>\n<path fill=\"#a2d1f3\" stroke=\"#000000\" d=\"M573,-68C573,-68 469,-68 469,-68 463,-68 457,-62 457,-56 457,-56 457,-12 457,-12 457,-6 463,0 469,0 469,0 573,0 573,0 579,0 585,-6 585,-12 585,-12 585,-56 585,-56 585,-62 579,-68 573,-68\"/>\n<text text-anchor=\"middle\" x=\"521\" y=\"-52.8\" font-family=\"Helvetica,sans-Serif\" font-size=\"14.00\" fill=\"#000000\">gini = 0.453</text>\n<text text-anchor=\"middle\" x=\"521\" y=\"-37.8\" font-family=\"Helvetica,sans-Serif\" font-size=\"14.00\" fill=\"#000000\">samples = 569</text>\n<text text-anchor=\"middle\" x=\"521\" y=\"-22.8\" font-family=\"Helvetica,sans-Serif\" font-size=\"14.00\" fill=\"#000000\">value = [197, 372]</text>\n<text text-anchor=\"middle\" x=\"521\" y=\"-7.8\" font-family=\"Helvetica,sans-Serif\" font-size=\"14.00\" fill=\"#000000\">class = sim</text>\n</g>\n<!-- 7&#45;&gt;9 -->\n<g id=\"edge9\" class=\"edge\">\n<title>7&#45;&gt;9</title>\n<path fill=\"none\" stroke=\"#000000\" d=\"M473.9272,-103.9815C479.9238,-95.0666 486.2704,-85.6313 492.2959,-76.6734\"/>\n<polygon fill=\"#000000\" stroke=\"#000000\" points=\"495.2755,-78.5147 497.9527,-68.2637 489.4672,-74.6078 495.2755,-78.5147\"/>\n</g>\n<!-- 11 -->\n<g id=\"node12\" class=\"node\">\n<title>11</title>\n<path fill=\"#e68742\" stroke=\"#000000\" d=\"M719,-68C719,-68 615,-68 615,-68 609,-68 603,-62 603,-56 603,-56 603,-12 603,-12 603,-6 609,0 615,0 615,0 719,0 719,0 725,0 731,-6 731,-12 731,-12 731,-56 731,-56 731,-62 725,-68 719,-68\"/>\n<text text-anchor=\"middle\" x=\"667\" y=\"-52.8\" font-family=\"Helvetica,sans-Serif\" font-size=\"14.00\" fill=\"#000000\">gini = 0.082</text>\n<text text-anchor=\"middle\" x=\"667\" y=\"-37.8\" font-family=\"Helvetica,sans-Serif\" font-size=\"14.00\" fill=\"#000000\">samples = 1809</text>\n<text text-anchor=\"middle\" x=\"667\" y=\"-22.8\" font-family=\"Helvetica,sans-Serif\" font-size=\"14.00\" fill=\"#000000\">value = [1732, 77]</text>\n<text text-anchor=\"middle\" x=\"667\" y=\"-7.8\" font-family=\"Helvetica,sans-Serif\" font-size=\"14.00\" fill=\"#000000\">class = não</text>\n</g>\n<!-- 10&#45;&gt;11 -->\n<g id=\"edge11\" class=\"edge\">\n<title>10&#45;&gt;11</title>\n<path fill=\"none\" stroke=\"#000000\" d=\"M667,-103.9815C667,-95.618 667,-86.7965 667,-78.3409\"/>\n<polygon fill=\"#000000\" stroke=\"#000000\" points=\"670.5001,-78.2636 667,-68.2637 663.5001,-78.2637 670.5001,-78.2636\"/>\n</g>\n<!-- 12 -->\n<g id=\"node13\" class=\"node\">\n<title>12</title>\n<path fill=\"#95cbf1\" stroke=\"#000000\" d=\"M865,-68C865,-68 761,-68 761,-68 755,-68 749,-62 749,-56 749,-56 749,-12 749,-12 749,-6 755,0 761,0 761,0 865,0 865,0 871,0 877,-6 877,-12 877,-12 877,-56 877,-56 877,-62 871,-68 865,-68\"/>\n<text text-anchor=\"middle\" x=\"813\" y=\"-52.8\" font-family=\"Helvetica,sans-Serif\" font-size=\"14.00\" fill=\"#000000\">gini = 0.433</text>\n<text text-anchor=\"middle\" x=\"813\" y=\"-37.8\" font-family=\"Helvetica,sans-Serif\" font-size=\"14.00\" fill=\"#000000\">samples = 331</text>\n<text text-anchor=\"middle\" x=\"813\" y=\"-22.8\" font-family=\"Helvetica,sans-Serif\" font-size=\"14.00\" fill=\"#000000\">value = [105, 226]</text>\n<text text-anchor=\"middle\" x=\"813\" y=\"-7.8\" font-family=\"Helvetica,sans-Serif\" font-size=\"14.00\" fill=\"#000000\">class = sim</text>\n</g>\n<!-- 10&#45;&gt;12 -->\n<g id=\"edge12\" class=\"edge\">\n<title>10&#45;&gt;12</title>\n<path fill=\"none\" stroke=\"#000000\" d=\"M721.365,-103.9815C734.0011,-94.3313 747.4356,-84.0714 760.0115,-74.4673\"/>\n<polygon fill=\"#000000\" stroke=\"#000000\" points=\"762.3114,-77.1148 768.1346,-68.2637 758.0628,-71.5515 762.3114,-77.1148\"/>\n</g>\n</g>\n</svg>\n"
     },
     "metadata": {},
     "execution_count": 16
    }
   ],
   "metadata": {
    "colab": {
     "base_uri": "https://localhost:8080/",
     "height": 598
    },
    "id": "lsUVzBMFaSOp",
    "outputId": "68b50e0c-4672-4ef5-82bc-df8057ce4eba"
   }
  },
  {
   "cell_type": "code",
   "execution_count": 17,
   "source": [
    "from sklearn.model_selection import GroupKFold\n",
    "\n",
    "SEED = 301\n",
    "np.random.seed(SEED)\n",
    "\n",
    "cv = GroupKFold(n_splits = 10)\n",
    "modelo = DecisionTreeClassifier(max_depth=10)\n",
    "results = cross_validate(modelo, x_azar, y_azar, cv = cv, groups = dados.modelo, return_train_score=False)\n",
    "imprime_resultados(results)"
   ],
   "outputs": [
    {
     "output_type": "stream",
     "name": "stdout",
     "text": [
      "Accuracy médio 77.19\n",
      "Intervalo [75.26, 79.13]\n"
     ]
    }
   ],
   "metadata": {
    "colab": {
     "base_uri": "https://localhost:8080/"
    },
    "id": "Lcw1-lgKaSOp",
    "outputId": "9fbe4b33-3ca1-4f92-b900-14640365dadd"
   }
  },
  {
   "cell_type": "markdown",
   "source": [
    "## <font color='blue'> Quanto mais complexa a árvore, melhor? </font>"
   ],
   "metadata": {
    "id": "U3g3MR6waSOq"
   }
  },
  {
   "cell_type": "markdown",
   "source": [
    "## Explorando hiper parâmetros em uma dimensão"
   ],
   "metadata": {
    "id": "rDZmmLkAaSOq"
   }
  },
  {
   "cell_type": "code",
   "execution_count": 18,
   "source": [
    "def roda_arvore_de_decisao(max_depth):\n",
    "\n",
    "    SEED = 301\n",
    "    np.random.seed(SEED)\n",
    "\n",
    "    cv = GroupKFold(n_splits = 10)\n",
    "    modelo = DecisionTreeClassifier(max_depth=max_depth)\n",
    "    results = cross_validate(modelo, x_azar, y_azar, cv = cv, groups = dados.modelo, return_train_score=False)\n",
    "    print(\"Arvore max_depth = %d, media = %.2f\" % (max_depth, results['test_score'].mean() * 100))\n",
    "    \n",
    "for i in range(1,33):\n",
    "    roda_arvore_de_decisao(i)"
   ],
   "outputs": [
    {
     "output_type": "stream",
     "name": "stdout",
     "text": [
      "Arvore max_depth = 1, media = 75.78\n",
      "Arvore max_depth = 2, media = 75.78\n",
      "Arvore max_depth = 3, media = 78.67\n",
      "Arvore max_depth = 4, media = 78.63\n",
      "Arvore max_depth = 5, media = 78.56\n",
      "Arvore max_depth = 6, media = 78.12\n",
      "Arvore max_depth = 7, media = 77.96\n",
      "Arvore max_depth = 8, media = 77.86\n",
      "Arvore max_depth = 9, media = 77.38\n",
      "Arvore max_depth = 10, media = 77.19\n",
      "Arvore max_depth = 11, media = 76.97\n",
      "Arvore max_depth = 12, media = 76.49\n",
      "Arvore max_depth = 13, media = 75.81\n",
      "Arvore max_depth = 14, media = 75.66\n",
      "Arvore max_depth = 15, media = 75.16\n",
      "Arvore max_depth = 16, media = 75.11\n",
      "Arvore max_depth = 17, media = 74.74\n",
      "Arvore max_depth = 18, media = 74.33\n",
      "Arvore max_depth = 19, media = 74.34\n",
      "Arvore max_depth = 20, media = 74.22\n",
      "Arvore max_depth = 21, media = 73.80\n",
      "Arvore max_depth = 22, media = 73.81\n",
      "Arvore max_depth = 23, media = 73.38\n",
      "Arvore max_depth = 24, media = 73.43\n",
      "Arvore max_depth = 25, media = 73.14\n",
      "Arvore max_depth = 26, media = 73.04\n",
      "Arvore max_depth = 27, media = 72.91\n",
      "Arvore max_depth = 28, media = 72.66\n",
      "Arvore max_depth = 29, media = 72.73\n",
      "Arvore max_depth = 30, media = 72.81\n",
      "Arvore max_depth = 31, media = 72.86\n",
      "Arvore max_depth = 32, media = 72.52\n"
     ]
    }
   ],
   "metadata": {
    "colab": {
     "base_uri": "https://localhost:8080/"
    },
    "id": "fss3v8L8aSOq",
    "outputId": "f7b7a28a-7bfc-4f6a-b56c-cf753be39570"
   }
  },
  {
   "cell_type": "code",
   "execution_count": 19,
   "source": [
    "## <font color='blue'> Otimizando um hiper parâmetro e o problema do overfit </font>"
   ],
   "outputs": [],
   "metadata": {
    "id": "fjWOirEaaSOr"
   }
  },
  {
   "cell_type": "code",
   "execution_count": 20,
   "source": [
    "from sklearn.model_selection import GroupKFold\n",
    "\n",
    "def roda_arvore_de_decisao(max_depth):\n",
    "  SEED = 301\n",
    "  np.random.seed(SEED)\n",
    "\n",
    "  cv = GroupKFold(n_splits = 10)\n",
    "  modelo = DecisionTreeClassifier(max_depth=max_depth)\n",
    "  results = cross_validate(modelo, x_azar, y_azar, cv = cv, groups = dados.modelo, return_train_score=True)\n",
    "  train_score = results['train_score'].mean() * 100\n",
    "  test_score = results['test_score'].mean() * 100\n",
    "  print(\"Arvore max_depth = %d, treino = %.2f, teste = %.2f\" % (max_depth, results['train_score'].mean() * 100, results['test_score'].mean() * 100))\n",
    "  tabela = [max_depth, train_score, test_score]\n",
    "  return tabela\n",
    "\n",
    "resultados = [roda_arvore_de_decisao(i) for i in range (1, 33)]\n",
    "resultados = pd.DataFrame(resultados, columns = [\"max_depth\", \"train\", \"test\"])\n",
    "resultados.head()"
   ],
   "outputs": [
    {
     "output_type": "stream",
     "name": "stdout",
     "text": [
      "Arvore max_depth = 1, treino = 75.79, teste = 75.78\n",
      "Arvore max_depth = 2, treino = 75.79, teste = 75.78\n",
      "Arvore max_depth = 3, treino = 78.75, teste = 78.67\n",
      "Arvore max_depth = 4, treino = 78.79, teste = 78.63\n",
      "Arvore max_depth = 5, treino = 78.94, teste = 78.56\n",
      "Arvore max_depth = 6, treino = 79.17, teste = 78.12\n",
      "Arvore max_depth = 7, treino = 79.50, teste = 77.96\n",
      "Arvore max_depth = 8, treino = 79.89, teste = 77.86\n",
      "Arvore max_depth = 9, treino = 80.46, teste = 77.38\n",
      "Arvore max_depth = 10, treino = 81.16, teste = 77.19\n",
      "Arvore max_depth = 11, treino = 82.03, teste = 76.97\n",
      "Arvore max_depth = 12, treino = 82.89, teste = 76.49\n",
      "Arvore max_depth = 13, treino = 83.95, teste = 75.81\n",
      "Arvore max_depth = 14, treino = 85.03, teste = 75.66\n",
      "Arvore max_depth = 15, treino = 86.14, teste = 75.16\n",
      "Arvore max_depth = 16, treino = 87.19, teste = 75.11\n",
      "Arvore max_depth = 17, treino = 88.31, teste = 74.74\n",
      "Arvore max_depth = 18, treino = 89.26, teste = 74.33\n",
      "Arvore max_depth = 19, treino = 90.32, teste = 74.34\n",
      "Arvore max_depth = 20, treino = 91.32, teste = 74.22\n",
      "Arvore max_depth = 21, treino = 92.14, teste = 73.80\n",
      "Arvore max_depth = 22, treino = 93.02, teste = 73.81\n",
      "Arvore max_depth = 23, treino = 93.80, teste = 73.38\n",
      "Arvore max_depth = 24, treino = 94.47, teste = 73.43\n",
      "Arvore max_depth = 25, treino = 95.16, teste = 73.14\n",
      "Arvore max_depth = 26, treino = 95.74, teste = 73.04\n",
      "Arvore max_depth = 27, treino = 96.33, teste = 72.91\n",
      "Arvore max_depth = 28, treino = 96.75, teste = 72.66\n",
      "Arvore max_depth = 29, treino = 97.10, teste = 72.73\n",
      "Arvore max_depth = 30, treino = 97.43, teste = 72.81\n",
      "Arvore max_depth = 31, treino = 97.80, teste = 72.86\n",
      "Arvore max_depth = 32, treino = 98.10, teste = 72.52\n"
     ]
    },
    {
     "output_type": "execute_result",
     "data": {
      "text/plain": [
       "   max_depth      train       test\n",
       "0          1  75.791169  75.784219\n",
       "1          2  75.791169  75.784219\n",
       "2          3  78.750993  78.672633\n",
       "3          4  78.787628  78.632803\n",
       "4          5  78.941007  78.555912"
      ],
      "text/html": [
       "<div>\n",
       "<style scoped>\n",
       "    .dataframe tbody tr th:only-of-type {\n",
       "        vertical-align: middle;\n",
       "    }\n",
       "\n",
       "    .dataframe tbody tr th {\n",
       "        vertical-align: top;\n",
       "    }\n",
       "\n",
       "    .dataframe thead th {\n",
       "        text-align: right;\n",
       "    }\n",
       "</style>\n",
       "<table border=\"1\" class=\"dataframe\">\n",
       "  <thead>\n",
       "    <tr style=\"text-align: right;\">\n",
       "      <th></th>\n",
       "      <th>max_depth</th>\n",
       "      <th>train</th>\n",
       "      <th>test</th>\n",
       "    </tr>\n",
       "  </thead>\n",
       "  <tbody>\n",
       "    <tr>\n",
       "      <th>0</th>\n",
       "      <td>1</td>\n",
       "      <td>75.791169</td>\n",
       "      <td>75.784219</td>\n",
       "    </tr>\n",
       "    <tr>\n",
       "      <th>1</th>\n",
       "      <td>2</td>\n",
       "      <td>75.791169</td>\n",
       "      <td>75.784219</td>\n",
       "    </tr>\n",
       "    <tr>\n",
       "      <th>2</th>\n",
       "      <td>3</td>\n",
       "      <td>78.750993</td>\n",
       "      <td>78.672633</td>\n",
       "    </tr>\n",
       "    <tr>\n",
       "      <th>3</th>\n",
       "      <td>4</td>\n",
       "      <td>78.787628</td>\n",
       "      <td>78.632803</td>\n",
       "    </tr>\n",
       "    <tr>\n",
       "      <th>4</th>\n",
       "      <td>5</td>\n",
       "      <td>78.941007</td>\n",
       "      <td>78.555912</td>\n",
       "    </tr>\n",
       "  </tbody>\n",
       "</table>\n",
       "</div>"
      ]
     },
     "metadata": {},
     "execution_count": 20
    }
   ],
   "metadata": {
    "colab": {
     "base_uri": "https://localhost:8080/",
     "height": 748
    },
    "id": "sH5jKC2MaSOr",
    "outputId": "a3d45094-6c25-40fa-cd02-7a4fb4458134"
   }
  },
  {
   "cell_type": "code",
   "execution_count": 21,
   "source": [
    "import seaborn as sns\n",
    "\n",
    "sns.lineplot(x = \"max_depth\", y= \"train\", data = resultados)"
   ],
   "outputs": [
    {
     "output_type": "execute_result",
     "data": {
      "text/plain": [
       "<AxesSubplot:xlabel='max_depth', ylabel='train'>"
      ]
     },
     "metadata": {},
     "execution_count": 21
    },
    {
     "output_type": "display_data",
     "data": {
      "text/plain": [
       "<Figure size 432x288 with 1 Axes>"
      ],
      "image/png": "[encoded data removed]"
     },
     "metadata": {
      "needs_background": "light"
     }
    }
   ],
   "metadata": {
    "colab": {
     "base_uri": "https://localhost:8080/",
     "height": 297
    },
    "id": "PYUWLMg1aSOs",
    "outputId": "1945e803-3331-43f4-dfbb-3289d7dbd6a7"
   }
  },
  {
   "cell_type": "code",
   "execution_count": 22,
   "source": [
    "### OVERFIT: Ficou \"perfeito\" para o teino mas ruim para o teste"
   ],
   "outputs": [],
   "metadata": {
    "id": "uF79fL-DaSOs"
   }
  },
  {
   "cell_type": "code",
   "execution_count": 23,
   "source": [
    "import matplotlib.pyplot as plt\n",
    "\n",
    "sns.lineplot(x = \"max_depth\", y= \"train\", data = resultados)\n",
    "sns.lineplot(x = \"max_depth\", y= \"test\", data = resultados)\n",
    "plt.legend([\"Treino\", \"Teste\"])"
   ],
   "outputs": [
    {
     "output_type": "execute_result",
     "data": {
      "text/plain": [
       "<matplotlib.legend.Legend at 0x7f86372d0430>"
      ]
     },
     "metadata": {},
     "execution_count": 23
    },
    {
     "output_type": "display_data",
     "data": {
      "text/plain": [
       "<Figure size 432x288 with 1 Axes>"
      ],
      "image/png": "[encoded data removed]"
     },
     "metadata": {
      "needs_background": "light"
     }
    }
   ],
   "metadata": {
    "colab": {
     "base_uri": "https://localhost:8080/",
     "height": 297
    },
    "id": "HYMaQB0LaSOt",
    "outputId": "88a6abce-4ca4-40e3-b306-6a7e6971887b"
   }
  },
  {
   "cell_type": "code",
   "execution_count": 24,
   "source": [
    "resultados.sort_values(\"test\", ascending=False).head()"
   ],
   "outputs": [
    {
     "output_type": "execute_result",
     "data": {
      "text/plain": [
       "   max_depth      train       test\n",
       "2          3  78.750993  78.672633\n",
       "3          4  78.787628  78.632803\n",
       "4          5  78.941007  78.555912\n",
       "5          6  79.170115  78.123266\n",
       "6          7  79.496806  77.963185"
      ],
      "text/html": [
       "<div>\n",
       "<style scoped>\n",
       "    .dataframe tbody tr th:only-of-type {\n",
       "        vertical-align: middle;\n",
       "    }\n",
       "\n",
       "    .dataframe tbody tr th {\n",
       "        vertical-align: top;\n",
       "    }\n",
       "\n",
       "    .dataframe thead th {\n",
       "        text-align: right;\n",
       "    }\n",
       "</style>\n",
       "<table border=\"1\" class=\"dataframe\">\n",
       "  <thead>\n",
       "    <tr style=\"text-align: right;\">\n",
       "      <th></th>\n",
       "      <th>max_depth</th>\n",
       "      <th>train</th>\n",
       "      <th>test</th>\n",
       "    </tr>\n",
       "  </thead>\n",
       "  <tbody>\n",
       "    <tr>\n",
       "      <th>2</th>\n",
       "      <td>3</td>\n",
       "      <td>78.750993</td>\n",
       "      <td>78.672633</td>\n",
       "    </tr>\n",
       "    <tr>\n",
       "      <th>3</th>\n",
       "      <td>4</td>\n",
       "      <td>78.787628</td>\n",
       "      <td>78.632803</td>\n",
       "    </tr>\n",
       "    <tr>\n",
       "      <th>4</th>\n",
       "      <td>5</td>\n",
       "      <td>78.941007</td>\n",
       "      <td>78.555912</td>\n",
       "    </tr>\n",
       "    <tr>\n",
       "      <th>5</th>\n",
       "      <td>6</td>\n",
       "      <td>79.170115</td>\n",
       "      <td>78.123266</td>\n",
       "    </tr>\n",
       "    <tr>\n",
       "      <th>6</th>\n",
       "      <td>7</td>\n",
       "      <td>79.496806</td>\n",
       "      <td>77.963185</td>\n",
       "    </tr>\n",
       "  </tbody>\n",
       "</table>\n",
       "</div>"
      ]
     },
     "metadata": {},
     "execution_count": 24
    }
   ],
   "metadata": {
    "colab": {
     "base_uri": "https://localhost:8080/",
     "height": 204
    },
    "id": "cmoMkW_4aSOt",
    "outputId": "c60dc32a-c7d1-4ca3-971e-17ea1754f019"
   }
  },
  {
   "cell_type": "markdown",
   "source": [
    "## Explorando hiper parâmetros em duas dimensão"
   ],
   "metadata": {}
  },
  {
   "cell_type": "code",
   "execution_count": 25,
   "source": [
    "def roda_arvore_de_decisao(max_depth, min_samples_leaf):\n",
    "  SEED = 301\n",
    "  np.random.seed(SEED)\n",
    "\n",
    "  cv = GroupKFold(n_splits = 10)\n",
    "  modelo = DecisionTreeClassifier(max_depth=max_depth, min_samples_leaf = min_samples_leaf)\n",
    "  results = cross_validate(modelo, x_azar, y_azar, cv = cv, groups = dados.modelo, return_train_score=True)\n",
    "  train_score = results['train_score'].mean() * 100\n",
    "  test_score = results['test_score'].mean() * 100\n",
    "  print(\"Arvore max_depth = %d, min_samples_leaf = %d, treino = %.2f, teste = %.2f\" % (max_depth, min_samples_leaf, train_score, test_score))\n",
    "  tabela = [max_depth, min_samples_leaf, train_score, test_score]\n",
    "  return tabela\n",
    "\n",
    "def busca():\n",
    "  resultados = []\n",
    "  for max_depth in range(1,33):\n",
    "    for min_samples_leaf in [32, 64, 128, 256]:\n",
    "        tabela = roda_arvore_de_decisao(max_depth, min_samples_leaf)\n",
    "        resultados.append(tabela)\n",
    "  resultados = pd.DataFrame(resultados, columns= [\"max_depth\",\"min_samples_leaf\",\"train\",\"test\"])\n",
    "  return resultados\n",
    "\n",
    "resultados = busca()\n",
    "resultados.head()"
   ],
   "outputs": [
    {
     "output_type": "stream",
     "name": "stdout",
     "text": [
      "Arvore max_depth = 1, min_samples_leaf = 32, treino = 75.79, teste = 75.78\n",
      "Arvore max_depth = 1, min_samples_leaf = 64, treino = 75.79, teste = 75.78\n",
      "Arvore max_depth = 1, min_samples_leaf = 128, treino = 75.79, teste = 75.78\n",
      "Arvore max_depth = 1, min_samples_leaf = 256, treino = 75.79, teste = 75.78\n",
      "Arvore max_depth = 2, min_samples_leaf = 32, treino = 75.79, teste = 75.78\n",
      "Arvore max_depth = 2, min_samples_leaf = 64, treino = 75.79, teste = 75.78\n",
      "Arvore max_depth = 2, min_samples_leaf = 128, treino = 75.79, teste = 75.78\n",
      "Arvore max_depth = 2, min_samples_leaf = 256, treino = 75.79, teste = 75.78\n",
      "Arvore max_depth = 3, min_samples_leaf = 32, treino = 78.75, teste = 78.67\n",
      "Arvore max_depth = 3, min_samples_leaf = 64, treino = 78.75, teste = 78.67\n",
      "Arvore max_depth = 3, min_samples_leaf = 128, treino = 78.75, teste = 78.67\n",
      "Arvore max_depth = 3, min_samples_leaf = 256, treino = 78.75, teste = 78.67\n",
      "Arvore max_depth = 4, min_samples_leaf = 32, treino = 78.75, teste = 78.67\n",
      "Arvore max_depth = 4, min_samples_leaf = 64, treino = 78.75, teste = 78.67\n",
      "Arvore max_depth = 4, min_samples_leaf = 128, treino = 78.75, teste = 78.67\n",
      "Arvore max_depth = 4, min_samples_leaf = 256, treino = 78.75, teste = 78.67\n",
      "Arvore max_depth = 5, min_samples_leaf = 32, treino = 78.82, teste = 78.50\n",
      "Arvore max_depth = 5, min_samples_leaf = 64, treino = 78.79, teste = 78.45\n",
      "Arvore max_depth = 5, min_samples_leaf = 128, treino = 78.77, teste = 78.44\n",
      "Arvore max_depth = 5, min_samples_leaf = 256, treino = 78.77, teste = 78.44\n",
      "Arvore max_depth = 6, min_samples_leaf = 32, treino = 78.96, teste = 78.02\n",
      "Arvore max_depth = 6, min_samples_leaf = 64, treino = 78.92, teste = 78.09\n",
      "Arvore max_depth = 6, min_samples_leaf = 128, treino = 78.85, teste = 78.27\n",
      "Arvore max_depth = 6, min_samples_leaf = 256, treino = 78.79, teste = 78.27\n",
      "Arvore max_depth = 7, min_samples_leaf = 32, treino = 79.24, teste = 77.94\n",
      "Arvore max_depth = 7, min_samples_leaf = 64, treino = 79.18, teste = 78.05\n",
      "Arvore max_depth = 7, min_samples_leaf = 128, treino = 79.01, teste = 78.21\n",
      "Arvore max_depth = 7, min_samples_leaf = 256, treino = 78.85, teste = 78.08\n",
      "Arvore max_depth = 8, min_samples_leaf = 32, treino = 79.47, teste = 77.93\n",
      "Arvore max_depth = 8, min_samples_leaf = 64, treino = 79.30, teste = 77.99\n",
      "Arvore max_depth = 8, min_samples_leaf = 128, treino = 79.05, teste = 78.37\n",
      "Arvore max_depth = 8, min_samples_leaf = 256, treino = 78.89, teste = 77.94\n",
      "Arvore max_depth = 9, min_samples_leaf = 32, treino = 79.80, teste = 77.32\n",
      "Arvore max_depth = 9, min_samples_leaf = 64, treino = 79.46, teste = 77.55\n",
      "Arvore max_depth = 9, min_samples_leaf = 128, treino = 79.12, teste = 78.30\n",
      "Arvore max_depth = 9, min_samples_leaf = 256, treino = 78.90, teste = 77.85\n",
      "Arvore max_depth = 10, min_samples_leaf = 32, treino = 80.05, teste = 77.45\n",
      "Arvore max_depth = 10, min_samples_leaf = 64, treino = 79.55, teste = 77.64\n",
      "Arvore max_depth = 10, min_samples_leaf = 128, treino = 79.16, teste = 78.29\n",
      "Arvore max_depth = 10, min_samples_leaf = 256, treino = 78.90, teste = 77.85\n",
      "Arvore max_depth = 11, min_samples_leaf = 32, treino = 80.21, teste = 77.20\n",
      "Arvore max_depth = 11, min_samples_leaf = 64, treino = 79.60, teste = 77.53\n",
      "Arvore max_depth = 11, min_samples_leaf = 128, treino = 79.19, teste = 78.31\n",
      "Arvore max_depth = 11, min_samples_leaf = 256, treino = 78.90, teste = 77.85\n",
      "Arvore max_depth = 12, min_samples_leaf = 32, treino = 80.34, teste = 77.00\n",
      "Arvore max_depth = 12, min_samples_leaf = 64, treino = 79.72, teste = 77.29\n",
      "Arvore max_depth = 12, min_samples_leaf = 128, treino = 79.21, teste = 78.22\n",
      "Arvore max_depth = 12, min_samples_leaf = 256, treino = 78.90, teste = 77.85\n",
      "Arvore max_depth = 13, min_samples_leaf = 32, treino = 80.51, teste = 76.85\n",
      "Arvore max_depth = 13, min_samples_leaf = 64, treino = 79.74, teste = 77.34\n",
      "Arvore max_depth = 13, min_samples_leaf = 128, treino = 79.21, teste = 78.22\n",
      "Arvore max_depth = 13, min_samples_leaf = 256, treino = 78.90, teste = 77.85\n",
      "Arvore max_depth = 14, min_samples_leaf = 32, treino = 80.60, teste = 76.69\n",
      "Arvore max_depth = 14, min_samples_leaf = 64, treino = 79.77, teste = 77.26\n",
      "Arvore max_depth = 14, min_samples_leaf = 128, treino = 79.21, teste = 78.22\n",
      "Arvore max_depth = 14, min_samples_leaf = 256, treino = 78.90, teste = 77.85\n",
      "Arvore max_depth = 15, min_samples_leaf = 32, treino = 80.70, teste = 76.88\n",
      "Arvore max_depth = 15, min_samples_leaf = 64, treino = 79.79, teste = 77.30\n",
      "Arvore max_depth = 15, min_samples_leaf = 128, treino = 79.21, teste = 78.22\n",
      "Arvore max_depth = 15, min_samples_leaf = 256, treino = 78.90, teste = 77.85\n",
      "Arvore max_depth = 16, min_samples_leaf = 32, treino = 80.76, teste = 76.87\n",
      "Arvore max_depth = 16, min_samples_leaf = 64, treino = 79.79, teste = 77.30\n",
      "Arvore max_depth = 16, min_samples_leaf = 128, treino = 79.21, teste = 78.22\n",
      "Arvore max_depth = 16, min_samples_leaf = 256, treino = 78.90, teste = 77.85\n",
      "Arvore max_depth = 17, min_samples_leaf = 32, treino = 80.82, teste = 76.98\n",
      "Arvore max_depth = 17, min_samples_leaf = 64, treino = 79.79, teste = 77.30\n",
      "Arvore max_depth = 17, min_samples_leaf = 128, treino = 79.21, teste = 78.22\n",
      "Arvore max_depth = 17, min_samples_leaf = 256, treino = 78.90, teste = 77.85\n",
      "Arvore max_depth = 18, min_samples_leaf = 32, treino = 80.85, teste = 76.86\n",
      "Arvore max_depth = 18, min_samples_leaf = 64, treino = 79.79, teste = 77.30\n",
      "Arvore max_depth = 18, min_samples_leaf = 128, treino = 79.21, teste = 78.22\n",
      "Arvore max_depth = 18, min_samples_leaf = 256, treino = 78.90, teste = 77.85\n",
      "Arvore max_depth = 19, min_samples_leaf = 32, treino = 80.86, teste = 76.89\n",
      "Arvore max_depth = 19, min_samples_leaf = 64, treino = 79.79, teste = 77.30\n",
      "Arvore max_depth = 19, min_samples_leaf = 128, treino = 79.21, teste = 78.22\n",
      "Arvore max_depth = 19, min_samples_leaf = 256, treino = 78.90, teste = 77.85\n",
      "Arvore max_depth = 20, min_samples_leaf = 32, treino = 80.88, teste = 76.87\n",
      "Arvore max_depth = 20, min_samples_leaf = 64, treino = 79.79, teste = 77.30\n",
      "Arvore max_depth = 20, min_samples_leaf = 128, treino = 79.21, teste = 78.22\n",
      "Arvore max_depth = 20, min_samples_leaf = 256, treino = 78.90, teste = 77.85\n",
      "Arvore max_depth = 21, min_samples_leaf = 32, treino = 80.88, teste = 76.92\n",
      "Arvore max_depth = 21, min_samples_leaf = 64, treino = 79.79, teste = 77.30\n",
      "Arvore max_depth = 21, min_samples_leaf = 128, treino = 79.21, teste = 78.22\n",
      "Arvore max_depth = 21, min_samples_leaf = 256, treino = 78.90, teste = 77.85\n",
      "Arvore max_depth = 22, min_samples_leaf = 32, treino = 80.88, teste = 76.87\n",
      "Arvore max_depth = 22, min_samples_leaf = 64, treino = 79.79, teste = 77.30\n",
      "Arvore max_depth = 22, min_samples_leaf = 128, treino = 79.21, teste = 78.22\n",
      "Arvore max_depth = 22, min_samples_leaf = 256, treino = 78.90, teste = 77.85\n",
      "Arvore max_depth = 23, min_samples_leaf = 32, treino = 80.88, teste = 76.87\n",
      "Arvore max_depth = 23, min_samples_leaf = 64, treino = 79.79, teste = 77.30\n",
      "Arvore max_depth = 23, min_samples_leaf = 128, treino = 79.21, teste = 78.22\n",
      "Arvore max_depth = 23, min_samples_leaf = 256, treino = 78.90, teste = 77.85\n",
      "Arvore max_depth = 24, min_samples_leaf = 32, treino = 80.89, teste = 76.84\n",
      "Arvore max_depth = 24, min_samples_leaf = 64, treino = 79.79, teste = 77.30\n",
      "Arvore max_depth = 24, min_samples_leaf = 128, treino = 79.21, teste = 78.22\n",
      "Arvore max_depth = 24, min_samples_leaf = 256, treino = 78.90, teste = 77.85\n",
      "Arvore max_depth = 25, min_samples_leaf = 32, treino = 80.89, teste = 76.84\n",
      "Arvore max_depth = 25, min_samples_leaf = 64, treino = 79.79, teste = 77.30\n",
      "Arvore max_depth = 25, min_samples_leaf = 128, treino = 79.21, teste = 78.22\n",
      "Arvore max_depth = 25, min_samples_leaf = 256, treino = 78.90, teste = 77.85\n",
      "Arvore max_depth = 26, min_samples_leaf = 32, treino = 80.89, teste = 76.84\n",
      "Arvore max_depth = 26, min_samples_leaf = 64, treino = 79.79, teste = 77.30\n",
      "Arvore max_depth = 26, min_samples_leaf = 128, treino = 79.21, teste = 78.22\n",
      "Arvore max_depth = 26, min_samples_leaf = 256, treino = 78.90, teste = 77.85\n",
      "Arvore max_depth = 27, min_samples_leaf = 32, treino = 80.89, teste = 76.84\n",
      "Arvore max_depth = 27, min_samples_leaf = 64, treino = 79.79, teste = 77.30\n",
      "Arvore max_depth = 27, min_samples_leaf = 128, treino = 79.21, teste = 78.22\n",
      "Arvore max_depth = 27, min_samples_leaf = 256, treino = 78.90, teste = 77.85\n",
      "Arvore max_depth = 28, min_samples_leaf = 32, treino = 80.89, teste = 76.84\n",
      "Arvore max_depth = 28, min_samples_leaf = 64, treino = 79.79, teste = 77.30\n",
      "Arvore max_depth = 28, min_samples_leaf = 128, treino = 79.21, teste = 78.22\n",
      "Arvore max_depth = 28, min_samples_leaf = 256, treino = 78.90, teste = 77.85\n",
      "Arvore max_depth = 29, min_samples_leaf = 32, treino = 80.89, teste = 76.84\n",
      "Arvore max_depth = 29, min_samples_leaf = 64, treino = 79.79, teste = 77.30\n",
      "Arvore max_depth = 29, min_samples_leaf = 128, treino = 79.21, teste = 78.22\n",
      "Arvore max_depth = 29, min_samples_leaf = 256, treino = 78.90, teste = 77.85\n",
      "Arvore max_depth = 30, min_samples_leaf = 32, treino = 80.89, teste = 76.84\n",
      "Arvore max_depth = 30, min_samples_leaf = 64, treino = 79.79, teste = 77.30\n",
      "Arvore max_depth = 30, min_samples_leaf = 128, treino = 79.21, teste = 78.22\n",
      "Arvore max_depth = 30, min_samples_leaf = 256, treino = 78.90, teste = 77.85\n",
      "Arvore max_depth = 31, min_samples_leaf = 32, treino = 80.89, teste = 76.84\n",
      "Arvore max_depth = 31, min_samples_leaf = 64, treino = 79.79, teste = 77.30\n",
      "Arvore max_depth = 31, min_samples_leaf = 128, treino = 79.21, teste = 78.22\n",
      "Arvore max_depth = 31, min_samples_leaf = 256, treino = 78.90, teste = 77.85\n",
      "Arvore max_depth = 32, min_samples_leaf = 32, treino = 80.89, teste = 76.84\n",
      "Arvore max_depth = 32, min_samples_leaf = 64, treino = 79.79, teste = 77.30\n",
      "Arvore max_depth = 32, min_samples_leaf = 128, treino = 79.21, teste = 78.22\n",
      "Arvore max_depth = 32, min_samples_leaf = 256, treino = 78.90, teste = 77.85\n"
     ]
    },
    {
     "output_type": "execute_result",
     "data": {
      "text/plain": [
       "   max_depth  min_samples_leaf      train       test\n",
       "0          1                32  75.791169  75.784219\n",
       "1          1                64  75.791169  75.784219\n",
       "2          1               128  75.791169  75.784219\n",
       "3          1               256  75.791169  75.784219\n",
       "4          2                32  75.791169  75.784219"
      ],
      "text/html": [
       "<div>\n",
       "<style scoped>\n",
       "    .dataframe tbody tr th:only-of-type {\n",
       "        vertical-align: middle;\n",
       "    }\n",
       "\n",
       "    .dataframe tbody tr th {\n",
       "        vertical-align: top;\n",
       "    }\n",
       "\n",
       "    .dataframe thead th {\n",
       "        text-align: right;\n",
       "    }\n",
       "</style>\n",
       "<table border=\"1\" class=\"dataframe\">\n",
       "  <thead>\n",
       "    <tr style=\"text-align: right;\">\n",
       "      <th></th>\n",
       "      <th>max_depth</th>\n",
       "      <th>min_samples_leaf</th>\n",
       "      <th>train</th>\n",
       "      <th>test</th>\n",
       "    </tr>\n",
       "  </thead>\n",
       "  <tbody>\n",
       "    <tr>\n",
       "      <th>0</th>\n",
       "      <td>1</td>\n",
       "      <td>32</td>\n",
       "      <td>75.791169</td>\n",
       "      <td>75.784219</td>\n",
       "    </tr>\n",
       "    <tr>\n",
       "      <th>1</th>\n",
       "      <td>1</td>\n",
       "      <td>64</td>\n",
       "      <td>75.791169</td>\n",
       "      <td>75.784219</td>\n",
       "    </tr>\n",
       "    <tr>\n",
       "      <th>2</th>\n",
       "      <td>1</td>\n",
       "      <td>128</td>\n",
       "      <td>75.791169</td>\n",
       "      <td>75.784219</td>\n",
       "    </tr>\n",
       "    <tr>\n",
       "      <th>3</th>\n",
       "      <td>1</td>\n",
       "      <td>256</td>\n",
       "      <td>75.791169</td>\n",
       "      <td>75.784219</td>\n",
       "    </tr>\n",
       "    <tr>\n",
       "      <th>4</th>\n",
       "      <td>2</td>\n",
       "      <td>32</td>\n",
       "      <td>75.791169</td>\n",
       "      <td>75.784219</td>\n",
       "    </tr>\n",
       "  </tbody>\n",
       "</table>\n",
       "</div>"
      ]
     },
     "metadata": {},
     "execution_count": 25
    }
   ],
   "metadata": {
    "id": "vybcskQEaSOt"
   }
  },
  {
   "cell_type": "code",
   "execution_count": 26,
   "source": [
    "resultados.sort_values(\"test\", ascending=False).head()"
   ],
   "outputs": [
    {
     "output_type": "execute_result",
     "data": {
      "text/plain": [
       "    max_depth  min_samples_leaf      train       test\n",
       "15          4               256  78.750993  78.672633\n",
       "12          4                32  78.750993  78.672633\n",
       "14          4               128  78.750993  78.672633\n",
       "13          4                64  78.750993  78.672633\n",
       "8           3                32  78.750993  78.672633"
      ],
      "text/html": [
       "<div>\n",
       "<style scoped>\n",
       "    .dataframe tbody tr th:only-of-type {\n",
       "        vertical-align: middle;\n",
       "    }\n",
       "\n",
       "    .dataframe tbody tr th {\n",
       "        vertical-align: top;\n",
       "    }\n",
       "\n",
       "    .dataframe thead th {\n",
       "        text-align: right;\n",
       "    }\n",
       "</style>\n",
       "<table border=\"1\" class=\"dataframe\">\n",
       "  <thead>\n",
       "    <tr style=\"text-align: right;\">\n",
       "      <th></th>\n",
       "      <th>max_depth</th>\n",
       "      <th>min_samples_leaf</th>\n",
       "      <th>train</th>\n",
       "      <th>test</th>\n",
       "    </tr>\n",
       "  </thead>\n",
       "  <tbody>\n",
       "    <tr>\n",
       "      <th>15</th>\n",
       "      <td>4</td>\n",
       "      <td>256</td>\n",
       "      <td>78.750993</td>\n",
       "      <td>78.672633</td>\n",
       "    </tr>\n",
       "    <tr>\n",
       "      <th>12</th>\n",
       "      <td>4</td>\n",
       "      <td>32</td>\n",
       "      <td>78.750993</td>\n",
       "      <td>78.672633</td>\n",
       "    </tr>\n",
       "    <tr>\n",
       "      <th>14</th>\n",
       "      <td>4</td>\n",
       "      <td>128</td>\n",
       "      <td>78.750993</td>\n",
       "      <td>78.672633</td>\n",
       "    </tr>\n",
       "    <tr>\n",
       "      <th>13</th>\n",
       "      <td>4</td>\n",
       "      <td>64</td>\n",
       "      <td>78.750993</td>\n",
       "      <td>78.672633</td>\n",
       "    </tr>\n",
       "    <tr>\n",
       "      <th>8</th>\n",
       "      <td>3</td>\n",
       "      <td>32</td>\n",
       "      <td>78.750993</td>\n",
       "      <td>78.672633</td>\n",
       "    </tr>\n",
       "  </tbody>\n",
       "</table>\n",
       "</div>"
      ]
     },
     "metadata": {},
     "execution_count": 26
    }
   ],
   "metadata": {}
  },
  {
   "cell_type": "code",
   "execution_count": 27,
   "source": [
    "# Correlação entre os resultados:\n",
    "\n",
    "corr = resultados.corr()\n",
    "corr"
   ],
   "outputs": [
    {
     "output_type": "execute_result",
     "data": {
      "text/plain": [
       "                     max_depth  min_samples_leaf     train      test\n",
       "max_depth         1.000000e+00     -2.780775e-16  0.536705 -0.027675\n",
       "min_samples_leaf -2.780775e-16      1.000000e+00 -0.409676  0.349011\n",
       "train             5.367048e-01     -4.096762e-01  1.000000  0.116466\n",
       "test             -2.767507e-02      3.490111e-01  0.116466  1.000000"
      ],
      "text/html": [
       "<div>\n",
       "<style scoped>\n",
       "    .dataframe tbody tr th:only-of-type {\n",
       "        vertical-align: middle;\n",
       "    }\n",
       "\n",
       "    .dataframe tbody tr th {\n",
       "        vertical-align: top;\n",
       "    }\n",
       "\n",
       "    .dataframe thead th {\n",
       "        text-align: right;\n",
       "    }\n",
       "</style>\n",
       "<table border=\"1\" class=\"dataframe\">\n",
       "  <thead>\n",
       "    <tr style=\"text-align: right;\">\n",
       "      <th></th>\n",
       "      <th>max_depth</th>\n",
       "      <th>min_samples_leaf</th>\n",
       "      <th>train</th>\n",
       "      <th>test</th>\n",
       "    </tr>\n",
       "  </thead>\n",
       "  <tbody>\n",
       "    <tr>\n",
       "      <th>max_depth</th>\n",
       "      <td>1.000000e+00</td>\n",
       "      <td>-2.780775e-16</td>\n",
       "      <td>0.536705</td>\n",
       "      <td>-0.027675</td>\n",
       "    </tr>\n",
       "    <tr>\n",
       "      <th>min_samples_leaf</th>\n",
       "      <td>-2.780775e-16</td>\n",
       "      <td>1.000000e+00</td>\n",
       "      <td>-0.409676</td>\n",
       "      <td>0.349011</td>\n",
       "    </tr>\n",
       "    <tr>\n",
       "      <th>train</th>\n",
       "      <td>5.367048e-01</td>\n",
       "      <td>-4.096762e-01</td>\n",
       "      <td>1.000000</td>\n",
       "      <td>0.116466</td>\n",
       "    </tr>\n",
       "    <tr>\n",
       "      <th>test</th>\n",
       "      <td>-2.767507e-02</td>\n",
       "      <td>3.490111e-01</td>\n",
       "      <td>0.116466</td>\n",
       "      <td>1.000000</td>\n",
       "    </tr>\n",
       "  </tbody>\n",
       "</table>\n",
       "</div>"
      ]
     },
     "metadata": {},
     "execution_count": 27
    }
   ],
   "metadata": {}
  },
  {
   "cell_type": "code",
   "execution_count": 28,
   "source": [
    "sns.heatmap(corr )"
   ],
   "outputs": [
    {
     "output_type": "execute_result",
     "data": {
      "text/plain": [
       "<AxesSubplot:>"
      ]
     },
     "metadata": {},
     "execution_count": 28
    },
    {
     "output_type": "display_data",
     "data": {
      "text/plain": [
       "<Figure size 432x288 with 2 Axes>"
      ],
      "image/png": "[encoded data removed]"
     },
     "metadata": {
      "needs_background": "light"
     }
    }
   ],
   "metadata": {}
  },
  {
   "cell_type": "code",
   "execution_count": 29,
   "source": [
    "pd.plotting.scatter_matrix(resultados, figsize = (14, 8), alpha= 0.3)"
   ],
   "outputs": [
    {
     "output_type": "execute_result",
     "data": {
      "text/plain": [
       "array([[<AxesSubplot:xlabel='max_depth', ylabel='max_depth'>,\n",
       "        <AxesSubplot:xlabel='min_samples_leaf', ylabel='max_depth'>,\n",
       "        <AxesSubplot:xlabel='train', ylabel='max_depth'>,\n",
       "        <AxesSubplot:xlabel='test', ylabel='max_depth'>],\n",
       "       [<AxesSubplot:xlabel='max_depth', ylabel='min_samples_leaf'>,\n",
       "        <AxesSubplot:xlabel='min_samples_leaf', ylabel='min_samples_leaf'>,\n",
       "        <AxesSubplot:xlabel='train', ylabel='min_samples_leaf'>,\n",
       "        <AxesSubplot:xlabel='test', ylabel='min_samples_leaf'>],\n",
       "       [<AxesSubplot:xlabel='max_depth', ylabel='train'>,\n",
       "        <AxesSubplot:xlabel='min_samples_leaf', ylabel='train'>,\n",
       "        <AxesSubplot:xlabel='train', ylabel='train'>,\n",
       "        <AxesSubplot:xlabel='test', ylabel='train'>],\n",
       "       [<AxesSubplot:xlabel='max_depth', ylabel='test'>,\n",
       "        <AxesSubplot:xlabel='min_samples_leaf', ylabel='test'>,\n",
       "        <AxesSubplot:xlabel='train', ylabel='test'>,\n",
       "        <AxesSubplot:xlabel='test', ylabel='test'>]], dtype=object)"
      ]
     },
     "metadata": {},
     "execution_count": 29
    },
    {
     "output_type": "display_data",
     "data": {
      "text/plain": [
       "<Figure size 1008x576 with 16 Axes>"
      ],
      "image/png": "[encoded data removed]"
     },
     "metadata": {
      "needs_background": "light"
     }
    }
   ],
   "metadata": {}
  },
  {
   "cell_type": "code",
   "execution_count": 30,
   "source": [
    "sns.pairplot(resultados)"
   ],
   "outputs": [
    {
     "output_type": "execute_result",
     "data": {
      "text/plain": [
       "<seaborn.axisgrid.PairGrid at 0x7f8623720400>"
      ]
     },
     "metadata": {},
     "execution_count": 30
    },
    {
     "output_type": "display_data",
     "data": {
      "text/plain": [
       "<Figure size 720x720 with 20 Axes>"
      ],
      "image/png": "[encoded data removed]"
     },
     "metadata": {
      "needs_background": "light"
     }
    }
   ],
   "metadata": {}
  },
  {
   "cell_type": "code",
   "execution_count": 31,
   "source": [
    "from string import ascii_letters\n",
    "import numpy as np\n",
    "import pandas as pd\n",
    "import seaborn as sns\n",
    "import matplotlib.pyplot as plt\n",
    "\n",
    "sns.set_theme(style=\"white\")\n",
    "\n",
    "# Generate a large random dataset\n",
    "rs = np.random.RandomState(33)\n",
    "d = pd.DataFrame(data=rs.normal(size=(100, 26)),\n",
    "                 columns=list(ascii_letters[26:]))\n",
    "\n",
    "# Compute the correlation matrix\n",
    "#corr = d.corr()\n",
    "\n",
    "# Generate a mask for the upper triangle\n",
    "mask = np.triu(np.ones_like(corr, dtype=bool))\n",
    "\n",
    "# Set up the matplotlib figure\n",
    "f, ax = plt.subplots(figsize=(11, 9))\n",
    "\n",
    "# Generate a custom diverging colormap\n",
    "cmap = sns.diverging_palette(230, 20, as_cmap=True)\n",
    "\n",
    "# Draw the heatmap with the mask and correct aspect ratio\n",
    "sns.heatmap(corr, mask=mask, cmap=cmap, vmax=.3, center=0,\n",
    "            square=True, linewidths=.5, cbar_kws={\"shrink\": .5})"
   ],
   "outputs": [
    {
     "output_type": "execute_result",
     "data": {
      "text/plain": [
       "<AxesSubplot:>"
      ]
     },
     "metadata": {},
     "execution_count": 31
    },
    {
     "output_type": "display_data",
     "data": {
      "text/plain": [
       "<Figure size 792x648 with 2 Axes>"
      ],
      "image/png": "[encoded data removed]"
     },
     "metadata": {}
    }
   ],
   "metadata": {}
  },
  {
   "cell_type": "code",
   "execution_count": 32,
   "source": [
    "def busca():\n",
    "  resultados = []\n",
    "  for max_depth in range(1,33):\n",
    "    for min_samples_leaf in [128, 192, 256, 512]:\n",
    "        tabela = roda_arvore_de_decisao(max_depth, min_samples_leaf)\n",
    "        resultados.append(tabela)\n",
    "  resultados = pd.DataFrame(resultados, columns= [\"max_depth\",\"min_samples_leaf\",\"train\",\"test\"])\n",
    "  return resultados\n",
    "\n",
    "resultados = busca()\n",
    "resultados.head()"
   ],
   "outputs": [
    {
     "output_type": "stream",
     "name": "stdout",
     "text": [
      "Arvore max_depth = 1, min_samples_leaf = 128, treino = 75.79, teste = 75.78\n",
      "Arvore max_depth = 1, min_samples_leaf = 192, treino = 75.79, teste = 75.78\n",
      "Arvore max_depth = 1, min_samples_leaf = 256, treino = 75.79, teste = 75.78\n",
      "Arvore max_depth = 1, min_samples_leaf = 512, treino = 75.79, teste = 75.78\n",
      "Arvore max_depth = 2, min_samples_leaf = 128, treino = 75.79, teste = 75.78\n",
      "Arvore max_depth = 2, min_samples_leaf = 192, treino = 75.79, teste = 75.78\n",
      "Arvore max_depth = 2, min_samples_leaf = 256, treino = 75.79, teste = 75.78\n",
      "Arvore max_depth = 2, min_samples_leaf = 512, treino = 75.79, teste = 75.78\n",
      "Arvore max_depth = 3, min_samples_leaf = 128, treino = 78.75, teste = 78.67\n",
      "Arvore max_depth = 3, min_samples_leaf = 192, treino = 78.75, teste = 78.67\n",
      "Arvore max_depth = 3, min_samples_leaf = 256, treino = 78.75, teste = 78.67\n",
      "Arvore max_depth = 3, min_samples_leaf = 512, treino = 77.53, teste = 77.50\n",
      "Arvore max_depth = 4, min_samples_leaf = 128, treino = 78.75, teste = 78.67\n",
      "Arvore max_depth = 4, min_samples_leaf = 192, treino = 78.75, teste = 78.67\n",
      "Arvore max_depth = 4, min_samples_leaf = 256, treino = 78.75, teste = 78.67\n",
      "Arvore max_depth = 4, min_samples_leaf = 512, treino = 77.53, teste = 77.50\n",
      "Arvore max_depth = 5, min_samples_leaf = 128, treino = 78.77, teste = 78.44\n",
      "Arvore max_depth = 5, min_samples_leaf = 192, treino = 78.77, teste = 78.44\n",
      "Arvore max_depth = 5, min_samples_leaf = 256, treino = 78.77, teste = 78.44\n",
      "Arvore max_depth = 5, min_samples_leaf = 512, treino = 77.53, teste = 77.50\n",
      "Arvore max_depth = 6, min_samples_leaf = 128, treino = 78.85, teste = 78.27\n",
      "Arvore max_depth = 6, min_samples_leaf = 192, treino = 78.79, teste = 78.31\n",
      "Arvore max_depth = 6, min_samples_leaf = 256, treino = 78.79, teste = 78.27\n",
      "Arvore max_depth = 6, min_samples_leaf = 512, treino = 77.53, teste = 77.50\n",
      "Arvore max_depth = 7, min_samples_leaf = 128, treino = 79.01, teste = 78.21\n",
      "Arvore max_depth = 7, min_samples_leaf = 192, treino = 78.92, teste = 78.10\n",
      "Arvore max_depth = 7, min_samples_leaf = 256, treino = 78.85, teste = 78.08\n",
      "Arvore max_depth = 7, min_samples_leaf = 512, treino = 77.53, teste = 77.50\n",
      "Arvore max_depth = 8, min_samples_leaf = 128, treino = 79.05, teste = 78.37\n",
      "Arvore max_depth = 8, min_samples_leaf = 192, treino = 78.98, teste = 78.20\n",
      "Arvore max_depth = 8, min_samples_leaf = 256, treino = 78.89, teste = 77.94\n",
      "Arvore max_depth = 8, min_samples_leaf = 512, treino = 77.53, teste = 77.50\n",
      "Arvore max_depth = 9, min_samples_leaf = 128, treino = 79.12, teste = 78.30\n",
      "Arvore max_depth = 9, min_samples_leaf = 192, treino = 78.99, teste = 78.11\n",
      "Arvore max_depth = 9, min_samples_leaf = 256, treino = 78.90, teste = 77.85\n",
      "Arvore max_depth = 9, min_samples_leaf = 512, treino = 77.53, teste = 77.50\n",
      "Arvore max_depth = 10, min_samples_leaf = 128, treino = 79.16, teste = 78.29\n",
      "Arvore max_depth = 10, min_samples_leaf = 192, treino = 79.01, teste = 78.05\n",
      "Arvore max_depth = 10, min_samples_leaf = 256, treino = 78.90, teste = 77.85\n",
      "Arvore max_depth = 10, min_samples_leaf = 512, treino = 77.53, teste = 77.50\n",
      "Arvore max_depth = 11, min_samples_leaf = 128, treino = 79.19, teste = 78.31\n",
      "Arvore max_depth = 11, min_samples_leaf = 192, treino = 79.01, teste = 78.05\n",
      "Arvore max_depth = 11, min_samples_leaf = 256, treino = 78.90, teste = 77.85\n",
      "Arvore max_depth = 11, min_samples_leaf = 512, treino = 77.53, teste = 77.50\n",
      "Arvore max_depth = 12, min_samples_leaf = 128, treino = 79.21, teste = 78.22\n",
      "Arvore max_depth = 12, min_samples_leaf = 192, treino = 79.01, teste = 78.05\n",
      "Arvore max_depth = 12, min_samples_leaf = 256, treino = 78.90, teste = 77.85\n",
      "Arvore max_depth = 12, min_samples_leaf = 512, treino = 77.53, teste = 77.50\n",
      "Arvore max_depth = 13, min_samples_leaf = 128, treino = 79.21, teste = 78.22\n",
      "Arvore max_depth = 13, min_samples_leaf = 192, treino = 79.01, teste = 78.05\n",
      "Arvore max_depth = 13, min_samples_leaf = 256, treino = 78.90, teste = 77.85\n",
      "Arvore max_depth = 13, min_samples_leaf = 512, treino = 77.53, teste = 77.50\n",
      "Arvore max_depth = 14, min_samples_leaf = 128, treino = 79.21, teste = 78.22\n",
      "Arvore max_depth = 14, min_samples_leaf = 192, treino = 79.01, teste = 78.05\n",
      "Arvore max_depth = 14, min_samples_leaf = 256, treino = 78.90, teste = 77.85\n",
      "Arvore max_depth = 14, min_samples_leaf = 512, treino = 77.53, teste = 77.50\n",
      "Arvore max_depth = 15, min_samples_leaf = 128, treino = 79.21, teste = 78.22\n",
      "Arvore max_depth = 15, min_samples_leaf = 192, treino = 79.01, teste = 78.05\n",
      "Arvore max_depth = 15, min_samples_leaf = 256, treino = 78.90, teste = 77.85\n",
      "Arvore max_depth = 15, min_samples_leaf = 512, treino = 77.53, teste = 77.50\n",
      "Arvore max_depth = 16, min_samples_leaf = 128, treino = 79.21, teste = 78.22\n",
      "Arvore max_depth = 16, min_samples_leaf = 192, treino = 79.01, teste = 78.05\n",
      "Arvore max_depth = 16, min_samples_leaf = 256, treino = 78.90, teste = 77.85\n",
      "Arvore max_depth = 16, min_samples_leaf = 512, treino = 77.53, teste = 77.50\n",
      "Arvore max_depth = 17, min_samples_leaf = 128, treino = 79.21, teste = 78.22\n",
      "Arvore max_depth = 17, min_samples_leaf = 192, treino = 79.01, teste = 78.05\n",
      "Arvore max_depth = 17, min_samples_leaf = 256, treino = 78.90, teste = 77.85\n",
      "Arvore max_depth = 17, min_samples_leaf = 512, treino = 77.53, teste = 77.50\n",
      "Arvore max_depth = 18, min_samples_leaf = 128, treino = 79.21, teste = 78.22\n",
      "Arvore max_depth = 18, min_samples_leaf = 192, treino = 79.01, teste = 78.05\n",
      "Arvore max_depth = 18, min_samples_leaf = 256, treino = 78.90, teste = 77.85\n",
      "Arvore max_depth = 18, min_samples_leaf = 512, treino = 77.53, teste = 77.50\n",
      "Arvore max_depth = 19, min_samples_leaf = 128, treino = 79.21, teste = 78.22\n",
      "Arvore max_depth = 19, min_samples_leaf = 192, treino = 79.01, teste = 78.05\n",
      "Arvore max_depth = 19, min_samples_leaf = 256, treino = 78.90, teste = 77.85\n",
      "Arvore max_depth = 19, min_samples_leaf = 512, treino = 77.53, teste = 77.50\n",
      "Arvore max_depth = 20, min_samples_leaf = 128, treino = 79.21, teste = 78.22\n",
      "Arvore max_depth = 20, min_samples_leaf = 192, treino = 79.01, teste = 78.05\n",
      "Arvore max_depth = 20, min_samples_leaf = 256, treino = 78.90, teste = 77.85\n",
      "Arvore max_depth = 20, min_samples_leaf = 512, treino = 77.53, teste = 77.50\n",
      "Arvore max_depth = 21, min_samples_leaf = 128, treino = 79.21, teste = 78.22\n",
      "Arvore max_depth = 21, min_samples_leaf = 192, treino = 79.01, teste = 78.05\n",
      "Arvore max_depth = 21, min_samples_leaf = 256, treino = 78.90, teste = 77.85\n",
      "Arvore max_depth = 21, min_samples_leaf = 512, treino = 77.53, teste = 77.50\n",
      "Arvore max_depth = 22, min_samples_leaf = 128, treino = 79.21, teste = 78.22\n",
      "Arvore max_depth = 22, min_samples_leaf = 192, treino = 79.01, teste = 78.05\n",
      "Arvore max_depth = 22, min_samples_leaf = 256, treino = 78.90, teste = 77.85\n",
      "Arvore max_depth = 22, min_samples_leaf = 512, treino = 77.53, teste = 77.50\n",
      "Arvore max_depth = 23, min_samples_leaf = 128, treino = 79.21, teste = 78.22\n",
      "Arvore max_depth = 23, min_samples_leaf = 192, treino = 79.01, teste = 78.05\n",
      "Arvore max_depth = 23, min_samples_leaf = 256, treino = 78.90, teste = 77.85\n",
      "Arvore max_depth = 23, min_samples_leaf = 512, treino = 77.53, teste = 77.50\n",
      "Arvore max_depth = 24, min_samples_leaf = 128, treino = 79.21, teste = 78.22\n",
      "Arvore max_depth = 24, min_samples_leaf = 192, treino = 79.01, teste = 78.05\n",
      "Arvore max_depth = 24, min_samples_leaf = 256, treino = 78.90, teste = 77.85\n",
      "Arvore max_depth = 24, min_samples_leaf = 512, treino = 77.53, teste = 77.50\n",
      "Arvore max_depth = 25, min_samples_leaf = 128, treino = 79.21, teste = 78.22\n",
      "Arvore max_depth = 25, min_samples_leaf = 192, treino = 79.01, teste = 78.05\n",
      "Arvore max_depth = 25, min_samples_leaf = 256, treino = 78.90, teste = 77.85\n",
      "Arvore max_depth = 25, min_samples_leaf = 512, treino = 77.53, teste = 77.50\n",
      "Arvore max_depth = 26, min_samples_leaf = 128, treino = 79.21, teste = 78.22\n",
      "Arvore max_depth = 26, min_samples_leaf = 192, treino = 79.01, teste = 78.05\n",
      "Arvore max_depth = 26, min_samples_leaf = 256, treino = 78.90, teste = 77.85\n",
      "Arvore max_depth = 26, min_samples_leaf = 512, treino = 77.53, teste = 77.50\n",
      "Arvore max_depth = 27, min_samples_leaf = 128, treino = 79.21, teste = 78.22\n",
      "Arvore max_depth = 27, min_samples_leaf = 192, treino = 79.01, teste = 78.05\n",
      "Arvore max_depth = 27, min_samples_leaf = 256, treino = 78.90, teste = 77.85\n",
      "Arvore max_depth = 27, min_samples_leaf = 512, treino = 77.53, teste = 77.50\n",
      "Arvore max_depth = 28, min_samples_leaf = 128, treino = 79.21, teste = 78.22\n",
      "Arvore max_depth = 28, min_samples_leaf = 192, treino = 79.01, teste = 78.05\n",
      "Arvore max_depth = 28, min_samples_leaf = 256, treino = 78.90, teste = 77.85\n",
      "Arvore max_depth = 28, min_samples_leaf = 512, treino = 77.53, teste = 77.50\n",
      "Arvore max_depth = 29, min_samples_leaf = 128, treino = 79.21, teste = 78.22\n",
      "Arvore max_depth = 29, min_samples_leaf = 192, treino = 79.01, teste = 78.05\n",
      "Arvore max_depth = 29, min_samples_leaf = 256, treino = 78.90, teste = 77.85\n",
      "Arvore max_depth = 29, min_samples_leaf = 512, treino = 77.53, teste = 77.50\n",
      "Arvore max_depth = 30, min_samples_leaf = 128, treino = 79.21, teste = 78.22\n",
      "Arvore max_depth = 30, min_samples_leaf = 192, treino = 79.01, teste = 78.05\n",
      "Arvore max_depth = 30, min_samples_leaf = 256, treino = 78.90, teste = 77.85\n",
      "Arvore max_depth = 30, min_samples_leaf = 512, treino = 77.53, teste = 77.50\n",
      "Arvore max_depth = 31, min_samples_leaf = 128, treino = 79.21, teste = 78.22\n",
      "Arvore max_depth = 31, min_samples_leaf = 192, treino = 79.01, teste = 78.05\n",
      "Arvore max_depth = 31, min_samples_leaf = 256, treino = 78.90, teste = 77.85\n",
      "Arvore max_depth = 31, min_samples_leaf = 512, treino = 77.53, teste = 77.50\n",
      "Arvore max_depth = 32, min_samples_leaf = 128, treino = 79.21, teste = 78.22\n",
      "Arvore max_depth = 32, min_samples_leaf = 192, treino = 79.01, teste = 78.05\n",
      "Arvore max_depth = 32, min_samples_leaf = 256, treino = 78.90, teste = 77.85\n",
      "Arvore max_depth = 32, min_samples_leaf = 512, treino = 77.53, teste = 77.50\n"
     ]
    },
    {
     "output_type": "execute_result",
     "data": {
      "text/plain": [
       "   max_depth  min_samples_leaf      train       test\n",
       "0          1               128  75.791169  75.784219\n",
       "1          1               192  75.791169  75.784219\n",
       "2          1               256  75.791169  75.784219\n",
       "3          1               512  75.791169  75.784219\n",
       "4          2               128  75.791169  75.784219"
      ],
      "text/html": [
       "<div>\n",
       "<style scoped>\n",
       "    .dataframe tbody tr th:only-of-type {\n",
       "        vertical-align: middle;\n",
       "    }\n",
       "\n",
       "    .dataframe tbody tr th {\n",
       "        vertical-align: top;\n",
       "    }\n",
       "\n",
       "    .dataframe thead th {\n",
       "        text-align: right;\n",
       "    }\n",
       "</style>\n",
       "<table border=\"1\" class=\"dataframe\">\n",
       "  <thead>\n",
       "    <tr style=\"text-align: right;\">\n",
       "      <th></th>\n",
       "      <th>max_depth</th>\n",
       "      <th>min_samples_leaf</th>\n",
       "      <th>train</th>\n",
       "      <th>test</th>\n",
       "    </tr>\n",
       "  </thead>\n",
       "  <tbody>\n",
       "    <tr>\n",
       "      <th>0</th>\n",
       "      <td>1</td>\n",
       "      <td>128</td>\n",
       "      <td>75.791169</td>\n",
       "      <td>75.784219</td>\n",
       "    </tr>\n",
       "    <tr>\n",
       "      <th>1</th>\n",
       "      <td>1</td>\n",
       "      <td>192</td>\n",
       "      <td>75.791169</td>\n",
       "      <td>75.784219</td>\n",
       "    </tr>\n",
       "    <tr>\n",
       "      <th>2</th>\n",
       "      <td>1</td>\n",
       "      <td>256</td>\n",
       "      <td>75.791169</td>\n",
       "      <td>75.784219</td>\n",
       "    </tr>\n",
       "    <tr>\n",
       "      <th>3</th>\n",
       "      <td>1</td>\n",
       "      <td>512</td>\n",
       "      <td>75.791169</td>\n",
       "      <td>75.784219</td>\n",
       "    </tr>\n",
       "    <tr>\n",
       "      <th>4</th>\n",
       "      <td>2</td>\n",
       "      <td>128</td>\n",
       "      <td>75.791169</td>\n",
       "      <td>75.784219</td>\n",
       "    </tr>\n",
       "  </tbody>\n",
       "</table>\n",
       "</div>"
      ]
     },
     "metadata": {},
     "execution_count": 32
    }
   ],
   "metadata": {}
  },
  {
   "cell_type": "code",
   "execution_count": 33,
   "source": [
    "corr = resultados.corr()"
   ],
   "outputs": [],
   "metadata": {}
  },
  {
   "cell_type": "code",
   "execution_count": 34,
   "source": [
    "sns.set_theme(style=\"white\")\n",
    "\n",
    "# Generate a large random dataset\n",
    "rs = np.random.RandomState(33)\n",
    "d = pd.DataFrame(data=rs.normal(size=(100, 26)),\n",
    "                 columns=list(ascii_letters[26:]))\n",
    "\n",
    "# Compute the correlation matrix\n",
    "#corr = d.corr()\n",
    "\n",
    "# Generate a mask for the upper triangle\n",
    "mask = np.triu(np.ones_like(corr, dtype=bool))\n",
    "\n",
    "# Set up the matplotlib figure\n",
    "f, ax = plt.subplots(figsize=(11, 9))\n",
    "\n",
    "# Generate a custom diverging colormap\n",
    "cmap = sns.diverging_palette(230, 20, as_cmap=True)\n",
    "\n",
    "# Draw the heatmap with the mask and correct aspect ratio\n",
    "sns.heatmap(corr, mask=mask, cmap=cmap, vmax=.3, center=0,\n",
    "            square=True, linewidths=.5, cbar_kws={\"shrink\": .5})"
   ],
   "outputs": [
    {
     "output_type": "execute_result",
     "data": {
      "text/plain": [
       "<AxesSubplot:>"
      ]
     },
     "metadata": {},
     "execution_count": 34
    },
    {
     "output_type": "display_data",
     "data": {
      "text/plain": [
       "<Figure size 792x648 with 2 Axes>"
      ],
      "image/png": "[encoded data removed]"
     },
     "metadata": {}
    }
   ],
   "metadata": {}
  },
  {
   "cell_type": "code",
   "execution_count": 35,
   "source": [
    "resultados.sort_values(\"test\", ascending=False).head()"
   ],
   "outputs": [
    {
     "output_type": "execute_result",
     "data": {
      "text/plain": [
       "    max_depth  min_samples_leaf      train       test\n",
       "13          4               192  78.750993  78.672633\n",
       "8           3               128  78.750993  78.672633\n",
       "9           3               192  78.750993  78.672633\n",
       "10          3               256  78.750993  78.672633\n",
       "14          4               256  78.750993  78.672633"
      ],
      "text/html": [
       "<div>\n",
       "<style scoped>\n",
       "    .dataframe tbody tr th:only-of-type {\n",
       "        vertical-align: middle;\n",
       "    }\n",
       "\n",
       "    .dataframe tbody tr th {\n",
       "        vertical-align: top;\n",
       "    }\n",
       "\n",
       "    .dataframe thead th {\n",
       "        text-align: right;\n",
       "    }\n",
       "</style>\n",
       "<table border=\"1\" class=\"dataframe\">\n",
       "  <thead>\n",
       "    <tr style=\"text-align: right;\">\n",
       "      <th></th>\n",
       "      <th>max_depth</th>\n",
       "      <th>min_samples_leaf</th>\n",
       "      <th>train</th>\n",
       "      <th>test</th>\n",
       "    </tr>\n",
       "  </thead>\n",
       "  <tbody>\n",
       "    <tr>\n",
       "      <th>13</th>\n",
       "      <td>4</td>\n",
       "      <td>192</td>\n",
       "      <td>78.750993</td>\n",
       "      <td>78.672633</td>\n",
       "    </tr>\n",
       "    <tr>\n",
       "      <th>8</th>\n",
       "      <td>3</td>\n",
       "      <td>128</td>\n",
       "      <td>78.750993</td>\n",
       "      <td>78.672633</td>\n",
       "    </tr>\n",
       "    <tr>\n",
       "      <th>9</th>\n",
       "      <td>3</td>\n",
       "      <td>192</td>\n",
       "      <td>78.750993</td>\n",
       "      <td>78.672633</td>\n",
       "    </tr>\n",
       "    <tr>\n",
       "      <th>10</th>\n",
       "      <td>3</td>\n",
       "      <td>256</td>\n",
       "      <td>78.750993</td>\n",
       "      <td>78.672633</td>\n",
       "    </tr>\n",
       "    <tr>\n",
       "      <th>14</th>\n",
       "      <td>4</td>\n",
       "      <td>256</td>\n",
       "      <td>78.750993</td>\n",
       "      <td>78.672633</td>\n",
       "    </tr>\n",
       "  </tbody>\n",
       "</table>\n",
       "</div>"
      ]
     },
     "metadata": {},
     "execution_count": 35
    }
   ],
   "metadata": {}
  },
  {
   "cell_type": "markdown",
   "source": [
    "## Explorando 3 dimensões de hiper parâmetros:\n",
    "\n",
    "### Hiper parâmetro -> Quando queremos explorar espaço de dados em dimensões, onde podemos definir os parâmetros que gostaríamos para fazer testes."
   ],
   "metadata": {}
  },
  {
   "cell_type": "code",
   "execution_count": 36,
   "source": [
    "def roda_arvore_de_decisao(max_depth, min_samples_leaf, min_samples_split):\n",
    "    SEED = 301\n",
    "    np.random.seed(SEED)\n",
    "\n",
    "    cv = GroupKFold(n_splits = 10)\n",
    "    modelo = DecisionTreeClassifier(max_depth=max_depth, min_samples_leaf = min_samples_leaf, min_samples_split= min_samples_split)\n",
    "    results = cross_validate(modelo, x_azar, y_azar, cv = cv, groups = dados.modelo, return_train_score=True)\n",
    "    fit_time = results['fit_time'].mean() # Tempo de treino\n",
    "    score_time = results['score_time'].mean() # Tempo de teste\n",
    "    train_score = results['train_score'].mean() * 100\n",
    "    test_score = results['test_score'].mean() * 100\n",
    "    # print(\"Arvore max_depth = %d, min_samples_leaf = %d, min_samples_split = %d, treino = %.2f, teste = %.2f\" % (max_depth, min_samples_leaf, min_samples_split, train_score, test_score))\n",
    "    tabela = [max_depth, min_samples_leaf, min_samples_split, train_score, test_score, fit_time, score_time]\n",
    "    return tabela\n",
    "\n",
    "def busca():\n",
    "    resultados = []\n",
    "    for max_depth in range(1,33):\n",
    "        for min_samples_leaf in [32, 64, 128, 256]:\n",
    "            for min_samples_split in [32, 64, 128, 256]:\n",
    "                tabela = roda_arvore_de_decisao(max_depth, min_samples_leaf, min_samples_split)\n",
    "                resultados.append(tabela)\n",
    "    resultados = pd.DataFrame(resultados, columns= [\"max_depth\",\"min_samples_leaf\", \"min_samples_split\", \"train\",\"test\", \"fit_time\", \"score_time\"])\n",
    "    return resultados\n",
    "\n",
    "resultados = busca()\n",
    "resultados.head()"
   ],
   "outputs": [
    {
     "output_type": "execute_result",
     "data": {
      "text/plain": [
       "   max_depth  min_samples_leaf  min_samples_split      train       test  \\\n",
       "0          1                32                 32  75.791169  75.784219   \n",
       "1          1                32                 64  75.791169  75.784219   \n",
       "2          1                32                128  75.791169  75.784219   \n",
       "3          1                32                256  75.791169  75.784219   \n",
       "4          1                64                 32  75.791169  75.784219   \n",
       "\n",
       "   fit_time  score_time  \n",
       "0  0.007800    0.002282  \n",
       "1  0.004661    0.001383  \n",
       "2  0.004643    0.001363  \n",
       "3  0.005154    0.001523  \n",
       "4  0.004581    0.001312  "
      ],
      "text/html": [
       "<div>\n",
       "<style scoped>\n",
       "    .dataframe tbody tr th:only-of-type {\n",
       "        vertical-align: middle;\n",
       "    }\n",
       "\n",
       "    .dataframe tbody tr th {\n",
       "        vertical-align: top;\n",
       "    }\n",
       "\n",
       "    .dataframe thead th {\n",
       "        text-align: right;\n",
       "    }\n",
       "</style>\n",
       "<table border=\"1\" class=\"dataframe\">\n",
       "  <thead>\n",
       "    <tr style=\"text-align: right;\">\n",
       "      <th></th>\n",
       "      <th>max_depth</th>\n",
       "      <th>min_samples_leaf</th>\n",
       "      <th>min_samples_split</th>\n",
       "      <th>train</th>\n",
       "      <th>test</th>\n",
       "      <th>fit_time</th>\n",
       "      <th>score_time</th>\n",
       "    </tr>\n",
       "  </thead>\n",
       "  <tbody>\n",
       "    <tr>\n",
       "      <th>0</th>\n",
       "      <td>1</td>\n",
       "      <td>32</td>\n",
       "      <td>32</td>\n",
       "      <td>75.791169</td>\n",
       "      <td>75.784219</td>\n",
       "      <td>0.007800</td>\n",
       "      <td>0.002282</td>\n",
       "    </tr>\n",
       "    <tr>\n",
       "      <th>1</th>\n",
       "      <td>1</td>\n",
       "      <td>32</td>\n",
       "      <td>64</td>\n",
       "      <td>75.791169</td>\n",
       "      <td>75.784219</td>\n",
       "      <td>0.004661</td>\n",
       "      <td>0.001383</td>\n",
       "    </tr>\n",
       "    <tr>\n",
       "      <th>2</th>\n",
       "      <td>1</td>\n",
       "      <td>32</td>\n",
       "      <td>128</td>\n",
       "      <td>75.791169</td>\n",
       "      <td>75.784219</td>\n",
       "      <td>0.004643</td>\n",
       "      <td>0.001363</td>\n",
       "    </tr>\n",
       "    <tr>\n",
       "      <th>3</th>\n",
       "      <td>1</td>\n",
       "      <td>32</td>\n",
       "      <td>256</td>\n",
       "      <td>75.791169</td>\n",
       "      <td>75.784219</td>\n",
       "      <td>0.005154</td>\n",
       "      <td>0.001523</td>\n",
       "    </tr>\n",
       "    <tr>\n",
       "      <th>4</th>\n",
       "      <td>1</td>\n",
       "      <td>64</td>\n",
       "      <td>32</td>\n",
       "      <td>75.791169</td>\n",
       "      <td>75.784219</td>\n",
       "      <td>0.004581</td>\n",
       "      <td>0.001312</td>\n",
       "    </tr>\n",
       "  </tbody>\n",
       "</table>\n",
       "</div>"
      ]
     },
     "metadata": {},
     "execution_count": 36
    }
   ],
   "metadata": {}
  },
  {
   "cell_type": "code",
   "execution_count": 37,
   "source": [
    "corr = resultados.corr()"
   ],
   "outputs": [],
   "metadata": {}
  },
  {
   "cell_type": "code",
   "execution_count": 38,
   "source": [
    "sns.set_theme(style=\"white\")\n",
    "\n",
    "# Generate a large random dataset\n",
    "rs = np.random.RandomState(33)\n",
    "d = pd.DataFrame(data=rs.normal(size=(100, 26)),\n",
    "                 columns=list(ascii_letters[26:]))\n",
    "\n",
    "# Compute the correlation matrix\n",
    "#corr = d.corr()\n",
    "\n",
    "# Generate a mask for the upper triangle\n",
    "mask = np.triu(np.ones_like(corr, dtype=bool))\n",
    "\n",
    "# Set up the matplotlib figure\n",
    "f, ax = plt.subplots(figsize=(11, 9))\n",
    "\n",
    "# Generate a custom diverging colormap\n",
    "cmap = sns.diverging_palette(230, 20, as_cmap=True)\n",
    "\n",
    "# Draw the heatmap with the mask and correct aspect ratio\n",
    "sns.heatmap(corr, mask=mask, cmap=cmap, vmax=.3, center=0,\n",
    "            square=True, linewidths=.5, cbar_kws={\"shrink\": .5})"
   ],
   "outputs": [
    {
     "output_type": "execute_result",
     "data": {
      "text/plain": [
       "<AxesSubplot:>"
      ]
     },
     "metadata": {},
     "execution_count": 38
    },
    {
     "output_type": "display_data",
     "data": {
      "text/plain": [
       "<Figure size 792x648 with 2 Axes>"
      ],
      "image/png": "[encoded data removed]"
     },
     "metadata": {}
    }
   ],
   "metadata": {}
  },
  {
   "cell_type": "code",
   "execution_count": 39,
   "source": [
    "resultados.sort_values(\"test\", ascending=False).head()"
   ],
   "outputs": [
    {
     "output_type": "execute_result",
     "data": {
      "text/plain": [
       "    max_depth  min_samples_leaf  min_samples_split      train       test  \\\n",
       "63          4               256                256  78.750993  78.672633   \n",
       "48          4                32                 32  78.750993  78.672633   \n",
       "34          3                32                128  78.750993  78.672633   \n",
       "35          3                32                256  78.750993  78.672633   \n",
       "36          3                64                 32  78.750993  78.672633   \n",
       "\n",
       "    fit_time  score_time  \n",
       "63  0.011377    0.001752  \n",
       "48  0.010946    0.001585  \n",
       "34  0.009435    0.001645  \n",
       "35  0.009559    0.001676  \n",
       "36  0.009621    0.001641  "
      ],
      "text/html": [
       "<div>\n",
       "<style scoped>\n",
       "    .dataframe tbody tr th:only-of-type {\n",
       "        vertical-align: middle;\n",
       "    }\n",
       "\n",
       "    .dataframe tbody tr th {\n",
       "        vertical-align: top;\n",
       "    }\n",
       "\n",
       "    .dataframe thead th {\n",
       "        text-align: right;\n",
       "    }\n",
       "</style>\n",
       "<table border=\"1\" class=\"dataframe\">\n",
       "  <thead>\n",
       "    <tr style=\"text-align: right;\">\n",
       "      <th></th>\n",
       "      <th>max_depth</th>\n",
       "      <th>min_samples_leaf</th>\n",
       "      <th>min_samples_split</th>\n",
       "      <th>train</th>\n",
       "      <th>test</th>\n",
       "      <th>fit_time</th>\n",
       "      <th>score_time</th>\n",
       "    </tr>\n",
       "  </thead>\n",
       "  <tbody>\n",
       "    <tr>\n",
       "      <th>63</th>\n",
       "      <td>4</td>\n",
       "      <td>256</td>\n",
       "      <td>256</td>\n",
       "      <td>78.750993</td>\n",
       "      <td>78.672633</td>\n",
       "      <td>0.011377</td>\n",
       "      <td>0.001752</td>\n",
       "    </tr>\n",
       "    <tr>\n",
       "      <th>48</th>\n",
       "      <td>4</td>\n",
       "      <td>32</td>\n",
       "      <td>32</td>\n",
       "      <td>78.750993</td>\n",
       "      <td>78.672633</td>\n",
       "      <td>0.010946</td>\n",
       "      <td>0.001585</td>\n",
       "    </tr>\n",
       "    <tr>\n",
       "      <th>34</th>\n",
       "      <td>3</td>\n",
       "      <td>32</td>\n",
       "      <td>128</td>\n",
       "      <td>78.750993</td>\n",
       "      <td>78.672633</td>\n",
       "      <td>0.009435</td>\n",
       "      <td>0.001645</td>\n",
       "    </tr>\n",
       "    <tr>\n",
       "      <th>35</th>\n",
       "      <td>3</td>\n",
       "      <td>32</td>\n",
       "      <td>256</td>\n",
       "      <td>78.750993</td>\n",
       "      <td>78.672633</td>\n",
       "      <td>0.009559</td>\n",
       "      <td>0.001676</td>\n",
       "    </tr>\n",
       "    <tr>\n",
       "      <th>36</th>\n",
       "      <td>3</td>\n",
       "      <td>64</td>\n",
       "      <td>32</td>\n",
       "      <td>78.750993</td>\n",
       "      <td>78.672633</td>\n",
       "      <td>0.009621</td>\n",
       "      <td>0.001641</td>\n",
       "    </tr>\n",
       "  </tbody>\n",
       "</table>\n",
       "</div>"
      ]
     },
     "metadata": {},
     "execution_count": 39
    }
   ],
   "metadata": {}
  },
  {
   "cell_type": "markdown",
   "source": [
    "# <font color=  'blue'> Busca de parâmetros com o GridSearchCV'</font>"
   ],
   "metadata": {}
  },
  {
   "cell_type": "markdown",
   "source": [
    "## <font color='blue'> Usando o GridSearchCV </font>\n",
    "\n",
    "### GridSearch serve para otimizar e encontrar o melhor conjunto de hiperparâmetros. -> Ele busca no quadro de dados e incrementa sua busca em forma de grade(grid)"
   ],
   "metadata": {}
  },
  {
   "cell_type": "markdown",
   "source": [
    "# Explorando espaço de hiper parämetros como GridSearchCV"
   ],
   "metadata": {}
  },
  {
   "cell_type": "code",
   "execution_count": 40,
   "source": [
    "from sklearn.model_selection import GridSearchCV\n",
    "\n",
    "\n",
    "SEED = 301\n",
    "np.random.seed(SEED)\n",
    "\n",
    "espaco_de_parametros = {\n",
    "    \"max_depth\" : [3, 5],\n",
    "    \"min_samples_split\" : [32, 64, 128],\n",
    "    \"min_samples_leaf\" : [32, 64, 128],\n",
    "    \"criterion\" : [\"gini\", \"entropy\"]\n",
    "}\n",
    "\n",
    "busca = GridSearchCV(DecisionTreeClassifier(), \n",
    "                    espaco_de_parametros, \n",
    "                    cv = GroupKFold(n_splits = 10))\n",
    "busca.fit(x_azar, y_azar, groups = dados.modelo)\n",
    "resultados = pd.DataFrame(busca.cv_results_)\n",
    "resultados.head()"
   ],
   "outputs": [
    {
     "output_type": "execute_result",
     "data": {
      "text/plain": [
       "   mean_fit_time  std_fit_time  mean_score_time  std_score_time  \\\n",
       "0       0.012555      0.002878         0.001949        0.000512   \n",
       "1       0.009180      0.000453         0.001633        0.000106   \n",
       "2       0.008869      0.000385         0.001562        0.000137   \n",
       "3       0.009253      0.000571         0.001584        0.000136   \n",
       "4       0.008823      0.000402         0.001550        0.000131   \n",
       "\n",
       "  param_criterion param_max_depth param_min_samples_leaf  \\\n",
       "0            gini               3                     32   \n",
       "1            gini               3                     32   \n",
       "2            gini               3                     32   \n",
       "3            gini               3                     64   \n",
       "4            gini               3                     64   \n",
       "\n",
       "  param_min_samples_split                                             params  \\\n",
       "0                      32  {'criterion': 'gini', 'max_depth': 3, 'min_sam...   \n",
       "1                      64  {'criterion': 'gini', 'max_depth': 3, 'min_sam...   \n",
       "2                     128  {'criterion': 'gini', 'max_depth': 3, 'min_sam...   \n",
       "3                      32  {'criterion': 'gini', 'max_depth': 3, 'min_sam...   \n",
       "4                      64  {'criterion': 'gini', 'max_depth': 3, 'min_sam...   \n",
       "\n",
       "   split0_test_score  ...  split3_test_score  split4_test_score  \\\n",
       "0           0.804757  ...            0.78408           0.783181   \n",
       "1           0.804757  ...            0.78408           0.783181   \n",
       "2           0.804757  ...            0.78408           0.783181   \n",
       "3           0.804757  ...            0.78408           0.783181   \n",
       "4           0.804757  ...            0.78408           0.783181   \n",
       "\n",
       "   split5_test_score  split6_test_score  split7_test_score  split8_test_score  \\\n",
       "0           0.797809           0.762866           0.781818            0.77551   \n",
       "1           0.797809           0.762866           0.781818            0.77551   \n",
       "2           0.797809           0.762866           0.781818            0.77551   \n",
       "3           0.797809           0.762866           0.781818            0.77551   \n",
       "4           0.797809           0.762866           0.781818            0.77551   \n",
       "\n",
       "   split9_test_score  mean_test_score  std_test_score  rank_test_score  \n",
       "0           0.790262         0.786726        0.011361                1  \n",
       "1           0.790262         0.786726        0.011361                1  \n",
       "2           0.790262         0.786726        0.011361                1  \n",
       "3           0.790262         0.786726        0.011361                1  \n",
       "4           0.790262         0.786726        0.011361                1  \n",
       "\n",
       "[5 rows x 22 columns]"
      ],
      "text/html": [
       "<div>\n",
       "<style scoped>\n",
       "    .dataframe tbody tr th:only-of-type {\n",
       "        vertical-align: middle;\n",
       "    }\n",
       "\n",
       "    .dataframe tbody tr th {\n",
       "        vertical-align: top;\n",
       "    }\n",
       "\n",
       "    .dataframe thead th {\n",
       "        text-align: right;\n",
       "    }\n",
       "</style>\n",
       "<table border=\"1\" class=\"dataframe\">\n",
       "  <thead>\n",
       "    <tr style=\"text-align: right;\">\n",
       "      <th></th>\n",
       "      <th>mean_fit_time</th>\n",
       "      <th>std_fit_time</th>\n",
       "      <th>mean_score_time</th>\n",
       "      <th>std_score_time</th>\n",
       "      <th>param_criterion</th>\n",
       "      <th>param_max_depth</th>\n",
       "      <th>param_min_samples_leaf</th>\n",
       "      <th>param_min_samples_split</th>\n",
       "      <th>params</th>\n",
       "      <th>split0_test_score</th>\n",
       "      <th>...</th>\n",
       "      <th>split3_test_score</th>\n",
       "      <th>split4_test_score</th>\n",
       "      <th>split5_test_score</th>\n",
       "      <th>split6_test_score</th>\n",
       "      <th>split7_test_score</th>\n",
       "      <th>split8_test_score</th>\n",
       "      <th>split9_test_score</th>\n",
       "      <th>mean_test_score</th>\n",
       "      <th>std_test_score</th>\n",
       "      <th>rank_test_score</th>\n",
       "    </tr>\n",
       "  </thead>\n",
       "  <tbody>\n",
       "    <tr>\n",
       "      <th>0</th>\n",
       "      <td>0.012555</td>\n",
       "      <td>0.002878</td>\n",
       "      <td>0.001949</td>\n",
       "      <td>0.000512</td>\n",
       "      <td>gini</td>\n",
       "      <td>3</td>\n",
       "      <td>32</td>\n",
       "      <td>32</td>\n",
       "      <td>{'criterion': 'gini', 'max_depth': 3, 'min_sam...</td>\n",
       "      <td>0.804757</td>\n",
       "      <td>...</td>\n",
       "      <td>0.78408</td>\n",
       "      <td>0.783181</td>\n",
       "      <td>0.797809</td>\n",
       "      <td>0.762866</td>\n",
       "      <td>0.781818</td>\n",
       "      <td>0.77551</td>\n",
       "      <td>0.790262</td>\n",
       "      <td>0.786726</td>\n",
       "      <td>0.011361</td>\n",
       "      <td>1</td>\n",
       "    </tr>\n",
       "    <tr>\n",
       "      <th>1</th>\n",
       "      <td>0.009180</td>\n",
       "      <td>0.000453</td>\n",
       "      <td>0.001633</td>\n",
       "      <td>0.000106</td>\n",
       "      <td>gini</td>\n",
       "      <td>3</td>\n",
       "      <td>32</td>\n",
       "      <td>64</td>\n",
       "      <td>{'criterion': 'gini', 'max_depth': 3, 'min_sam...</td>\n",
       "      <td>0.804757</td>\n",
       "      <td>...</td>\n",
       "      <td>0.78408</td>\n",
       "      <td>0.783181</td>\n",
       "      <td>0.797809</td>\n",
       "      <td>0.762866</td>\n",
       "      <td>0.781818</td>\n",
       "      <td>0.77551</td>\n",
       "      <td>0.790262</td>\n",
       "      <td>0.786726</td>\n",
       "      <td>0.011361</td>\n",
       "      <td>1</td>\n",
       "    </tr>\n",
       "    <tr>\n",
       "      <th>2</th>\n",
       "      <td>0.008869</td>\n",
       "      <td>0.000385</td>\n",
       "      <td>0.001562</td>\n",
       "      <td>0.000137</td>\n",
       "      <td>gini</td>\n",
       "      <td>3</td>\n",
       "      <td>32</td>\n",
       "      <td>128</td>\n",
       "      <td>{'criterion': 'gini', 'max_depth': 3, 'min_sam...</td>\n",
       "      <td>0.804757</td>\n",
       "      <td>...</td>\n",
       "      <td>0.78408</td>\n",
       "      <td>0.783181</td>\n",
       "      <td>0.797809</td>\n",
       "      <td>0.762866</td>\n",
       "      <td>0.781818</td>\n",
       "      <td>0.77551</td>\n",
       "      <td>0.790262</td>\n",
       "      <td>0.786726</td>\n",
       "      <td>0.011361</td>\n",
       "      <td>1</td>\n",
       "    </tr>\n",
       "    <tr>\n",
       "      <th>3</th>\n",
       "      <td>0.009253</td>\n",
       "      <td>0.000571</td>\n",
       "      <td>0.001584</td>\n",
       "      <td>0.000136</td>\n",
       "      <td>gini</td>\n",
       "      <td>3</td>\n",
       "      <td>64</td>\n",
       "      <td>32</td>\n",
       "      <td>{'criterion': 'gini', 'max_depth': 3, 'min_sam...</td>\n",
       "      <td>0.804757</td>\n",
       "      <td>...</td>\n",
       "      <td>0.78408</td>\n",
       "      <td>0.783181</td>\n",
       "      <td>0.797809</td>\n",
       "      <td>0.762866</td>\n",
       "      <td>0.781818</td>\n",
       "      <td>0.77551</td>\n",
       "      <td>0.790262</td>\n",
       "      <td>0.786726</td>\n",
       "      <td>0.011361</td>\n",
       "      <td>1</td>\n",
       "    </tr>\n",
       "    <tr>\n",
       "      <th>4</th>\n",
       "      <td>0.008823</td>\n",
       "      <td>0.000402</td>\n",
       "      <td>0.001550</td>\n",
       "      <td>0.000131</td>\n",
       "      <td>gini</td>\n",
       "      <td>3</td>\n",
       "      <td>64</td>\n",
       "      <td>64</td>\n",
       "      <td>{'criterion': 'gini', 'max_depth': 3, 'min_sam...</td>\n",
       "      <td>0.804757</td>\n",
       "      <td>...</td>\n",
       "      <td>0.78408</td>\n",
       "      <td>0.783181</td>\n",
       "      <td>0.797809</td>\n",
       "      <td>0.762866</td>\n",
       "      <td>0.781818</td>\n",
       "      <td>0.77551</td>\n",
       "      <td>0.790262</td>\n",
       "      <td>0.786726</td>\n",
       "      <td>0.011361</td>\n",
       "      <td>1</td>\n",
       "    </tr>\n",
       "  </tbody>\n",
       "</table>\n",
       "<p>5 rows × 22 columns</p>\n",
       "</div>"
      ]
     },
     "metadata": {},
     "execution_count": 40
    }
   ],
   "metadata": {}
  },
  {
   "cell_type": "code",
   "execution_count": 42,
   "source": [
    "print(busca.best_params_)\n",
    "print(busca.best_score_ * 100)\n"
   ],
   "outputs": [
    {
     "output_type": "stream",
     "name": "stdout",
     "text": [
      "{'criterion': 'gini', 'max_depth': 3, 'min_samples_leaf': 32, 'min_samples_split': 32}\n",
      "78.67263337284332\n"
     ]
    }
   ],
   "metadata": {}
  },
  {
   "cell_type": "code",
   "execution_count": 43,
   "source": [
    "melhor = busca.best_estimator_\n",
    "melhor"
   ],
   "outputs": [
    {
     "output_type": "execute_result",
     "data": {
      "text/plain": [
       "DecisionTreeClassifier(max_depth=3, min_samples_leaf=32, min_samples_split=32)"
      ]
     },
     "metadata": {},
     "execution_count": 43
    }
   ],
   "metadata": {}
  },
  {
   "cell_type": "code",
   "execution_count": 46,
   "source": [
    "from sklearn.metrics import accuracy_score\n",
    "\n",
    "# evitar essa abordagem pois estará sendo otimista\n",
    "\n",
    "predicoes = melhor.predict(x_azar)\n",
    "accuracy = accuracy_score(predicoes, y_azar) * 100\n",
    "print(\"Acurracy para os dados foi %.2f%%\" % accuracy)"
   ],
   "outputs": [
    {
     "output_type": "stream",
     "name": "stdout",
     "text": [
      "Acurracy para os dados foi 78.75%\n"
     ]
    }
   ],
   "metadata": {}
  },
  {
   "cell_type": "markdown",
   "source": [
    "# <font color='blue'> Nest cross validation e validando o modelo escolhido </font>"
   ],
   "metadata": {}
  },
  {
   "cell_type": "markdown",
   "source": [
    "## <font color='blue'>Nested cross validation e validando o melhor modelo</font>"
   ],
   "metadata": {}
  },
  {
   "cell_type": "markdown",
   "source": [
    "### Como ter uma estimativa sem esse vício nos dados que já vi???\n",
    "\n",
    "#### No caso de cross validation com busca de hiper parâmetros, fazemos uma nova validação cruzada. Chama-se nested cross validation\n",
    "\n",
    "##### O Nested cross validation é utilizado quando precisamos buscar hiperâmetros para fazer uma nova validação. "
   ],
   "metadata": {}
  },
  {
   "cell_type": "code",
   "execution_count": 47,
   "source": [
    "from sklearn.model_selection import cross_val_score\n",
    "\n",
    "scores = cross_val_score(busca, x_azar, y_azar, cv= GroupKFold(n_splits=10), groups= dados.modelo)"
   ],
   "outputs": [
    {
     "output_type": "stream",
     "name": "stderr",
     "text": [
      "/Users/antonio/opt/anaconda3/envs/Alura/lib/python3.8/site-packages/sklearn/model_selection/_validation.py:615: FitFailedWarning: Estimator fit failed. The score on this train-test partition for these parameters will be set to nan. Details: \n",
      "Traceback (most recent call last):\n",
      "  File \"/Users/antonio/opt/anaconda3/envs/Alura/lib/python3.8/site-packages/sklearn/model_selection/_validation.py\", line 598, in _fit_and_score\n",
      "    estimator.fit(X_train, y_train, **fit_params)\n",
      "  File \"/Users/antonio/opt/anaconda3/envs/Alura/lib/python3.8/site-packages/sklearn/utils/validation.py\", line 63, in inner_f\n",
      "    return f(*args, **kwargs)\n",
      "  File \"/Users/antonio/opt/anaconda3/envs/Alura/lib/python3.8/site-packages/sklearn/model_selection/_search.py\", line 841, in fit\n",
      "    self._run_search(evaluate_candidates)\n",
      "  File \"/Users/antonio/opt/anaconda3/envs/Alura/lib/python3.8/site-packages/sklearn/model_selection/_search.py\", line 1296, in _run_search\n",
      "    evaluate_candidates(ParameterGrid(self.param_grid))\n",
      "  File \"/Users/antonio/opt/anaconda3/envs/Alura/lib/python3.8/site-packages/sklearn/model_selection/_search.py\", line 807, in evaluate_candidates\n",
      "    (split_idx, (train, test)) in product(\n",
      "  File \"/Users/antonio/opt/anaconda3/envs/Alura/lib/python3.8/site-packages/sklearn/model_selection/_split.py\", line 332, in split\n",
      "    for train, test in super().split(X, y, groups):\n",
      "  File \"/Users/antonio/opt/anaconda3/envs/Alura/lib/python3.8/site-packages/sklearn/model_selection/_split.py\", line 80, in split\n",
      "    for test_index in self._iter_test_masks(X, y, groups):\n",
      "  File \"/Users/antonio/opt/anaconda3/envs/Alura/lib/python3.8/site-packages/sklearn/model_selection/_split.py\", line 92, in _iter_test_masks\n",
      "    for test_index in self._iter_test_indices(X, y, groups):\n",
      "  File \"/Users/antonio/opt/anaconda3/envs/Alura/lib/python3.8/site-packages/sklearn/model_selection/_split.py\", line 503, in _iter_test_indices\n",
      "    raise ValueError(\"The 'groups' parameter should not be None.\")\n",
      "ValueError: The 'groups' parameter should not be None.\n",
      "\n",
      "  warnings.warn(\"Estimator fit failed. The score on this train-test\"\n",
      "/Users/antonio/opt/anaconda3/envs/Alura/lib/python3.8/site-packages/sklearn/model_selection/_validation.py:615: FitFailedWarning: Estimator fit failed. The score on this train-test partition for these parameters will be set to nan. Details: \n",
      "Traceback (most recent call last):\n",
      "  File \"/Users/antonio/opt/anaconda3/envs/Alura/lib/python3.8/site-packages/sklearn/model_selection/_validation.py\", line 598, in _fit_and_score\n",
      "    estimator.fit(X_train, y_train, **fit_params)\n",
      "  File \"/Users/antonio/opt/anaconda3/envs/Alura/lib/python3.8/site-packages/sklearn/utils/validation.py\", line 63, in inner_f\n",
      "    return f(*args, **kwargs)\n",
      "  File \"/Users/antonio/opt/anaconda3/envs/Alura/lib/python3.8/site-packages/sklearn/model_selection/_search.py\", line 841, in fit\n",
      "    self._run_search(evaluate_candidates)\n",
      "  File \"/Users/antonio/opt/anaconda3/envs/Alura/lib/python3.8/site-packages/sklearn/model_selection/_search.py\", line 1296, in _run_search\n",
      "    evaluate_candidates(ParameterGrid(self.param_grid))\n",
      "  File \"/Users/antonio/opt/anaconda3/envs/Alura/lib/python3.8/site-packages/sklearn/model_selection/_search.py\", line 807, in evaluate_candidates\n",
      "    (split_idx, (train, test)) in product(\n",
      "  File \"/Users/antonio/opt/anaconda3/envs/Alura/lib/python3.8/site-packages/sklearn/model_selection/_split.py\", line 332, in split\n",
      "    for train, test in super().split(X, y, groups):\n",
      "  File \"/Users/antonio/opt/anaconda3/envs/Alura/lib/python3.8/site-packages/sklearn/model_selection/_split.py\", line 80, in split\n",
      "    for test_index in self._iter_test_masks(X, y, groups):\n",
      "  File \"/Users/antonio/opt/anaconda3/envs/Alura/lib/python3.8/site-packages/sklearn/model_selection/_split.py\", line 92, in _iter_test_masks\n",
      "    for test_index in self._iter_test_indices(X, y, groups):\n",
      "  File \"/Users/antonio/opt/anaconda3/envs/Alura/lib/python3.8/site-packages/sklearn/model_selection/_split.py\", line 503, in _iter_test_indices\n",
      "    raise ValueError(\"The 'groups' parameter should not be None.\")\n",
      "ValueError: The 'groups' parameter should not be None.\n",
      "\n",
      "  warnings.warn(\"Estimator fit failed. The score on this train-test\"\n",
      "/Users/antonio/opt/anaconda3/envs/Alura/lib/python3.8/site-packages/sklearn/model_selection/_validation.py:615: FitFailedWarning: Estimator fit failed. The score on this train-test partition for these parameters will be set to nan. Details: \n",
      "Traceback (most recent call last):\n",
      "  File \"/Users/antonio/opt/anaconda3/envs/Alura/lib/python3.8/site-packages/sklearn/model_selection/_validation.py\", line 598, in _fit_and_score\n",
      "    estimator.fit(X_train, y_train, **fit_params)\n",
      "  File \"/Users/antonio/opt/anaconda3/envs/Alura/lib/python3.8/site-packages/sklearn/utils/validation.py\", line 63, in inner_f\n",
      "    return f(*args, **kwargs)\n",
      "  File \"/Users/antonio/opt/anaconda3/envs/Alura/lib/python3.8/site-packages/sklearn/model_selection/_search.py\", line 841, in fit\n",
      "    self._run_search(evaluate_candidates)\n",
      "  File \"/Users/antonio/opt/anaconda3/envs/Alura/lib/python3.8/site-packages/sklearn/model_selection/_search.py\", line 1296, in _run_search\n",
      "    evaluate_candidates(ParameterGrid(self.param_grid))\n",
      "  File \"/Users/antonio/opt/anaconda3/envs/Alura/lib/python3.8/site-packages/sklearn/model_selection/_search.py\", line 807, in evaluate_candidates\n",
      "    (split_idx, (train, test)) in product(\n",
      "  File \"/Users/antonio/opt/anaconda3/envs/Alura/lib/python3.8/site-packages/sklearn/model_selection/_split.py\", line 332, in split\n",
      "    for train, test in super().split(X, y, groups):\n",
      "  File \"/Users/antonio/opt/anaconda3/envs/Alura/lib/python3.8/site-packages/sklearn/model_selection/_split.py\", line 80, in split\n",
      "    for test_index in self._iter_test_masks(X, y, groups):\n",
      "  File \"/Users/antonio/opt/anaconda3/envs/Alura/lib/python3.8/site-packages/sklearn/model_selection/_split.py\", line 92, in _iter_test_masks\n",
      "    for test_index in self._iter_test_indices(X, y, groups):\n",
      "  File \"/Users/antonio/opt/anaconda3/envs/Alura/lib/python3.8/site-packages/sklearn/model_selection/_split.py\", line 503, in _iter_test_indices\n",
      "    raise ValueError(\"The 'groups' parameter should not be None.\")\n",
      "ValueError: The 'groups' parameter should not be None.\n",
      "\n",
      "  warnings.warn(\"Estimator fit failed. The score on this train-test\"\n",
      "/Users/antonio/opt/anaconda3/envs/Alura/lib/python3.8/site-packages/sklearn/model_selection/_validation.py:615: FitFailedWarning: Estimator fit failed. The score on this train-test partition for these parameters will be set to nan. Details: \n",
      "Traceback (most recent call last):\n",
      "  File \"/Users/antonio/opt/anaconda3/envs/Alura/lib/python3.8/site-packages/sklearn/model_selection/_validation.py\", line 598, in _fit_and_score\n",
      "    estimator.fit(X_train, y_train, **fit_params)\n",
      "  File \"/Users/antonio/opt/anaconda3/envs/Alura/lib/python3.8/site-packages/sklearn/utils/validation.py\", line 63, in inner_f\n",
      "    return f(*args, **kwargs)\n",
      "  File \"/Users/antonio/opt/anaconda3/envs/Alura/lib/python3.8/site-packages/sklearn/model_selection/_search.py\", line 841, in fit\n",
      "    self._run_search(evaluate_candidates)\n",
      "  File \"/Users/antonio/opt/anaconda3/envs/Alura/lib/python3.8/site-packages/sklearn/model_selection/_search.py\", line 1296, in _run_search\n",
      "    evaluate_candidates(ParameterGrid(self.param_grid))\n",
      "  File \"/Users/antonio/opt/anaconda3/envs/Alura/lib/python3.8/site-packages/sklearn/model_selection/_search.py\", line 807, in evaluate_candidates\n",
      "    (split_idx, (train, test)) in product(\n",
      "  File \"/Users/antonio/opt/anaconda3/envs/Alura/lib/python3.8/site-packages/sklearn/model_selection/_split.py\", line 332, in split\n",
      "    for train, test in super().split(X, y, groups):\n",
      "  File \"/Users/antonio/opt/anaconda3/envs/Alura/lib/python3.8/site-packages/sklearn/model_selection/_split.py\", line 80, in split\n",
      "    for test_index in self._iter_test_masks(X, y, groups):\n",
      "  File \"/Users/antonio/opt/anaconda3/envs/Alura/lib/python3.8/site-packages/sklearn/model_selection/_split.py\", line 92, in _iter_test_masks\n",
      "    for test_index in self._iter_test_indices(X, y, groups):\n",
      "  File \"/Users/antonio/opt/anaconda3/envs/Alura/lib/python3.8/site-packages/sklearn/model_selection/_split.py\", line 503, in _iter_test_indices\n",
      "    raise ValueError(\"The 'groups' parameter should not be None.\")\n",
      "ValueError: The 'groups' parameter should not be None.\n",
      "\n",
      "  warnings.warn(\"Estimator fit failed. The score on this train-test\"\n",
      "/Users/antonio/opt/anaconda3/envs/Alura/lib/python3.8/site-packages/sklearn/model_selection/_validation.py:615: FitFailedWarning: Estimator fit failed. The score on this train-test partition for these parameters will be set to nan. Details: \n",
      "Traceback (most recent call last):\n",
      "  File \"/Users/antonio/opt/anaconda3/envs/Alura/lib/python3.8/site-packages/sklearn/model_selection/_validation.py\", line 598, in _fit_and_score\n",
      "    estimator.fit(X_train, y_train, **fit_params)\n",
      "  File \"/Users/antonio/opt/anaconda3/envs/Alura/lib/python3.8/site-packages/sklearn/utils/validation.py\", line 63, in inner_f\n",
      "    return f(*args, **kwargs)\n",
      "  File \"/Users/antonio/opt/anaconda3/envs/Alura/lib/python3.8/site-packages/sklearn/model_selection/_search.py\", line 841, in fit\n",
      "    self._run_search(evaluate_candidates)\n",
      "  File \"/Users/antonio/opt/anaconda3/envs/Alura/lib/python3.8/site-packages/sklearn/model_selection/_search.py\", line 1296, in _run_search\n",
      "    evaluate_candidates(ParameterGrid(self.param_grid))\n",
      "  File \"/Users/antonio/opt/anaconda3/envs/Alura/lib/python3.8/site-packages/sklearn/model_selection/_search.py\", line 807, in evaluate_candidates\n",
      "    (split_idx, (train, test)) in product(\n",
      "  File \"/Users/antonio/opt/anaconda3/envs/Alura/lib/python3.8/site-packages/sklearn/model_selection/_split.py\", line 332, in split\n",
      "    for train, test in super().split(X, y, groups):\n",
      "  File \"/Users/antonio/opt/anaconda3/envs/Alura/lib/python3.8/site-packages/sklearn/model_selection/_split.py\", line 80, in split\n",
      "    for test_index in self._iter_test_masks(X, y, groups):\n",
      "  File \"/Users/antonio/opt/anaconda3/envs/Alura/lib/python3.8/site-packages/sklearn/model_selection/_split.py\", line 92, in _iter_test_masks\n",
      "    for test_index in self._iter_test_indices(X, y, groups):\n",
      "  File \"/Users/antonio/opt/anaconda3/envs/Alura/lib/python3.8/site-packages/sklearn/model_selection/_split.py\", line 503, in _iter_test_indices\n",
      "    raise ValueError(\"The 'groups' parameter should not be None.\")\n",
      "ValueError: The 'groups' parameter should not be None.\n",
      "\n",
      "  warnings.warn(\"Estimator fit failed. The score on this train-test\"\n",
      "/Users/antonio/opt/anaconda3/envs/Alura/lib/python3.8/site-packages/sklearn/model_selection/_validation.py:615: FitFailedWarning: Estimator fit failed. The score on this train-test partition for these parameters will be set to nan. Details: \n",
      "Traceback (most recent call last):\n",
      "  File \"/Users/antonio/opt/anaconda3/envs/Alura/lib/python3.8/site-packages/sklearn/model_selection/_validation.py\", line 598, in _fit_and_score\n",
      "    estimator.fit(X_train, y_train, **fit_params)\n",
      "  File \"/Users/antonio/opt/anaconda3/envs/Alura/lib/python3.8/site-packages/sklearn/utils/validation.py\", line 63, in inner_f\n",
      "    return f(*args, **kwargs)\n",
      "  File \"/Users/antonio/opt/anaconda3/envs/Alura/lib/python3.8/site-packages/sklearn/model_selection/_search.py\", line 841, in fit\n",
      "    self._run_search(evaluate_candidates)\n",
      "  File \"/Users/antonio/opt/anaconda3/envs/Alura/lib/python3.8/site-packages/sklearn/model_selection/_search.py\", line 1296, in _run_search\n",
      "    evaluate_candidates(ParameterGrid(self.param_grid))\n",
      "  File \"/Users/antonio/opt/anaconda3/envs/Alura/lib/python3.8/site-packages/sklearn/model_selection/_search.py\", line 807, in evaluate_candidates\n",
      "    (split_idx, (train, test)) in product(\n",
      "  File \"/Users/antonio/opt/anaconda3/envs/Alura/lib/python3.8/site-packages/sklearn/model_selection/_split.py\", line 332, in split\n",
      "    for train, test in super().split(X, y, groups):\n",
      "  File \"/Users/antonio/opt/anaconda3/envs/Alura/lib/python3.8/site-packages/sklearn/model_selection/_split.py\", line 80, in split\n",
      "    for test_index in self._iter_test_masks(X, y, groups):\n",
      "  File \"/Users/antonio/opt/anaconda3/envs/Alura/lib/python3.8/site-packages/sklearn/model_selection/_split.py\", line 92, in _iter_test_masks\n",
      "    for test_index in self._iter_test_indices(X, y, groups):\n",
      "  File \"/Users/antonio/opt/anaconda3/envs/Alura/lib/python3.8/site-packages/sklearn/model_selection/_split.py\", line 503, in _iter_test_indices\n",
      "    raise ValueError(\"The 'groups' parameter should not be None.\")\n",
      "ValueError: The 'groups' parameter should not be None.\n",
      "\n",
      "  warnings.warn(\"Estimator fit failed. The score on this train-test\"\n",
      "/Users/antonio/opt/anaconda3/envs/Alura/lib/python3.8/site-packages/sklearn/model_selection/_validation.py:615: FitFailedWarning: Estimator fit failed. The score on this train-test partition for these parameters will be set to nan. Details: \n",
      "Traceback (most recent call last):\n",
      "  File \"/Users/antonio/opt/anaconda3/envs/Alura/lib/python3.8/site-packages/sklearn/model_selection/_validation.py\", line 598, in _fit_and_score\n",
      "    estimator.fit(X_train, y_train, **fit_params)\n",
      "  File \"/Users/antonio/opt/anaconda3/envs/Alura/lib/python3.8/site-packages/sklearn/utils/validation.py\", line 63, in inner_f\n",
      "    return f(*args, **kwargs)\n",
      "  File \"/Users/antonio/opt/anaconda3/envs/Alura/lib/python3.8/site-packages/sklearn/model_selection/_search.py\", line 841, in fit\n",
      "    self._run_search(evaluate_candidates)\n",
      "  File \"/Users/antonio/opt/anaconda3/envs/Alura/lib/python3.8/site-packages/sklearn/model_selection/_search.py\", line 1296, in _run_search\n",
      "    evaluate_candidates(ParameterGrid(self.param_grid))\n",
      "  File \"/Users/antonio/opt/anaconda3/envs/Alura/lib/python3.8/site-packages/sklearn/model_selection/_search.py\", line 807, in evaluate_candidates\n",
      "    (split_idx, (train, test)) in product(\n",
      "  File \"/Users/antonio/opt/anaconda3/envs/Alura/lib/python3.8/site-packages/sklearn/model_selection/_split.py\", line 332, in split\n",
      "    for train, test in super().split(X, y, groups):\n",
      "  File \"/Users/antonio/opt/anaconda3/envs/Alura/lib/python3.8/site-packages/sklearn/model_selection/_split.py\", line 80, in split\n",
      "    for test_index in self._iter_test_masks(X, y, groups):\n",
      "  File \"/Users/antonio/opt/anaconda3/envs/Alura/lib/python3.8/site-packages/sklearn/model_selection/_split.py\", line 92, in _iter_test_masks\n",
      "    for test_index in self._iter_test_indices(X, y, groups):\n",
      "  File \"/Users/antonio/opt/anaconda3/envs/Alura/lib/python3.8/site-packages/sklearn/model_selection/_split.py\", line 503, in _iter_test_indices\n",
      "    raise ValueError(\"The 'groups' parameter should not be None.\")\n",
      "ValueError: The 'groups' parameter should not be None.\n",
      "\n",
      "  warnings.warn(\"Estimator fit failed. The score on this train-test\"\n",
      "/Users/antonio/opt/anaconda3/envs/Alura/lib/python3.8/site-packages/sklearn/model_selection/_validation.py:615: FitFailedWarning: Estimator fit failed. The score on this train-test partition for these parameters will be set to nan. Details: \n",
      "Traceback (most recent call last):\n",
      "  File \"/Users/antonio/opt/anaconda3/envs/Alura/lib/python3.8/site-packages/sklearn/model_selection/_validation.py\", line 598, in _fit_and_score\n",
      "    estimator.fit(X_train, y_train, **fit_params)\n",
      "  File \"/Users/antonio/opt/anaconda3/envs/Alura/lib/python3.8/site-packages/sklearn/utils/validation.py\", line 63, in inner_f\n",
      "    return f(*args, **kwargs)\n",
      "  File \"/Users/antonio/opt/anaconda3/envs/Alura/lib/python3.8/site-packages/sklearn/model_selection/_search.py\", line 841, in fit\n",
      "    self._run_search(evaluate_candidates)\n",
      "  File \"/Users/antonio/opt/anaconda3/envs/Alura/lib/python3.8/site-packages/sklearn/model_selection/_search.py\", line 1296, in _run_search\n",
      "    evaluate_candidates(ParameterGrid(self.param_grid))\n",
      "  File \"/Users/antonio/opt/anaconda3/envs/Alura/lib/python3.8/site-packages/sklearn/model_selection/_search.py\", line 807, in evaluate_candidates\n",
      "    (split_idx, (train, test)) in product(\n",
      "  File \"/Users/antonio/opt/anaconda3/envs/Alura/lib/python3.8/site-packages/sklearn/model_selection/_split.py\", line 332, in split\n",
      "    for train, test in super().split(X, y, groups):\n",
      "  File \"/Users/antonio/opt/anaconda3/envs/Alura/lib/python3.8/site-packages/sklearn/model_selection/_split.py\", line 80, in split\n",
      "    for test_index in self._iter_test_masks(X, y, groups):\n",
      "  File \"/Users/antonio/opt/anaconda3/envs/Alura/lib/python3.8/site-packages/sklearn/model_selection/_split.py\", line 92, in _iter_test_masks\n",
      "    for test_index in self._iter_test_indices(X, y, groups):\n",
      "  File \"/Users/antonio/opt/anaconda3/envs/Alura/lib/python3.8/site-packages/sklearn/model_selection/_split.py\", line 503, in _iter_test_indices\n",
      "    raise ValueError(\"The 'groups' parameter should not be None.\")\n",
      "ValueError: The 'groups' parameter should not be None.\n",
      "\n",
      "  warnings.warn(\"Estimator fit failed. The score on this train-test\"\n",
      "/Users/antonio/opt/anaconda3/envs/Alura/lib/python3.8/site-packages/sklearn/model_selection/_validation.py:615: FitFailedWarning: Estimator fit failed. The score on this train-test partition for these parameters will be set to nan. Details: \n",
      "Traceback (most recent call last):\n",
      "  File \"/Users/antonio/opt/anaconda3/envs/Alura/lib/python3.8/site-packages/sklearn/model_selection/_validation.py\", line 598, in _fit_and_score\n",
      "    estimator.fit(X_train, y_train, **fit_params)\n",
      "  File \"/Users/antonio/opt/anaconda3/envs/Alura/lib/python3.8/site-packages/sklearn/utils/validation.py\", line 63, in inner_f\n",
      "    return f(*args, **kwargs)\n",
      "  File \"/Users/antonio/opt/anaconda3/envs/Alura/lib/python3.8/site-packages/sklearn/model_selection/_search.py\", line 841, in fit\n",
      "    self._run_search(evaluate_candidates)\n",
      "  File \"/Users/antonio/opt/anaconda3/envs/Alura/lib/python3.8/site-packages/sklearn/model_selection/_search.py\", line 1296, in _run_search\n",
      "    evaluate_candidates(ParameterGrid(self.param_grid))\n",
      "  File \"/Users/antonio/opt/anaconda3/envs/Alura/lib/python3.8/site-packages/sklearn/model_selection/_search.py\", line 807, in evaluate_candidates\n",
      "    (split_idx, (train, test)) in product(\n",
      "  File \"/Users/antonio/opt/anaconda3/envs/Alura/lib/python3.8/site-packages/sklearn/model_selection/_split.py\", line 332, in split\n",
      "    for train, test in super().split(X, y, groups):\n",
      "  File \"/Users/antonio/opt/anaconda3/envs/Alura/lib/python3.8/site-packages/sklearn/model_selection/_split.py\", line 80, in split\n",
      "    for test_index in self._iter_test_masks(X, y, groups):\n",
      "  File \"/Users/antonio/opt/anaconda3/envs/Alura/lib/python3.8/site-packages/sklearn/model_selection/_split.py\", line 92, in _iter_test_masks\n",
      "    for test_index in self._iter_test_indices(X, y, groups):\n",
      "  File \"/Users/antonio/opt/anaconda3/envs/Alura/lib/python3.8/site-packages/sklearn/model_selection/_split.py\", line 503, in _iter_test_indices\n",
      "    raise ValueError(\"The 'groups' parameter should not be None.\")\n",
      "ValueError: The 'groups' parameter should not be None.\n",
      "\n",
      "  warnings.warn(\"Estimator fit failed. The score on this train-test\"\n",
      "/Users/antonio/opt/anaconda3/envs/Alura/lib/python3.8/site-packages/sklearn/model_selection/_validation.py:615: FitFailedWarning: Estimator fit failed. The score on this train-test partition for these parameters will be set to nan. Details: \n",
      "Traceback (most recent call last):\n",
      "  File \"/Users/antonio/opt/anaconda3/envs/Alura/lib/python3.8/site-packages/sklearn/model_selection/_validation.py\", line 598, in _fit_and_score\n",
      "    estimator.fit(X_train, y_train, **fit_params)\n",
      "  File \"/Users/antonio/opt/anaconda3/envs/Alura/lib/python3.8/site-packages/sklearn/utils/validation.py\", line 63, in inner_f\n",
      "    return f(*args, **kwargs)\n",
      "  File \"/Users/antonio/opt/anaconda3/envs/Alura/lib/python3.8/site-packages/sklearn/model_selection/_search.py\", line 841, in fit\n",
      "    self._run_search(evaluate_candidates)\n",
      "  File \"/Users/antonio/opt/anaconda3/envs/Alura/lib/python3.8/site-packages/sklearn/model_selection/_search.py\", line 1296, in _run_search\n",
      "    evaluate_candidates(ParameterGrid(self.param_grid))\n",
      "  File \"/Users/antonio/opt/anaconda3/envs/Alura/lib/python3.8/site-packages/sklearn/model_selection/_search.py\", line 807, in evaluate_candidates\n",
      "    (split_idx, (train, test)) in product(\n",
      "  File \"/Users/antonio/opt/anaconda3/envs/Alura/lib/python3.8/site-packages/sklearn/model_selection/_split.py\", line 332, in split\n",
      "    for train, test in super().split(X, y, groups):\n",
      "  File \"/Users/antonio/opt/anaconda3/envs/Alura/lib/python3.8/site-packages/sklearn/model_selection/_split.py\", line 80, in split\n",
      "    for test_index in self._iter_test_masks(X, y, groups):\n",
      "  File \"/Users/antonio/opt/anaconda3/envs/Alura/lib/python3.8/site-packages/sklearn/model_selection/_split.py\", line 92, in _iter_test_masks\n",
      "    for test_index in self._iter_test_indices(X, y, groups):\n",
      "  File \"/Users/antonio/opt/anaconda3/envs/Alura/lib/python3.8/site-packages/sklearn/model_selection/_split.py\", line 503, in _iter_test_indices\n",
      "    raise ValueError(\"The 'groups' parameter should not be None.\")\n",
      "ValueError: The 'groups' parameter should not be None.\n",
      "\n",
      "  warnings.warn(\"Estimator fit failed. The score on this train-test\"\n"
     ]
    }
   ],
   "metadata": {}
  },
  {
   "cell_type": "markdown",
   "source": [
    "### Infelizmente como o Pandas não suporta nested validation com group k fold não conseguimos prever o resultado para novos grupos"
   ],
   "metadata": {}
  },
  {
   "cell_type": "code",
   "execution_count": 49,
   "source": [
    "from sklearn.model_selection import GridSearchCV, KFold\n",
    "\n",
    "\n",
    "SEED = 301\n",
    "np.random.seed(SEED)\n",
    "\n",
    "espaco_de_parametros = {\n",
    "    \"max_depth\" : [3, 5],\n",
    "    \"min_samples_split\" : [32, 64, 128],\n",
    "    \"min_samples_leaf\" : [32, 64, 128],\n",
    "    \"criterion\" : [\"gini\", \"entropy\"]\n",
    "}\n",
    "\n",
    "busca = GridSearchCV(DecisionTreeClassifier(), \n",
    "                    espaco_de_parametros, \n",
    "                    cv = KFold(n_splits = 5, shuffle= True))\n",
    "busca.fit(x_azar, y_azar)\n",
    "resultados = pd.DataFrame(busca.cv_results_)\n",
    "resultados.head()"
   ],
   "outputs": [
    {
     "output_type": "execute_result",
     "data": {
      "text/plain": [
       "   mean_fit_time  std_fit_time  mean_score_time  std_score_time  \\\n",
       "0       0.018360      0.008214         0.002382        0.000386   \n",
       "1       0.010451      0.002697         0.002066        0.000212   \n",
       "2       0.008032      0.000319         0.001735        0.000317   \n",
       "3       0.007651      0.000333         0.001677        0.000137   \n",
       "4       0.007979      0.000817         0.001668        0.000232   \n",
       "\n",
       "  param_criterion param_max_depth param_min_samples_leaf  \\\n",
       "0            gini               3                     32   \n",
       "1            gini               3                     32   \n",
       "2            gini               3                     32   \n",
       "3            gini               3                     64   \n",
       "4            gini               3                     64   \n",
       "\n",
       "  param_min_samples_split                                             params  \\\n",
       "0                      32  {'criterion': 'gini', 'max_depth': 3, 'min_sam...   \n",
       "1                      64  {'criterion': 'gini', 'max_depth': 3, 'min_sam...   \n",
       "2                     128  {'criterion': 'gini', 'max_depth': 3, 'min_sam...   \n",
       "3                      32  {'criterion': 'gini', 'max_depth': 3, 'min_sam...   \n",
       "4                      64  {'criterion': 'gini', 'max_depth': 3, 'min_sam...   \n",
       "\n",
       "   split0_test_score  split1_test_score  split2_test_score  split3_test_score  \\\n",
       "0              0.784              0.776             0.8025              0.793   \n",
       "1              0.784              0.776             0.8025              0.793   \n",
       "2              0.784              0.776             0.8025              0.793   \n",
       "3              0.784              0.776             0.8025              0.793   \n",
       "4              0.784              0.776             0.8025              0.793   \n",
       "\n",
       "   split4_test_score  mean_test_score  std_test_score  rank_test_score  \n",
       "0             0.7795            0.787        0.009618                1  \n",
       "1             0.7795            0.787        0.009618                1  \n",
       "2             0.7795            0.787        0.009618                1  \n",
       "3             0.7795            0.787        0.009618                1  \n",
       "4             0.7795            0.787        0.009618                1  "
      ],
      "text/html": [
       "<div>\n",
       "<style scoped>\n",
       "    .dataframe tbody tr th:only-of-type {\n",
       "        vertical-align: middle;\n",
       "    }\n",
       "\n",
       "    .dataframe tbody tr th {\n",
       "        vertical-align: top;\n",
       "    }\n",
       "\n",
       "    .dataframe thead th {\n",
       "        text-align: right;\n",
       "    }\n",
       "</style>\n",
       "<table border=\"1\" class=\"dataframe\">\n",
       "  <thead>\n",
       "    <tr style=\"text-align: right;\">\n",
       "      <th></th>\n",
       "      <th>mean_fit_time</th>\n",
       "      <th>std_fit_time</th>\n",
       "      <th>mean_score_time</th>\n",
       "      <th>std_score_time</th>\n",
       "      <th>param_criterion</th>\n",
       "      <th>param_max_depth</th>\n",
       "      <th>param_min_samples_leaf</th>\n",
       "      <th>param_min_samples_split</th>\n",
       "      <th>params</th>\n",
       "      <th>split0_test_score</th>\n",
       "      <th>split1_test_score</th>\n",
       "      <th>split2_test_score</th>\n",
       "      <th>split3_test_score</th>\n",
       "      <th>split4_test_score</th>\n",
       "      <th>mean_test_score</th>\n",
       "      <th>std_test_score</th>\n",
       "      <th>rank_test_score</th>\n",
       "    </tr>\n",
       "  </thead>\n",
       "  <tbody>\n",
       "    <tr>\n",
       "      <th>0</th>\n",
       "      <td>0.018360</td>\n",
       "      <td>0.008214</td>\n",
       "      <td>0.002382</td>\n",
       "      <td>0.000386</td>\n",
       "      <td>gini</td>\n",
       "      <td>3</td>\n",
       "      <td>32</td>\n",
       "      <td>32</td>\n",
       "      <td>{'criterion': 'gini', 'max_depth': 3, 'min_sam...</td>\n",
       "      <td>0.784</td>\n",
       "      <td>0.776</td>\n",
       "      <td>0.8025</td>\n",
       "      <td>0.793</td>\n",
       "      <td>0.7795</td>\n",
       "      <td>0.787</td>\n",
       "      <td>0.009618</td>\n",
       "      <td>1</td>\n",
       "    </tr>\n",
       "    <tr>\n",
       "      <th>1</th>\n",
       "      <td>0.010451</td>\n",
       "      <td>0.002697</td>\n",
       "      <td>0.002066</td>\n",
       "      <td>0.000212</td>\n",
       "      <td>gini</td>\n",
       "      <td>3</td>\n",
       "      <td>32</td>\n",
       "      <td>64</td>\n",
       "      <td>{'criterion': 'gini', 'max_depth': 3, 'min_sam...</td>\n",
       "      <td>0.784</td>\n",
       "      <td>0.776</td>\n",
       "      <td>0.8025</td>\n",
       "      <td>0.793</td>\n",
       "      <td>0.7795</td>\n",
       "      <td>0.787</td>\n",
       "      <td>0.009618</td>\n",
       "      <td>1</td>\n",
       "    </tr>\n",
       "    <tr>\n",
       "      <th>2</th>\n",
       "      <td>0.008032</td>\n",
       "      <td>0.000319</td>\n",
       "      <td>0.001735</td>\n",
       "      <td>0.000317</td>\n",
       "      <td>gini</td>\n",
       "      <td>3</td>\n",
       "      <td>32</td>\n",
       "      <td>128</td>\n",
       "      <td>{'criterion': 'gini', 'max_depth': 3, 'min_sam...</td>\n",
       "      <td>0.784</td>\n",
       "      <td>0.776</td>\n",
       "      <td>0.8025</td>\n",
       "      <td>0.793</td>\n",
       "      <td>0.7795</td>\n",
       "      <td>0.787</td>\n",
       "      <td>0.009618</td>\n",
       "      <td>1</td>\n",
       "    </tr>\n",
       "    <tr>\n",
       "      <th>3</th>\n",
       "      <td>0.007651</td>\n",
       "      <td>0.000333</td>\n",
       "      <td>0.001677</td>\n",
       "      <td>0.000137</td>\n",
       "      <td>gini</td>\n",
       "      <td>3</td>\n",
       "      <td>64</td>\n",
       "      <td>32</td>\n",
       "      <td>{'criterion': 'gini', 'max_depth': 3, 'min_sam...</td>\n",
       "      <td>0.784</td>\n",
       "      <td>0.776</td>\n",
       "      <td>0.8025</td>\n",
       "      <td>0.793</td>\n",
       "      <td>0.7795</td>\n",
       "      <td>0.787</td>\n",
       "      <td>0.009618</td>\n",
       "      <td>1</td>\n",
       "    </tr>\n",
       "    <tr>\n",
       "      <th>4</th>\n",
       "      <td>0.007979</td>\n",
       "      <td>0.000817</td>\n",
       "      <td>0.001668</td>\n",
       "      <td>0.000232</td>\n",
       "      <td>gini</td>\n",
       "      <td>3</td>\n",
       "      <td>64</td>\n",
       "      <td>64</td>\n",
       "      <td>{'criterion': 'gini', 'max_depth': 3, 'min_sam...</td>\n",
       "      <td>0.784</td>\n",
       "      <td>0.776</td>\n",
       "      <td>0.8025</td>\n",
       "      <td>0.793</td>\n",
       "      <td>0.7795</td>\n",
       "      <td>0.787</td>\n",
       "      <td>0.009618</td>\n",
       "      <td>1</td>\n",
       "    </tr>\n",
       "  </tbody>\n",
       "</table>\n",
       "</div>"
      ]
     },
     "metadata": {},
     "execution_count": 49
    }
   ],
   "metadata": {}
  },
  {
   "cell_type": "code",
   "execution_count": 51,
   "source": [
    "from sklearn.model_selection import cross_val_score\n",
    "\n",
    "scores = cross_val_score(busca, x_azar, y_azar, cv= KFold(n_splits= 5, shuffle=True))\n",
    "scores"
   ],
   "outputs": [
    {
     "output_type": "execute_result",
     "data": {
      "text/plain": [
       "array([0.7795, 0.7905, 0.786 , 0.791 , 0.788 ])"
      ]
     },
     "metadata": {},
     "execution_count": 51
    }
   ],
   "metadata": {}
  },
  {
   "cell_type": "code",
   "execution_count": 52,
   "source": [
    "def imprime_resultados(results):\n",
    "  media = scores.mean() * 100\n",
    "  desvio = scores.std() * 100\n",
    "  print(\"Accuracy médio %.2f\" % media)\n",
    "  print(\"Intervalo [%.2f, %.2f]\" % (media - 2 * desvio, media + 2 * desvio))"
   ],
   "outputs": [],
   "metadata": {}
  },
  {
   "cell_type": "code",
   "execution_count": 54,
   "source": [
    "imprime_resultados(scores)"
   ],
   "outputs": [
    {
     "output_type": "stream",
     "name": "stdout",
     "text": [
      "Accuracy médio 78.70\n",
      "Intervalo [77.87, 79.53]\n"
     ]
    }
   ],
   "metadata": {}
  },
  {
   "cell_type": "code",
   "execution_count": 55,
   "source": [
    "melhor = busca.best_estimator_\n",
    "print(melhor)"
   ],
   "outputs": [
    {
     "output_type": "stream",
     "name": "stdout",
     "text": [
      "DecisionTreeClassifier(max_depth=3, min_samples_leaf=32, min_samples_split=32)\n"
     ]
    }
   ],
   "metadata": {}
  },
  {
   "cell_type": "code",
   "execution_count": 56,
   "source": [
    "from sklearn.tree import export_graphviz\n",
    "import graphviz\n",
    "\n",
    "modelo.fit(x_azar, y_azar)\n",
    "features = x_azar.columns\n",
    "dot_data = export_graphviz(melhor, out_file=None, filled=True, rounded=True, \n",
    "                class_names=[\"não\", \"sim\"], \n",
    "                feature_names =  features)\n",
    "\n",
    "graph = graphviz.Source(dot_data)\n",
    "graph"
   ],
   "outputs": [
    {
     "output_type": "execute_result",
     "data": {
      "text/plain": [
       "<graphviz.files.Source at 0x7f8623375cd0>"
      ],
      "image/svg+xml": "<?xml version=\"1.0\" encoding=\"UTF-8\" standalone=\"no\"?>\n<!DOCTYPE svg PUBLIC \"-//W3C//DTD SVG 1.1//EN\"\n \"http://www.w3.org/Graphics/SVG/1.1/DTD/svg11.dtd\">\n<!-- Generated by graphviz version 2.40.1 (20161225.0304)\n -->\n<!-- Title: Tree Pages: 1 -->\n<svg width=\"885pt\" height=\"433pt\"\n viewBox=\"0.00 0.00 885.00 433.00\" xmlns=\"http://www.w3.org/2000/svg\" xmlns:xlink=\"http://www.w3.org/1999/xlink\">\n<g id=\"graph0\" class=\"graph\" transform=\"scale(1 1) rotate(0) translate(4 429)\">\n<title>Tree</title>\n<polygon fill=\"#ffffff\" stroke=\"transparent\" points=\"-4,4 -4,-429 881,-429 881,4 -4,4\"/>\n<!-- 0 -->\n<g id=\"node1\" class=\"node\">\n<title>0</title>\n<path fill=\"#c8e4f8\" stroke=\"#000000\" d=\"M360,-425C360,-425 240,-425 240,-425 234,-425 228,-419 228,-413 228,-413 228,-354 228,-354 228,-348 234,-342 240,-342 240,-342 360,-342 360,-342 366,-342 372,-348 372,-354 372,-354 372,-413 372,-413 372,-419 366,-425 360,-425\"/>\n<text text-anchor=\"middle\" x=\"300\" y=\"-409.8\" font-family=\"Helvetica,sans-Serif\" font-size=\"14.00\" fill=\"#000000\">preco &lt;= 59982.246</text>\n<text text-anchor=\"middle\" x=\"300\" y=\"-394.8\" font-family=\"Helvetica,sans-Serif\" font-size=\"14.00\" fill=\"#000000\">gini = 0.487</text>\n<text text-anchor=\"middle\" x=\"300\" y=\"-379.8\" font-family=\"Helvetica,sans-Serif\" font-size=\"14.00\" fill=\"#000000\">samples = 10000</text>\n<text text-anchor=\"middle\" x=\"300\" y=\"-364.8\" font-family=\"Helvetica,sans-Serif\" font-size=\"14.00\" fill=\"#000000\">value = [4200, 5800]</text>\n<text text-anchor=\"middle\" x=\"300\" y=\"-349.8\" font-family=\"Helvetica,sans-Serif\" font-size=\"14.00\" fill=\"#000000\">class = sim</text>\n</g>\n<!-- 1 -->\n<g id=\"node2\" class=\"node\">\n<title>1</title>\n<path fill=\"#52a9e8\" stroke=\"#000000\" d=\"M268,-306C268,-306 150,-306 150,-306 144,-306 138,-300 138,-294 138,-294 138,-235 138,-235 138,-229 144,-223 150,-223 150,-223 268,-223 268,-223 274,-223 280,-229 280,-235 280,-235 280,-294 280,-294 280,-300 274,-306 268,-306\"/>\n<text text-anchor=\"middle\" x=\"209\" y=\"-290.8\" font-family=\"Helvetica,sans-Serif\" font-size=\"14.00\" fill=\"#000000\">preco &lt;= 40083.385</text>\n<text text-anchor=\"middle\" x=\"209\" y=\"-275.8\" font-family=\"Helvetica,sans-Serif\" font-size=\"14.00\" fill=\"#000000\">gini = 0.198</text>\n<text text-anchor=\"middle\" x=\"209\" y=\"-260.8\" font-family=\"Helvetica,sans-Serif\" font-size=\"14.00\" fill=\"#000000\">samples = 4347</text>\n<text text-anchor=\"middle\" x=\"209\" y=\"-245.8\" font-family=\"Helvetica,sans-Serif\" font-size=\"14.00\" fill=\"#000000\">value = [484, 3863]</text>\n<text text-anchor=\"middle\" x=\"209\" y=\"-230.8\" font-family=\"Helvetica,sans-Serif\" font-size=\"14.00\" fill=\"#000000\">class = sim</text>\n</g>\n<!-- 0&#45;&gt;1 -->\n<g id=\"edge1\" class=\"edge\">\n<title>0&#45;&gt;1</title>\n<path fill=\"none\" stroke=\"#000000\" d=\"M268.1726,-341.8796C261.3543,-332.9633 254.0844,-323.4565 247.0579,-314.268\"/>\n<polygon fill=\"#000000\" stroke=\"#000000\" points=\"249.818,-312.1156 240.9632,-306.2981 244.2575,-316.3678 249.818,-312.1156\"/>\n<text text-anchor=\"middle\" x=\"237.6591\" y=\"-327.3788\" font-family=\"Helvetica,sans-Serif\" font-size=\"14.00\" fill=\"#000000\">True</text>\n</g>\n<!-- 6 -->\n<g id=\"node7\" class=\"node\">\n<title>6</title>\n<path fill=\"#f3c3a0\" stroke=\"#000000\" d=\"M526.5,-306C526.5,-306 365.5,-306 365.5,-306 359.5,-306 353.5,-300 353.5,-294 353.5,-294 353.5,-235 353.5,-235 353.5,-229 359.5,-223 365.5,-223 365.5,-223 526.5,-223 526.5,-223 532.5,-223 538.5,-229 538.5,-235 538.5,-235 538.5,-294 538.5,-294 538.5,-300 532.5,-306 526.5,-306\"/>\n<text text-anchor=\"middle\" x=\"446\" y=\"-290.8\" font-family=\"Helvetica,sans-Serif\" font-size=\"14.00\" fill=\"#000000\">km_por_ano &lt;= 24124.006</text>\n<text text-anchor=\"middle\" x=\"446\" y=\"-275.8\" font-family=\"Helvetica,sans-Serif\" font-size=\"14.00\" fill=\"#000000\">gini = 0.45</text>\n<text text-anchor=\"middle\" x=\"446\" y=\"-260.8\" font-family=\"Helvetica,sans-Serif\" font-size=\"14.00\" fill=\"#000000\">samples = 5653</text>\n<text text-anchor=\"middle\" x=\"446\" y=\"-245.8\" font-family=\"Helvetica,sans-Serif\" font-size=\"14.00\" fill=\"#000000\">value = [3716, 1937]</text>\n<text text-anchor=\"middle\" x=\"446\" y=\"-230.8\" font-family=\"Helvetica,sans-Serif\" font-size=\"14.00\" fill=\"#000000\">class = não</text>\n</g>\n<!-- 0&#45;&gt;6 -->\n<g id=\"edge6\" class=\"edge\">\n<title>0&#45;&gt;6</title>\n<path fill=\"none\" stroke=\"#000000\" d=\"M351.0637,-341.8796C362.5555,-332.513 374.8468,-322.4948 386.645,-312.8784\"/>\n<polygon fill=\"#000000\" stroke=\"#000000\" points=\"389.1782,-315.329 394.7183,-306.2981 384.7556,-309.903 389.1782,-315.329\"/>\n<text text-anchor=\"middle\" x=\"392.1843\" y=\"-327.4693\" font-family=\"Helvetica,sans-Serif\" font-size=\"14.00\" fill=\"#000000\">False</text>\n</g>\n<!-- 2 -->\n<g id=\"node3\" class=\"node\">\n<title>2</title>\n<path fill=\"#399de5\" stroke=\"#000000\" d=\"M108,-179.5C108,-179.5 12,-179.5 12,-179.5 6,-179.5 0,-173.5 0,-167.5 0,-167.5 0,-123.5 0,-123.5 0,-117.5 6,-111.5 12,-111.5 12,-111.5 108,-111.5 108,-111.5 114,-111.5 120,-117.5 120,-123.5 120,-123.5 120,-167.5 120,-167.5 120,-173.5 114,-179.5 108,-179.5\"/>\n<text text-anchor=\"middle\" x=\"60\" y=\"-164.3\" font-family=\"Helvetica,sans-Serif\" font-size=\"14.00\" fill=\"#000000\">gini = 0.0</text>\n<text text-anchor=\"middle\" x=\"60\" y=\"-149.3\" font-family=\"Helvetica,sans-Serif\" font-size=\"14.00\" fill=\"#000000\">samples = 1935</text>\n<text text-anchor=\"middle\" x=\"60\" y=\"-134.3\" font-family=\"Helvetica,sans-Serif\" font-size=\"14.00\" fill=\"#000000\">value = [0, 1935]</text>\n<text text-anchor=\"middle\" x=\"60\" y=\"-119.3\" font-family=\"Helvetica,sans-Serif\" font-size=\"14.00\" fill=\"#000000\">class = sim</text>\n</g>\n<!-- 1&#45;&gt;2 -->\n<g id=\"edge2\" class=\"edge\">\n<title>1&#45;&gt;2</title>\n<path fill=\"none\" stroke=\"#000000\" d=\"M156.887,-222.8796C142.0174,-211.0038 125.836,-198.0804 111.0317,-186.2568\"/>\n<polygon fill=\"#000000\" stroke=\"#000000\" points=\"112.9638,-183.3207 102.9658,-179.8149 108.5954,-188.7904 112.9638,-183.3207\"/>\n</g>\n<!-- 3 -->\n<g id=\"node4\" class=\"node\">\n<title>3</title>\n<path fill=\"#6bb6ec\" stroke=\"#000000\" d=\"M268,-187C268,-187 150,-187 150,-187 144,-187 138,-181 138,-175 138,-175 138,-116 138,-116 138,-110 144,-104 150,-104 150,-104 268,-104 268,-104 274,-104 280,-110 280,-116 280,-116 280,-175 280,-175 280,-181 274,-187 268,-187\"/>\n<text text-anchor=\"middle\" x=\"209\" y=\"-171.8\" font-family=\"Helvetica,sans-Serif\" font-size=\"14.00\" fill=\"#000000\">preco &lt;= 41083.029</text>\n<text text-anchor=\"middle\" x=\"209\" y=\"-156.8\" font-family=\"Helvetica,sans-Serif\" font-size=\"14.00\" fill=\"#000000\">gini = 0.321</text>\n<text text-anchor=\"middle\" x=\"209\" y=\"-141.8\" font-family=\"Helvetica,sans-Serif\" font-size=\"14.00\" fill=\"#000000\">samples = 2412</text>\n<text text-anchor=\"middle\" x=\"209\" y=\"-126.8\" font-family=\"Helvetica,sans-Serif\" font-size=\"14.00\" fill=\"#000000\">value = [484, 1928]</text>\n<text text-anchor=\"middle\" x=\"209\" y=\"-111.8\" font-family=\"Helvetica,sans-Serif\" font-size=\"14.00\" fill=\"#000000\">class = sim</text>\n</g>\n<!-- 1&#45;&gt;3 -->\n<g id=\"edge3\" class=\"edge\">\n<title>1&#45;&gt;3</title>\n<path fill=\"none\" stroke=\"#000000\" d=\"M209,-222.8796C209,-214.6838 209,-205.9891 209,-197.5013\"/>\n<polygon fill=\"#000000\" stroke=\"#000000\" points=\"212.5001,-197.298 209,-187.2981 205.5001,-197.2981 212.5001,-197.298\"/>\n</g>\n<!-- 4 -->\n<g id=\"node5\" class=\"node\">\n<title>4</title>\n<path fill=\"#95cbf1\" stroke=\"#000000\" d=\"M110.5,-68C110.5,-68 21.5,-68 21.5,-68 15.5,-68 9.5,-62 9.5,-56 9.5,-56 9.5,-12 9.5,-12 9.5,-6 15.5,0 21.5,0 21.5,0 110.5,0 110.5,0 116.5,0 122.5,-6 122.5,-12 122.5,-12 122.5,-56 122.5,-56 122.5,-62 116.5,-68 110.5,-68\"/>\n<text text-anchor=\"middle\" x=\"66\" y=\"-52.8\" font-family=\"Helvetica,sans-Serif\" font-size=\"14.00\" fill=\"#000000\">gini = 0.434</text>\n<text text-anchor=\"middle\" x=\"66\" y=\"-37.8\" font-family=\"Helvetica,sans-Serif\" font-size=\"14.00\" fill=\"#000000\">samples = 110</text>\n<text text-anchor=\"middle\" x=\"66\" y=\"-22.8\" font-family=\"Helvetica,sans-Serif\" font-size=\"14.00\" fill=\"#000000\">value = [35, 75]</text>\n<text text-anchor=\"middle\" x=\"66\" y=\"-7.8\" font-family=\"Helvetica,sans-Serif\" font-size=\"14.00\" fill=\"#000000\">class = sim</text>\n</g>\n<!-- 3&#45;&gt;4 -->\n<g id=\"edge4\" class=\"edge\">\n<title>3&#45;&gt;4</title>\n<path fill=\"none\" stroke=\"#000000\" d=\"M155.7521,-103.9815C143.3756,-94.3313 130.2172,-84.0714 117.8997,-74.4673\"/>\n<polygon fill=\"#000000\" stroke=\"#000000\" points=\"119.9818,-71.6525 109.9435,-68.2637 115.6775,-77.1728 119.9818,-71.6525\"/>\n</g>\n<!-- 5 -->\n<g id=\"node6\" class=\"node\">\n<title>5</title>\n<path fill=\"#69b5eb\" stroke=\"#000000\" d=\"M265,-68C265,-68 153,-68 153,-68 147,-68 141,-62 141,-56 141,-56 141,-12 141,-12 141,-6 147,0 153,0 153,0 265,0 265,0 271,0 277,-6 277,-12 277,-12 277,-56 277,-56 277,-62 271,-68 265,-68\"/>\n<text text-anchor=\"middle\" x=\"209\" y=\"-52.8\" font-family=\"Helvetica,sans-Serif\" font-size=\"14.00\" fill=\"#000000\">gini = 0.314</text>\n<text text-anchor=\"middle\" x=\"209\" y=\"-37.8\" font-family=\"Helvetica,sans-Serif\" font-size=\"14.00\" fill=\"#000000\">samples = 2302</text>\n<text text-anchor=\"middle\" x=\"209\" y=\"-22.8\" font-family=\"Helvetica,sans-Serif\" font-size=\"14.00\" fill=\"#000000\">value = [449, 1853]</text>\n<text text-anchor=\"middle\" x=\"209\" y=\"-7.8\" font-family=\"Helvetica,sans-Serif\" font-size=\"14.00\" fill=\"#000000\">class = sim</text>\n</g>\n<!-- 3&#45;&gt;5 -->\n<g id=\"edge5\" class=\"edge\">\n<title>3&#45;&gt;5</title>\n<path fill=\"none\" stroke=\"#000000\" d=\"M209,-103.9815C209,-95.618 209,-86.7965 209,-78.3409\"/>\n<polygon fill=\"#000000\" stroke=\"#000000\" points=\"212.5001,-78.2636 209,-68.2637 205.5001,-78.2637 212.5001,-78.2636\"/>\n</g>\n<!-- 7 -->\n<g id=\"node8\" class=\"node\">\n<title>7</title>\n<path fill=\"#fcefe5\" stroke=\"#000000\" d=\"M506,-187C506,-187 386,-187 386,-187 380,-187 374,-181 374,-175 374,-175 374,-116 374,-116 374,-110 380,-104 386,-104 386,-104 506,-104 506,-104 512,-104 518,-110 518,-116 518,-116 518,-175 518,-175 518,-181 512,-187 506,-187\"/>\n<text text-anchor=\"middle\" x=\"446\" y=\"-171.8\" font-family=\"Helvetica,sans-Serif\" font-size=\"14.00\" fill=\"#000000\">preco &lt;= 99974.41</text>\n<text text-anchor=\"middle\" x=\"446\" y=\"-156.8\" font-family=\"Helvetica,sans-Serif\" font-size=\"14.00\" fill=\"#000000\">gini = 0.498</text>\n<text text-anchor=\"middle\" x=\"446\" y=\"-141.8\" font-family=\"Helvetica,sans-Serif\" font-size=\"14.00\" fill=\"#000000\">samples = 3513</text>\n<text text-anchor=\"middle\" x=\"446\" y=\"-126.8\" font-family=\"Helvetica,sans-Serif\" font-size=\"14.00\" fill=\"#000000\">value = [1879, 1634]</text>\n<text text-anchor=\"middle\" x=\"446\" y=\"-111.8\" font-family=\"Helvetica,sans-Serif\" font-size=\"14.00\" fill=\"#000000\">class = não</text>\n</g>\n<!-- 6&#45;&gt;7 -->\n<g id=\"edge7\" class=\"edge\">\n<title>6&#45;&gt;7</title>\n<path fill=\"none\" stroke=\"#000000\" d=\"M446,-222.8796C446,-214.6838 446,-205.9891 446,-197.5013\"/>\n<polygon fill=\"#000000\" stroke=\"#000000\" points=\"449.5001,-197.298 446,-187.2981 442.5001,-197.2981 449.5001,-197.298\"/>\n</g>\n<!-- 10 -->\n<g id=\"node11\" class=\"node\">\n<title>10</title>\n<path fill=\"#e9965a\" stroke=\"#000000\" d=\"M730,-187C730,-187 604,-187 604,-187 598,-187 592,-181 592,-175 592,-175 592,-116 592,-116 592,-110 598,-104 604,-104 604,-104 730,-104 730,-104 736,-104 742,-110 742,-116 742,-116 742,-175 742,-175 742,-181 736,-187 730,-187\"/>\n<text text-anchor=\"middle\" x=\"667\" y=\"-171.8\" font-family=\"Helvetica,sans-Serif\" font-size=\"14.00\" fill=\"#000000\">preco &lt;= 100076.957</text>\n<text text-anchor=\"middle\" x=\"667\" y=\"-156.8\" font-family=\"Helvetica,sans-Serif\" font-size=\"14.00\" fill=\"#000000\">gini = 0.243</text>\n<text text-anchor=\"middle\" x=\"667\" y=\"-141.8\" font-family=\"Helvetica,sans-Serif\" font-size=\"14.00\" fill=\"#000000\">samples = 2140</text>\n<text text-anchor=\"middle\" x=\"667\" y=\"-126.8\" font-family=\"Helvetica,sans-Serif\" font-size=\"14.00\" fill=\"#000000\">value = [1837, 303]</text>\n<text text-anchor=\"middle\" x=\"667\" y=\"-111.8\" font-family=\"Helvetica,sans-Serif\" font-size=\"14.00\" fill=\"#000000\">class = não</text>\n</g>\n<!-- 6&#45;&gt;10 -->\n<g id=\"edge10\" class=\"edge\">\n<title>6&#45;&gt;10</title>\n<path fill=\"none\" stroke=\"#000000\" d=\"M523.2951,-222.8796C542.6165,-212.4757 563.4312,-201.2678 583.0576,-190.6997\"/>\n<polygon fill=\"#000000\" stroke=\"#000000\" points=\"584.8366,-193.717 591.982,-185.8943 581.5179,-187.5537 584.8366,-193.717\"/>\n</g>\n<!-- 8 -->\n<g id=\"node9\" class=\"node\">\n<title>8</title>\n<path fill=\"#f9e0ce\" stroke=\"#000000\" d=\"M427,-68C427,-68 307,-68 307,-68 301,-68 295,-62 295,-56 295,-56 295,-12 295,-12 295,-6 301,0 307,0 307,0 427,0 427,0 433,0 439,-6 439,-12 439,-12 439,-56 439,-56 439,-62 433,-68 427,-68\"/>\n<text text-anchor=\"middle\" x=\"367\" y=\"-52.8\" font-family=\"Helvetica,sans-Serif\" font-size=\"14.00\" fill=\"#000000\">gini = 0.49</text>\n<text text-anchor=\"middle\" x=\"367\" y=\"-37.8\" font-family=\"Helvetica,sans-Serif\" font-size=\"14.00\" fill=\"#000000\">samples = 2944</text>\n<text text-anchor=\"middle\" x=\"367\" y=\"-22.8\" font-family=\"Helvetica,sans-Serif\" font-size=\"14.00\" fill=\"#000000\">value = [1682, 1262]</text>\n<text text-anchor=\"middle\" x=\"367\" y=\"-7.8\" font-family=\"Helvetica,sans-Serif\" font-size=\"14.00\" fill=\"#000000\">class = não</text>\n</g>\n<!-- 7&#45;&gt;8 -->\n<g id=\"edge8\" class=\"edge\">\n<title>7&#45;&gt;8</title>\n<path fill=\"none\" stroke=\"#000000\" d=\"M416.5833,-103.9815C410.2669,-95.0666 403.5818,-85.6313 397.2349,-76.6734\"/>\n<polygon fill=\"#000000\" stroke=\"#000000\" points=\"399.9136,-74.3998 391.2765,-68.2637 394.2019,-78.4466 399.9136,-74.3998\"/>\n</g>\n<!-- 9 -->\n<g id=\"node10\" class=\"node\">\n<title>9</title>\n<path fill=\"#a2d1f3\" stroke=\"#000000\" d=\"M573,-68C573,-68 469,-68 469,-68 463,-68 457,-62 457,-56 457,-56 457,-12 457,-12 457,-6 463,0 469,0 469,0 573,0 573,0 579,0 585,-6 585,-12 585,-12 585,-56 585,-56 585,-62 579,-68 573,-68\"/>\n<text text-anchor=\"middle\" x=\"521\" y=\"-52.8\" font-family=\"Helvetica,sans-Serif\" font-size=\"14.00\" fill=\"#000000\">gini = 0.453</text>\n<text text-anchor=\"middle\" x=\"521\" y=\"-37.8\" font-family=\"Helvetica,sans-Serif\" font-size=\"14.00\" fill=\"#000000\">samples = 569</text>\n<text text-anchor=\"middle\" x=\"521\" y=\"-22.8\" font-family=\"Helvetica,sans-Serif\" font-size=\"14.00\" fill=\"#000000\">value = [197, 372]</text>\n<text text-anchor=\"middle\" x=\"521\" y=\"-7.8\" font-family=\"Helvetica,sans-Serif\" font-size=\"14.00\" fill=\"#000000\">class = sim</text>\n</g>\n<!-- 7&#45;&gt;9 -->\n<g id=\"edge9\" class=\"edge\">\n<title>7&#45;&gt;9</title>\n<path fill=\"none\" stroke=\"#000000\" d=\"M473.9272,-103.9815C479.9238,-95.0666 486.2704,-85.6313 492.2959,-76.6734\"/>\n<polygon fill=\"#000000\" stroke=\"#000000\" points=\"495.2755,-78.5147 497.9527,-68.2637 489.4672,-74.6078 495.2755,-78.5147\"/>\n</g>\n<!-- 11 -->\n<g id=\"node12\" class=\"node\">\n<title>11</title>\n<path fill=\"#e68742\" stroke=\"#000000\" d=\"M719,-68C719,-68 615,-68 615,-68 609,-68 603,-62 603,-56 603,-56 603,-12 603,-12 603,-6 609,0 615,0 615,0 719,0 719,0 725,0 731,-6 731,-12 731,-12 731,-56 731,-56 731,-62 725,-68 719,-68\"/>\n<text text-anchor=\"middle\" x=\"667\" y=\"-52.8\" font-family=\"Helvetica,sans-Serif\" font-size=\"14.00\" fill=\"#000000\">gini = 0.082</text>\n<text text-anchor=\"middle\" x=\"667\" y=\"-37.8\" font-family=\"Helvetica,sans-Serif\" font-size=\"14.00\" fill=\"#000000\">samples = 1809</text>\n<text text-anchor=\"middle\" x=\"667\" y=\"-22.8\" font-family=\"Helvetica,sans-Serif\" font-size=\"14.00\" fill=\"#000000\">value = [1732, 77]</text>\n<text text-anchor=\"middle\" x=\"667\" y=\"-7.8\" font-family=\"Helvetica,sans-Serif\" font-size=\"14.00\" fill=\"#000000\">class = não</text>\n</g>\n<!-- 10&#45;&gt;11 -->\n<g id=\"edge11\" class=\"edge\">\n<title>10&#45;&gt;11</title>\n<path fill=\"none\" stroke=\"#000000\" d=\"M667,-103.9815C667,-95.618 667,-86.7965 667,-78.3409\"/>\n<polygon fill=\"#000000\" stroke=\"#000000\" points=\"670.5001,-78.2636 667,-68.2637 663.5001,-78.2637 670.5001,-78.2636\"/>\n</g>\n<!-- 12 -->\n<g id=\"node13\" class=\"node\">\n<title>12</title>\n<path fill=\"#95cbf1\" stroke=\"#000000\" d=\"M865,-68C865,-68 761,-68 761,-68 755,-68 749,-62 749,-56 749,-56 749,-12 749,-12 749,-6 755,0 761,0 761,0 865,0 865,0 871,0 877,-6 877,-12 877,-12 877,-56 877,-56 877,-62 871,-68 865,-68\"/>\n<text text-anchor=\"middle\" x=\"813\" y=\"-52.8\" font-family=\"Helvetica,sans-Serif\" font-size=\"14.00\" fill=\"#000000\">gini = 0.433</text>\n<text text-anchor=\"middle\" x=\"813\" y=\"-37.8\" font-family=\"Helvetica,sans-Serif\" font-size=\"14.00\" fill=\"#000000\">samples = 331</text>\n<text text-anchor=\"middle\" x=\"813\" y=\"-22.8\" font-family=\"Helvetica,sans-Serif\" font-size=\"14.00\" fill=\"#000000\">value = [105, 226]</text>\n<text text-anchor=\"middle\" x=\"813\" y=\"-7.8\" font-family=\"Helvetica,sans-Serif\" font-size=\"14.00\" fill=\"#000000\">class = sim</text>\n</g>\n<!-- 10&#45;&gt;12 -->\n<g id=\"edge12\" class=\"edge\">\n<title>10&#45;&gt;12</title>\n<path fill=\"none\" stroke=\"#000000\" d=\"M721.365,-103.9815C734.0011,-94.3313 747.4356,-84.0714 760.0115,-74.4673\"/>\n<polygon fill=\"#000000\" stroke=\"#000000\" points=\"762.3114,-77.1148 768.1346,-68.2637 758.0628,-71.5515 762.3114,-77.1148\"/>\n</g>\n</g>\n</svg>\n"
     },
     "metadata": {},
     "execution_count": 56
    }
   ],
   "metadata": {}
  },
  {
   "cell_type": "code",
   "execution_count": null,
   "source": [],
   "outputs": [],
   "metadata": {}
  }
 ],
 "metadata": {
  "colab": {
   "collapsed_sections": [],
   "name": "Introdução_a_Machine_Learning_Otimização.ipynb",
   "provenance": []
  },
  "kernelspec": {
   "name": "python3",
   "display_name": "Python 3.8.2 64-bit ('Alura': conda)"
  },
  "language_info": {
   "codemirror_mode": {
    "name": "ipython",
    "version": 3
   },
   "file_extension": ".py",
   "mimetype": "text/x-python",
   "name": "python",
   "nbconvert_exporter": "python",
   "pygments_lexer": "ipython3",
   "version": "3.8.2"
  },
  "interpreter": {
   "hash": "b712654a4e44784f513bc0735fa9d8fc6ade93e64d2807413d38cfef60ed5ddd"
  }
 },
 "nbformat": 4,
 "nbformat_minor": 1
}