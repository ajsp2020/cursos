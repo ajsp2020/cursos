{
 "cells": [
  {
   "cell_type": "code",
   "execution_count": 14,
   "metadata": {},
   "outputs": [],
   "source": [
    "import matplotlib.pyplot as plt\r\n",
    "import pandas as pd\r\n",
    "import numpy as np"
   ]
  },
  {
   "cell_type": "code",
   "execution_count": 15,
   "metadata": {},
   "outputs": [],
   "source": [
    "caminho_arquivo = \"./Wine.csv\"\r\n",
    "df = pd.read_csv(caminho_arquivo) #importando os dados"
   ]
  },
  {
   "cell_type": "code",
   "execution_count": 16,
   "metadata": {},
   "outputs": [
    {
     "name": "stdout",
     "output_type": "stream",
     "text": [
      "O dado possui 178 amostras e 14 atributos\n"
     ]
    }
   ],
   "source": [
    "print(\"O dado possui\",df.shape[0], \"amostras e\", df.shape[1], \"atributos\")\r\n"
   ]
  },
  {
   "cell_type": "code",
   "execution_count": 17,
   "metadata": {},
   "outputs": [
    {
     "data": {
      "text/html": [
       "<div>\n",
       "<style scoped>\n",
       "    .dataframe tbody tr th:only-of-type {\n",
       "        vertical-align: middle;\n",
       "    }\n",
       "\n",
       "    .dataframe tbody tr th {\n",
       "        vertical-align: top;\n",
       "    }\n",
       "\n",
       "    .dataframe thead th {\n",
       "        text-align: right;\n",
       "    }\n",
       "</style>\n",
       "<table border=\"1\" class=\"dataframe\">\n",
       "  <thead>\n",
       "    <tr style=\"text-align: right;\">\n",
       "      <th></th>\n",
       "      <th>Alcohol</th>\n",
       "      <th>Malic_Acid</th>\n",
       "      <th>Ash</th>\n",
       "      <th>Ash_Alcanity</th>\n",
       "      <th>Magnesium</th>\n",
       "      <th>Total_Phenols</th>\n",
       "      <th>Flavanoids</th>\n",
       "      <th>Nonflavanoid_Phenols</th>\n",
       "      <th>Proanthocyanins</th>\n",
       "      <th>Color_Intensity</th>\n",
       "      <th>Hue</th>\n",
       "      <th>OD280</th>\n",
       "      <th>Proline</th>\n",
       "      <th>Customer_Segment</th>\n",
       "    </tr>\n",
       "  </thead>\n",
       "  <tbody>\n",
       "    <tr>\n",
       "      <th>0</th>\n",
       "      <td>14.23</td>\n",
       "      <td>1.71</td>\n",
       "      <td>2.43</td>\n",
       "      <td>15.6</td>\n",
       "      <td>127</td>\n",
       "      <td>2.80</td>\n",
       "      <td>3.06</td>\n",
       "      <td>0.28</td>\n",
       "      <td>2.29</td>\n",
       "      <td>5.64</td>\n",
       "      <td>1.04</td>\n",
       "      <td>3.92</td>\n",
       "      <td>1065</td>\n",
       "      <td>1</td>\n",
       "    </tr>\n",
       "    <tr>\n",
       "      <th>1</th>\n",
       "      <td>13.20</td>\n",
       "      <td>1.78</td>\n",
       "      <td>2.14</td>\n",
       "      <td>11.2</td>\n",
       "      <td>100</td>\n",
       "      <td>2.65</td>\n",
       "      <td>2.76</td>\n",
       "      <td>0.26</td>\n",
       "      <td>1.28</td>\n",
       "      <td>4.38</td>\n",
       "      <td>1.05</td>\n",
       "      <td>3.40</td>\n",
       "      <td>1050</td>\n",
       "      <td>1</td>\n",
       "    </tr>\n",
       "    <tr>\n",
       "      <th>2</th>\n",
       "      <td>13.16</td>\n",
       "      <td>2.36</td>\n",
       "      <td>2.67</td>\n",
       "      <td>18.6</td>\n",
       "      <td>101</td>\n",
       "      <td>2.80</td>\n",
       "      <td>3.24</td>\n",
       "      <td>0.30</td>\n",
       "      <td>2.81</td>\n",
       "      <td>5.68</td>\n",
       "      <td>1.03</td>\n",
       "      <td>3.17</td>\n",
       "      <td>1185</td>\n",
       "      <td>1</td>\n",
       "    </tr>\n",
       "    <tr>\n",
       "      <th>3</th>\n",
       "      <td>14.37</td>\n",
       "      <td>1.95</td>\n",
       "      <td>2.50</td>\n",
       "      <td>16.8</td>\n",
       "      <td>113</td>\n",
       "      <td>3.85</td>\n",
       "      <td>3.49</td>\n",
       "      <td>0.24</td>\n",
       "      <td>2.18</td>\n",
       "      <td>7.80</td>\n",
       "      <td>0.86</td>\n",
       "      <td>3.45</td>\n",
       "      <td>1480</td>\n",
       "      <td>1</td>\n",
       "    </tr>\n",
       "    <tr>\n",
       "      <th>4</th>\n",
       "      <td>13.24</td>\n",
       "      <td>2.59</td>\n",
       "      <td>2.87</td>\n",
       "      <td>21.0</td>\n",
       "      <td>118</td>\n",
       "      <td>2.80</td>\n",
       "      <td>2.69</td>\n",
       "      <td>0.39</td>\n",
       "      <td>1.82</td>\n",
       "      <td>4.32</td>\n",
       "      <td>1.04</td>\n",
       "      <td>2.93</td>\n",
       "      <td>735</td>\n",
       "      <td>1</td>\n",
       "    </tr>\n",
       "  </tbody>\n",
       "</table>\n",
       "</div>"
      ],
      "text/plain": [
       "   Alcohol  Malic_Acid   Ash  Ash_Alcanity  Magnesium  Total_Phenols  \\\n",
       "0    14.23        1.71  2.43          15.6        127           2.80   \n",
       "1    13.20        1.78  2.14          11.2        100           2.65   \n",
       "2    13.16        2.36  2.67          18.6        101           2.80   \n",
       "3    14.37        1.95  2.50          16.8        113           3.85   \n",
       "4    13.24        2.59  2.87          21.0        118           2.80   \n",
       "\n",
       "   Flavanoids  Nonflavanoid_Phenols  Proanthocyanins  Color_Intensity   Hue  \\\n",
       "0        3.06                  0.28             2.29             5.64  1.04   \n",
       "1        2.76                  0.26             1.28             4.38  1.05   \n",
       "2        3.24                  0.30             2.81             5.68  1.03   \n",
       "3        3.49                  0.24             2.18             7.80  0.86   \n",
       "4        2.69                  0.39             1.82             4.32  1.04   \n",
       "\n",
       "   OD280  Proline  Customer_Segment  \n",
       "0   3.92     1065                 1  \n",
       "1   3.40     1050                 1  \n",
       "2   3.17     1185                 1  \n",
       "3   3.45     1480                 1  \n",
       "4   2.93      735                 1  "
      ]
     },
     "execution_count": 17,
     "metadata": {},
     "output_type": "execute_result"
    }
   ],
   "source": [
    "df.head()"
   ]
  },
  {
   "cell_type": "code",
   "execution_count": 18,
   "metadata": {},
   "outputs": [
    {
     "data": {
      "text/html": [
       "<div>\n",
       "<style scoped>\n",
       "    .dataframe tbody tr th:only-of-type {\n",
       "        vertical-align: middle;\n",
       "    }\n",
       "\n",
       "    .dataframe tbody tr th {\n",
       "        vertical-align: top;\n",
       "    }\n",
       "\n",
       "    .dataframe thead th {\n",
       "        text-align: right;\n",
       "    }\n",
       "</style>\n",
       "<table border=\"1\" class=\"dataframe\">\n",
       "  <thead>\n",
       "    <tr style=\"text-align: right;\">\n",
       "      <th></th>\n",
       "      <th>Alcohol</th>\n",
       "      <th>Malic_Acid</th>\n",
       "      <th>Ash</th>\n",
       "      <th>Ash_Alcanity</th>\n",
       "      <th>Magnesium</th>\n",
       "      <th>Total_Phenols</th>\n",
       "      <th>Flavanoids</th>\n",
       "      <th>Nonflavanoid_Phenols</th>\n",
       "      <th>Proanthocyanins</th>\n",
       "      <th>Color_Intensity</th>\n",
       "      <th>Hue</th>\n",
       "      <th>OD280</th>\n",
       "      <th>Proline</th>\n",
       "    </tr>\n",
       "  </thead>\n",
       "  <tbody>\n",
       "    <tr>\n",
       "      <th>0</th>\n",
       "      <td>14.23</td>\n",
       "      <td>1.71</td>\n",
       "      <td>2.43</td>\n",
       "      <td>15.6</td>\n",
       "      <td>127</td>\n",
       "      <td>2.80</td>\n",
       "      <td>3.06</td>\n",
       "      <td>0.28</td>\n",
       "      <td>2.29</td>\n",
       "      <td>5.64</td>\n",
       "      <td>1.04</td>\n",
       "      <td>3.92</td>\n",
       "      <td>1065</td>\n",
       "    </tr>\n",
       "    <tr>\n",
       "      <th>1</th>\n",
       "      <td>13.20</td>\n",
       "      <td>1.78</td>\n",
       "      <td>2.14</td>\n",
       "      <td>11.2</td>\n",
       "      <td>100</td>\n",
       "      <td>2.65</td>\n",
       "      <td>2.76</td>\n",
       "      <td>0.26</td>\n",
       "      <td>1.28</td>\n",
       "      <td>4.38</td>\n",
       "      <td>1.05</td>\n",
       "      <td>3.40</td>\n",
       "      <td>1050</td>\n",
       "    </tr>\n",
       "    <tr>\n",
       "      <th>2</th>\n",
       "      <td>13.16</td>\n",
       "      <td>2.36</td>\n",
       "      <td>2.67</td>\n",
       "      <td>18.6</td>\n",
       "      <td>101</td>\n",
       "      <td>2.80</td>\n",
       "      <td>3.24</td>\n",
       "      <td>0.30</td>\n",
       "      <td>2.81</td>\n",
       "      <td>5.68</td>\n",
       "      <td>1.03</td>\n",
       "      <td>3.17</td>\n",
       "      <td>1185</td>\n",
       "    </tr>\n",
       "    <tr>\n",
       "      <th>3</th>\n",
       "      <td>14.37</td>\n",
       "      <td>1.95</td>\n",
       "      <td>2.50</td>\n",
       "      <td>16.8</td>\n",
       "      <td>113</td>\n",
       "      <td>3.85</td>\n",
       "      <td>3.49</td>\n",
       "      <td>0.24</td>\n",
       "      <td>2.18</td>\n",
       "      <td>7.80</td>\n",
       "      <td>0.86</td>\n",
       "      <td>3.45</td>\n",
       "      <td>1480</td>\n",
       "    </tr>\n",
       "    <tr>\n",
       "      <th>4</th>\n",
       "      <td>13.24</td>\n",
       "      <td>2.59</td>\n",
       "      <td>2.87</td>\n",
       "      <td>21.0</td>\n",
       "      <td>118</td>\n",
       "      <td>2.80</td>\n",
       "      <td>2.69</td>\n",
       "      <td>0.39</td>\n",
       "      <td>1.82</td>\n",
       "      <td>4.32</td>\n",
       "      <td>1.04</td>\n",
       "      <td>2.93</td>\n",
       "      <td>735</td>\n",
       "    </tr>\n",
       "  </tbody>\n",
       "</table>\n",
       "</div>"
      ],
      "text/plain": [
       "   Alcohol  Malic_Acid   Ash  Ash_Alcanity  Magnesium  Total_Phenols  \\\n",
       "0    14.23        1.71  2.43          15.6        127           2.80   \n",
       "1    13.20        1.78  2.14          11.2        100           2.65   \n",
       "2    13.16        2.36  2.67          18.6        101           2.80   \n",
       "3    14.37        1.95  2.50          16.8        113           3.85   \n",
       "4    13.24        2.59  2.87          21.0        118           2.80   \n",
       "\n",
       "   Flavanoids  Nonflavanoid_Phenols  Proanthocyanins  Color_Intensity   Hue  \\\n",
       "0        3.06                  0.28             2.29             5.64  1.04   \n",
       "1        2.76                  0.26             1.28             4.38  1.05   \n",
       "2        3.24                  0.30             2.81             5.68  1.03   \n",
       "3        3.49                  0.24             2.18             7.80  0.86   \n",
       "4        2.69                  0.39             1.82             4.32  1.04   \n",
       "\n",
       "   OD280  Proline  \n",
       "0   3.92     1065  \n",
       "1   3.40     1050  \n",
       "2   3.17     1185  \n",
       "3   3.45     1480  \n",
       "4   2.93      735  "
      ]
     },
     "execution_count": 18,
     "metadata": {},
     "output_type": "execute_result"
    }
   ],
   "source": [
    "labels_df = df['Customer_Segment']\r\n",
    "df = df.drop(columns = 'Customer_Segment')\r\n",
    "df.head()"
   ]
  },
  {
   "cell_type": "code",
   "execution_count": 19,
   "metadata": {},
   "outputs": [],
   "source": [
    "a_trocar = {\n",
    "    'Alcohol':'Alcool',\n",
    "    'Ash': 'Po',\n",
    "    'Ash_Alcanity': 'Alcalinidade_po',\n",
    "    'Magnesium': 'Magnesio',\n",
    "    'Color_Intensity': 'Intensidade_de_cor'\n",
    "}\n",
    "df = df.rename(columns=a_trocar)"
   ]
  },
  {
   "cell_type": "code",
   "execution_count": 20,
   "metadata": {},
   "outputs": [
    {
     "data": {
      "text/html": [
       "<div>\n",
       "<style scoped>\n",
       "    .dataframe tbody tr th:only-of-type {\n",
       "        vertical-align: middle;\n",
       "    }\n",
       "\n",
       "    .dataframe tbody tr th {\n",
       "        vertical-align: top;\n",
       "    }\n",
       "\n",
       "    .dataframe thead th {\n",
       "        text-align: right;\n",
       "    }\n",
       "</style>\n",
       "<table border=\"1\" class=\"dataframe\">\n",
       "  <thead>\n",
       "    <tr style=\"text-align: right;\">\n",
       "      <th></th>\n",
       "      <th>Alcool</th>\n",
       "      <th>Malic_Acid</th>\n",
       "      <th>Po</th>\n",
       "      <th>Alcalinidade_po</th>\n",
       "      <th>Magnesio</th>\n",
       "      <th>Total_Phenols</th>\n",
       "      <th>Flavanoids</th>\n",
       "      <th>Nonflavanoid_Phenols</th>\n",
       "      <th>Proanthocyanins</th>\n",
       "      <th>Intensidade_de_cor</th>\n",
       "      <th>Hue</th>\n",
       "      <th>OD280</th>\n",
       "      <th>Proline</th>\n",
       "    </tr>\n",
       "  </thead>\n",
       "  <tbody>\n",
       "    <tr>\n",
       "      <th>0</th>\n",
       "      <td>14.23</td>\n",
       "      <td>1.71</td>\n",
       "      <td>2.43</td>\n",
       "      <td>15.6</td>\n",
       "      <td>127</td>\n",
       "      <td>2.80</td>\n",
       "      <td>3.06</td>\n",
       "      <td>0.28</td>\n",
       "      <td>2.29</td>\n",
       "      <td>5.64</td>\n",
       "      <td>1.04</td>\n",
       "      <td>3.92</td>\n",
       "      <td>1065</td>\n",
       "    </tr>\n",
       "    <tr>\n",
       "      <th>1</th>\n",
       "      <td>13.20</td>\n",
       "      <td>1.78</td>\n",
       "      <td>2.14</td>\n",
       "      <td>11.2</td>\n",
       "      <td>100</td>\n",
       "      <td>2.65</td>\n",
       "      <td>2.76</td>\n",
       "      <td>0.26</td>\n",
       "      <td>1.28</td>\n",
       "      <td>4.38</td>\n",
       "      <td>1.05</td>\n",
       "      <td>3.40</td>\n",
       "      <td>1050</td>\n",
       "    </tr>\n",
       "    <tr>\n",
       "      <th>2</th>\n",
       "      <td>13.16</td>\n",
       "      <td>2.36</td>\n",
       "      <td>2.67</td>\n",
       "      <td>18.6</td>\n",
       "      <td>101</td>\n",
       "      <td>2.80</td>\n",
       "      <td>3.24</td>\n",
       "      <td>0.30</td>\n",
       "      <td>2.81</td>\n",
       "      <td>5.68</td>\n",
       "      <td>1.03</td>\n",
       "      <td>3.17</td>\n",
       "      <td>1185</td>\n",
       "    </tr>\n",
       "    <tr>\n",
       "      <th>3</th>\n",
       "      <td>14.37</td>\n",
       "      <td>1.95</td>\n",
       "      <td>2.50</td>\n",
       "      <td>16.8</td>\n",
       "      <td>113</td>\n",
       "      <td>3.85</td>\n",
       "      <td>3.49</td>\n",
       "      <td>0.24</td>\n",
       "      <td>2.18</td>\n",
       "      <td>7.80</td>\n",
       "      <td>0.86</td>\n",
       "      <td>3.45</td>\n",
       "      <td>1480</td>\n",
       "    </tr>\n",
       "    <tr>\n",
       "      <th>4</th>\n",
       "      <td>13.24</td>\n",
       "      <td>2.59</td>\n",
       "      <td>2.87</td>\n",
       "      <td>21.0</td>\n",
       "      <td>118</td>\n",
       "      <td>2.80</td>\n",
       "      <td>2.69</td>\n",
       "      <td>0.39</td>\n",
       "      <td>1.82</td>\n",
       "      <td>4.32</td>\n",
       "      <td>1.04</td>\n",
       "      <td>2.93</td>\n",
       "      <td>735</td>\n",
       "    </tr>\n",
       "  </tbody>\n",
       "</table>\n",
       "</div>"
      ],
      "text/plain": [
       "   Alcool  Malic_Acid    Po  Alcalinidade_po  Magnesio  Total_Phenols  \\\n",
       "0   14.23        1.71  2.43             15.6       127           2.80   \n",
       "1   13.20        1.78  2.14             11.2       100           2.65   \n",
       "2   13.16        2.36  2.67             18.6       101           2.80   \n",
       "3   14.37        1.95  2.50             16.8       113           3.85   \n",
       "4   13.24        2.59  2.87             21.0       118           2.80   \n",
       "\n",
       "   Flavanoids  Nonflavanoid_Phenols  Proanthocyanins  Intensidade_de_cor  \\\n",
       "0        3.06                  0.28             2.29                5.64   \n",
       "1        2.76                  0.26             1.28                4.38   \n",
       "2        3.24                  0.30             2.81                5.68   \n",
       "3        3.49                  0.24             2.18                7.80   \n",
       "4        2.69                  0.39             1.82                4.32   \n",
       "\n",
       "    Hue  OD280  Proline  \n",
       "0  1.04   3.92     1065  \n",
       "1  1.05   3.40     1050  \n",
       "2  1.03   3.17     1185  \n",
       "3  0.86   3.45     1480  \n",
       "4  1.04   2.93      735  "
      ]
     },
     "execution_count": 20,
     "metadata": {},
     "output_type": "execute_result"
    }
   ],
   "source": [
    "df.head()"
   ]
  },
  {
   "cell_type": "code",
   "execution_count": 21,
   "metadata": {},
   "outputs": [],
   "source": [
    "matriz_corr = df.corr()"
   ]
  },
  {
   "cell_type": "code",
   "execution_count": 22,
   "metadata": {},
   "outputs": [
    {
     "data": {
      "text/html": [
       "<div>\n",
       "<style scoped>\n",
       "    .dataframe tbody tr th:only-of-type {\n",
       "        vertical-align: middle;\n",
       "    }\n",
       "\n",
       "    .dataframe tbody tr th {\n",
       "        vertical-align: top;\n",
       "    }\n",
       "\n",
       "    .dataframe thead th {\n",
       "        text-align: right;\n",
       "    }\n",
       "</style>\n",
       "<table border=\"1\" class=\"dataframe\">\n",
       "  <thead>\n",
       "    <tr style=\"text-align: right;\">\n",
       "      <th></th>\n",
       "      <th>Alcool</th>\n",
       "      <th>Malic_Acid</th>\n",
       "      <th>Po</th>\n",
       "      <th>Alcalinidade_po</th>\n",
       "      <th>Magnesio</th>\n",
       "      <th>Total_Phenols</th>\n",
       "      <th>Flavanoids</th>\n",
       "      <th>Nonflavanoid_Phenols</th>\n",
       "      <th>Proanthocyanins</th>\n",
       "      <th>Intensidade_de_cor</th>\n",
       "      <th>Hue</th>\n",
       "      <th>OD280</th>\n",
       "      <th>Proline</th>\n",
       "    </tr>\n",
       "  </thead>\n",
       "  <tbody>\n",
       "    <tr>\n",
       "      <th>Alcool</th>\n",
       "      <td>1.000000</td>\n",
       "      <td>0.094397</td>\n",
       "      <td>0.211545</td>\n",
       "      <td>-0.310235</td>\n",
       "      <td>0.270798</td>\n",
       "      <td>0.289101</td>\n",
       "      <td>0.236815</td>\n",
       "      <td>-0.155929</td>\n",
       "      <td>0.136698</td>\n",
       "      <td>0.546364</td>\n",
       "      <td>-0.071747</td>\n",
       "      <td>0.072343</td>\n",
       "      <td>0.643720</td>\n",
       "    </tr>\n",
       "    <tr>\n",
       "      <th>Malic_Acid</th>\n",
       "      <td>0.094397</td>\n",
       "      <td>1.000000</td>\n",
       "      <td>0.164045</td>\n",
       "      <td>0.288500</td>\n",
       "      <td>-0.054575</td>\n",
       "      <td>-0.335167</td>\n",
       "      <td>-0.411007</td>\n",
       "      <td>0.292977</td>\n",
       "      <td>-0.220746</td>\n",
       "      <td>0.248985</td>\n",
       "      <td>-0.561296</td>\n",
       "      <td>-0.368710</td>\n",
       "      <td>-0.192011</td>\n",
       "    </tr>\n",
       "    <tr>\n",
       "      <th>Po</th>\n",
       "      <td>0.211545</td>\n",
       "      <td>0.164045</td>\n",
       "      <td>1.000000</td>\n",
       "      <td>0.443367</td>\n",
       "      <td>0.286587</td>\n",
       "      <td>0.128980</td>\n",
       "      <td>0.115077</td>\n",
       "      <td>0.186230</td>\n",
       "      <td>0.009652</td>\n",
       "      <td>0.258887</td>\n",
       "      <td>-0.074667</td>\n",
       "      <td>0.003911</td>\n",
       "      <td>0.223626</td>\n",
       "    </tr>\n",
       "    <tr>\n",
       "      <th>Alcalinidade_po</th>\n",
       "      <td>-0.310235</td>\n",
       "      <td>0.288500</td>\n",
       "      <td>0.443367</td>\n",
       "      <td>1.000000</td>\n",
       "      <td>-0.083333</td>\n",
       "      <td>-0.321113</td>\n",
       "      <td>-0.351370</td>\n",
       "      <td>0.361922</td>\n",
       "      <td>-0.197327</td>\n",
       "      <td>0.018732</td>\n",
       "      <td>-0.273955</td>\n",
       "      <td>-0.276769</td>\n",
       "      <td>-0.440597</td>\n",
       "    </tr>\n",
       "    <tr>\n",
       "      <th>Magnesio</th>\n",
       "      <td>0.270798</td>\n",
       "      <td>-0.054575</td>\n",
       "      <td>0.286587</td>\n",
       "      <td>-0.083333</td>\n",
       "      <td>1.000000</td>\n",
       "      <td>0.214401</td>\n",
       "      <td>0.195784</td>\n",
       "      <td>-0.256294</td>\n",
       "      <td>0.236441</td>\n",
       "      <td>0.199950</td>\n",
       "      <td>0.055398</td>\n",
       "      <td>0.066004</td>\n",
       "      <td>0.393351</td>\n",
       "    </tr>\n",
       "    <tr>\n",
       "      <th>Total_Phenols</th>\n",
       "      <td>0.289101</td>\n",
       "      <td>-0.335167</td>\n",
       "      <td>0.128980</td>\n",
       "      <td>-0.321113</td>\n",
       "      <td>0.214401</td>\n",
       "      <td>1.000000</td>\n",
       "      <td>0.864564</td>\n",
       "      <td>-0.449935</td>\n",
       "      <td>0.612413</td>\n",
       "      <td>-0.055136</td>\n",
       "      <td>0.433681</td>\n",
       "      <td>0.699949</td>\n",
       "      <td>0.498115</td>\n",
       "    </tr>\n",
       "    <tr>\n",
       "      <th>Flavanoids</th>\n",
       "      <td>0.236815</td>\n",
       "      <td>-0.411007</td>\n",
       "      <td>0.115077</td>\n",
       "      <td>-0.351370</td>\n",
       "      <td>0.195784</td>\n",
       "      <td>0.864564</td>\n",
       "      <td>1.000000</td>\n",
       "      <td>-0.537900</td>\n",
       "      <td>0.652692</td>\n",
       "      <td>-0.172379</td>\n",
       "      <td>0.543479</td>\n",
       "      <td>0.787194</td>\n",
       "      <td>0.494193</td>\n",
       "    </tr>\n",
       "    <tr>\n",
       "      <th>Nonflavanoid_Phenols</th>\n",
       "      <td>-0.155929</td>\n",
       "      <td>0.292977</td>\n",
       "      <td>0.186230</td>\n",
       "      <td>0.361922</td>\n",
       "      <td>-0.256294</td>\n",
       "      <td>-0.449935</td>\n",
       "      <td>-0.537900</td>\n",
       "      <td>1.000000</td>\n",
       "      <td>-0.365845</td>\n",
       "      <td>0.139057</td>\n",
       "      <td>-0.262640</td>\n",
       "      <td>-0.503270</td>\n",
       "      <td>-0.311385</td>\n",
       "    </tr>\n",
       "    <tr>\n",
       "      <th>Proanthocyanins</th>\n",
       "      <td>0.136698</td>\n",
       "      <td>-0.220746</td>\n",
       "      <td>0.009652</td>\n",
       "      <td>-0.197327</td>\n",
       "      <td>0.236441</td>\n",
       "      <td>0.612413</td>\n",
       "      <td>0.652692</td>\n",
       "      <td>-0.365845</td>\n",
       "      <td>1.000000</td>\n",
       "      <td>-0.025250</td>\n",
       "      <td>0.295544</td>\n",
       "      <td>0.519067</td>\n",
       "      <td>0.330417</td>\n",
       "    </tr>\n",
       "    <tr>\n",
       "      <th>Intensidade_de_cor</th>\n",
       "      <td>0.546364</td>\n",
       "      <td>0.248985</td>\n",
       "      <td>0.258887</td>\n",
       "      <td>0.018732</td>\n",
       "      <td>0.199950</td>\n",
       "      <td>-0.055136</td>\n",
       "      <td>-0.172379</td>\n",
       "      <td>0.139057</td>\n",
       "      <td>-0.025250</td>\n",
       "      <td>1.000000</td>\n",
       "      <td>-0.521813</td>\n",
       "      <td>-0.428815</td>\n",
       "      <td>0.316100</td>\n",
       "    </tr>\n",
       "    <tr>\n",
       "      <th>Hue</th>\n",
       "      <td>-0.071747</td>\n",
       "      <td>-0.561296</td>\n",
       "      <td>-0.074667</td>\n",
       "      <td>-0.273955</td>\n",
       "      <td>0.055398</td>\n",
       "      <td>0.433681</td>\n",
       "      <td>0.543479</td>\n",
       "      <td>-0.262640</td>\n",
       "      <td>0.295544</td>\n",
       "      <td>-0.521813</td>\n",
       "      <td>1.000000</td>\n",
       "      <td>0.565468</td>\n",
       "      <td>0.236183</td>\n",
       "    </tr>\n",
       "    <tr>\n",
       "      <th>OD280</th>\n",
       "      <td>0.072343</td>\n",
       "      <td>-0.368710</td>\n",
       "      <td>0.003911</td>\n",
       "      <td>-0.276769</td>\n",
       "      <td>0.066004</td>\n",
       "      <td>0.699949</td>\n",
       "      <td>0.787194</td>\n",
       "      <td>-0.503270</td>\n",
       "      <td>0.519067</td>\n",
       "      <td>-0.428815</td>\n",
       "      <td>0.565468</td>\n",
       "      <td>1.000000</td>\n",
       "      <td>0.312761</td>\n",
       "    </tr>\n",
       "    <tr>\n",
       "      <th>Proline</th>\n",
       "      <td>0.643720</td>\n",
       "      <td>-0.192011</td>\n",
       "      <td>0.223626</td>\n",
       "      <td>-0.440597</td>\n",
       "      <td>0.393351</td>\n",
       "      <td>0.498115</td>\n",
       "      <td>0.494193</td>\n",
       "      <td>-0.311385</td>\n",
       "      <td>0.330417</td>\n",
       "      <td>0.316100</td>\n",
       "      <td>0.236183</td>\n",
       "      <td>0.312761</td>\n",
       "      <td>1.000000</td>\n",
       "    </tr>\n",
       "  </tbody>\n",
       "</table>\n",
       "</div>"
      ],
      "text/plain": [
       "                        Alcool  Malic_Acid        Po  Alcalinidade_po  \\\n",
       "Alcool                1.000000    0.094397  0.211545        -0.310235   \n",
       "Malic_Acid            0.094397    1.000000  0.164045         0.288500   \n",
       "Po                    0.211545    0.164045  1.000000         0.443367   \n",
       "Alcalinidade_po      -0.310235    0.288500  0.443367         1.000000   \n",
       "Magnesio              0.270798   -0.054575  0.286587        -0.083333   \n",
       "Total_Phenols         0.289101   -0.335167  0.128980        -0.321113   \n",
       "Flavanoids            0.236815   -0.411007  0.115077        -0.351370   \n",
       "Nonflavanoid_Phenols -0.155929    0.292977  0.186230         0.361922   \n",
       "Proanthocyanins       0.136698   -0.220746  0.009652        -0.197327   \n",
       "Intensidade_de_cor    0.546364    0.248985  0.258887         0.018732   \n",
       "Hue                  -0.071747   -0.561296 -0.074667        -0.273955   \n",
       "OD280                 0.072343   -0.368710  0.003911        -0.276769   \n",
       "Proline               0.643720   -0.192011  0.223626        -0.440597   \n",
       "\n",
       "                      Magnesio  Total_Phenols  Flavanoids  \\\n",
       "Alcool                0.270798       0.289101    0.236815   \n",
       "Malic_Acid           -0.054575      -0.335167   -0.411007   \n",
       "Po                    0.286587       0.128980    0.115077   \n",
       "Alcalinidade_po      -0.083333      -0.321113   -0.351370   \n",
       "Magnesio              1.000000       0.214401    0.195784   \n",
       "Total_Phenols         0.214401       1.000000    0.864564   \n",
       "Flavanoids            0.195784       0.864564    1.000000   \n",
       "Nonflavanoid_Phenols -0.256294      -0.449935   -0.537900   \n",
       "Proanthocyanins       0.236441       0.612413    0.652692   \n",
       "Intensidade_de_cor    0.199950      -0.055136   -0.172379   \n",
       "Hue                   0.055398       0.433681    0.543479   \n",
       "OD280                 0.066004       0.699949    0.787194   \n",
       "Proline               0.393351       0.498115    0.494193   \n",
       "\n",
       "                      Nonflavanoid_Phenols  Proanthocyanins  \\\n",
       "Alcool                           -0.155929         0.136698   \n",
       "Malic_Acid                        0.292977        -0.220746   \n",
       "Po                                0.186230         0.009652   \n",
       "Alcalinidade_po                   0.361922        -0.197327   \n",
       "Magnesio                         -0.256294         0.236441   \n",
       "Total_Phenols                    -0.449935         0.612413   \n",
       "Flavanoids                       -0.537900         0.652692   \n",
       "Nonflavanoid_Phenols              1.000000        -0.365845   \n",
       "Proanthocyanins                  -0.365845         1.000000   \n",
       "Intensidade_de_cor                0.139057        -0.025250   \n",
       "Hue                              -0.262640         0.295544   \n",
       "OD280                            -0.503270         0.519067   \n",
       "Proline                          -0.311385         0.330417   \n",
       "\n",
       "                      Intensidade_de_cor       Hue     OD280   Proline  \n",
       "Alcool                          0.546364 -0.071747  0.072343  0.643720  \n",
       "Malic_Acid                      0.248985 -0.561296 -0.368710 -0.192011  \n",
       "Po                              0.258887 -0.074667  0.003911  0.223626  \n",
       "Alcalinidade_po                 0.018732 -0.273955 -0.276769 -0.440597  \n",
       "Magnesio                        0.199950  0.055398  0.066004  0.393351  \n",
       "Total_Phenols                  -0.055136  0.433681  0.699949  0.498115  \n",
       "Flavanoids                     -0.172379  0.543479  0.787194  0.494193  \n",
       "Nonflavanoid_Phenols            0.139057 -0.262640 -0.503270 -0.311385  \n",
       "Proanthocyanins                -0.025250  0.295544  0.519067  0.330417  \n",
       "Intensidade_de_cor              1.000000 -0.521813 -0.428815  0.316100  \n",
       "Hue                            -0.521813  1.000000  0.565468  0.236183  \n",
       "OD280                          -0.428815  0.565468  1.000000  0.312761  \n",
       "Proline                         0.316100  0.236183  0.312761  1.000000  "
      ]
     },
     "execution_count": 22,
     "metadata": {},
     "output_type": "execute_result"
    }
   ],
   "source": [
    "matriz_corr"
   ]
  },
  {
   "cell_type": "code",
   "execution_count": 23,
   "metadata": {},
   "outputs": [],
   "source": [
    "from biokit.viz import corrplot\r\n",
    "import matplotlib.pyplot as plt"
   ]
  },
  {
   "cell_type": "code",
   "execution_count": 24,
   "metadata": {},
   "outputs": [
    {
     "name": "stderr",
     "output_type": "stream",
     "text": [
      "D:\\anaconda3\\lib\\site-packages\\biokit\\viz\\linkage.py:41: ClusterWarning: scipy.cluster: The symmetric non-negative hollow observation matrix looks suspiciously like an uncondensed distance matrix\n",
      "  Y = hierarchy.linkage(D, method=method, metric=metric)\n"
     ]
    },
    {
     "ename": "AttributeError",
     "evalue": "'Colorbar' object has no attribute 'set_clim'",
     "output_type": "error",
     "traceback": [
      "\u001b[1;31m---------------------------------------------------------------------------\u001b[0m",
      "\u001b[1;31mAttributeError\u001b[0m                            Traceback (most recent call last)",
      "\u001b[1;32m<ipython-input-24-2203e86ac793>\u001b[0m in \u001b[0;36m<module>\u001b[1;34m\u001b[0m\n\u001b[0;32m      1\u001b[0m \u001b[0mcorr_graf\u001b[0m \u001b[1;33m=\u001b[0m \u001b[0mcorrplot\u001b[0m\u001b[1;33m.\u001b[0m\u001b[0mCorrplot\u001b[0m\u001b[1;33m(\u001b[0m\u001b[0mmatriz_corr\u001b[0m\u001b[1;33m)\u001b[0m\u001b[1;33m\u001b[0m\u001b[1;33m\u001b[0m\u001b[0m\n\u001b[1;32m----> 2\u001b[1;33m \u001b[0mcorr_graf\u001b[0m\u001b[1;33m.\u001b[0m\u001b[0mplot\u001b[0m\u001b[1;33m(\u001b[0m\u001b[0mfontsize\u001b[0m\u001b[1;33m=\u001b[0m\u001b[1;34m'large'\u001b[0m\u001b[1;33m,\u001b[0m \u001b[0mupper\u001b[0m\u001b[1;33m=\u001b[0m\u001b[1;34m'ellipse'\u001b[0m\u001b[1;33m)\u001b[0m\u001b[1;33m\u001b[0m\u001b[1;33m\u001b[0m\u001b[0m\n\u001b[0m\u001b[0;32m      3\u001b[0m \u001b[0mfig\u001b[0m \u001b[1;33m=\u001b[0m \u001b[0mplt\u001b[0m\u001b[1;33m.\u001b[0m\u001b[0mgcf\u001b[0m\u001b[1;33m(\u001b[0m\u001b[1;33m)\u001b[0m\u001b[1;33m\u001b[0m\u001b[1;33m\u001b[0m\u001b[0m\n\u001b[0;32m      4\u001b[0m \u001b[0mfig\u001b[0m\u001b[1;33m.\u001b[0m\u001b[0mset_size_inches\u001b[0m\u001b[1;33m(\u001b[0m\u001b[1;36m13\u001b[0m\u001b[1;33m,\u001b[0m\u001b[1;36m8\u001b[0m\u001b[1;33m)\u001b[0m\u001b[1;33m\u001b[0m\u001b[1;33m\u001b[0m\u001b[0m\n\u001b[0;32m      5\u001b[0m \u001b[0mfig\u001b[0m\u001b[1;33m.\u001b[0m\u001b[0mshow\u001b[0m\u001b[1;33m(\u001b[0m\u001b[1;33m)\u001b[0m\u001b[1;33m\u001b[0m\u001b[1;33m\u001b[0m\u001b[0m\n",
      "\u001b[1;32mD:\\anaconda3\\lib\\site-packages\\biokit\\viz\\corrplot.py\u001b[0m in \u001b[0;36mplot\u001b[1;34m(self, fig, grid, rotation, lower, upper, shrink, facecolor, colorbar, label_color, fontsize, edgecolor, method, order_method, order_metric, cmap, ax, binarise_color)\u001b[0m\n\u001b[0;32m    333\u001b[0m                 boundaries= np.linspace(0,1,N), ticks=[0,.25, 0.5, 0.75,1])\n\u001b[0;32m    334\u001b[0m             \u001b[0mcb\u001b[0m\u001b[1;33m.\u001b[0m\u001b[0max\u001b[0m\u001b[1;33m.\u001b[0m\u001b[0mset_yticklabels\u001b[0m\u001b[1;33m(\u001b[0m\u001b[1;33m[\u001b[0m\u001b[1;33m-\u001b[0m\u001b[1;36m1\u001b[0m\u001b[1;33m,\u001b[0m\u001b[1;33m-\u001b[0m\u001b[1;36m.5\u001b[0m\u001b[1;33m,\u001b[0m\u001b[1;36m0\u001b[0m\u001b[1;33m,\u001b[0m\u001b[1;36m.5\u001b[0m\u001b[1;33m,\u001b[0m\u001b[1;36m1\u001b[0m\u001b[1;33m]\u001b[0m\u001b[1;33m)\u001b[0m\u001b[1;33m\u001b[0m\u001b[1;33m\u001b[0m\u001b[0m\n\u001b[1;32m--> 335\u001b[1;33m             \u001b[0mcb\u001b[0m\u001b[1;33m.\u001b[0m\u001b[0mset_clim\u001b[0m\u001b[1;33m(\u001b[0m\u001b[1;36m0\u001b[0m\u001b[1;33m,\u001b[0m\u001b[1;36m1\u001b[0m\u001b[1;33m)\u001b[0m \u001b[1;31m# make sure it goes from -1 to 1 even though actual values may not reach that range\u001b[0m\u001b[1;33m\u001b[0m\u001b[1;33m\u001b[0m\u001b[0m\n\u001b[0m\u001b[0;32m    336\u001b[0m \u001b[1;33m\u001b[0m\u001b[0m\n\u001b[0;32m    337\u001b[0m     \u001b[1;32mdef\u001b[0m \u001b[0m_add_patches\u001b[0m\u001b[1;33m(\u001b[0m\u001b[0mself\u001b[0m\u001b[1;33m,\u001b[0m \u001b[0mdf\u001b[0m\u001b[1;33m,\u001b[0m \u001b[0mmethod\u001b[0m\u001b[1;33m,\u001b[0m \u001b[0mfill\u001b[0m\u001b[1;33m,\u001b[0m \u001b[0max\u001b[0m\u001b[1;33m,\u001b[0m \u001b[0mdiagonal\u001b[0m\u001b[1;33m=\u001b[0m\u001b[1;32mTrue\u001b[0m\u001b[1;33m)\u001b[0m\u001b[1;33m:\u001b[0m\u001b[1;33m\u001b[0m\u001b[1;33m\u001b[0m\u001b[0m\n",
      "\u001b[1;31mAttributeError\u001b[0m: 'Colorbar' object has no attribute 'set_clim'"
     ]
    },
    {
     "data": {
      "image/png": "[encoded data removed]",
      "text/plain": [
       "<Figure size 432x288 with 2 Axes>"
      ]
     },
     "metadata": {},
     "output_type": "display_data"
    }
   ],
   "source": [
    "corr_graf = corrplot.Corrplot(matriz_corr)\r\n",
    "corr_graf.plot(fontsize='large', upper='ellipse')\r\n",
    "fig = plt.gcf()\r\n",
    "fig.set_size_inches(13,8)\r\n",
    "fig.show()"
   ]
  },
  {
   "cell_type": "code",
   "execution_count": 25,
   "metadata": {},
   "outputs": [
    {
     "data": {
      "text/html": [
       "<div>\n",
       "<style scoped>\n",
       "    .dataframe tbody tr th:only-of-type {\n",
       "        vertical-align: middle;\n",
       "    }\n",
       "\n",
       "    .dataframe tbody tr th {\n",
       "        vertical-align: top;\n",
       "    }\n",
       "\n",
       "    .dataframe thead th {\n",
       "        text-align: right;\n",
       "    }\n",
       "</style>\n",
       "<table border=\"1\" class=\"dataframe\">\n",
       "  <thead>\n",
       "    <tr style=\"text-align: right;\">\n",
       "      <th></th>\n",
       "      <th>Alcool</th>\n",
       "      <th>Malic_Acid</th>\n",
       "      <th>Po</th>\n",
       "      <th>Alcalinidade_po</th>\n",
       "      <th>Magnesio</th>\n",
       "      <th>Total_Phenols</th>\n",
       "      <th>Flavanoids</th>\n",
       "      <th>Nonflavanoid_Phenols</th>\n",
       "      <th>Proanthocyanins</th>\n",
       "      <th>Intensidade_de_cor</th>\n",
       "      <th>Hue</th>\n",
       "      <th>OD280</th>\n",
       "      <th>Proline</th>\n",
       "    </tr>\n",
       "  </thead>\n",
       "  <tbody>\n",
       "    <tr>\n",
       "      <th>count</th>\n",
       "      <td>178.000000</td>\n",
       "      <td>178.000000</td>\n",
       "      <td>178.000000</td>\n",
       "      <td>178.000000</td>\n",
       "      <td>178.000000</td>\n",
       "      <td>178.000000</td>\n",
       "      <td>178.000000</td>\n",
       "      <td>178.000000</td>\n",
       "      <td>178.000000</td>\n",
       "      <td>178.000000</td>\n",
       "      <td>178.000000</td>\n",
       "      <td>178.000000</td>\n",
       "      <td>178.000000</td>\n",
       "    </tr>\n",
       "    <tr>\n",
       "      <th>mean</th>\n",
       "      <td>13.000618</td>\n",
       "      <td>2.336348</td>\n",
       "      <td>2.366517</td>\n",
       "      <td>19.494944</td>\n",
       "      <td>99.741573</td>\n",
       "      <td>2.295112</td>\n",
       "      <td>2.029270</td>\n",
       "      <td>0.361854</td>\n",
       "      <td>1.590899</td>\n",
       "      <td>5.058090</td>\n",
       "      <td>0.957449</td>\n",
       "      <td>2.611685</td>\n",
       "      <td>746.893258</td>\n",
       "    </tr>\n",
       "    <tr>\n",
       "      <th>std</th>\n",
       "      <td>0.811827</td>\n",
       "      <td>1.117146</td>\n",
       "      <td>0.274344</td>\n",
       "      <td>3.339564</td>\n",
       "      <td>14.282484</td>\n",
       "      <td>0.625851</td>\n",
       "      <td>0.998859</td>\n",
       "      <td>0.124453</td>\n",
       "      <td>0.572359</td>\n",
       "      <td>2.318286</td>\n",
       "      <td>0.228572</td>\n",
       "      <td>0.709990</td>\n",
       "      <td>314.907474</td>\n",
       "    </tr>\n",
       "    <tr>\n",
       "      <th>min</th>\n",
       "      <td>11.030000</td>\n",
       "      <td>0.740000</td>\n",
       "      <td>1.360000</td>\n",
       "      <td>10.600000</td>\n",
       "      <td>70.000000</td>\n",
       "      <td>0.980000</td>\n",
       "      <td>0.340000</td>\n",
       "      <td>0.130000</td>\n",
       "      <td>0.410000</td>\n",
       "      <td>1.280000</td>\n",
       "      <td>0.480000</td>\n",
       "      <td>1.270000</td>\n",
       "      <td>278.000000</td>\n",
       "    </tr>\n",
       "    <tr>\n",
       "      <th>25%</th>\n",
       "      <td>12.362500</td>\n",
       "      <td>1.602500</td>\n",
       "      <td>2.210000</td>\n",
       "      <td>17.200000</td>\n",
       "      <td>88.000000</td>\n",
       "      <td>1.742500</td>\n",
       "      <td>1.205000</td>\n",
       "      <td>0.270000</td>\n",
       "      <td>1.250000</td>\n",
       "      <td>3.220000</td>\n",
       "      <td>0.782500</td>\n",
       "      <td>1.937500</td>\n",
       "      <td>500.500000</td>\n",
       "    </tr>\n",
       "    <tr>\n",
       "      <th>50%</th>\n",
       "      <td>13.050000</td>\n",
       "      <td>1.865000</td>\n",
       "      <td>2.360000</td>\n",
       "      <td>19.500000</td>\n",
       "      <td>98.000000</td>\n",
       "      <td>2.355000</td>\n",
       "      <td>2.135000</td>\n",
       "      <td>0.340000</td>\n",
       "      <td>1.555000</td>\n",
       "      <td>4.690000</td>\n",
       "      <td>0.965000</td>\n",
       "      <td>2.780000</td>\n",
       "      <td>673.500000</td>\n",
       "    </tr>\n",
       "    <tr>\n",
       "      <th>75%</th>\n",
       "      <td>13.677500</td>\n",
       "      <td>3.082500</td>\n",
       "      <td>2.557500</td>\n",
       "      <td>21.500000</td>\n",
       "      <td>107.000000</td>\n",
       "      <td>2.800000</td>\n",
       "      <td>2.875000</td>\n",
       "      <td>0.437500</td>\n",
       "      <td>1.950000</td>\n",
       "      <td>6.200000</td>\n",
       "      <td>1.120000</td>\n",
       "      <td>3.170000</td>\n",
       "      <td>985.000000</td>\n",
       "    </tr>\n",
       "    <tr>\n",
       "      <th>max</th>\n",
       "      <td>14.830000</td>\n",
       "      <td>5.800000</td>\n",
       "      <td>3.230000</td>\n",
       "      <td>30.000000</td>\n",
       "      <td>162.000000</td>\n",
       "      <td>3.880000</td>\n",
       "      <td>5.080000</td>\n",
       "      <td>0.660000</td>\n",
       "      <td>3.580000</td>\n",
       "      <td>13.000000</td>\n",
       "      <td>1.710000</td>\n",
       "      <td>4.000000</td>\n",
       "      <td>1680.000000</td>\n",
       "    </tr>\n",
       "  </tbody>\n",
       "</table>\n",
       "</div>"
      ],
      "text/plain": [
       "           Alcool  Malic_Acid          Po  Alcalinidade_po    Magnesio  \\\n",
       "count  178.000000  178.000000  178.000000       178.000000  178.000000   \n",
       "mean    13.000618    2.336348    2.366517        19.494944   99.741573   \n",
       "std      0.811827    1.117146    0.274344         3.339564   14.282484   \n",
       "min     11.030000    0.740000    1.360000        10.600000   70.000000   \n",
       "25%     12.362500    1.602500    2.210000        17.200000   88.000000   \n",
       "50%     13.050000    1.865000    2.360000        19.500000   98.000000   \n",
       "75%     13.677500    3.082500    2.557500        21.500000  107.000000   \n",
       "max     14.830000    5.800000    3.230000        30.000000  162.000000   \n",
       "\n",
       "       Total_Phenols  Flavanoids  Nonflavanoid_Phenols  Proanthocyanins  \\\n",
       "count     178.000000  178.000000            178.000000       178.000000   \n",
       "mean        2.295112    2.029270              0.361854         1.590899   \n",
       "std         0.625851    0.998859              0.124453         0.572359   \n",
       "min         0.980000    0.340000              0.130000         0.410000   \n",
       "25%         1.742500    1.205000              0.270000         1.250000   \n",
       "50%         2.355000    2.135000              0.340000         1.555000   \n",
       "75%         2.800000    2.875000              0.437500         1.950000   \n",
       "max         3.880000    5.080000              0.660000         3.580000   \n",
       "\n",
       "       Intensidade_de_cor         Hue       OD280      Proline  \n",
       "count          178.000000  178.000000  178.000000   178.000000  \n",
       "mean             5.058090    0.957449    2.611685   746.893258  \n",
       "std              2.318286    0.228572    0.709990   314.907474  \n",
       "min              1.280000    0.480000    1.270000   278.000000  \n",
       "25%              3.220000    0.782500    1.937500   500.500000  \n",
       "50%              4.690000    0.965000    2.780000   673.500000  \n",
       "75%              6.200000    1.120000    3.170000   985.000000  \n",
       "max             13.000000    1.710000    4.000000  1680.000000  "
      ]
     },
     "execution_count": 25,
     "metadata": {},
     "output_type": "execute_result"
    }
   ],
   "source": [
    "df.describe()"
   ]
  },
  {
   "cell_type": "code",
   "execution_count": 26,
   "metadata": {},
   "outputs": [],
   "source": [
    "colunas = df.columns"
   ]
  },
  {
   "cell_type": "code",
   "execution_count": 27,
   "metadata": {},
   "outputs": [
    {
     "data": {
      "text/plain": [
       "Index(['Alcool', 'Malic_Acid', 'Po', 'Alcalinidade_po', 'Magnesio',\n",
       "       'Total_Phenols', 'Flavanoids', 'Nonflavanoid_Phenols',\n",
       "       'Proanthocyanins', 'Intensidade_de_cor', 'Hue', 'OD280', 'Proline'],\n",
       "      dtype='object')"
      ]
     },
     "execution_count": 27,
     "metadata": {},
     "output_type": "execute_result"
    }
   ],
   "source": [
    "colunas"
   ]
  },
  {
   "cell_type": "code",
   "execution_count": 28,
   "metadata": {},
   "outputs": [],
   "source": [
    "# for atributo in atributos:\r\n",
    "#    df[atributo]= (df[atributo] - min(df[atributo]))/(max(df[atributo])- min(df[atributo])) #min e max scaller"
   ]
  },
  {
   "cell_type": "code",
   "execution_count": 29,
   "metadata": {},
   "outputs": [
    {
     "data": {
      "text/html": [
       "<div>\n",
       "<style scoped>\n",
       "    .dataframe tbody tr th:only-of-type {\n",
       "        vertical-align: middle;\n",
       "    }\n",
       "\n",
       "    .dataframe tbody tr th {\n",
       "        vertical-align: top;\n",
       "    }\n",
       "\n",
       "    .dataframe thead th {\n",
       "        text-align: right;\n",
       "    }\n",
       "</style>\n",
       "<table border=\"1\" class=\"dataframe\">\n",
       "  <thead>\n",
       "    <tr style=\"text-align: right;\">\n",
       "      <th></th>\n",
       "      <th>Alcool</th>\n",
       "      <th>Malic_Acid</th>\n",
       "      <th>Po</th>\n",
       "      <th>Alcalinidade_po</th>\n",
       "      <th>Magnesio</th>\n",
       "      <th>Total_Phenols</th>\n",
       "      <th>Flavanoids</th>\n",
       "      <th>Nonflavanoid_Phenols</th>\n",
       "      <th>Proanthocyanins</th>\n",
       "      <th>Intensidade_de_cor</th>\n",
       "      <th>Hue</th>\n",
       "      <th>OD280</th>\n",
       "      <th>Proline</th>\n",
       "    </tr>\n",
       "  </thead>\n",
       "  <tbody>\n",
       "    <tr>\n",
       "      <th>0</th>\n",
       "      <td>14.23</td>\n",
       "      <td>1.71</td>\n",
       "      <td>2.43</td>\n",
       "      <td>15.6</td>\n",
       "      <td>127</td>\n",
       "      <td>2.80</td>\n",
       "      <td>3.06</td>\n",
       "      <td>0.28</td>\n",
       "      <td>2.29</td>\n",
       "      <td>5.64</td>\n",
       "      <td>1.04</td>\n",
       "      <td>3.92</td>\n",
       "      <td>1065</td>\n",
       "    </tr>\n",
       "    <tr>\n",
       "      <th>1</th>\n",
       "      <td>13.20</td>\n",
       "      <td>1.78</td>\n",
       "      <td>2.14</td>\n",
       "      <td>11.2</td>\n",
       "      <td>100</td>\n",
       "      <td>2.65</td>\n",
       "      <td>2.76</td>\n",
       "      <td>0.26</td>\n",
       "      <td>1.28</td>\n",
       "      <td>4.38</td>\n",
       "      <td>1.05</td>\n",
       "      <td>3.40</td>\n",
       "      <td>1050</td>\n",
       "    </tr>\n",
       "    <tr>\n",
       "      <th>2</th>\n",
       "      <td>13.16</td>\n",
       "      <td>2.36</td>\n",
       "      <td>2.67</td>\n",
       "      <td>18.6</td>\n",
       "      <td>101</td>\n",
       "      <td>2.80</td>\n",
       "      <td>3.24</td>\n",
       "      <td>0.30</td>\n",
       "      <td>2.81</td>\n",
       "      <td>5.68</td>\n",
       "      <td>1.03</td>\n",
       "      <td>3.17</td>\n",
       "      <td>1185</td>\n",
       "    </tr>\n",
       "    <tr>\n",
       "      <th>3</th>\n",
       "      <td>14.37</td>\n",
       "      <td>1.95</td>\n",
       "      <td>2.50</td>\n",
       "      <td>16.8</td>\n",
       "      <td>113</td>\n",
       "      <td>3.85</td>\n",
       "      <td>3.49</td>\n",
       "      <td>0.24</td>\n",
       "      <td>2.18</td>\n",
       "      <td>7.80</td>\n",
       "      <td>0.86</td>\n",
       "      <td>3.45</td>\n",
       "      <td>1480</td>\n",
       "    </tr>\n",
       "    <tr>\n",
       "      <th>4</th>\n",
       "      <td>13.24</td>\n",
       "      <td>2.59</td>\n",
       "      <td>2.87</td>\n",
       "      <td>21.0</td>\n",
       "      <td>118</td>\n",
       "      <td>2.80</td>\n",
       "      <td>2.69</td>\n",
       "      <td>0.39</td>\n",
       "      <td>1.82</td>\n",
       "      <td>4.32</td>\n",
       "      <td>1.04</td>\n",
       "      <td>2.93</td>\n",
       "      <td>735</td>\n",
       "    </tr>\n",
       "  </tbody>\n",
       "</table>\n",
       "</div>"
      ],
      "text/plain": [
       "   Alcool  Malic_Acid    Po  Alcalinidade_po  Magnesio  Total_Phenols  \\\n",
       "0   14.23        1.71  2.43             15.6       127           2.80   \n",
       "1   13.20        1.78  2.14             11.2       100           2.65   \n",
       "2   13.16        2.36  2.67             18.6       101           2.80   \n",
       "3   14.37        1.95  2.50             16.8       113           3.85   \n",
       "4   13.24        2.59  2.87             21.0       118           2.80   \n",
       "\n",
       "   Flavanoids  Nonflavanoid_Phenols  Proanthocyanins  Intensidade_de_cor  \\\n",
       "0        3.06                  0.28             2.29                5.64   \n",
       "1        2.76                  0.26             1.28                4.38   \n",
       "2        3.24                  0.30             2.81                5.68   \n",
       "3        3.49                  0.24             2.18                7.80   \n",
       "4        2.69                  0.39             1.82                4.32   \n",
       "\n",
       "    Hue  OD280  Proline  \n",
       "0  1.04   3.92     1065  \n",
       "1  1.05   3.40     1050  \n",
       "2  1.03   3.17     1185  \n",
       "3  0.86   3.45     1480  \n",
       "4  1.04   2.93      735  "
      ]
     },
     "execution_count": 29,
     "metadata": {},
     "output_type": "execute_result"
    }
   ],
   "source": [
    "df.head()"
   ]
  },
  {
   "cell_type": "code",
   "execution_count": 30,
   "metadata": {},
   "outputs": [
    {
     "data": {
      "text/html": [
       "<div>\n",
       "<style scoped>\n",
       "    .dataframe tbody tr th:only-of-type {\n",
       "        vertical-align: middle;\n",
       "    }\n",
       "\n",
       "    .dataframe tbody tr th {\n",
       "        vertical-align: top;\n",
       "    }\n",
       "\n",
       "    .dataframe thead th {\n",
       "        text-align: right;\n",
       "    }\n",
       "</style>\n",
       "<table border=\"1\" class=\"dataframe\">\n",
       "  <thead>\n",
       "    <tr style=\"text-align: right;\">\n",
       "      <th></th>\n",
       "      <th>Alcool</th>\n",
       "      <th>Malic_Acid</th>\n",
       "      <th>Po</th>\n",
       "      <th>Alcalinidade_po</th>\n",
       "      <th>Magnesio</th>\n",
       "      <th>Total_Phenols</th>\n",
       "      <th>Flavanoids</th>\n",
       "      <th>Nonflavanoid_Phenols</th>\n",
       "      <th>Proanthocyanins</th>\n",
       "      <th>Intensidade_de_cor</th>\n",
       "      <th>Hue</th>\n",
       "      <th>OD280</th>\n",
       "      <th>Proline</th>\n",
       "    </tr>\n",
       "  </thead>\n",
       "  <tbody>\n",
       "    <tr>\n",
       "      <th>count</th>\n",
       "      <td>178.000000</td>\n",
       "      <td>178.000000</td>\n",
       "      <td>178.000000</td>\n",
       "      <td>178.000000</td>\n",
       "      <td>178.000000</td>\n",
       "      <td>178.000000</td>\n",
       "      <td>178.000000</td>\n",
       "      <td>178.000000</td>\n",
       "      <td>178.000000</td>\n",
       "      <td>178.000000</td>\n",
       "      <td>178.000000</td>\n",
       "      <td>178.000000</td>\n",
       "      <td>178.000000</td>\n",
       "    </tr>\n",
       "    <tr>\n",
       "      <th>mean</th>\n",
       "      <td>13.000618</td>\n",
       "      <td>2.336348</td>\n",
       "      <td>2.366517</td>\n",
       "      <td>19.494944</td>\n",
       "      <td>99.741573</td>\n",
       "      <td>2.295112</td>\n",
       "      <td>2.029270</td>\n",
       "      <td>0.361854</td>\n",
       "      <td>1.590899</td>\n",
       "      <td>5.058090</td>\n",
       "      <td>0.957449</td>\n",
       "      <td>2.611685</td>\n",
       "      <td>746.893258</td>\n",
       "    </tr>\n",
       "    <tr>\n",
       "      <th>std</th>\n",
       "      <td>0.811827</td>\n",
       "      <td>1.117146</td>\n",
       "      <td>0.274344</td>\n",
       "      <td>3.339564</td>\n",
       "      <td>14.282484</td>\n",
       "      <td>0.625851</td>\n",
       "      <td>0.998859</td>\n",
       "      <td>0.124453</td>\n",
       "      <td>0.572359</td>\n",
       "      <td>2.318286</td>\n",
       "      <td>0.228572</td>\n",
       "      <td>0.709990</td>\n",
       "      <td>314.907474</td>\n",
       "    </tr>\n",
       "    <tr>\n",
       "      <th>min</th>\n",
       "      <td>11.030000</td>\n",
       "      <td>0.740000</td>\n",
       "      <td>1.360000</td>\n",
       "      <td>10.600000</td>\n",
       "      <td>70.000000</td>\n",
       "      <td>0.980000</td>\n",
       "      <td>0.340000</td>\n",
       "      <td>0.130000</td>\n",
       "      <td>0.410000</td>\n",
       "      <td>1.280000</td>\n",
       "      <td>0.480000</td>\n",
       "      <td>1.270000</td>\n",
       "      <td>278.000000</td>\n",
       "    </tr>\n",
       "    <tr>\n",
       "      <th>25%</th>\n",
       "      <td>12.362500</td>\n",
       "      <td>1.602500</td>\n",
       "      <td>2.210000</td>\n",
       "      <td>17.200000</td>\n",
       "      <td>88.000000</td>\n",
       "      <td>1.742500</td>\n",
       "      <td>1.205000</td>\n",
       "      <td>0.270000</td>\n",
       "      <td>1.250000</td>\n",
       "      <td>3.220000</td>\n",
       "      <td>0.782500</td>\n",
       "      <td>1.937500</td>\n",
       "      <td>500.500000</td>\n",
       "    </tr>\n",
       "    <tr>\n",
       "      <th>50%</th>\n",
       "      <td>13.050000</td>\n",
       "      <td>1.865000</td>\n",
       "      <td>2.360000</td>\n",
       "      <td>19.500000</td>\n",
       "      <td>98.000000</td>\n",
       "      <td>2.355000</td>\n",
       "      <td>2.135000</td>\n",
       "      <td>0.340000</td>\n",
       "      <td>1.555000</td>\n",
       "      <td>4.690000</td>\n",
       "      <td>0.965000</td>\n",
       "      <td>2.780000</td>\n",
       "      <td>673.500000</td>\n",
       "    </tr>\n",
       "    <tr>\n",
       "      <th>75%</th>\n",
       "      <td>13.677500</td>\n",
       "      <td>3.082500</td>\n",
       "      <td>2.557500</td>\n",
       "      <td>21.500000</td>\n",
       "      <td>107.000000</td>\n",
       "      <td>2.800000</td>\n",
       "      <td>2.875000</td>\n",
       "      <td>0.437500</td>\n",
       "      <td>1.950000</td>\n",
       "      <td>6.200000</td>\n",
       "      <td>1.120000</td>\n",
       "      <td>3.170000</td>\n",
       "      <td>985.000000</td>\n",
       "    </tr>\n",
       "    <tr>\n",
       "      <th>max</th>\n",
       "      <td>14.830000</td>\n",
       "      <td>5.800000</td>\n",
       "      <td>3.230000</td>\n",
       "      <td>30.000000</td>\n",
       "      <td>162.000000</td>\n",
       "      <td>3.880000</td>\n",
       "      <td>5.080000</td>\n",
       "      <td>0.660000</td>\n",
       "      <td>3.580000</td>\n",
       "      <td>13.000000</td>\n",
       "      <td>1.710000</td>\n",
       "      <td>4.000000</td>\n",
       "      <td>1680.000000</td>\n",
       "    </tr>\n",
       "  </tbody>\n",
       "</table>\n",
       "</div>"
      ],
      "text/plain": [
       "           Alcool  Malic_Acid          Po  Alcalinidade_po    Magnesio  \\\n",
       "count  178.000000  178.000000  178.000000       178.000000  178.000000   \n",
       "mean    13.000618    2.336348    2.366517        19.494944   99.741573   \n",
       "std      0.811827    1.117146    0.274344         3.339564   14.282484   \n",
       "min     11.030000    0.740000    1.360000        10.600000   70.000000   \n",
       "25%     12.362500    1.602500    2.210000        17.200000   88.000000   \n",
       "50%     13.050000    1.865000    2.360000        19.500000   98.000000   \n",
       "75%     13.677500    3.082500    2.557500        21.500000  107.000000   \n",
       "max     14.830000    5.800000    3.230000        30.000000  162.000000   \n",
       "\n",
       "       Total_Phenols  Flavanoids  Nonflavanoid_Phenols  Proanthocyanins  \\\n",
       "count     178.000000  178.000000            178.000000       178.000000   \n",
       "mean        2.295112    2.029270              0.361854         1.590899   \n",
       "std         0.625851    0.998859              0.124453         0.572359   \n",
       "min         0.980000    0.340000              0.130000         0.410000   \n",
       "25%         1.742500    1.205000              0.270000         1.250000   \n",
       "50%         2.355000    2.135000              0.340000         1.555000   \n",
       "75%         2.800000    2.875000              0.437500         1.950000   \n",
       "max         3.880000    5.080000              0.660000         3.580000   \n",
       "\n",
       "       Intensidade_de_cor         Hue       OD280      Proline  \n",
       "count          178.000000  178.000000  178.000000   178.000000  \n",
       "mean             5.058090    0.957449    2.611685   746.893258  \n",
       "std              2.318286    0.228572    0.709990   314.907474  \n",
       "min              1.280000    0.480000    1.270000   278.000000  \n",
       "25%              3.220000    0.782500    1.937500   500.500000  \n",
       "50%              4.690000    0.965000    2.780000   673.500000  \n",
       "75%              6.200000    1.120000    3.170000   985.000000  \n",
       "max             13.000000    1.710000    4.000000  1680.000000  "
      ]
     },
     "execution_count": 30,
     "metadata": {},
     "output_type": "execute_result"
    }
   ],
   "source": [
    "df.describe()"
   ]
  },
  {
   "cell_type": "code",
   "execution_count": 31,
   "metadata": {},
   "outputs": [],
   "source": [
    "from sklearn import preprocessing"
   ]
  },
  {
   "cell_type": "code",
   "execution_count": 32,
   "metadata": {},
   "outputs": [],
   "source": [
    "min_max_scaler = preprocessing.MinMaxScaler()\r\n",
    "np_df = min_max_scaler.fit_transform(df)"
   ]
  },
  {
   "cell_type": "code",
   "execution_count": 33,
   "metadata": {},
   "outputs": [],
   "source": [
    "df = pd.DataFrame(np_df, columns=colunas)"
   ]
  },
  {
   "cell_type": "code",
   "execution_count": 34,
   "metadata": {},
   "outputs": [
    {
     "data": {
      "text/html": [
       "<div>\n",
       "<style scoped>\n",
       "    .dataframe tbody tr th:only-of-type {\n",
       "        vertical-align: middle;\n",
       "    }\n",
       "\n",
       "    .dataframe tbody tr th {\n",
       "        vertical-align: top;\n",
       "    }\n",
       "\n",
       "    .dataframe thead th {\n",
       "        text-align: right;\n",
       "    }\n",
       "</style>\n",
       "<table border=\"1\" class=\"dataframe\">\n",
       "  <thead>\n",
       "    <tr style=\"text-align: right;\">\n",
       "      <th></th>\n",
       "      <th>Alcool</th>\n",
       "      <th>Malic_Acid</th>\n",
       "      <th>Po</th>\n",
       "      <th>Alcalinidade_po</th>\n",
       "      <th>Magnesio</th>\n",
       "      <th>Total_Phenols</th>\n",
       "      <th>Flavanoids</th>\n",
       "      <th>Nonflavanoid_Phenols</th>\n",
       "      <th>Proanthocyanins</th>\n",
       "      <th>Intensidade_de_cor</th>\n",
       "      <th>Hue</th>\n",
       "      <th>OD280</th>\n",
       "      <th>Proline</th>\n",
       "    </tr>\n",
       "  </thead>\n",
       "  <tbody>\n",
       "    <tr>\n",
       "      <th>count</th>\n",
       "      <td>178.000000</td>\n",
       "      <td>178.000000</td>\n",
       "      <td>178.000000</td>\n",
       "      <td>178.000000</td>\n",
       "      <td>178.000000</td>\n",
       "      <td>178.000000</td>\n",
       "      <td>178.000000</td>\n",
       "      <td>178.000000</td>\n",
       "      <td>178.000000</td>\n",
       "      <td>178.000000</td>\n",
       "      <td>178.000000</td>\n",
       "      <td>178.000000</td>\n",
       "      <td>178.000000</td>\n",
       "    </tr>\n",
       "    <tr>\n",
       "      <th>mean</th>\n",
       "      <td>0.518584</td>\n",
       "      <td>0.315484</td>\n",
       "      <td>0.538244</td>\n",
       "      <td>0.458502</td>\n",
       "      <td>0.323278</td>\n",
       "      <td>0.453487</td>\n",
       "      <td>0.356386</td>\n",
       "      <td>0.437460</td>\n",
       "      <td>0.372523</td>\n",
       "      <td>0.322363</td>\n",
       "      <td>0.388170</td>\n",
       "      <td>0.491460</td>\n",
       "      <td>0.334446</td>\n",
       "    </tr>\n",
       "    <tr>\n",
       "      <th>std</th>\n",
       "      <td>0.213639</td>\n",
       "      <td>0.220780</td>\n",
       "      <td>0.146708</td>\n",
       "      <td>0.172142</td>\n",
       "      <td>0.155244</td>\n",
       "      <td>0.215811</td>\n",
       "      <td>0.210730</td>\n",
       "      <td>0.234818</td>\n",
       "      <td>0.180555</td>\n",
       "      <td>0.197806</td>\n",
       "      <td>0.185831</td>\n",
       "      <td>0.260070</td>\n",
       "      <td>0.224613</td>\n",
       "    </tr>\n",
       "    <tr>\n",
       "      <th>min</th>\n",
       "      <td>0.000000</td>\n",
       "      <td>0.000000</td>\n",
       "      <td>0.000000</td>\n",
       "      <td>0.000000</td>\n",
       "      <td>0.000000</td>\n",
       "      <td>0.000000</td>\n",
       "      <td>0.000000</td>\n",
       "      <td>0.000000</td>\n",
       "      <td>0.000000</td>\n",
       "      <td>0.000000</td>\n",
       "      <td>0.000000</td>\n",
       "      <td>0.000000</td>\n",
       "      <td>0.000000</td>\n",
       "    </tr>\n",
       "    <tr>\n",
       "      <th>25%</th>\n",
       "      <td>0.350658</td>\n",
       "      <td>0.170455</td>\n",
       "      <td>0.454545</td>\n",
       "      <td>0.340206</td>\n",
       "      <td>0.195652</td>\n",
       "      <td>0.262931</td>\n",
       "      <td>0.182489</td>\n",
       "      <td>0.264151</td>\n",
       "      <td>0.264984</td>\n",
       "      <td>0.165529</td>\n",
       "      <td>0.245935</td>\n",
       "      <td>0.244505</td>\n",
       "      <td>0.158702</td>\n",
       "    </tr>\n",
       "    <tr>\n",
       "      <th>50%</th>\n",
       "      <td>0.531579</td>\n",
       "      <td>0.222332</td>\n",
       "      <td>0.534759</td>\n",
       "      <td>0.458763</td>\n",
       "      <td>0.304348</td>\n",
       "      <td>0.474138</td>\n",
       "      <td>0.378692</td>\n",
       "      <td>0.396226</td>\n",
       "      <td>0.361199</td>\n",
       "      <td>0.290956</td>\n",
       "      <td>0.394309</td>\n",
       "      <td>0.553114</td>\n",
       "      <td>0.282097</td>\n",
       "    </tr>\n",
       "    <tr>\n",
       "      <th>75%</th>\n",
       "      <td>0.696711</td>\n",
       "      <td>0.462945</td>\n",
       "      <td>0.640374</td>\n",
       "      <td>0.561856</td>\n",
       "      <td>0.402174</td>\n",
       "      <td>0.627586</td>\n",
       "      <td>0.534810</td>\n",
       "      <td>0.580189</td>\n",
       "      <td>0.485804</td>\n",
       "      <td>0.419795</td>\n",
       "      <td>0.520325</td>\n",
       "      <td>0.695971</td>\n",
       "      <td>0.504280</td>\n",
       "    </tr>\n",
       "    <tr>\n",
       "      <th>max</th>\n",
       "      <td>1.000000</td>\n",
       "      <td>1.000000</td>\n",
       "      <td>1.000000</td>\n",
       "      <td>1.000000</td>\n",
       "      <td>1.000000</td>\n",
       "      <td>1.000000</td>\n",
       "      <td>1.000000</td>\n",
       "      <td>1.000000</td>\n",
       "      <td>1.000000</td>\n",
       "      <td>1.000000</td>\n",
       "      <td>1.000000</td>\n",
       "      <td>1.000000</td>\n",
       "      <td>1.000000</td>\n",
       "    </tr>\n",
       "  </tbody>\n",
       "</table>\n",
       "</div>"
      ],
      "text/plain": [
       "           Alcool  Malic_Acid          Po  Alcalinidade_po    Magnesio  \\\n",
       "count  178.000000  178.000000  178.000000       178.000000  178.000000   \n",
       "mean     0.518584    0.315484    0.538244         0.458502    0.323278   \n",
       "std      0.213639    0.220780    0.146708         0.172142    0.155244   \n",
       "min      0.000000    0.000000    0.000000         0.000000    0.000000   \n",
       "25%      0.350658    0.170455    0.454545         0.340206    0.195652   \n",
       "50%      0.531579    0.222332    0.534759         0.458763    0.304348   \n",
       "75%      0.696711    0.462945    0.640374         0.561856    0.402174   \n",
       "max      1.000000    1.000000    1.000000         1.000000    1.000000   \n",
       "\n",
       "       Total_Phenols  Flavanoids  Nonflavanoid_Phenols  Proanthocyanins  \\\n",
       "count     178.000000  178.000000            178.000000       178.000000   \n",
       "mean        0.453487    0.356386              0.437460         0.372523   \n",
       "std         0.215811    0.210730              0.234818         0.180555   \n",
       "min         0.000000    0.000000              0.000000         0.000000   \n",
       "25%         0.262931    0.182489              0.264151         0.264984   \n",
       "50%         0.474138    0.378692              0.396226         0.361199   \n",
       "75%         0.627586    0.534810              0.580189         0.485804   \n",
       "max         1.000000    1.000000              1.000000         1.000000   \n",
       "\n",
       "       Intensidade_de_cor         Hue       OD280     Proline  \n",
       "count          178.000000  178.000000  178.000000  178.000000  \n",
       "mean             0.322363    0.388170    0.491460    0.334446  \n",
       "std              0.197806    0.185831    0.260070    0.224613  \n",
       "min              0.000000    0.000000    0.000000    0.000000  \n",
       "25%              0.165529    0.245935    0.244505    0.158702  \n",
       "50%              0.290956    0.394309    0.553114    0.282097  \n",
       "75%              0.419795    0.520325    0.695971    0.504280  \n",
       "max              1.000000    1.000000    1.000000    1.000000  "
      ]
     },
     "execution_count": 34,
     "metadata": {},
     "output_type": "execute_result"
    }
   ],
   "source": [
    "df.describe()"
   ]
  },
  {
   "cell_type": "code",
   "execution_count": 35,
   "metadata": {},
   "outputs": [],
   "source": [
    "np_df = min_max_scaler.inverse_transform(df)"
   ]
  },
  {
   "cell_type": "code",
   "execution_count": 36,
   "metadata": {},
   "outputs": [
    {
     "data": {
      "text/html": [
       "<div>\n",
       "<style scoped>\n",
       "    .dataframe tbody tr th:only-of-type {\n",
       "        vertical-align: middle;\n",
       "    }\n",
       "\n",
       "    .dataframe tbody tr th {\n",
       "        vertical-align: top;\n",
       "    }\n",
       "\n",
       "    .dataframe thead th {\n",
       "        text-align: right;\n",
       "    }\n",
       "</style>\n",
       "<table border=\"1\" class=\"dataframe\">\n",
       "  <thead>\n",
       "    <tr style=\"text-align: right;\">\n",
       "      <th></th>\n",
       "      <th>Alcool</th>\n",
       "      <th>Malic_Acid</th>\n",
       "      <th>Po</th>\n",
       "      <th>Alcalinidade_po</th>\n",
       "      <th>Magnesio</th>\n",
       "      <th>Total_Phenols</th>\n",
       "      <th>Flavanoids</th>\n",
       "      <th>Nonflavanoid_Phenols</th>\n",
       "      <th>Proanthocyanins</th>\n",
       "      <th>Intensidade_de_cor</th>\n",
       "      <th>Hue</th>\n",
       "      <th>OD280</th>\n",
       "      <th>Proline</th>\n",
       "    </tr>\n",
       "  </thead>\n",
       "  <tbody>\n",
       "    <tr>\n",
       "      <th>count</th>\n",
       "      <td>178.000000</td>\n",
       "      <td>178.000000</td>\n",
       "      <td>178.000000</td>\n",
       "      <td>178.000000</td>\n",
       "      <td>178.000000</td>\n",
       "      <td>178.000000</td>\n",
       "      <td>178.000000</td>\n",
       "      <td>178.000000</td>\n",
       "      <td>178.000000</td>\n",
       "      <td>178.000000</td>\n",
       "      <td>178.000000</td>\n",
       "      <td>178.000000</td>\n",
       "      <td>178.000000</td>\n",
       "    </tr>\n",
       "    <tr>\n",
       "      <th>mean</th>\n",
       "      <td>13.000618</td>\n",
       "      <td>2.336348</td>\n",
       "      <td>2.366517</td>\n",
       "      <td>19.494944</td>\n",
       "      <td>99.741573</td>\n",
       "      <td>2.295112</td>\n",
       "      <td>2.029270</td>\n",
       "      <td>0.361854</td>\n",
       "      <td>1.590899</td>\n",
       "      <td>5.058090</td>\n",
       "      <td>0.957449</td>\n",
       "      <td>2.611685</td>\n",
       "      <td>746.893258</td>\n",
       "    </tr>\n",
       "    <tr>\n",
       "      <th>std</th>\n",
       "      <td>0.811827</td>\n",
       "      <td>1.117146</td>\n",
       "      <td>0.274344</td>\n",
       "      <td>3.339564</td>\n",
       "      <td>14.282484</td>\n",
       "      <td>0.625851</td>\n",
       "      <td>0.998859</td>\n",
       "      <td>0.124453</td>\n",
       "      <td>0.572359</td>\n",
       "      <td>2.318286</td>\n",
       "      <td>0.228572</td>\n",
       "      <td>0.709990</td>\n",
       "      <td>314.907474</td>\n",
       "    </tr>\n",
       "    <tr>\n",
       "      <th>min</th>\n",
       "      <td>11.030000</td>\n",
       "      <td>0.740000</td>\n",
       "      <td>1.360000</td>\n",
       "      <td>10.600000</td>\n",
       "      <td>70.000000</td>\n",
       "      <td>0.980000</td>\n",
       "      <td>0.340000</td>\n",
       "      <td>0.130000</td>\n",
       "      <td>0.410000</td>\n",
       "      <td>1.280000</td>\n",
       "      <td>0.480000</td>\n",
       "      <td>1.270000</td>\n",
       "      <td>278.000000</td>\n",
       "    </tr>\n",
       "    <tr>\n",
       "      <th>25%</th>\n",
       "      <td>12.362500</td>\n",
       "      <td>1.602500</td>\n",
       "      <td>2.210000</td>\n",
       "      <td>17.200000</td>\n",
       "      <td>88.000000</td>\n",
       "      <td>1.742500</td>\n",
       "      <td>1.205000</td>\n",
       "      <td>0.270000</td>\n",
       "      <td>1.250000</td>\n",
       "      <td>3.220000</td>\n",
       "      <td>0.782500</td>\n",
       "      <td>1.937500</td>\n",
       "      <td>500.500000</td>\n",
       "    </tr>\n",
       "    <tr>\n",
       "      <th>50%</th>\n",
       "      <td>13.050000</td>\n",
       "      <td>1.865000</td>\n",
       "      <td>2.360000</td>\n",
       "      <td>19.500000</td>\n",
       "      <td>98.000000</td>\n",
       "      <td>2.355000</td>\n",
       "      <td>2.135000</td>\n",
       "      <td>0.340000</td>\n",
       "      <td>1.555000</td>\n",
       "      <td>4.690000</td>\n",
       "      <td>0.965000</td>\n",
       "      <td>2.780000</td>\n",
       "      <td>673.500000</td>\n",
       "    </tr>\n",
       "    <tr>\n",
       "      <th>75%</th>\n",
       "      <td>13.677500</td>\n",
       "      <td>3.082500</td>\n",
       "      <td>2.557500</td>\n",
       "      <td>21.500000</td>\n",
       "      <td>107.000000</td>\n",
       "      <td>2.800000</td>\n",
       "      <td>2.875000</td>\n",
       "      <td>0.437500</td>\n",
       "      <td>1.950000</td>\n",
       "      <td>6.200000</td>\n",
       "      <td>1.120000</td>\n",
       "      <td>3.170000</td>\n",
       "      <td>985.000000</td>\n",
       "    </tr>\n",
       "    <tr>\n",
       "      <th>max</th>\n",
       "      <td>14.830000</td>\n",
       "      <td>5.800000</td>\n",
       "      <td>3.230000</td>\n",
       "      <td>30.000000</td>\n",
       "      <td>162.000000</td>\n",
       "      <td>3.880000</td>\n",
       "      <td>5.080000</td>\n",
       "      <td>0.660000</td>\n",
       "      <td>3.580000</td>\n",
       "      <td>13.000000</td>\n",
       "      <td>1.710000</td>\n",
       "      <td>4.000000</td>\n",
       "      <td>1680.000000</td>\n",
       "    </tr>\n",
       "  </tbody>\n",
       "</table>\n",
       "</div>"
      ],
      "text/plain": [
       "           Alcool  Malic_Acid          Po  Alcalinidade_po    Magnesio  \\\n",
       "count  178.000000  178.000000  178.000000       178.000000  178.000000   \n",
       "mean    13.000618    2.336348    2.366517        19.494944   99.741573   \n",
       "std      0.811827    1.117146    0.274344         3.339564   14.282484   \n",
       "min     11.030000    0.740000    1.360000        10.600000   70.000000   \n",
       "25%     12.362500    1.602500    2.210000        17.200000   88.000000   \n",
       "50%     13.050000    1.865000    2.360000        19.500000   98.000000   \n",
       "75%     13.677500    3.082500    2.557500        21.500000  107.000000   \n",
       "max     14.830000    5.800000    3.230000        30.000000  162.000000   \n",
       "\n",
       "       Total_Phenols  Flavanoids  Nonflavanoid_Phenols  Proanthocyanins  \\\n",
       "count     178.000000  178.000000            178.000000       178.000000   \n",
       "mean        2.295112    2.029270              0.361854         1.590899   \n",
       "std         0.625851    0.998859              0.124453         0.572359   \n",
       "min         0.980000    0.340000              0.130000         0.410000   \n",
       "25%         1.742500    1.205000              0.270000         1.250000   \n",
       "50%         2.355000    2.135000              0.340000         1.555000   \n",
       "75%         2.800000    2.875000              0.437500         1.950000   \n",
       "max         3.880000    5.080000              0.660000         3.580000   \n",
       "\n",
       "       Intensidade_de_cor         Hue       OD280      Proline  \n",
       "count          178.000000  178.000000  178.000000   178.000000  \n",
       "mean             5.058090    0.957449    2.611685   746.893258  \n",
       "std              2.318286    0.228572    0.709990   314.907474  \n",
       "min              1.280000    0.480000    1.270000   278.000000  \n",
       "25%              3.220000    0.782500    1.937500   500.500000  \n",
       "50%              4.690000    0.965000    2.780000   673.500000  \n",
       "75%              6.200000    1.120000    3.170000   985.000000  \n",
       "max             13.000000    1.710000    4.000000  1680.000000  "
      ]
     },
     "execution_count": 36,
     "metadata": {},
     "output_type": "execute_result"
    }
   ],
   "source": [
    "\r\n",
    "df_nao_normalizado = pd.DataFrame(np_df, columns = colunas)\r\n",
    "df_nao_normalizado.describe()"
   ]
  },
  {
   "cell_type": "code",
   "execution_count": 37,
   "metadata": {},
   "outputs": [],
   "source": [
    "from sklearn.cluster import KMeans"
   ]
  },
  {
   "cell_type": "code",
   "execution_count": 38,
   "metadata": {},
   "outputs": [],
   "source": [
    "agrupador = KMeans(n_clusters=4) # Numero de frupos que queremos agrupar nossos vinhos"
   ]
  },
  {
   "cell_type": "code",
   "execution_count": 39,
   "metadata": {},
   "outputs": [
    {
     "data": {
      "text/plain": [
       "KMeans(n_clusters=4)"
      ]
     },
     "execution_count": 39,
     "metadata": {},
     "output_type": "execute_result"
    }
   ],
   "source": [
    "agrupador.fit(df)"
   ]
  },
  {
   "cell_type": "code",
   "execution_count": 40,
   "metadata": {},
   "outputs": [
    {
     "name": "stdout",
     "output_type": "stream",
     "text": [
      "[1 1 1 1 2 1 1 1 1 1 1 1 1 1 1 1 1 1 1 1 1 2 1 1 1 2 1 1 1 1 1 1 1 1 1 1 1\n",
      " 1 1 1 1 1 1 2 1 1 1 1 1 1 1 1 1 1 1 1 1 1 1 3 3 3 3 2 3 3 2 3 3 3 3 2 3 1\n",
      " 2 3 3 3 3 2 3 2 3 0 2 3 3 3 3 3 3 3 3 2 2 1 3 3 2 2 3 3 2 3 3 3 3 3 3 2 2\n",
      " 2 3 3 3 3 3 3 0 3 2 2 2 2 2 2 2 3 3 2 0 0 0 0 0 0 0 0 0 0 0 0 0 0 0 0 0 0\n",
      " 0 0 0 0 0 0 0 0 0 0 0 0 0 0 0 0 0 0 0 0 0 0 0 0 0 0 0 0 0 0]\n"
     ]
    }
   ],
   "source": [
    "labels = agrupador.labels_\r\n",
    "print(labels)"
   ]
  },
  {
   "cell_type": "code",
   "execution_count": 41,
   "metadata": {},
   "outputs": [
    {
     "name": "stdout",
     "output_type": "stream",
     "text": [
      "[3 3 3 3 1 3 3 3 3 3 3 3 3 3 3 3 3 3 3 3 3 1 3 3 3 1 3 3 3 3 3 3 3 3 3 3 3\n",
      " 3 3 3 3 3 3 1 3 3 3 3 3 3 3 3 3 3 3 3 3 3 3 0 0 0 0 1 0 0 1 0 0 1 0 1 0 1\n",
      " 1 0 0 0 0 1 0 1 0 2 1 0 0 0 0 0 0 0 0 1 1 1 0 0 1 1 0 0 1 0 0 0 0 0 0 1 1\n",
      " 1 0 0 0 0 0 0 2 0 1 1 1 1 1 1 1 0 0 0 2 2 2 2 2 2 2 2 2 2 2 2 2 2 2 2 2 2\n",
      " 2 2 2 2 2 2 2 2 2 2 2 2 2 2 2 2 2 2 2 2 2 2 2 2 2 2 2 2 2 2]\n"
     ]
    }
   ],
   "source": [
    "agrupador.fit(df)\r\n",
    "labels = agrupador.labels_\r\n",
    "print(labels)"
   ]
  },
  {
   "cell_type": "code",
   "execution_count": 42,
   "metadata": {},
   "outputs": [
    {
     "data": {
      "application/vnd.plotly.v1+json": {
       "config": {
        "plotlyServerURL": "https://plot.ly"
       },
       "data": [
        {
         "marker": {
          "color": [
           3,
           3,
           3,
           3,
           1,
           3,
           3,
           3,
           3,
           3,
           3,
           3,
           3,
           3,
           3,
           3,
           3,
           3,
           3,
           3,
           3,
           1,
           3,
           3,
           3,
           1,
           3,
           3,
           3,
           3,
           3,
           3,
           3,
           3,
           3,
           3,
           3,
           3,
           3,
           3,
           3,
           3,
           3,
           1,
           3,
           3,
           3,
           3,
           3,
           3,
           3,
           3,
           3,
           3,
           3,
           3,
           3,
           3,
           3,
           0,
           0,
           0,
           0,
           1,
           0,
           0,
           1,
           0,
           0,
           1,
           0,
           1,
           0,
           1,
           1,
           0,
           0,
           0,
           0,
           1,
           0,
           1,
           0,
           2,
           1,
           0,
           0,
           0,
           0,
           0,
           0,
           0,
           0,
           1,
           1,
           1,
           0,
           0,
           1,
           1,
           0,
           0,
           1,
           0,
           0,
           0,
           0,
           0,
           0,
           1,
           1,
           1,
           0,
           0,
           0,
           0,
           0,
           0,
           2,
           0,
           1,
           1,
           1,
           1,
           1,
           1,
           1,
           0,
           0,
           0,
           2,
           2,
           2,
           2,
           2,
           2,
           2,
           2,
           2,
           2,
           2,
           2,
           2,
           2,
           2,
           2,
           2,
           2,
           2,
           2,
           2,
           2,
           2,
           2,
           2,
           2,
           2,
           2,
           2,
           2,
           2,
           2,
           2,
           2,
           2,
           2,
           2,
           2,
           2,
           2,
           2,
           2,
           2,
           2,
           2,
           2,
           2,
           2
          ]
         },
         "mode": "markers",
         "text": [
          3,
          3,
          3,
          3,
          1,
          3,
          3,
          3,
          3,
          3,
          3,
          3,
          3,
          3,
          3,
          3,
          3,
          3,
          3,
          3,
          3,
          1,
          3,
          3,
          3,
          1,
          3,
          3,
          3,
          3,
          3,
          3,
          3,
          3,
          3,
          3,
          3,
          3,
          3,
          3,
          3,
          3,
          3,
          1,
          3,
          3,
          3,
          3,
          3,
          3,
          3,
          3,
          3,
          3,
          3,
          3,
          3,
          3,
          3,
          0,
          0,
          0,
          0,
          1,
          0,
          0,
          1,
          0,
          0,
          1,
          0,
          1,
          0,
          1,
          1,
          0,
          0,
          0,
          0,
          1,
          0,
          1,
          0,
          2,
          1,
          0,
          0,
          0,
          0,
          0,
          0,
          0,
          0,
          1,
          1,
          1,
          0,
          0,
          1,
          1,
          0,
          0,
          1,
          0,
          0,
          0,
          0,
          0,
          0,
          1,
          1,
          1,
          0,
          0,
          0,
          0,
          0,
          0,
          2,
          0,
          1,
          1,
          1,
          1,
          1,
          1,
          1,
          0,
          0,
          0,
          2,
          2,
          2,
          2,
          2,
          2,
          2,
          2,
          2,
          2,
          2,
          2,
          2,
          2,
          2,
          2,
          2,
          2,
          2,
          2,
          2,
          2,
          2,
          2,
          2,
          2,
          2,
          2,
          2,
          2,
          2,
          2,
          2,
          2,
          2,
          2,
          2,
          2,
          2,
          2,
          2,
          2,
          2,
          2,
          2,
          2,
          2,
          2
         ],
         "type": "scatter",
         "x": [
          0.3720136518771331,
          0.26450511945392485,
          0.3754266211604095,
          0.5563139931740614,
          0.2593856655290102,
          0.4667235494880546,
          0.3387372013651877,
          0.3216723549488054,
          0.33447098976109213,
          0.5068259385665529,
          0.3813993174061433,
          0.31740614334470985,
          0.3686006825938566,
          0.3515358361774744,
          0.5307167235494881,
          0.5136518771331058,
          0.41979522184300344,
          0.4539249146757679,
          0.6331058020477814,
          0.325938566552901,
          0.37286689419795227,
          0.27474402730375425,
          0.21501706484641633,
          0.22610921501706485,
          0.1911262798634812,
          0.1962457337883959,
          0.30034129692832756,
          0.22781569965870305,
          0.27474402730375425,
          0.29180887372013653,
          0.37713310580204773,
          0.4795221843003413,
          0.21843003412969278,
          0.3515358361774744,
          0.2491467576791809,
          0.325938566552901,
          0.2832764505119454,
          0.2534129692832764,
          0.20648464163822525,
          0.325938566552901,
          0.4138225255972696,
          0.2559726962457338,
          0.35409556313993173,
          0.2627986348122867,
          0.32081911262798635,
          0.33788395904436863,
          0.3088737201365188,
          0.4112627986348123,
          0.41979522184300344,
          0.6501706484641638,
          0.5051194539249146,
          0.3686006825938566,
          0.4923208191126279,
          0.42832764505119447,
          0.38993174061433444,
          0.424061433447099,
          0.4351535836177475,
          0.40273037542662116,
          0.4709897610921502,
          0.057167235494880536,
          0.1697952218430034,
          0.3813993174061433,
          0.21501706484641633,
          0.2704778156996587,
          0.1424914675767918,
          0.2832764505119454,
          0.3430034129692833,
          0.2901023890784983,
          0.16126279863481227,
          0.13395904436860068,
          0.15102389078498293,
          0.17918088737201363,
          0.2098976109215017,
          0.1766211604095563,
          0.16467576791808872,
          0.21501706484641633,
          0.2832764505119454,
          0.11689419795221842,
          0.18088737201365188,
          0.1100682593856655,
          0.10409556313993173,
          0.22354948805460748,
          0.07849829351535836,
          0.30034129692832756,
          0.15102389078498293,
          0.1143344709897611,
          0.09982935153583619,
          0.11262798634812288,
          0.1296928327645051,
          0.03924914675767918,
          0.09556313993174059,
          0.1979522184300341,
          0.15102389078498293,
          0.07423208191126279,
          0.16808873720136516,
          0.11262798634812288,
          0.10409556313993173,
          0.13822525597269622,
          0.27474402730375425,
          0.08703071672354948,
          0.17235494880546073,
          0.09982935153583619,
          0.1296928327645051,
          0.06655290102389078,
          0.14163822525597267,
          0.12116040955631399,
          0.18088737201365188,
          0.17235494880546073,
          0.12116040955631399,
          0.11689419795221842,
          0.13822525597269622,
          0.06143344709897611,
          0.21501706484641633,
          0.15358361774744025,
          0.13822525597269622,
          0.052901023890784965,
          0.057167235494880536,
          0.06655290102389078,
          0.18088737201365188,
          0,
          0.16808873720136516,
          0.40273037542662116,
          0.06825938566552903,
          0.11262798634812288,
          0.1296928327645051,
          0.12627986348122863,
          0.22696245733788392,
          0.14675767918088736,
          0.07167235494880547,
          0.11262798634812288,
          0.2406143344709897,
          0.3515358361774744,
          0.37713310580204773,
          0.31740614334470985,
          0.35580204778157,
          0.4965870307167235,
          0.21928327645051196,
          0.31740614334470985,
          0.37713310580204773,
          0.31058020477815695,
          0.2832764505119454,
          0.3686006825938566,
          0.26194539249146753,
          0.2662116040955631,
          0.5912969283276451,
          0.23208191126279862,
          0.3088737201365188,
          0.5435153583617748,
          0.6092150170648464,
          0.6928327645051194,
          0.6245733788395904,
          0.8122866894197952,
          0.4965870307167235,
          0.78839590443686,
          0.5392491467576791,
          0.5648464163822525,
          0.659556313993174,
          0.5307167235494881,
          0.9999999999999999,
          0.893344709897611,
          0.5435153583617748,
          0.39249146757679176,
          0.36689419795221845,
          0.341296928327645,
          0.7081911262798635,
          0.45563139931740615,
          0.8020477815699658,
          0.7662116040955631,
          0.6296928327645052,
          0.6160409556313993,
          0.36006825938566556,
          0.7354947952218429,
          0.7184300341296928,
          0.5477815699658704,
          0.5136518771331058,
          0.7610921501706484,
          0.6843003412969284,
          0.6757679180887372
         ],
         "y": [
          0.8421052631578951,
          0.5710526315789473,
          0.560526315789474,
          0.8789473684210525,
          0.5815789473684214,
          0.8342105263157893,
          0.8842105263157896,
          0.797368421052632,
          1,
          0.7447368421052629,
          0.8078947368421052,
          0.8131578947368419,
          0.7157894736842105,
          0.9789473684210526,
          0.8815789473684212,
          0.6842105263157898,
          0.8605263157894738,
          0.736842105263158,
          0.831578947368421,
          0.6868421052631581,
          0.797368421052632,
          0.5,
          0.7052631578947373,
          0.47894736842105257,
          0.6499999999999999,
          0.5315789473684216,
          0.6210526315789475,
          0.5973684210526318,
          0.7473684210526317,
          0.7868421052631578,
          0.7105263157894739,
          0.6710526315789473,
          0.6973684210526314,
          0.7184210526315788,
          0.6526315789473687,
          0.6447368421052633,
          0.5921052631578947,
          0.5315789473684216,
          0.5368421052631582,
          0.8394736842105264,
          0.6657894736842107,
          0.6263157894736846,
          0.7500000000000004,
          0.5815789473684214,
          0.5315789473684216,
          0.836842105263158,
          0.8815789473684212,
          0.7552631578947371,
          0.8078947368421052,
          0.7657894736842104,
          0.5315789473684216,
          0.736842105263158,
          0.7342105263157896,
          0.7210526315789472,
          0.7131578947368422,
          0.6657894736842107,
          0.8394736842105264,
          0.594736842105263,
          0.7078947368421056,
          0.3526315789473684,
          0.34210526315789513,
          0.4236842105263161,
          0.6947368421052631,
          0.3526315789473684,
          0.30000000000000027,
          0.3526315789473684,
          0.5473684210526315,
          0.3526315789473684,
          0.6078947368421055,
          0.310526315789474,
          0.331578947368421,
          0.7447368421052629,
          0.6473684210526316,
          0.5157894736842108,
          0.2447368421052638,
          0.1657894736842107,
          0.5263157894736841,
          0.2131578947368422,
          0.34210526315789513,
          0.43947368421052646,
          0.2552631578947371,
          0.44473684210526354,
          0.2763157894736845,
          0.5315789473684216,
          0.2131578947368422,
          0.43157894736842106,
          0.29736842105263195,
          0.1631578947368424,
          0.16052631578947407,
          0.2763157894736845,
          0.2763157894736845,
          0.2552631578947371,
          0.43684210526315814,
          0.331578947368421,
          0.155263157894737,
          0.3789473684210529,
          0.20526315789473726,
          0.331578947368421,
          0.3526315789473684,
          0.331578947368421,
          0.2763157894736845,
          0.4131578947368424,
          0.34473684210526345,
          0.20789473684210558,
          0.38947368421052664,
          0.3657894736842109,
          0.3210526315789477,
          0.44473684210526354,
          0.3131578947368423,
          0.15263157894736867,
          0.11315789473684257,
          0.39210526315789496,
          0.19210526315789478,
          0.10000000000000053,
          0.2763157894736845,
          0,
          0.20789473684210558,
          0.3657894736842109,
          0.45789473684210513,
          0.2552631578947371,
          0.1105263157894738,
          0.13947368421052664,
          0.3657894736842109,
          0.5315789473684216,
          0.2210526315789476,
          0.2736842105263162,
          0.3684210526315792,
          0.20000000000000018,
          0.3526315789473684,
          0.26578947368421035,
          0.4815789473684209,
          0.4868421052631584,
          0.4684210526315793,
          0.43947368421052646,
          0.38947368421052664,
          0.4131578947368424,
          0.3210526315789477,
          0.3947368421052633,
          0.6473684210526316,
          0.47631578947368425,
          0.5,
          0.6131578947368421,
          0.655263157894737,
          0.6815789473684211,
          0.3210526315789477,
          0.560526315789474,
          0.7500000000000004,
          0.48421052631578965,
          0.6026315789473689,
          0.5394736842105265,
          0.6499999999999999,
          0.4631578947368422,
          0.5473684210526315,
          0.5789473684210531,
          0.4078947368421053,
          0.5631578947368423,
          0.7394736842105263,
          0.37368421052631584,
          0.8710526315789475,
          0.6447368421052633,
          0.3500000000000001,
          0.7000000000000002,
          0.47894736842105257,
          0.5078947368421058,
          0.7236842105263159,
          0.7105263157894739,
          0.6368421052631579,
          0.4710526315789476,
          0.6710526315789473,
          0.6236842105263158,
          0.3078947368421052,
          0.45789473684210513,
          0.823684210526316,
          0.7052631578947373,
          0.6236842105263158,
          0.5894736842105264,
          0.5631578947368423,
          0.8157894736842106
         ]
        }
       ],
       "layout": {
        "template": {
         "data": {
          "bar": [
           {
            "error_x": {
             "color": "#2a3f5f"
            },
            "error_y": {
             "color": "#2a3f5f"
            },
            "marker": {
             "line": {
              "color": "#E5ECF6",
              "width": 0.5
             }
            },
            "type": "bar"
           }
          ],
          "barpolar": [
           {
            "marker": {
             "line": {
              "color": "#E5ECF6",
              "width": 0.5
             }
            },
            "type": "barpolar"
           }
          ],
          "carpet": [
           {
            "aaxis": {
             "endlinecolor": "#2a3f5f",
             "gridcolor": "white",
             "linecolor": "white",
             "minorgridcolor": "white",
             "startlinecolor": "#2a3f5f"
            },
            "baxis": {
             "endlinecolor": "#2a3f5f",
             "gridcolor": "white",
             "linecolor": "white",
             "minorgridcolor": "white",
             "startlinecolor": "#2a3f5f"
            },
            "type": "carpet"
           }
          ],
          "choropleth": [
           {
            "colorbar": {
             "outlinewidth": 0,
             "ticks": ""
            },
            "type": "choropleth"
           }
          ],
          "contour": [
           {
            "colorbar": {
             "outlinewidth": 0,
             "ticks": ""
            },
            "colorscale": [
             [
              0,
              "#0d0887"
             ],
             [
              0.1111111111111111,
              "#46039f"
             ],
             [
              0.2222222222222222,
              "#7201a8"
             ],
             [
              0.3333333333333333,
              "#9c179e"
             ],
             [
              0.4444444444444444,
              "#bd3786"
             ],
             [
              0.5555555555555556,
              "#d8576b"
             ],
             [
              0.6666666666666666,
              "#ed7953"
             ],
             [
              0.7777777777777778,
              "#fb9f3a"
             ],
             [
              0.8888888888888888,
              "#fdca26"
             ],
             [
              1,
              "#f0f921"
             ]
            ],
            "type": "contour"
           }
          ],
          "contourcarpet": [
           {
            "colorbar": {
             "outlinewidth": 0,
             "ticks": ""
            },
            "type": "contourcarpet"
           }
          ],
          "heatmap": [
           {
            "colorbar": {
             "outlinewidth": 0,
             "ticks": ""
            },
            "colorscale": [
             [
              0,
              "#0d0887"
             ],
             [
              0.1111111111111111,
              "#46039f"
             ],
             [
              0.2222222222222222,
              "#7201a8"
             ],
             [
              0.3333333333333333,
              "#9c179e"
             ],
             [
              0.4444444444444444,
              "#bd3786"
             ],
             [
              0.5555555555555556,
              "#d8576b"
             ],
             [
              0.6666666666666666,
              "#ed7953"
             ],
             [
              0.7777777777777778,
              "#fb9f3a"
             ],
             [
              0.8888888888888888,
              "#fdca26"
             ],
             [
              1,
              "#f0f921"
             ]
            ],
            "type": "heatmap"
           }
          ],
          "heatmapgl": [
           {
            "colorbar": {
             "outlinewidth": 0,
             "ticks": ""
            },
            "colorscale": [
             [
              0,
              "#0d0887"
             ],
             [
              0.1111111111111111,
              "#46039f"
             ],
             [
              0.2222222222222222,
              "#7201a8"
             ],
             [
              0.3333333333333333,
              "#9c179e"
             ],
             [
              0.4444444444444444,
              "#bd3786"
             ],
             [
              0.5555555555555556,
              "#d8576b"
             ],
             [
              0.6666666666666666,
              "#ed7953"
             ],
             [
              0.7777777777777778,
              "#fb9f3a"
             ],
             [
              0.8888888888888888,
              "#fdca26"
             ],
             [
              1,
              "#f0f921"
             ]
            ],
            "type": "heatmapgl"
           }
          ],
          "histogram": [
           {
            "marker": {
             "colorbar": {
              "outlinewidth": 0,
              "ticks": ""
             }
            },
            "type": "histogram"
           }
          ],
          "histogram2d": [
           {
            "colorbar": {
             "outlinewidth": 0,
             "ticks": ""
            },
            "colorscale": [
             [
              0,
              "#0d0887"
             ],
             [
              0.1111111111111111,
              "#46039f"
             ],
             [
              0.2222222222222222,
              "#7201a8"
             ],
             [
              0.3333333333333333,
              "#9c179e"
             ],
             [
              0.4444444444444444,
              "#bd3786"
             ],
             [
              0.5555555555555556,
              "#d8576b"
             ],
             [
              0.6666666666666666,
              "#ed7953"
             ],
             [
              0.7777777777777778,
              "#fb9f3a"
             ],
             [
              0.8888888888888888,
              "#fdca26"
             ],
             [
              1,
              "#f0f921"
             ]
            ],
            "type": "histogram2d"
           }
          ],
          "histogram2dcontour": [
           {
            "colorbar": {
             "outlinewidth": 0,
             "ticks": ""
            },
            "colorscale": [
             [
              0,
              "#0d0887"
             ],
             [
              0.1111111111111111,
              "#46039f"
             ],
             [
              0.2222222222222222,
              "#7201a8"
             ],
             [
              0.3333333333333333,
              "#9c179e"
             ],
             [
              0.4444444444444444,
              "#bd3786"
             ],
             [
              0.5555555555555556,
              "#d8576b"
             ],
             [
              0.6666666666666666,
              "#ed7953"
             ],
             [
              0.7777777777777778,
              "#fb9f3a"
             ],
             [
              0.8888888888888888,
              "#fdca26"
             ],
             [
              1,
              "#f0f921"
             ]
            ],
            "type": "histogram2dcontour"
           }
          ],
          "mesh3d": [
           {
            "colorbar": {
             "outlinewidth": 0,
             "ticks": ""
            },
            "type": "mesh3d"
           }
          ],
          "parcoords": [
           {
            "line": {
             "colorbar": {
              "outlinewidth": 0,
              "ticks": ""
             }
            },
            "type": "parcoords"
           }
          ],
          "pie": [
           {
            "automargin": true,
            "type": "pie"
           }
          ],
          "scatter": [
           {
            "marker": {
             "colorbar": {
              "outlinewidth": 0,
              "ticks": ""
             }
            },
            "type": "scatter"
           }
          ],
          "scatter3d": [
           {
            "line": {
             "colorbar": {
              "outlinewidth": 0,
              "ticks": ""
             }
            },
            "marker": {
             "colorbar": {
              "outlinewidth": 0,
              "ticks": ""
             }
            },
            "type": "scatter3d"
           }
          ],
          "scattercarpet": [
           {
            "marker": {
             "colorbar": {
              "outlinewidth": 0,
              "ticks": ""
             }
            },
            "type": "scattercarpet"
           }
          ],
          "scattergeo": [
           {
            "marker": {
             "colorbar": {
              "outlinewidth": 0,
              "ticks": ""
             }
            },
            "type": "scattergeo"
           }
          ],
          "scattergl": [
           {
            "marker": {
             "colorbar": {
              "outlinewidth": 0,
              "ticks": ""
             }
            },
            "type": "scattergl"
           }
          ],
          "scattermapbox": [
           {
            "marker": {
             "colorbar": {
              "outlinewidth": 0,
              "ticks": ""
             }
            },
            "type": "scattermapbox"
           }
          ],
          "scatterpolar": [
           {
            "marker": {
             "colorbar": {
              "outlinewidth": 0,
              "ticks": ""
             }
            },
            "type": "scatterpolar"
           }
          ],
          "scatterpolargl": [
           {
            "marker": {
             "colorbar": {
              "outlinewidth": 0,
              "ticks": ""
             }
            },
            "type": "scatterpolargl"
           }
          ],
          "scatterternary": [
           {
            "marker": {
             "colorbar": {
              "outlinewidth": 0,
              "ticks": ""
             }
            },
            "type": "scatterternary"
           }
          ],
          "surface": [
           {
            "colorbar": {
             "outlinewidth": 0,
             "ticks": ""
            },
            "colorscale": [
             [
              0,
              "#0d0887"
             ],
             [
              0.1111111111111111,
              "#46039f"
             ],
             [
              0.2222222222222222,
              "#7201a8"
             ],
             [
              0.3333333333333333,
              "#9c179e"
             ],
             [
              0.4444444444444444,
              "#bd3786"
             ],
             [
              0.5555555555555556,
              "#d8576b"
             ],
             [
              0.6666666666666666,
              "#ed7953"
             ],
             [
              0.7777777777777778,
              "#fb9f3a"
             ],
             [
              0.8888888888888888,
              "#fdca26"
             ],
             [
              1,
              "#f0f921"
             ]
            ],
            "type": "surface"
           }
          ],
          "table": [
           {
            "cells": {
             "fill": {
              "color": "#EBF0F8"
             },
             "line": {
              "color": "white"
             }
            },
            "header": {
             "fill": {
              "color": "#C8D4E3"
             },
             "line": {
              "color": "white"
             }
            },
            "type": "table"
           }
          ]
         },
         "layout": {
          "annotationdefaults": {
           "arrowcolor": "#2a3f5f",
           "arrowhead": 0,
           "arrowwidth": 1
          },
          "autotypenumbers": "strict",
          "coloraxis": {
           "colorbar": {
            "outlinewidth": 0,
            "ticks": ""
           }
          },
          "colorscale": {
           "diverging": [
            [
             0,
             "#8e0152"
            ],
            [
             0.1,
             "#c51b7d"
            ],
            [
             0.2,
             "#de77ae"
            ],
            [
             0.3,
             "#f1b6da"
            ],
            [
             0.4,
             "#fde0ef"
            ],
            [
             0.5,
             "#f7f7f7"
            ],
            [
             0.6,
             "#e6f5d0"
            ],
            [
             0.7,
             "#b8e186"
            ],
            [
             0.8,
             "#7fbc41"
            ],
            [
             0.9,
             "#4d9221"
            ],
            [
             1,
             "#276419"
            ]
           ],
           "sequential": [
            [
             0,
             "#0d0887"
            ],
            [
             0.1111111111111111,
             "#46039f"
            ],
            [
             0.2222222222222222,
             "#7201a8"
            ],
            [
             0.3333333333333333,
             "#9c179e"
            ],
            [
             0.4444444444444444,
             "#bd3786"
            ],
            [
             0.5555555555555556,
             "#d8576b"
            ],
            [
             0.6666666666666666,
             "#ed7953"
            ],
            [
             0.7777777777777778,
             "#fb9f3a"
            ],
            [
             0.8888888888888888,
             "#fdca26"
            ],
            [
             1,
             "#f0f921"
            ]
           ],
           "sequentialminus": [
            [
             0,
             "#0d0887"
            ],
            [
             0.1111111111111111,
             "#46039f"
            ],
            [
             0.2222222222222222,
             "#7201a8"
            ],
            [
             0.3333333333333333,
             "#9c179e"
            ],
            [
             0.4444444444444444,
             "#bd3786"
            ],
            [
             0.5555555555555556,
             "#d8576b"
            ],
            [
             0.6666666666666666,
             "#ed7953"
            ],
            [
             0.7777777777777778,
             "#fb9f3a"
            ],
            [
             0.8888888888888888,
             "#fdca26"
            ],
            [
             1,
             "#f0f921"
            ]
           ]
          },
          "colorway": [
           "#636efa",
           "#EF553B",
           "#00cc96",
           "#ab63fa",
           "#FFA15A",
           "#19d3f3",
           "#FF6692",
           "#B6E880",
           "#FF97FF",
           "#FECB52"
          ],
          "font": {
           "color": "#2a3f5f"
          },
          "geo": {
           "bgcolor": "white",
           "lakecolor": "white",
           "landcolor": "#E5ECF6",
           "showlakes": true,
           "showland": true,
           "subunitcolor": "white"
          },
          "hoverlabel": {
           "align": "left"
          },
          "hovermode": "closest",
          "mapbox": {
           "style": "light"
          },
          "paper_bgcolor": "white",
          "plot_bgcolor": "#E5ECF6",
          "polar": {
           "angularaxis": {
            "gridcolor": "white",
            "linecolor": "white",
            "ticks": ""
           },
           "bgcolor": "#E5ECF6",
           "radialaxis": {
            "gridcolor": "white",
            "linecolor": "white",
            "ticks": ""
           }
          },
          "scene": {
           "xaxis": {
            "backgroundcolor": "#E5ECF6",
            "gridcolor": "white",
            "gridwidth": 2,
            "linecolor": "white",
            "showbackground": true,
            "ticks": "",
            "zerolinecolor": "white"
           },
           "yaxis": {
            "backgroundcolor": "#E5ECF6",
            "gridcolor": "white",
            "gridwidth": 2,
            "linecolor": "white",
            "showbackground": true,
            "ticks": "",
            "zerolinecolor": "white"
           },
           "zaxis": {
            "backgroundcolor": "#E5ECF6",
            "gridcolor": "white",
            "gridwidth": 2,
            "linecolor": "white",
            "showbackground": true,
            "ticks": "",
            "zerolinecolor": "white"
           }
          },
          "shapedefaults": {
           "line": {
            "color": "#2a3f5f"
           }
          },
          "ternary": {
           "aaxis": {
            "gridcolor": "white",
            "linecolor": "white",
            "ticks": ""
           },
           "baxis": {
            "gridcolor": "white",
            "linecolor": "white",
            "ticks": ""
           },
           "bgcolor": "#E5ECF6",
           "caxis": {
            "gridcolor": "white",
            "linecolor": "white",
            "ticks": ""
           }
          },
          "title": {
           "x": 0.05
          },
          "xaxis": {
           "automargin": true,
           "gridcolor": "white",
           "linecolor": "white",
           "ticks": "",
           "title": {
            "standoff": 15
           },
           "zerolinecolor": "white",
           "zerolinewidth": 2
          },
          "yaxis": {
           "automargin": true,
           "gridcolor": "white",
           "linecolor": "white",
           "ticks": "",
           "title": {
            "standoff": 15
           },
           "zerolinecolor": "white",
           "zerolinewidth": 2
          }
         }
        }
       }
      }
     },
     "metadata": {},
     "output_type": "display_data"
    }
   ],
   "source": [
    "import plotly.graph_objects as go\r\n",
    "\r\n",
    "fig = go.Figure()\r\n",
    "fig.add_trace(go.Scatter(x = df['Intensidade_de_cor'], y = df['Alcool'],\r\n",
    "                        mode = 'markers',\r\n",
    "                        marker = dict(color = agrupador.labels_.astype(float)),\r\n",
    "                        text = labels))\r\n",
    "fig.show()\r\n",
    "\r\n"
   ]
  },
  {
   "cell_type": "code",
   "execution_count": 43,
   "metadata": {},
   "outputs": [
    {
     "name": "stdout",
     "output_type": "stream",
     "text": [
      "[0 0 0 0 0 0 0 0 0 0 0 0 0 0 0 0 0 0 0 0 0 0 0 0 0 0 0 0 0 0 0 0 0 0 0 0 0\n",
      " 0 0 0 0 0 0 0 0 0 0 0 0 0 0 0 0 0 0 0 0 0 0 2 1 1 2 2 2 2 2 2 1 2 1 2 2 0\n",
      " 2 2 2 2 2 2 2 2 2 1 2 2 2 2 2 2 2 2 1 2 2 0 2 2 2 2 2 2 2 2 2 2 2 2 2 2 2\n",
      " 2 2 2 2 2 2 2 1 2 2 2 2 2 2 2 2 2 2 2 1 1 1 1 1 1 1 1 1 1 1 1 1 1 1 1 1 1\n",
      " 1 1 1 1 1 1 1 1 1 1 1 1 1 1 1 1 1 1 1 1 1 1 1 1 1 1 1 1 1 1]\n"
     ]
    }
   ],
   "source": [
    "agrupador = KMeans(n_clusters=3)\r\n",
    "agrupador.fit(df)\r\n",
    "labels = agrupador.labels_\r\n",
    "print(labels)"
   ]
  },
  {
   "cell_type": "code",
   "execution_count": 44,
   "metadata": {},
   "outputs": [
    {
     "data": {
      "application/vnd.plotly.v1+json": {
       "config": {
        "plotlyServerURL": "https://plot.ly"
       },
       "data": [
        {
         "marker": {
          "color": [
           0,
           0,
           0,
           0,
           0,
           0,
           0,
           0,
           0,
           0,
           0,
           0,
           0,
           0,
           0,
           0,
           0,
           0,
           0,
           0,
           0,
           0,
           0,
           0,
           0,
           0,
           0,
           0,
           0,
           0,
           0,
           0,
           0,
           0,
           0,
           0,
           0,
           0,
           0,
           0,
           0,
           0,
           0,
           0,
           0,
           0,
           0,
           0,
           0,
           0,
           0,
           0,
           0,
           0,
           0,
           0,
           0,
           0,
           0,
           2,
           1,
           1,
           2,
           2,
           2,
           2,
           2,
           2,
           1,
           2,
           1,
           2,
           2,
           0,
           2,
           2,
           2,
           2,
           2,
           2,
           2,
           2,
           2,
           1,
           2,
           2,
           2,
           2,
           2,
           2,
           2,
           2,
           1,
           2,
           2,
           0,
           2,
           2,
           2,
           2,
           2,
           2,
           2,
           2,
           2,
           2,
           2,
           2,
           2,
           2,
           2,
           2,
           2,
           2,
           2,
           2,
           2,
           2,
           1,
           2,
           2,
           2,
           2,
           2,
           2,
           2,
           2,
           2,
           2,
           2,
           1,
           1,
           1,
           1,
           1,
           1,
           1,
           1,
           1,
           1,
           1,
           1,
           1,
           1,
           1,
           1,
           1,
           1,
           1,
           1,
           1,
           1,
           1,
           1,
           1,
           1,
           1,
           1,
           1,
           1,
           1,
           1,
           1,
           1,
           1,
           1,
           1,
           1,
           1,
           1,
           1,
           1,
           1,
           1,
           1,
           1,
           1,
           1
          ]
         },
         "mode": "markers",
         "text": [
          0,
          0,
          0,
          0,
          0,
          0,
          0,
          0,
          0,
          0,
          0,
          0,
          0,
          0,
          0,
          0,
          0,
          0,
          0,
          0,
          0,
          0,
          0,
          0,
          0,
          0,
          0,
          0,
          0,
          0,
          0,
          0,
          0,
          0,
          0,
          0,
          0,
          0,
          0,
          0,
          0,
          0,
          0,
          0,
          0,
          0,
          0,
          0,
          0,
          0,
          0,
          0,
          0,
          0,
          0,
          0,
          0,
          0,
          0,
          2,
          1,
          1,
          2,
          2,
          2,
          2,
          2,
          2,
          1,
          2,
          1,
          2,
          2,
          0,
          2,
          2,
          2,
          2,
          2,
          2,
          2,
          2,
          2,
          1,
          2,
          2,
          2,
          2,
          2,
          2,
          2,
          2,
          1,
          2,
          2,
          0,
          2,
          2,
          2,
          2,
          2,
          2,
          2,
          2,
          2,
          2,
          2,
          2,
          2,
          2,
          2,
          2,
          2,
          2,
          2,
          2,
          2,
          2,
          1,
          2,
          2,
          2,
          2,
          2,
          2,
          2,
          2,
          2,
          2,
          2,
          1,
          1,
          1,
          1,
          1,
          1,
          1,
          1,
          1,
          1,
          1,
          1,
          1,
          1,
          1,
          1,
          1,
          1,
          1,
          1,
          1,
          1,
          1,
          1,
          1,
          1,
          1,
          1,
          1,
          1,
          1,
          1,
          1,
          1,
          1,
          1,
          1,
          1,
          1,
          1,
          1,
          1,
          1,
          1,
          1,
          1,
          1,
          1
         ],
         "type": "scatter",
         "x": [
          0.3720136518771331,
          0.26450511945392485,
          0.3754266211604095,
          0.5563139931740614,
          0.2593856655290102,
          0.4667235494880546,
          0.3387372013651877,
          0.3216723549488054,
          0.33447098976109213,
          0.5068259385665529,
          0.3813993174061433,
          0.31740614334470985,
          0.3686006825938566,
          0.3515358361774744,
          0.5307167235494881,
          0.5136518771331058,
          0.41979522184300344,
          0.4539249146757679,
          0.6331058020477814,
          0.325938566552901,
          0.37286689419795227,
          0.27474402730375425,
          0.21501706484641633,
          0.22610921501706485,
          0.1911262798634812,
          0.1962457337883959,
          0.30034129692832756,
          0.22781569965870305,
          0.27474402730375425,
          0.29180887372013653,
          0.37713310580204773,
          0.4795221843003413,
          0.21843003412969278,
          0.3515358361774744,
          0.2491467576791809,
          0.325938566552901,
          0.2832764505119454,
          0.2534129692832764,
          0.20648464163822525,
          0.325938566552901,
          0.4138225255972696,
          0.2559726962457338,
          0.35409556313993173,
          0.2627986348122867,
          0.32081911262798635,
          0.33788395904436863,
          0.3088737201365188,
          0.4112627986348123,
          0.41979522184300344,
          0.6501706484641638,
          0.5051194539249146,
          0.3686006825938566,
          0.4923208191126279,
          0.42832764505119447,
          0.38993174061433444,
          0.424061433447099,
          0.4351535836177475,
          0.40273037542662116,
          0.4709897610921502,
          0.057167235494880536,
          0.1697952218430034,
          0.3813993174061433,
          0.21501706484641633,
          0.2704778156996587,
          0.1424914675767918,
          0.2832764505119454,
          0.3430034129692833,
          0.2901023890784983,
          0.16126279863481227,
          0.13395904436860068,
          0.15102389078498293,
          0.17918088737201363,
          0.2098976109215017,
          0.1766211604095563,
          0.16467576791808872,
          0.21501706484641633,
          0.2832764505119454,
          0.11689419795221842,
          0.18088737201365188,
          0.1100682593856655,
          0.10409556313993173,
          0.22354948805460748,
          0.07849829351535836,
          0.30034129692832756,
          0.15102389078498293,
          0.1143344709897611,
          0.09982935153583619,
          0.11262798634812288,
          0.1296928327645051,
          0.03924914675767918,
          0.09556313993174059,
          0.1979522184300341,
          0.15102389078498293,
          0.07423208191126279,
          0.16808873720136516,
          0.11262798634812288,
          0.10409556313993173,
          0.13822525597269622,
          0.27474402730375425,
          0.08703071672354948,
          0.17235494880546073,
          0.09982935153583619,
          0.1296928327645051,
          0.06655290102389078,
          0.14163822525597267,
          0.12116040955631399,
          0.18088737201365188,
          0.17235494880546073,
          0.12116040955631399,
          0.11689419795221842,
          0.13822525597269622,
          0.06143344709897611,
          0.21501706484641633,
          0.15358361774744025,
          0.13822525597269622,
          0.052901023890784965,
          0.057167235494880536,
          0.06655290102389078,
          0.18088737201365188,
          0,
          0.16808873720136516,
          0.40273037542662116,
          0.06825938566552903,
          0.11262798634812288,
          0.1296928327645051,
          0.12627986348122863,
          0.22696245733788392,
          0.14675767918088736,
          0.07167235494880547,
          0.11262798634812288,
          0.2406143344709897,
          0.3515358361774744,
          0.37713310580204773,
          0.31740614334470985,
          0.35580204778157,
          0.4965870307167235,
          0.21928327645051196,
          0.31740614334470985,
          0.37713310580204773,
          0.31058020477815695,
          0.2832764505119454,
          0.3686006825938566,
          0.26194539249146753,
          0.2662116040955631,
          0.5912969283276451,
          0.23208191126279862,
          0.3088737201365188,
          0.5435153583617748,
          0.6092150170648464,
          0.6928327645051194,
          0.6245733788395904,
          0.8122866894197952,
          0.4965870307167235,
          0.78839590443686,
          0.5392491467576791,
          0.5648464163822525,
          0.659556313993174,
          0.5307167235494881,
          0.9999999999999999,
          0.893344709897611,
          0.5435153583617748,
          0.39249146757679176,
          0.36689419795221845,
          0.341296928327645,
          0.7081911262798635,
          0.45563139931740615,
          0.8020477815699658,
          0.7662116040955631,
          0.6296928327645052,
          0.6160409556313993,
          0.36006825938566556,
          0.7354947952218429,
          0.7184300341296928,
          0.5477815699658704,
          0.5136518771331058,
          0.7610921501706484,
          0.6843003412969284,
          0.6757679180887372
         ],
         "y": [
          0.8421052631578951,
          0.5710526315789473,
          0.560526315789474,
          0.8789473684210525,
          0.5815789473684214,
          0.8342105263157893,
          0.8842105263157896,
          0.797368421052632,
          1,
          0.7447368421052629,
          0.8078947368421052,
          0.8131578947368419,
          0.7157894736842105,
          0.9789473684210526,
          0.8815789473684212,
          0.6842105263157898,
          0.8605263157894738,
          0.736842105263158,
          0.831578947368421,
          0.6868421052631581,
          0.797368421052632,
          0.5,
          0.7052631578947373,
          0.47894736842105257,
          0.6499999999999999,
          0.5315789473684216,
          0.6210526315789475,
          0.5973684210526318,
          0.7473684210526317,
          0.7868421052631578,
          0.7105263157894739,
          0.6710526315789473,
          0.6973684210526314,
          0.7184210526315788,
          0.6526315789473687,
          0.6447368421052633,
          0.5921052631578947,
          0.5315789473684216,
          0.5368421052631582,
          0.8394736842105264,
          0.6657894736842107,
          0.6263157894736846,
          0.7500000000000004,
          0.5815789473684214,
          0.5315789473684216,
          0.836842105263158,
          0.8815789473684212,
          0.7552631578947371,
          0.8078947368421052,
          0.7657894736842104,
          0.5315789473684216,
          0.736842105263158,
          0.7342105263157896,
          0.7210526315789472,
          0.7131578947368422,
          0.6657894736842107,
          0.8394736842105264,
          0.594736842105263,
          0.7078947368421056,
          0.3526315789473684,
          0.34210526315789513,
          0.4236842105263161,
          0.6947368421052631,
          0.3526315789473684,
          0.30000000000000027,
          0.3526315789473684,
          0.5473684210526315,
          0.3526315789473684,
          0.6078947368421055,
          0.310526315789474,
          0.331578947368421,
          0.7447368421052629,
          0.6473684210526316,
          0.5157894736842108,
          0.2447368421052638,
          0.1657894736842107,
          0.5263157894736841,
          0.2131578947368422,
          0.34210526315789513,
          0.43947368421052646,
          0.2552631578947371,
          0.44473684210526354,
          0.2763157894736845,
          0.5315789473684216,
          0.2131578947368422,
          0.43157894736842106,
          0.29736842105263195,
          0.1631578947368424,
          0.16052631578947407,
          0.2763157894736845,
          0.2763157894736845,
          0.2552631578947371,
          0.43684210526315814,
          0.331578947368421,
          0.155263157894737,
          0.3789473684210529,
          0.20526315789473726,
          0.331578947368421,
          0.3526315789473684,
          0.331578947368421,
          0.2763157894736845,
          0.4131578947368424,
          0.34473684210526345,
          0.20789473684210558,
          0.38947368421052664,
          0.3657894736842109,
          0.3210526315789477,
          0.44473684210526354,
          0.3131578947368423,
          0.15263157894736867,
          0.11315789473684257,
          0.39210526315789496,
          0.19210526315789478,
          0.10000000000000053,
          0.2763157894736845,
          0,
          0.20789473684210558,
          0.3657894736842109,
          0.45789473684210513,
          0.2552631578947371,
          0.1105263157894738,
          0.13947368421052664,
          0.3657894736842109,
          0.5315789473684216,
          0.2210526315789476,
          0.2736842105263162,
          0.3684210526315792,
          0.20000000000000018,
          0.3526315789473684,
          0.26578947368421035,
          0.4815789473684209,
          0.4868421052631584,
          0.4684210526315793,
          0.43947368421052646,
          0.38947368421052664,
          0.4131578947368424,
          0.3210526315789477,
          0.3947368421052633,
          0.6473684210526316,
          0.47631578947368425,
          0.5,
          0.6131578947368421,
          0.655263157894737,
          0.6815789473684211,
          0.3210526315789477,
          0.560526315789474,
          0.7500000000000004,
          0.48421052631578965,
          0.6026315789473689,
          0.5394736842105265,
          0.6499999999999999,
          0.4631578947368422,
          0.5473684210526315,
          0.5789473684210531,
          0.4078947368421053,
          0.5631578947368423,
          0.7394736842105263,
          0.37368421052631584,
          0.8710526315789475,
          0.6447368421052633,
          0.3500000000000001,
          0.7000000000000002,
          0.47894736842105257,
          0.5078947368421058,
          0.7236842105263159,
          0.7105263157894739,
          0.6368421052631579,
          0.4710526315789476,
          0.6710526315789473,
          0.6236842105263158,
          0.3078947368421052,
          0.45789473684210513,
          0.823684210526316,
          0.7052631578947373,
          0.6236842105263158,
          0.5894736842105264,
          0.5631578947368423,
          0.8157894736842106
         ]
        }
       ],
       "layout": {
        "template": {
         "data": {
          "bar": [
           {
            "error_x": {
             "color": "#2a3f5f"
            },
            "error_y": {
             "color": "#2a3f5f"
            },
            "marker": {
             "line": {
              "color": "#E5ECF6",
              "width": 0.5
             }
            },
            "type": "bar"
           }
          ],
          "barpolar": [
           {
            "marker": {
             "line": {
              "color": "#E5ECF6",
              "width": 0.5
             }
            },
            "type": "barpolar"
           }
          ],
          "carpet": [
           {
            "aaxis": {
             "endlinecolor": "#2a3f5f",
             "gridcolor": "white",
             "linecolor": "white",
             "minorgridcolor": "white",
             "startlinecolor": "#2a3f5f"
            },
            "baxis": {
             "endlinecolor": "#2a3f5f",
             "gridcolor": "white",
             "linecolor": "white",
             "minorgridcolor": "white",
             "startlinecolor": "#2a3f5f"
            },
            "type": "carpet"
           }
          ],
          "choropleth": [
           {
            "colorbar": {
             "outlinewidth": 0,
             "ticks": ""
            },
            "type": "choropleth"
           }
          ],
          "contour": [
           {
            "colorbar": {
             "outlinewidth": 0,
             "ticks": ""
            },
            "colorscale": [
             [
              0,
              "#0d0887"
             ],
             [
              0.1111111111111111,
              "#46039f"
             ],
             [
              0.2222222222222222,
              "#7201a8"
             ],
             [
              0.3333333333333333,
              "#9c179e"
             ],
             [
              0.4444444444444444,
              "#bd3786"
             ],
             [
              0.5555555555555556,
              "#d8576b"
             ],
             [
              0.6666666666666666,
              "#ed7953"
             ],
             [
              0.7777777777777778,
              "#fb9f3a"
             ],
             [
              0.8888888888888888,
              "#fdca26"
             ],
             [
              1,
              "#f0f921"
             ]
            ],
            "type": "contour"
           }
          ],
          "contourcarpet": [
           {
            "colorbar": {
             "outlinewidth": 0,
             "ticks": ""
            },
            "type": "contourcarpet"
           }
          ],
          "heatmap": [
           {
            "colorbar": {
             "outlinewidth": 0,
             "ticks": ""
            },
            "colorscale": [
             [
              0,
              "#0d0887"
             ],
             [
              0.1111111111111111,
              "#46039f"
             ],
             [
              0.2222222222222222,
              "#7201a8"
             ],
             [
              0.3333333333333333,
              "#9c179e"
             ],
             [
              0.4444444444444444,
              "#bd3786"
             ],
             [
              0.5555555555555556,
              "#d8576b"
             ],
             [
              0.6666666666666666,
              "#ed7953"
             ],
             [
              0.7777777777777778,
              "#fb9f3a"
             ],
             [
              0.8888888888888888,
              "#fdca26"
             ],
             [
              1,
              "#f0f921"
             ]
            ],
            "type": "heatmap"
           }
          ],
          "heatmapgl": [
           {
            "colorbar": {
             "outlinewidth": 0,
             "ticks": ""
            },
            "colorscale": [
             [
              0,
              "#0d0887"
             ],
             [
              0.1111111111111111,
              "#46039f"
             ],
             [
              0.2222222222222222,
              "#7201a8"
             ],
             [
              0.3333333333333333,
              "#9c179e"
             ],
             [
              0.4444444444444444,
              "#bd3786"
             ],
             [
              0.5555555555555556,
              "#d8576b"
             ],
             [
              0.6666666666666666,
              "#ed7953"
             ],
             [
              0.7777777777777778,
              "#fb9f3a"
             ],
             [
              0.8888888888888888,
              "#fdca26"
             ],
             [
              1,
              "#f0f921"
             ]
            ],
            "type": "heatmapgl"
           }
          ],
          "histogram": [
           {
            "marker": {
             "colorbar": {
              "outlinewidth": 0,
              "ticks": ""
             }
            },
            "type": "histogram"
           }
          ],
          "histogram2d": [
           {
            "colorbar": {
             "outlinewidth": 0,
             "ticks": ""
            },
            "colorscale": [
             [
              0,
              "#0d0887"
             ],
             [
              0.1111111111111111,
              "#46039f"
             ],
             [
              0.2222222222222222,
              "#7201a8"
             ],
             [
              0.3333333333333333,
              "#9c179e"
             ],
             [
              0.4444444444444444,
              "#bd3786"
             ],
             [
              0.5555555555555556,
              "#d8576b"
             ],
             [
              0.6666666666666666,
              "#ed7953"
             ],
             [
              0.7777777777777778,
              "#fb9f3a"
             ],
             [
              0.8888888888888888,
              "#fdca26"
             ],
             [
              1,
              "#f0f921"
             ]
            ],
            "type": "histogram2d"
           }
          ],
          "histogram2dcontour": [
           {
            "colorbar": {
             "outlinewidth": 0,
             "ticks": ""
            },
            "colorscale": [
             [
              0,
              "#0d0887"
             ],
             [
              0.1111111111111111,
              "#46039f"
             ],
             [
              0.2222222222222222,
              "#7201a8"
             ],
             [
              0.3333333333333333,
              "#9c179e"
             ],
             [
              0.4444444444444444,
              "#bd3786"
             ],
             [
              0.5555555555555556,
              "#d8576b"
             ],
             [
              0.6666666666666666,
              "#ed7953"
             ],
             [
              0.7777777777777778,
              "#fb9f3a"
             ],
             [
              0.8888888888888888,
              "#fdca26"
             ],
             [
              1,
              "#f0f921"
             ]
            ],
            "type": "histogram2dcontour"
           }
          ],
          "mesh3d": [
           {
            "colorbar": {
             "outlinewidth": 0,
             "ticks": ""
            },
            "type": "mesh3d"
           }
          ],
          "parcoords": [
           {
            "line": {
             "colorbar": {
              "outlinewidth": 0,
              "ticks": ""
             }
            },
            "type": "parcoords"
           }
          ],
          "pie": [
           {
            "automargin": true,
            "type": "pie"
           }
          ],
          "scatter": [
           {
            "marker": {
             "colorbar": {
              "outlinewidth": 0,
              "ticks": ""
             }
            },
            "type": "scatter"
           }
          ],
          "scatter3d": [
           {
            "line": {
             "colorbar": {
              "outlinewidth": 0,
              "ticks": ""
             }
            },
            "marker": {
             "colorbar": {
              "outlinewidth": 0,
              "ticks": ""
             }
            },
            "type": "scatter3d"
           }
          ],
          "scattercarpet": [
           {
            "marker": {
             "colorbar": {
              "outlinewidth": 0,
              "ticks": ""
             }
            },
            "type": "scattercarpet"
           }
          ],
          "scattergeo": [
           {
            "marker": {
             "colorbar": {
              "outlinewidth": 0,
              "ticks": ""
             }
            },
            "type": "scattergeo"
           }
          ],
          "scattergl": [
           {
            "marker": {
             "colorbar": {
              "outlinewidth": 0,
              "ticks": ""
             }
            },
            "type": "scattergl"
           }
          ],
          "scattermapbox": [
           {
            "marker": {
             "colorbar": {
              "outlinewidth": 0,
              "ticks": ""
             }
            },
            "type": "scattermapbox"
           }
          ],
          "scatterpolar": [
           {
            "marker": {
             "colorbar": {
              "outlinewidth": 0,
              "ticks": ""
             }
            },
            "type": "scatterpolar"
           }
          ],
          "scatterpolargl": [
           {
            "marker": {
             "colorbar": {
              "outlinewidth": 0,
              "ticks": ""
             }
            },
            "type": "scatterpolargl"
           }
          ],
          "scatterternary": [
           {
            "marker": {
             "colorbar": {
              "outlinewidth": 0,
              "ticks": ""
             }
            },
            "type": "scatterternary"
           }
          ],
          "surface": [
           {
            "colorbar": {
             "outlinewidth": 0,
             "ticks": ""
            },
            "colorscale": [
             [
              0,
              "#0d0887"
             ],
             [
              0.1111111111111111,
              "#46039f"
             ],
             [
              0.2222222222222222,
              "#7201a8"
             ],
             [
              0.3333333333333333,
              "#9c179e"
             ],
             [
              0.4444444444444444,
              "#bd3786"
             ],
             [
              0.5555555555555556,
              "#d8576b"
             ],
             [
              0.6666666666666666,
              "#ed7953"
             ],
             [
              0.7777777777777778,
              "#fb9f3a"
             ],
             [
              0.8888888888888888,
              "#fdca26"
             ],
             [
              1,
              "#f0f921"
             ]
            ],
            "type": "surface"
           }
          ],
          "table": [
           {
            "cells": {
             "fill": {
              "color": "#EBF0F8"
             },
             "line": {
              "color": "white"
             }
            },
            "header": {
             "fill": {
              "color": "#C8D4E3"
             },
             "line": {
              "color": "white"
             }
            },
            "type": "table"
           }
          ]
         },
         "layout": {
          "annotationdefaults": {
           "arrowcolor": "#2a3f5f",
           "arrowhead": 0,
           "arrowwidth": 1
          },
          "autotypenumbers": "strict",
          "coloraxis": {
           "colorbar": {
            "outlinewidth": 0,
            "ticks": ""
           }
          },
          "colorscale": {
           "diverging": [
            [
             0,
             "#8e0152"
            ],
            [
             0.1,
             "#c51b7d"
            ],
            [
             0.2,
             "#de77ae"
            ],
            [
             0.3,
             "#f1b6da"
            ],
            [
             0.4,
             "#fde0ef"
            ],
            [
             0.5,
             "#f7f7f7"
            ],
            [
             0.6,
             "#e6f5d0"
            ],
            [
             0.7,
             "#b8e186"
            ],
            [
             0.8,
             "#7fbc41"
            ],
            [
             0.9,
             "#4d9221"
            ],
            [
             1,
             "#276419"
            ]
           ],
           "sequential": [
            [
             0,
             "#0d0887"
            ],
            [
             0.1111111111111111,
             "#46039f"
            ],
            [
             0.2222222222222222,
             "#7201a8"
            ],
            [
             0.3333333333333333,
             "#9c179e"
            ],
            [
             0.4444444444444444,
             "#bd3786"
            ],
            [
             0.5555555555555556,
             "#d8576b"
            ],
            [
             0.6666666666666666,
             "#ed7953"
            ],
            [
             0.7777777777777778,
             "#fb9f3a"
            ],
            [
             0.8888888888888888,
             "#fdca26"
            ],
            [
             1,
             "#f0f921"
            ]
           ],
           "sequentialminus": [
            [
             0,
             "#0d0887"
            ],
            [
             0.1111111111111111,
             "#46039f"
            ],
            [
             0.2222222222222222,
             "#7201a8"
            ],
            [
             0.3333333333333333,
             "#9c179e"
            ],
            [
             0.4444444444444444,
             "#bd3786"
            ],
            [
             0.5555555555555556,
             "#d8576b"
            ],
            [
             0.6666666666666666,
             "#ed7953"
            ],
            [
             0.7777777777777778,
             "#fb9f3a"
            ],
            [
             0.8888888888888888,
             "#fdca26"
            ],
            [
             1,
             "#f0f921"
            ]
           ]
          },
          "colorway": [
           "#636efa",
           "#EF553B",
           "#00cc96",
           "#ab63fa",
           "#FFA15A",
           "#19d3f3",
           "#FF6692",
           "#B6E880",
           "#FF97FF",
           "#FECB52"
          ],
          "font": {
           "color": "#2a3f5f"
          },
          "geo": {
           "bgcolor": "white",
           "lakecolor": "white",
           "landcolor": "#E5ECF6",
           "showlakes": true,
           "showland": true,
           "subunitcolor": "white"
          },
          "hoverlabel": {
           "align": "left"
          },
          "hovermode": "closest",
          "mapbox": {
           "style": "light"
          },
          "paper_bgcolor": "white",
          "plot_bgcolor": "#E5ECF6",
          "polar": {
           "angularaxis": {
            "gridcolor": "white",
            "linecolor": "white",
            "ticks": ""
           },
           "bgcolor": "#E5ECF6",
           "radialaxis": {
            "gridcolor": "white",
            "linecolor": "white",
            "ticks": ""
           }
          },
          "scene": {
           "xaxis": {
            "backgroundcolor": "#E5ECF6",
            "gridcolor": "white",
            "gridwidth": 2,
            "linecolor": "white",
            "showbackground": true,
            "ticks": "",
            "zerolinecolor": "white"
           },
           "yaxis": {
            "backgroundcolor": "#E5ECF6",
            "gridcolor": "white",
            "gridwidth": 2,
            "linecolor": "white",
            "showbackground": true,
            "ticks": "",
            "zerolinecolor": "white"
           },
           "zaxis": {
            "backgroundcolor": "#E5ECF6",
            "gridcolor": "white",
            "gridwidth": 2,
            "linecolor": "white",
            "showbackground": true,
            "ticks": "",
            "zerolinecolor": "white"
           }
          },
          "shapedefaults": {
           "line": {
            "color": "#2a3f5f"
           }
          },
          "ternary": {
           "aaxis": {
            "gridcolor": "white",
            "linecolor": "white",
            "ticks": ""
           },
           "baxis": {
            "gridcolor": "white",
            "linecolor": "white",
            "ticks": ""
           },
           "bgcolor": "#E5ECF6",
           "caxis": {
            "gridcolor": "white",
            "linecolor": "white",
            "ticks": ""
           }
          },
          "title": {
           "x": 0.05
          },
          "xaxis": {
           "automargin": true,
           "gridcolor": "white",
           "linecolor": "white",
           "ticks": "",
           "title": {
            "standoff": 15
           },
           "zerolinecolor": "white",
           "zerolinewidth": 2
          },
          "yaxis": {
           "automargin": true,
           "gridcolor": "white",
           "linecolor": "white",
           "ticks": "",
           "title": {
            "standoff": 15
           },
           "zerolinecolor": "white",
           "zerolinewidth": 2
          }
         }
        }
       }
      }
     },
     "metadata": {},
     "output_type": "display_data"
    }
   ],
   "source": [
    "import plotly.graph_objects as go\r\n",
    "\r\n",
    "fig = go.Figure()\r\n",
    "fig.add_trace(go.Scatter(x = df['Intensidade_de_cor'], y = df['Alcool'],\r\n",
    "                        mode = 'markers',\r\n",
    "                        marker = dict(color = agrupador.labels_.astype(float)),\r\n",
    "                        text = labels))\r\n",
    "fig.show()\r\n",
    "\r\n"
   ]
  },
  {
   "cell_type": "code",
   "execution_count": 45,
   "metadata": {},
   "outputs": [
    {
     "data": {
      "application/vnd.plotly.v1+json": {
       "config": {
        "plotlyServerURL": "https://plot.ly"
       },
       "data": [
        {
         "marker": {
          "color": [
           0,
           0,
           0,
           0,
           0,
           0,
           0,
           0,
           0,
           0,
           0,
           0,
           0,
           0,
           0,
           0,
           0,
           0,
           0,
           0,
           0,
           0,
           0,
           0,
           0,
           0,
           0,
           0,
           0,
           0,
           0,
           0,
           0,
           0,
           0,
           0,
           0,
           0,
           0,
           0,
           0,
           0,
           0,
           0,
           0,
           0,
           0,
           0,
           0,
           0,
           0,
           0,
           0,
           0,
           0,
           0,
           0,
           0,
           0,
           2,
           1,
           1,
           2,
           2,
           2,
           2,
           2,
           2,
           1,
           2,
           1,
           2,
           2,
           0,
           2,
           2,
           2,
           2,
           2,
           2,
           2,
           2,
           2,
           1,
           2,
           2,
           2,
           2,
           2,
           2,
           2,
           2,
           1,
           2,
           2,
           0,
           2,
           2,
           2,
           2,
           2,
           2,
           2,
           2,
           2,
           2,
           2,
           2,
           2,
           2,
           2,
           2,
           2,
           2,
           2,
           2,
           2,
           2,
           1,
           2,
           2,
           2,
           2,
           2,
           2,
           2,
           2,
           2,
           2,
           2,
           1,
           1,
           1,
           1,
           1,
           1,
           1,
           1,
           1,
           1,
           1,
           1,
           1,
           1,
           1,
           1,
           1,
           1,
           1,
           1,
           1,
           1,
           1,
           1,
           1,
           1,
           1,
           1,
           1,
           1,
           1,
           1,
           1,
           1,
           1,
           1,
           1,
           1,
           1,
           1,
           1,
           1,
           1,
           1,
           1,
           1,
           1,
           1
          ]
         },
         "mode": "markers",
         "text": [
          0,
          0,
          0,
          0,
          0,
          0,
          0,
          0,
          0,
          0,
          0,
          0,
          0,
          0,
          0,
          0,
          0,
          0,
          0,
          0,
          0,
          0,
          0,
          0,
          0,
          0,
          0,
          0,
          0,
          0,
          0,
          0,
          0,
          0,
          0,
          0,
          0,
          0,
          0,
          0,
          0,
          0,
          0,
          0,
          0,
          0,
          0,
          0,
          0,
          0,
          0,
          0,
          0,
          0,
          0,
          0,
          0,
          0,
          0,
          2,
          1,
          1,
          2,
          2,
          2,
          2,
          2,
          2,
          1,
          2,
          1,
          2,
          2,
          0,
          2,
          2,
          2,
          2,
          2,
          2,
          2,
          2,
          2,
          1,
          2,
          2,
          2,
          2,
          2,
          2,
          2,
          2,
          1,
          2,
          2,
          0,
          2,
          2,
          2,
          2,
          2,
          2,
          2,
          2,
          2,
          2,
          2,
          2,
          2,
          2,
          2,
          2,
          2,
          2,
          2,
          2,
          2,
          2,
          1,
          2,
          2,
          2,
          2,
          2,
          2,
          2,
          2,
          2,
          2,
          2,
          1,
          1,
          1,
          1,
          1,
          1,
          1,
          1,
          1,
          1,
          1,
          1,
          1,
          1,
          1,
          1,
          1,
          1,
          1,
          1,
          1,
          1,
          1,
          1,
          1,
          1,
          1,
          1,
          1,
          1,
          1,
          1,
          1,
          1,
          1,
          1,
          1,
          1,
          1,
          1,
          1,
          1,
          1,
          1,
          1,
          1,
          1,
          1
         ],
         "type": "scatter3d",
         "x": [
          0.3720136518771331,
          0.26450511945392485,
          0.3754266211604095,
          0.5563139931740614,
          0.2593856655290102,
          0.4667235494880546,
          0.3387372013651877,
          0.3216723549488054,
          0.33447098976109213,
          0.5068259385665529,
          0.3813993174061433,
          0.31740614334470985,
          0.3686006825938566,
          0.3515358361774744,
          0.5307167235494881,
          0.5136518771331058,
          0.41979522184300344,
          0.4539249146757679,
          0.6331058020477814,
          0.325938566552901,
          0.37286689419795227,
          0.27474402730375425,
          0.21501706484641633,
          0.22610921501706485,
          0.1911262798634812,
          0.1962457337883959,
          0.30034129692832756,
          0.22781569965870305,
          0.27474402730375425,
          0.29180887372013653,
          0.37713310580204773,
          0.4795221843003413,
          0.21843003412969278,
          0.3515358361774744,
          0.2491467576791809,
          0.325938566552901,
          0.2832764505119454,
          0.2534129692832764,
          0.20648464163822525,
          0.325938566552901,
          0.4138225255972696,
          0.2559726962457338,
          0.35409556313993173,
          0.2627986348122867,
          0.32081911262798635,
          0.33788395904436863,
          0.3088737201365188,
          0.4112627986348123,
          0.41979522184300344,
          0.6501706484641638,
          0.5051194539249146,
          0.3686006825938566,
          0.4923208191126279,
          0.42832764505119447,
          0.38993174061433444,
          0.424061433447099,
          0.4351535836177475,
          0.40273037542662116,
          0.4709897610921502,
          0.057167235494880536,
          0.1697952218430034,
          0.3813993174061433,
          0.21501706484641633,
          0.2704778156996587,
          0.1424914675767918,
          0.2832764505119454,
          0.3430034129692833,
          0.2901023890784983,
          0.16126279863481227,
          0.13395904436860068,
          0.15102389078498293,
          0.17918088737201363,
          0.2098976109215017,
          0.1766211604095563,
          0.16467576791808872,
          0.21501706484641633,
          0.2832764505119454,
          0.11689419795221842,
          0.18088737201365188,
          0.1100682593856655,
          0.10409556313993173,
          0.22354948805460748,
          0.07849829351535836,
          0.30034129692832756,
          0.15102389078498293,
          0.1143344709897611,
          0.09982935153583619,
          0.11262798634812288,
          0.1296928327645051,
          0.03924914675767918,
          0.09556313993174059,
          0.1979522184300341,
          0.15102389078498293,
          0.07423208191126279,
          0.16808873720136516,
          0.11262798634812288,
          0.10409556313993173,
          0.13822525597269622,
          0.27474402730375425,
          0.08703071672354948,
          0.17235494880546073,
          0.09982935153583619,
          0.1296928327645051,
          0.06655290102389078,
          0.14163822525597267,
          0.12116040955631399,
          0.18088737201365188,
          0.17235494880546073,
          0.12116040955631399,
          0.11689419795221842,
          0.13822525597269622,
          0.06143344709897611,
          0.21501706484641633,
          0.15358361774744025,
          0.13822525597269622,
          0.052901023890784965,
          0.057167235494880536,
          0.06655290102389078,
          0.18088737201365188,
          0,
          0.16808873720136516,
          0.40273037542662116,
          0.06825938566552903,
          0.11262798634812288,
          0.1296928327645051,
          0.12627986348122863,
          0.22696245733788392,
          0.14675767918088736,
          0.07167235494880547,
          0.11262798634812288,
          0.2406143344709897,
          0.3515358361774744,
          0.37713310580204773,
          0.31740614334470985,
          0.35580204778157,
          0.4965870307167235,
          0.21928327645051196,
          0.31740614334470985,
          0.37713310580204773,
          0.31058020477815695,
          0.2832764505119454,
          0.3686006825938566,
          0.26194539249146753,
          0.2662116040955631,
          0.5912969283276451,
          0.23208191126279862,
          0.3088737201365188,
          0.5435153583617748,
          0.6092150170648464,
          0.6928327645051194,
          0.6245733788395904,
          0.8122866894197952,
          0.4965870307167235,
          0.78839590443686,
          0.5392491467576791,
          0.5648464163822525,
          0.659556313993174,
          0.5307167235494881,
          0.9999999999999999,
          0.893344709897611,
          0.5435153583617748,
          0.39249146757679176,
          0.36689419795221845,
          0.341296928327645,
          0.7081911262798635,
          0.45563139931740615,
          0.8020477815699658,
          0.7662116040955631,
          0.6296928327645052,
          0.6160409556313993,
          0.36006825938566556,
          0.7354947952218429,
          0.7184300341296928,
          0.5477815699658704,
          0.5136518771331058,
          0.7610921501706484,
          0.6843003412969284,
          0.6757679180887372
         ],
         "y": [
          0.8421052631578951,
          0.5710526315789473,
          0.560526315789474,
          0.8789473684210525,
          0.5815789473684214,
          0.8342105263157893,
          0.8842105263157896,
          0.797368421052632,
          1,
          0.7447368421052629,
          0.8078947368421052,
          0.8131578947368419,
          0.7157894736842105,
          0.9789473684210526,
          0.8815789473684212,
          0.6842105263157898,
          0.8605263157894738,
          0.736842105263158,
          0.831578947368421,
          0.6868421052631581,
          0.797368421052632,
          0.5,
          0.7052631578947373,
          0.47894736842105257,
          0.6499999999999999,
          0.5315789473684216,
          0.6210526315789475,
          0.5973684210526318,
          0.7473684210526317,
          0.7868421052631578,
          0.7105263157894739,
          0.6710526315789473,
          0.6973684210526314,
          0.7184210526315788,
          0.6526315789473687,
          0.6447368421052633,
          0.5921052631578947,
          0.5315789473684216,
          0.5368421052631582,
          0.8394736842105264,
          0.6657894736842107,
          0.6263157894736846,
          0.7500000000000004,
          0.5815789473684214,
          0.5315789473684216,
          0.836842105263158,
          0.8815789473684212,
          0.7552631578947371,
          0.8078947368421052,
          0.7657894736842104,
          0.5315789473684216,
          0.736842105263158,
          0.7342105263157896,
          0.7210526315789472,
          0.7131578947368422,
          0.6657894736842107,
          0.8394736842105264,
          0.594736842105263,
          0.7078947368421056,
          0.3526315789473684,
          0.34210526315789513,
          0.4236842105263161,
          0.6947368421052631,
          0.3526315789473684,
          0.30000000000000027,
          0.3526315789473684,
          0.5473684210526315,
          0.3526315789473684,
          0.6078947368421055,
          0.310526315789474,
          0.331578947368421,
          0.7447368421052629,
          0.6473684210526316,
          0.5157894736842108,
          0.2447368421052638,
          0.1657894736842107,
          0.5263157894736841,
          0.2131578947368422,
          0.34210526315789513,
          0.43947368421052646,
          0.2552631578947371,
          0.44473684210526354,
          0.2763157894736845,
          0.5315789473684216,
          0.2131578947368422,
          0.43157894736842106,
          0.29736842105263195,
          0.1631578947368424,
          0.16052631578947407,
          0.2763157894736845,
          0.2763157894736845,
          0.2552631578947371,
          0.43684210526315814,
          0.331578947368421,
          0.155263157894737,
          0.3789473684210529,
          0.20526315789473726,
          0.331578947368421,
          0.3526315789473684,
          0.331578947368421,
          0.2763157894736845,
          0.4131578947368424,
          0.34473684210526345,
          0.20789473684210558,
          0.38947368421052664,
          0.3657894736842109,
          0.3210526315789477,
          0.44473684210526354,
          0.3131578947368423,
          0.15263157894736867,
          0.11315789473684257,
          0.39210526315789496,
          0.19210526315789478,
          0.10000000000000053,
          0.2763157894736845,
          0,
          0.20789473684210558,
          0.3657894736842109,
          0.45789473684210513,
          0.2552631578947371,
          0.1105263157894738,
          0.13947368421052664,
          0.3657894736842109,
          0.5315789473684216,
          0.2210526315789476,
          0.2736842105263162,
          0.3684210526315792,
          0.20000000000000018,
          0.3526315789473684,
          0.26578947368421035,
          0.4815789473684209,
          0.4868421052631584,
          0.4684210526315793,
          0.43947368421052646,
          0.38947368421052664,
          0.4131578947368424,
          0.3210526315789477,
          0.3947368421052633,
          0.6473684210526316,
          0.47631578947368425,
          0.5,
          0.6131578947368421,
          0.655263157894737,
          0.6815789473684211,
          0.3210526315789477,
          0.560526315789474,
          0.7500000000000004,
          0.48421052631578965,
          0.6026315789473689,
          0.5394736842105265,
          0.6499999999999999,
          0.4631578947368422,
          0.5473684210526315,
          0.5789473684210531,
          0.4078947368421053,
          0.5631578947368423,
          0.7394736842105263,
          0.37368421052631584,
          0.8710526315789475,
          0.6447368421052633,
          0.3500000000000001,
          0.7000000000000002,
          0.47894736842105257,
          0.5078947368421058,
          0.7236842105263159,
          0.7105263157894739,
          0.6368421052631579,
          0.4710526315789476,
          0.6710526315789473,
          0.6236842105263158,
          0.3078947368421052,
          0.45789473684210513,
          0.823684210526316,
          0.7052631578947373,
          0.6236842105263158,
          0.5894736842105264,
          0.5631578947368423,
          0.8157894736842106
         ],
         "z": [
          0.5613409415121255,
          0.5506419400855921,
          0.6469329529243938,
          0.8573466476462198,
          0.3259629101283881,
          0.8359486447931527,
          0.7218259629101285,
          0.725392296718973,
          0.5470756062767476,
          0.5470756062767476,
          0.8787446504992867,
          0.7146932952924394,
          0.7432239657631955,
          0.6219686162624822,
          0.9051355206847361,
          0.7360912981455064,
          0.7146932952924394,
          0.6077032810271041,
          1,
          0.40442225392296727,
          0.35805991440798857,
          0.35092724679029963,
          0.5399429386590585,
          0.5256776034236805,
          0.40442225392296727,
          0.3937232524964337,
          0.6540656205420827,
          0.7182596291012839,
          0.4543509272467904,
          0.5399429386590585,
          0.7182596291012839,
          0.8823109843081313,
          0.5078459343794579,
          0.6825962910128388,
          0.5827389443651926,
          0.4579172610556348,
          0.4293865905848788,
          0.5898716119828816,
          0.529243937232525,
          0.3437945791726106,
          0.36875891583452214,
          0.5399429386590585,
          0.5827389443651926,
          0.2867332382310984,
          0.43295292439372324,
          0.5720399429386591,
          0.5613409415121255,
          0.5042796005706135,
          0.557774607703281,
          0.7004279600570614,
          0.6219686162624822,
          0.7039942938659058,
          0.6504992867332383,
          0.782453637660485,
          0.557774607703281,
          0.6005706134094152,
          0.4935805991440799,
          0.7075606276747504,
          0.7182596291012839,
          0.17261055634807418,
          0.2867332382310984,
          0.12268188302425106,
          0.2510699001426534,
          0.10128388017118403,
          0.054921540656205386,
          0.2853067047075606,
          0.15977175463623397,
          0.1654778887303852,
          0.33666191155492153,
          0.31383737517831667,
          0.4222539229671898,
          0.09415121255349498,
          0.13837375178316688,
          0.5042796005706135,
          0.4336661911554922,
          0.10699001426533525,
          0.08131241084165478,
          0.15834522111269614,
          0.33666191155492153,
          0.1319543509272468,
          0,
          0.3109843081312411,
          0.2510699001426534,
          0.16904422253922965,
          0.17261055634807418,
          0.12268188302425106,
          0.15477888730385161,
          0.20256776034236804,
          0.2867332382310984,
          0.24750356633380885,
          0.1440798858773181,
          0.12268188302425106,
          0.15477888730385161,
          0.008559201141226797,
          0.047788873038516394,
          0.4700427960057062,
          0.24750356633380885,
          0.10699001426533525,
          0.27246790299572043,
          0.09129814550641938,
          0.30813124108416545,
          0.20256776034236804,
          0.11412268188302424,
          0.09771754636233951,
          0.2810271041369472,
          0.02639087018544936,
          0.1654778887303852,
          0.14978601997146931,
          0.02425106990014264,
          0.2867332382310984,
          0.20256776034236804,
          0.033523537803138354,
          0.23466476462196864,
          0.11126961483594863,
          0.07631954350927247,
          0.09201141226818829,
          0.15477888730385161,
          0.047788873038516394,
          0.06704707560627673,
          0.20399429386590587,
          0.24750356633380885,
          0.13338088445078458,
          0.062054208273894434,
          0.07275320970042795,
          0.07275320970042795,
          0.07132667617689017,
          0.052781740370898694,
          0.1340941512125535,
          0.0456490727532097,
          0.21540656205420824,
          0.2510699001426534,
          0.17974322396576317,
          0.20114122681883026,
          0.22967189728958629,
          0.2653352353780314,
          0.297432239657632,
          0.3152639087018545,
          0.16904422253922965,
          0.21540656205420824,
          0.2225392296718973,
          0.22967189728958629,
          0.35805991440798857,
          0.17261055634807418,
          0.1940085592011412,
          0.4115549215406562,
          0.3937232524964337,
          0.09771754636233951,
          0.24750356633380885,
          0.2653352353780314,
          0.1940085592011412,
          0.15834522111269614,
          0.1440798858773181,
          0.1048502139800285,
          0.2831669044222539,
          0.25820256776034234,
          0.318830242510699,
          0.1440798858773181,
          0.4293865905848788,
          0.27246790299572043,
          0.24393723252496433,
          0.17261055634807418,
          0.2867332382310984,
          0.20827389443651925,
          0.2831669044222539,
          0.2403708987161198,
          0.17261055634807418,
          0.297432239657632,
          0.29029957203994294,
          0.33666191155492153,
          0.2510699001426534,
          0.1654778887303852,
          0.1369472182596291,
          0.27246790299572043,
          0.3295292439372326,
          0.33666191155492153,
          0.3972895863052782,
          0.40085592011412274,
          0.20114122681883026
         ]
        }
       ],
       "layout": {
        "template": {
         "data": {
          "bar": [
           {
            "error_x": {
             "color": "#2a3f5f"
            },
            "error_y": {
             "color": "#2a3f5f"
            },
            "marker": {
             "line": {
              "color": "#E5ECF6",
              "width": 0.5
             }
            },
            "type": "bar"
           }
          ],
          "barpolar": [
           {
            "marker": {
             "line": {
              "color": "#E5ECF6",
              "width": 0.5
             }
            },
            "type": "barpolar"
           }
          ],
          "carpet": [
           {
            "aaxis": {
             "endlinecolor": "#2a3f5f",
             "gridcolor": "white",
             "linecolor": "white",
             "minorgridcolor": "white",
             "startlinecolor": "#2a3f5f"
            },
            "baxis": {
             "endlinecolor": "#2a3f5f",
             "gridcolor": "white",
             "linecolor": "white",
             "minorgridcolor": "white",
             "startlinecolor": "#2a3f5f"
            },
            "type": "carpet"
           }
          ],
          "choropleth": [
           {
            "colorbar": {
             "outlinewidth": 0,
             "ticks": ""
            },
            "type": "choropleth"
           }
          ],
          "contour": [
           {
            "colorbar": {
             "outlinewidth": 0,
             "ticks": ""
            },
            "colorscale": [
             [
              0,
              "#0d0887"
             ],
             [
              0.1111111111111111,
              "#46039f"
             ],
             [
              0.2222222222222222,
              "#7201a8"
             ],
             [
              0.3333333333333333,
              "#9c179e"
             ],
             [
              0.4444444444444444,
              "#bd3786"
             ],
             [
              0.5555555555555556,
              "#d8576b"
             ],
             [
              0.6666666666666666,
              "#ed7953"
             ],
             [
              0.7777777777777778,
              "#fb9f3a"
             ],
             [
              0.8888888888888888,
              "#fdca26"
             ],
             [
              1,
              "#f0f921"
             ]
            ],
            "type": "contour"
           }
          ],
          "contourcarpet": [
           {
            "colorbar": {
             "outlinewidth": 0,
             "ticks": ""
            },
            "type": "contourcarpet"
           }
          ],
          "heatmap": [
           {
            "colorbar": {
             "outlinewidth": 0,
             "ticks": ""
            },
            "colorscale": [
             [
              0,
              "#0d0887"
             ],
             [
              0.1111111111111111,
              "#46039f"
             ],
             [
              0.2222222222222222,
              "#7201a8"
             ],
             [
              0.3333333333333333,
              "#9c179e"
             ],
             [
              0.4444444444444444,
              "#bd3786"
             ],
             [
              0.5555555555555556,
              "#d8576b"
             ],
             [
              0.6666666666666666,
              "#ed7953"
             ],
             [
              0.7777777777777778,
              "#fb9f3a"
             ],
             [
              0.8888888888888888,
              "#fdca26"
             ],
             [
              1,
              "#f0f921"
             ]
            ],
            "type": "heatmap"
           }
          ],
          "heatmapgl": [
           {
            "colorbar": {
             "outlinewidth": 0,
             "ticks": ""
            },
            "colorscale": [
             [
              0,
              "#0d0887"
             ],
             [
              0.1111111111111111,
              "#46039f"
             ],
             [
              0.2222222222222222,
              "#7201a8"
             ],
             [
              0.3333333333333333,
              "#9c179e"
             ],
             [
              0.4444444444444444,
              "#bd3786"
             ],
             [
              0.5555555555555556,
              "#d8576b"
             ],
             [
              0.6666666666666666,
              "#ed7953"
             ],
             [
              0.7777777777777778,
              "#fb9f3a"
             ],
             [
              0.8888888888888888,
              "#fdca26"
             ],
             [
              1,
              "#f0f921"
             ]
            ],
            "type": "heatmapgl"
           }
          ],
          "histogram": [
           {
            "marker": {
             "colorbar": {
              "outlinewidth": 0,
              "ticks": ""
             }
            },
            "type": "histogram"
           }
          ],
          "histogram2d": [
           {
            "colorbar": {
             "outlinewidth": 0,
             "ticks": ""
            },
            "colorscale": [
             [
              0,
              "#0d0887"
             ],
             [
              0.1111111111111111,
              "#46039f"
             ],
             [
              0.2222222222222222,
              "#7201a8"
             ],
             [
              0.3333333333333333,
              "#9c179e"
             ],
             [
              0.4444444444444444,
              "#bd3786"
             ],
             [
              0.5555555555555556,
              "#d8576b"
             ],
             [
              0.6666666666666666,
              "#ed7953"
             ],
             [
              0.7777777777777778,
              "#fb9f3a"
             ],
             [
              0.8888888888888888,
              "#fdca26"
             ],
             [
              1,
              "#f0f921"
             ]
            ],
            "type": "histogram2d"
           }
          ],
          "histogram2dcontour": [
           {
            "colorbar": {
             "outlinewidth": 0,
             "ticks": ""
            },
            "colorscale": [
             [
              0,
              "#0d0887"
             ],
             [
              0.1111111111111111,
              "#46039f"
             ],
             [
              0.2222222222222222,
              "#7201a8"
             ],
             [
              0.3333333333333333,
              "#9c179e"
             ],
             [
              0.4444444444444444,
              "#bd3786"
             ],
             [
              0.5555555555555556,
              "#d8576b"
             ],
             [
              0.6666666666666666,
              "#ed7953"
             ],
             [
              0.7777777777777778,
              "#fb9f3a"
             ],
             [
              0.8888888888888888,
              "#fdca26"
             ],
             [
              1,
              "#f0f921"
             ]
            ],
            "type": "histogram2dcontour"
           }
          ],
          "mesh3d": [
           {
            "colorbar": {
             "outlinewidth": 0,
             "ticks": ""
            },
            "type": "mesh3d"
           }
          ],
          "parcoords": [
           {
            "line": {
             "colorbar": {
              "outlinewidth": 0,
              "ticks": ""
             }
            },
            "type": "parcoords"
           }
          ],
          "pie": [
           {
            "automargin": true,
            "type": "pie"
           }
          ],
          "scatter": [
           {
            "marker": {
             "colorbar": {
              "outlinewidth": 0,
              "ticks": ""
             }
            },
            "type": "scatter"
           }
          ],
          "scatter3d": [
           {
            "line": {
             "colorbar": {
              "outlinewidth": 0,
              "ticks": ""
             }
            },
            "marker": {
             "colorbar": {
              "outlinewidth": 0,
              "ticks": ""
             }
            },
            "type": "scatter3d"
           }
          ],
          "scattercarpet": [
           {
            "marker": {
             "colorbar": {
              "outlinewidth": 0,
              "ticks": ""
             }
            },
            "type": "scattercarpet"
           }
          ],
          "scattergeo": [
           {
            "marker": {
             "colorbar": {
              "outlinewidth": 0,
              "ticks": ""
             }
            },
            "type": "scattergeo"
           }
          ],
          "scattergl": [
           {
            "marker": {
             "colorbar": {
              "outlinewidth": 0,
              "ticks": ""
             }
            },
            "type": "scattergl"
           }
          ],
          "scattermapbox": [
           {
            "marker": {
             "colorbar": {
              "outlinewidth": 0,
              "ticks": ""
             }
            },
            "type": "scattermapbox"
           }
          ],
          "scatterpolar": [
           {
            "marker": {
             "colorbar": {
              "outlinewidth": 0,
              "ticks": ""
             }
            },
            "type": "scatterpolar"
           }
          ],
          "scatterpolargl": [
           {
            "marker": {
             "colorbar": {
              "outlinewidth": 0,
              "ticks": ""
             }
            },
            "type": "scatterpolargl"
           }
          ],
          "scatterternary": [
           {
            "marker": {
             "colorbar": {
              "outlinewidth": 0,
              "ticks": ""
             }
            },
            "type": "scatterternary"
           }
          ],
          "surface": [
           {
            "colorbar": {
             "outlinewidth": 0,
             "ticks": ""
            },
            "colorscale": [
             [
              0,
              "#0d0887"
             ],
             [
              0.1111111111111111,
              "#46039f"
             ],
             [
              0.2222222222222222,
              "#7201a8"
             ],
             [
              0.3333333333333333,
              "#9c179e"
             ],
             [
              0.4444444444444444,
              "#bd3786"
             ],
             [
              0.5555555555555556,
              "#d8576b"
             ],
             [
              0.6666666666666666,
              "#ed7953"
             ],
             [
              0.7777777777777778,
              "#fb9f3a"
             ],
             [
              0.8888888888888888,
              "#fdca26"
             ],
             [
              1,
              "#f0f921"
             ]
            ],
            "type": "surface"
           }
          ],
          "table": [
           {
            "cells": {
             "fill": {
              "color": "#EBF0F8"
             },
             "line": {
              "color": "white"
             }
            },
            "header": {
             "fill": {
              "color": "#C8D4E3"
             },
             "line": {
              "color": "white"
             }
            },
            "type": "table"
           }
          ]
         },
         "layout": {
          "annotationdefaults": {
           "arrowcolor": "#2a3f5f",
           "arrowhead": 0,
           "arrowwidth": 1
          },
          "autotypenumbers": "strict",
          "coloraxis": {
           "colorbar": {
            "outlinewidth": 0,
            "ticks": ""
           }
          },
          "colorscale": {
           "diverging": [
            [
             0,
             "#8e0152"
            ],
            [
             0.1,
             "#c51b7d"
            ],
            [
             0.2,
             "#de77ae"
            ],
            [
             0.3,
             "#f1b6da"
            ],
            [
             0.4,
             "#fde0ef"
            ],
            [
             0.5,
             "#f7f7f7"
            ],
            [
             0.6,
             "#e6f5d0"
            ],
            [
             0.7,
             "#b8e186"
            ],
            [
             0.8,
             "#7fbc41"
            ],
            [
             0.9,
             "#4d9221"
            ],
            [
             1,
             "#276419"
            ]
           ],
           "sequential": [
            [
             0,
             "#0d0887"
            ],
            [
             0.1111111111111111,
             "#46039f"
            ],
            [
             0.2222222222222222,
             "#7201a8"
            ],
            [
             0.3333333333333333,
             "#9c179e"
            ],
            [
             0.4444444444444444,
             "#bd3786"
            ],
            [
             0.5555555555555556,
             "#d8576b"
            ],
            [
             0.6666666666666666,
             "#ed7953"
            ],
            [
             0.7777777777777778,
             "#fb9f3a"
            ],
            [
             0.8888888888888888,
             "#fdca26"
            ],
            [
             1,
             "#f0f921"
            ]
           ],
           "sequentialminus": [
            [
             0,
             "#0d0887"
            ],
            [
             0.1111111111111111,
             "#46039f"
            ],
            [
             0.2222222222222222,
             "#7201a8"
            ],
            [
             0.3333333333333333,
             "#9c179e"
            ],
            [
             0.4444444444444444,
             "#bd3786"
            ],
            [
             0.5555555555555556,
             "#d8576b"
            ],
            [
             0.6666666666666666,
             "#ed7953"
            ],
            [
             0.7777777777777778,
             "#fb9f3a"
            ],
            [
             0.8888888888888888,
             "#fdca26"
            ],
            [
             1,
             "#f0f921"
            ]
           ]
          },
          "colorway": [
           "#636efa",
           "#EF553B",
           "#00cc96",
           "#ab63fa",
           "#FFA15A",
           "#19d3f3",
           "#FF6692",
           "#B6E880",
           "#FF97FF",
           "#FECB52"
          ],
          "font": {
           "color": "#2a3f5f"
          },
          "geo": {
           "bgcolor": "white",
           "lakecolor": "white",
           "landcolor": "#E5ECF6",
           "showlakes": true,
           "showland": true,
           "subunitcolor": "white"
          },
          "hoverlabel": {
           "align": "left"
          },
          "hovermode": "closest",
          "mapbox": {
           "style": "light"
          },
          "paper_bgcolor": "white",
          "plot_bgcolor": "#E5ECF6",
          "polar": {
           "angularaxis": {
            "gridcolor": "white",
            "linecolor": "white",
            "ticks": ""
           },
           "bgcolor": "#E5ECF6",
           "radialaxis": {
            "gridcolor": "white",
            "linecolor": "white",
            "ticks": ""
           }
          },
          "scene": {
           "xaxis": {
            "backgroundcolor": "#E5ECF6",
            "gridcolor": "white",
            "gridwidth": 2,
            "linecolor": "white",
            "showbackground": true,
            "ticks": "",
            "zerolinecolor": "white"
           },
           "yaxis": {
            "backgroundcolor": "#E5ECF6",
            "gridcolor": "white",
            "gridwidth": 2,
            "linecolor": "white",
            "showbackground": true,
            "ticks": "",
            "zerolinecolor": "white"
           },
           "zaxis": {
            "backgroundcolor": "#E5ECF6",
            "gridcolor": "white",
            "gridwidth": 2,
            "linecolor": "white",
            "showbackground": true,
            "ticks": "",
            "zerolinecolor": "white"
           }
          },
          "shapedefaults": {
           "line": {
            "color": "#2a3f5f"
           }
          },
          "ternary": {
           "aaxis": {
            "gridcolor": "white",
            "linecolor": "white",
            "ticks": ""
           },
           "baxis": {
            "gridcolor": "white",
            "linecolor": "white",
            "ticks": ""
           },
           "bgcolor": "#E5ECF6",
           "caxis": {
            "gridcolor": "white",
            "linecolor": "white",
            "ticks": ""
           }
          },
          "title": {
           "x": 0.05
          },
          "xaxis": {
           "automargin": true,
           "gridcolor": "white",
           "linecolor": "white",
           "ticks": "",
           "title": {
            "standoff": 15
           },
           "zerolinecolor": "white",
           "zerolinewidth": 2
          },
          "yaxis": {
           "automargin": true,
           "gridcolor": "white",
           "linecolor": "white",
           "ticks": "",
           "title": {
            "standoff": 15
           },
           "zerolinecolor": "white",
           "zerolinewidth": 2
          }
         }
        }
       }
      }
     },
     "metadata": {},
     "output_type": "display_data"
    }
   ],
   "source": [
    "fig = go.Figure()\r\n",
    "fig.add_trace(go.Scatter3d(x=df['Intensidade_de_cor'],\r\n",
    "                            y=df['Alcool'],\r\n",
    "                            z=df['Proline'],\r\n",
    "                            mode='markers',\r\n",
    "                            marker=dict(color=labels.astype(float)),\r\n",
    "                            text=labels))\r\n",
    "\r\n",
    "fig.show()"
   ]
  },
  {
   "cell_type": "code",
   "execution_count": 46,
   "metadata": {},
   "outputs": [
    {
     "data": {
      "application/vnd.plotly.v1+json": {
       "config": {
        "plotlyServerURL": "https://plot.ly"
       },
       "data": [
        {
         "marker": {
          "color": [
           0,
           0,
           0,
           0,
           0,
           0,
           0,
           0,
           0,
           0,
           0,
           0,
           0,
           0,
           0,
           0,
           0,
           0,
           0,
           0,
           0,
           0,
           0,
           0,
           0,
           0,
           0,
           0,
           0,
           0,
           0,
           0,
           0,
           0,
           0,
           0,
           0,
           0,
           0,
           0,
           0,
           0,
           0,
           0,
           0,
           0,
           0,
           0,
           0,
           0,
           0,
           0,
           0,
           0,
           0,
           0,
           0,
           0,
           0,
           2,
           1,
           1,
           2,
           2,
           2,
           2,
           2,
           2,
           1,
           2,
           1,
           2,
           2,
           0,
           2,
           2,
           2,
           2,
           2,
           2,
           2,
           2,
           2,
           1,
           2,
           2,
           2,
           2,
           2,
           2,
           2,
           2,
           1,
           2,
           2,
           0,
           2,
           2,
           2,
           2,
           2,
           2,
           2,
           2,
           2,
           2,
           2,
           2,
           2,
           2,
           2,
           2,
           2,
           2,
           2,
           2,
           2,
           2,
           1,
           2,
           2,
           2,
           2,
           2,
           2,
           2,
           2,
           2,
           2,
           2,
           1,
           1,
           1,
           1,
           1,
           1,
           1,
           1,
           1,
           1,
           1,
           1,
           1,
           1,
           1,
           1,
           1,
           1,
           1,
           1,
           1,
           1,
           1,
           1,
           1,
           1,
           1,
           1,
           1,
           1,
           1,
           1,
           1,
           1,
           1,
           1,
           1,
           1,
           1,
           1,
           1,
           1,
           1,
           1,
           1,
           1,
           1,
           1
          ]
         },
         "mode": "markers",
         "text": [
          0,
          0,
          0,
          0,
          0,
          0,
          0,
          0,
          0,
          0,
          0,
          0,
          0,
          0,
          0,
          0,
          0,
          0,
          0,
          0,
          0,
          0,
          0,
          0,
          0,
          0,
          0,
          0,
          0,
          0,
          0,
          0,
          0,
          0,
          0,
          0,
          0,
          0,
          0,
          0,
          0,
          0,
          0,
          0,
          0,
          0,
          0,
          0,
          0,
          0,
          0,
          0,
          0,
          0,
          0,
          0,
          0,
          0,
          0,
          2,
          1,
          1,
          2,
          2,
          2,
          2,
          2,
          2,
          1,
          2,
          1,
          2,
          2,
          0,
          2,
          2,
          2,
          2,
          2,
          2,
          2,
          2,
          2,
          1,
          2,
          2,
          2,
          2,
          2,
          2,
          2,
          2,
          1,
          2,
          2,
          0,
          2,
          2,
          2,
          2,
          2,
          2,
          2,
          2,
          2,
          2,
          2,
          2,
          2,
          2,
          2,
          2,
          2,
          2,
          2,
          2,
          2,
          2,
          1,
          2,
          2,
          2,
          2,
          2,
          2,
          2,
          2,
          2,
          2,
          2,
          1,
          1,
          1,
          1,
          1,
          1,
          1,
          1,
          1,
          1,
          1,
          1,
          1,
          1,
          1,
          1,
          1,
          1,
          1,
          1,
          1,
          1,
          1,
          1,
          1,
          1,
          1,
          1,
          1,
          1,
          1,
          1,
          1,
          1,
          1,
          1,
          1,
          1,
          1,
          1,
          1,
          1,
          1,
          1,
          1,
          1,
          1,
          1
         ],
         "type": "scatter3d",
         "x": [
          0.3720136518771331,
          0.26450511945392485,
          0.3754266211604095,
          0.5563139931740614,
          0.2593856655290102,
          0.4667235494880546,
          0.3387372013651877,
          0.3216723549488054,
          0.33447098976109213,
          0.5068259385665529,
          0.3813993174061433,
          0.31740614334470985,
          0.3686006825938566,
          0.3515358361774744,
          0.5307167235494881,
          0.5136518771331058,
          0.41979522184300344,
          0.4539249146757679,
          0.6331058020477814,
          0.325938566552901,
          0.37286689419795227,
          0.27474402730375425,
          0.21501706484641633,
          0.22610921501706485,
          0.1911262798634812,
          0.1962457337883959,
          0.30034129692832756,
          0.22781569965870305,
          0.27474402730375425,
          0.29180887372013653,
          0.37713310580204773,
          0.4795221843003413,
          0.21843003412969278,
          0.3515358361774744,
          0.2491467576791809,
          0.325938566552901,
          0.2832764505119454,
          0.2534129692832764,
          0.20648464163822525,
          0.325938566552901,
          0.4138225255972696,
          0.2559726962457338,
          0.35409556313993173,
          0.2627986348122867,
          0.32081911262798635,
          0.33788395904436863,
          0.3088737201365188,
          0.4112627986348123,
          0.41979522184300344,
          0.6501706484641638,
          0.5051194539249146,
          0.3686006825938566,
          0.4923208191126279,
          0.42832764505119447,
          0.38993174061433444,
          0.424061433447099,
          0.4351535836177475,
          0.40273037542662116,
          0.4709897610921502,
          0.057167235494880536,
          0.1697952218430034,
          0.3813993174061433,
          0.21501706484641633,
          0.2704778156996587,
          0.1424914675767918,
          0.2832764505119454,
          0.3430034129692833,
          0.2901023890784983,
          0.16126279863481227,
          0.13395904436860068,
          0.15102389078498293,
          0.17918088737201363,
          0.2098976109215017,
          0.1766211604095563,
          0.16467576791808872,
          0.21501706484641633,
          0.2832764505119454,
          0.11689419795221842,
          0.18088737201365188,
          0.1100682593856655,
          0.10409556313993173,
          0.22354948805460748,
          0.07849829351535836,
          0.30034129692832756,
          0.15102389078498293,
          0.1143344709897611,
          0.09982935153583619,
          0.11262798634812288,
          0.1296928327645051,
          0.03924914675767918,
          0.09556313993174059,
          0.1979522184300341,
          0.15102389078498293,
          0.07423208191126279,
          0.16808873720136516,
          0.11262798634812288,
          0.10409556313993173,
          0.13822525597269622,
          0.27474402730375425,
          0.08703071672354948,
          0.17235494880546073,
          0.09982935153583619,
          0.1296928327645051,
          0.06655290102389078,
          0.14163822525597267,
          0.12116040955631399,
          0.18088737201365188,
          0.17235494880546073,
          0.12116040955631399,
          0.11689419795221842,
          0.13822525597269622,
          0.06143344709897611,
          0.21501706484641633,
          0.15358361774744025,
          0.13822525597269622,
          0.052901023890784965,
          0.057167235494880536,
          0.06655290102389078,
          0.18088737201365188,
          0,
          0.16808873720136516,
          0.40273037542662116,
          0.06825938566552903,
          0.11262798634812288,
          0.1296928327645051,
          0.12627986348122863,
          0.22696245733788392,
          0.14675767918088736,
          0.07167235494880547,
          0.11262798634812288,
          0.2406143344709897,
          0.3515358361774744,
          0.37713310580204773,
          0.31740614334470985,
          0.35580204778157,
          0.4965870307167235,
          0.21928327645051196,
          0.31740614334470985,
          0.37713310580204773,
          0.31058020477815695,
          0.2832764505119454,
          0.3686006825938566,
          0.26194539249146753,
          0.2662116040955631,
          0.5912969283276451,
          0.23208191126279862,
          0.3088737201365188,
          0.5435153583617748,
          0.6092150170648464,
          0.6928327645051194,
          0.6245733788395904,
          0.8122866894197952,
          0.4965870307167235,
          0.78839590443686,
          0.5392491467576791,
          0.5648464163822525,
          0.659556313993174,
          0.5307167235494881,
          0.9999999999999999,
          0.893344709897611,
          0.5435153583617748,
          0.39249146757679176,
          0.36689419795221845,
          0.341296928327645,
          0.7081911262798635,
          0.45563139931740615,
          0.8020477815699658,
          0.7662116040955631,
          0.6296928327645052,
          0.6160409556313993,
          0.36006825938566556,
          0.7354947952218429,
          0.7184300341296928,
          0.5477815699658704,
          0.5136518771331058,
          0.7610921501706484,
          0.6843003412969284,
          0.6757679180887372
         ],
         "y": [
          0.8421052631578951,
          0.5710526315789473,
          0.560526315789474,
          0.8789473684210525,
          0.5815789473684214,
          0.8342105263157893,
          0.8842105263157896,
          0.797368421052632,
          1,
          0.7447368421052629,
          0.8078947368421052,
          0.8131578947368419,
          0.7157894736842105,
          0.9789473684210526,
          0.8815789473684212,
          0.6842105263157898,
          0.8605263157894738,
          0.736842105263158,
          0.831578947368421,
          0.6868421052631581,
          0.797368421052632,
          0.5,
          0.7052631578947373,
          0.47894736842105257,
          0.6499999999999999,
          0.5315789473684216,
          0.6210526315789475,
          0.5973684210526318,
          0.7473684210526317,
          0.7868421052631578,
          0.7105263157894739,
          0.6710526315789473,
          0.6973684210526314,
          0.7184210526315788,
          0.6526315789473687,
          0.6447368421052633,
          0.5921052631578947,
          0.5315789473684216,
          0.5368421052631582,
          0.8394736842105264,
          0.6657894736842107,
          0.6263157894736846,
          0.7500000000000004,
          0.5815789473684214,
          0.5315789473684216,
          0.836842105263158,
          0.8815789473684212,
          0.7552631578947371,
          0.8078947368421052,
          0.7657894736842104,
          0.5315789473684216,
          0.736842105263158,
          0.7342105263157896,
          0.7210526315789472,
          0.7131578947368422,
          0.6657894736842107,
          0.8394736842105264,
          0.594736842105263,
          0.7078947368421056,
          0.3526315789473684,
          0.34210526315789513,
          0.4236842105263161,
          0.6947368421052631,
          0.3526315789473684,
          0.30000000000000027,
          0.3526315789473684,
          0.5473684210526315,
          0.3526315789473684,
          0.6078947368421055,
          0.310526315789474,
          0.331578947368421,
          0.7447368421052629,
          0.6473684210526316,
          0.5157894736842108,
          0.2447368421052638,
          0.1657894736842107,
          0.5263157894736841,
          0.2131578947368422,
          0.34210526315789513,
          0.43947368421052646,
          0.2552631578947371,
          0.44473684210526354,
          0.2763157894736845,
          0.5315789473684216,
          0.2131578947368422,
          0.43157894736842106,
          0.29736842105263195,
          0.1631578947368424,
          0.16052631578947407,
          0.2763157894736845,
          0.2763157894736845,
          0.2552631578947371,
          0.43684210526315814,
          0.331578947368421,
          0.155263157894737,
          0.3789473684210529,
          0.20526315789473726,
          0.331578947368421,
          0.3526315789473684,
          0.331578947368421,
          0.2763157894736845,
          0.4131578947368424,
          0.34473684210526345,
          0.20789473684210558,
          0.38947368421052664,
          0.3657894736842109,
          0.3210526315789477,
          0.44473684210526354,
          0.3131578947368423,
          0.15263157894736867,
          0.11315789473684257,
          0.39210526315789496,
          0.19210526315789478,
          0.10000000000000053,
          0.2763157894736845,
          0,
          0.20789473684210558,
          0.3657894736842109,
          0.45789473684210513,
          0.2552631578947371,
          0.1105263157894738,
          0.13947368421052664,
          0.3657894736842109,
          0.5315789473684216,
          0.2210526315789476,
          0.2736842105263162,
          0.3684210526315792,
          0.20000000000000018,
          0.3526315789473684,
          0.26578947368421035,
          0.4815789473684209,
          0.4868421052631584,
          0.4684210526315793,
          0.43947368421052646,
          0.38947368421052664,
          0.4131578947368424,
          0.3210526315789477,
          0.3947368421052633,
          0.6473684210526316,
          0.47631578947368425,
          0.5,
          0.6131578947368421,
          0.655263157894737,
          0.6815789473684211,
          0.3210526315789477,
          0.560526315789474,
          0.7500000000000004,
          0.48421052631578965,
          0.6026315789473689,
          0.5394736842105265,
          0.6499999999999999,
          0.4631578947368422,
          0.5473684210526315,
          0.5789473684210531,
          0.4078947368421053,
          0.5631578947368423,
          0.7394736842105263,
          0.37368421052631584,
          0.8710526315789475,
          0.6447368421052633,
          0.3500000000000001,
          0.7000000000000002,
          0.47894736842105257,
          0.5078947368421058,
          0.7236842105263159,
          0.7105263157894739,
          0.6368421052631579,
          0.4710526315789476,
          0.6710526315789473,
          0.6236842105263158,
          0.3078947368421052,
          0.45789473684210513,
          0.823684210526316,
          0.7052631578947373,
          0.6236842105263158,
          0.5894736842105264,
          0.5631578947368423,
          0.8157894736842106
         ],
         "z": [
          0.5613409415121255,
          0.5506419400855921,
          0.6469329529243938,
          0.8573466476462198,
          0.3259629101283881,
          0.8359486447931527,
          0.7218259629101285,
          0.725392296718973,
          0.5470756062767476,
          0.5470756062767476,
          0.8787446504992867,
          0.7146932952924394,
          0.7432239657631955,
          0.6219686162624822,
          0.9051355206847361,
          0.7360912981455064,
          0.7146932952924394,
          0.6077032810271041,
          1,
          0.40442225392296727,
          0.35805991440798857,
          0.35092724679029963,
          0.5399429386590585,
          0.5256776034236805,
          0.40442225392296727,
          0.3937232524964337,
          0.6540656205420827,
          0.7182596291012839,
          0.4543509272467904,
          0.5399429386590585,
          0.7182596291012839,
          0.8823109843081313,
          0.5078459343794579,
          0.6825962910128388,
          0.5827389443651926,
          0.4579172610556348,
          0.4293865905848788,
          0.5898716119828816,
          0.529243937232525,
          0.3437945791726106,
          0.36875891583452214,
          0.5399429386590585,
          0.5827389443651926,
          0.2867332382310984,
          0.43295292439372324,
          0.5720399429386591,
          0.5613409415121255,
          0.5042796005706135,
          0.557774607703281,
          0.7004279600570614,
          0.6219686162624822,
          0.7039942938659058,
          0.6504992867332383,
          0.782453637660485,
          0.557774607703281,
          0.6005706134094152,
          0.4935805991440799,
          0.7075606276747504,
          0.7182596291012839,
          0.17261055634807418,
          0.2867332382310984,
          0.12268188302425106,
          0.2510699001426534,
          0.10128388017118403,
          0.054921540656205386,
          0.2853067047075606,
          0.15977175463623397,
          0.1654778887303852,
          0.33666191155492153,
          0.31383737517831667,
          0.4222539229671898,
          0.09415121255349498,
          0.13837375178316688,
          0.5042796005706135,
          0.4336661911554922,
          0.10699001426533525,
          0.08131241084165478,
          0.15834522111269614,
          0.33666191155492153,
          0.1319543509272468,
          0,
          0.3109843081312411,
          0.2510699001426534,
          0.16904422253922965,
          0.17261055634807418,
          0.12268188302425106,
          0.15477888730385161,
          0.20256776034236804,
          0.2867332382310984,
          0.24750356633380885,
          0.1440798858773181,
          0.12268188302425106,
          0.15477888730385161,
          0.008559201141226797,
          0.047788873038516394,
          0.4700427960057062,
          0.24750356633380885,
          0.10699001426533525,
          0.27246790299572043,
          0.09129814550641938,
          0.30813124108416545,
          0.20256776034236804,
          0.11412268188302424,
          0.09771754636233951,
          0.2810271041369472,
          0.02639087018544936,
          0.1654778887303852,
          0.14978601997146931,
          0.02425106990014264,
          0.2867332382310984,
          0.20256776034236804,
          0.033523537803138354,
          0.23466476462196864,
          0.11126961483594863,
          0.07631954350927247,
          0.09201141226818829,
          0.15477888730385161,
          0.047788873038516394,
          0.06704707560627673,
          0.20399429386590587,
          0.24750356633380885,
          0.13338088445078458,
          0.062054208273894434,
          0.07275320970042795,
          0.07275320970042795,
          0.07132667617689017,
          0.052781740370898694,
          0.1340941512125535,
          0.0456490727532097,
          0.21540656205420824,
          0.2510699001426534,
          0.17974322396576317,
          0.20114122681883026,
          0.22967189728958629,
          0.2653352353780314,
          0.297432239657632,
          0.3152639087018545,
          0.16904422253922965,
          0.21540656205420824,
          0.2225392296718973,
          0.22967189728958629,
          0.35805991440798857,
          0.17261055634807418,
          0.1940085592011412,
          0.4115549215406562,
          0.3937232524964337,
          0.09771754636233951,
          0.24750356633380885,
          0.2653352353780314,
          0.1940085592011412,
          0.15834522111269614,
          0.1440798858773181,
          0.1048502139800285,
          0.2831669044222539,
          0.25820256776034234,
          0.318830242510699,
          0.1440798858773181,
          0.4293865905848788,
          0.27246790299572043,
          0.24393723252496433,
          0.17261055634807418,
          0.2867332382310984,
          0.20827389443651925,
          0.2831669044222539,
          0.2403708987161198,
          0.17261055634807418,
          0.297432239657632,
          0.29029957203994294,
          0.33666191155492153,
          0.2510699001426534,
          0.1654778887303852,
          0.1369472182596291,
          0.27246790299572043,
          0.3295292439372326,
          0.33666191155492153,
          0.3972895863052782,
          0.40085592011412274,
          0.20114122681883026
         ]
        }
       ],
       "layout": {
        "scene": {
         "xaxis": {
          "title": {
           "text": "Intensidade de Cor"
          }
         },
         "yaxis": {
          "title": {
           "text": "Álcool"
          }
         },
         "zaxis": {
          "title": {
           "text": "Proline"
          }
         }
        },
        "template": {
         "data": {
          "bar": [
           {
            "error_x": {
             "color": "#2a3f5f"
            },
            "error_y": {
             "color": "#2a3f5f"
            },
            "marker": {
             "line": {
              "color": "#E5ECF6",
              "width": 0.5
             }
            },
            "type": "bar"
           }
          ],
          "barpolar": [
           {
            "marker": {
             "line": {
              "color": "#E5ECF6",
              "width": 0.5
             }
            },
            "type": "barpolar"
           }
          ],
          "carpet": [
           {
            "aaxis": {
             "endlinecolor": "#2a3f5f",
             "gridcolor": "white",
             "linecolor": "white",
             "minorgridcolor": "white",
             "startlinecolor": "#2a3f5f"
            },
            "baxis": {
             "endlinecolor": "#2a3f5f",
             "gridcolor": "white",
             "linecolor": "white",
             "minorgridcolor": "white",
             "startlinecolor": "#2a3f5f"
            },
            "type": "carpet"
           }
          ],
          "choropleth": [
           {
            "colorbar": {
             "outlinewidth": 0,
             "ticks": ""
            },
            "type": "choropleth"
           }
          ],
          "contour": [
           {
            "colorbar": {
             "outlinewidth": 0,
             "ticks": ""
            },
            "colorscale": [
             [
              0,
              "#0d0887"
             ],
             [
              0.1111111111111111,
              "#46039f"
             ],
             [
              0.2222222222222222,
              "#7201a8"
             ],
             [
              0.3333333333333333,
              "#9c179e"
             ],
             [
              0.4444444444444444,
              "#bd3786"
             ],
             [
              0.5555555555555556,
              "#d8576b"
             ],
             [
              0.6666666666666666,
              "#ed7953"
             ],
             [
              0.7777777777777778,
              "#fb9f3a"
             ],
             [
              0.8888888888888888,
              "#fdca26"
             ],
             [
              1,
              "#f0f921"
             ]
            ],
            "type": "contour"
           }
          ],
          "contourcarpet": [
           {
            "colorbar": {
             "outlinewidth": 0,
             "ticks": ""
            },
            "type": "contourcarpet"
           }
          ],
          "heatmap": [
           {
            "colorbar": {
             "outlinewidth": 0,
             "ticks": ""
            },
            "colorscale": [
             [
              0,
              "#0d0887"
             ],
             [
              0.1111111111111111,
              "#46039f"
             ],
             [
              0.2222222222222222,
              "#7201a8"
             ],
             [
              0.3333333333333333,
              "#9c179e"
             ],
             [
              0.4444444444444444,
              "#bd3786"
             ],
             [
              0.5555555555555556,
              "#d8576b"
             ],
             [
              0.6666666666666666,
              "#ed7953"
             ],
             [
              0.7777777777777778,
              "#fb9f3a"
             ],
             [
              0.8888888888888888,
              "#fdca26"
             ],
             [
              1,
              "#f0f921"
             ]
            ],
            "type": "heatmap"
           }
          ],
          "heatmapgl": [
           {
            "colorbar": {
             "outlinewidth": 0,
             "ticks": ""
            },
            "colorscale": [
             [
              0,
              "#0d0887"
             ],
             [
              0.1111111111111111,
              "#46039f"
             ],
             [
              0.2222222222222222,
              "#7201a8"
             ],
             [
              0.3333333333333333,
              "#9c179e"
             ],
             [
              0.4444444444444444,
              "#bd3786"
             ],
             [
              0.5555555555555556,
              "#d8576b"
             ],
             [
              0.6666666666666666,
              "#ed7953"
             ],
             [
              0.7777777777777778,
              "#fb9f3a"
             ],
             [
              0.8888888888888888,
              "#fdca26"
             ],
             [
              1,
              "#f0f921"
             ]
            ],
            "type": "heatmapgl"
           }
          ],
          "histogram": [
           {
            "marker": {
             "colorbar": {
              "outlinewidth": 0,
              "ticks": ""
             }
            },
            "type": "histogram"
           }
          ],
          "histogram2d": [
           {
            "colorbar": {
             "outlinewidth": 0,
             "ticks": ""
            },
            "colorscale": [
             [
              0,
              "#0d0887"
             ],
             [
              0.1111111111111111,
              "#46039f"
             ],
             [
              0.2222222222222222,
              "#7201a8"
             ],
             [
              0.3333333333333333,
              "#9c179e"
             ],
             [
              0.4444444444444444,
              "#bd3786"
             ],
             [
              0.5555555555555556,
              "#d8576b"
             ],
             [
              0.6666666666666666,
              "#ed7953"
             ],
             [
              0.7777777777777778,
              "#fb9f3a"
             ],
             [
              0.8888888888888888,
              "#fdca26"
             ],
             [
              1,
              "#f0f921"
             ]
            ],
            "type": "histogram2d"
           }
          ],
          "histogram2dcontour": [
           {
            "colorbar": {
             "outlinewidth": 0,
             "ticks": ""
            },
            "colorscale": [
             [
              0,
              "#0d0887"
             ],
             [
              0.1111111111111111,
              "#46039f"
             ],
             [
              0.2222222222222222,
              "#7201a8"
             ],
             [
              0.3333333333333333,
              "#9c179e"
             ],
             [
              0.4444444444444444,
              "#bd3786"
             ],
             [
              0.5555555555555556,
              "#d8576b"
             ],
             [
              0.6666666666666666,
              "#ed7953"
             ],
             [
              0.7777777777777778,
              "#fb9f3a"
             ],
             [
              0.8888888888888888,
              "#fdca26"
             ],
             [
              1,
              "#f0f921"
             ]
            ],
            "type": "histogram2dcontour"
           }
          ],
          "mesh3d": [
           {
            "colorbar": {
             "outlinewidth": 0,
             "ticks": ""
            },
            "type": "mesh3d"
           }
          ],
          "parcoords": [
           {
            "line": {
             "colorbar": {
              "outlinewidth": 0,
              "ticks": ""
             }
            },
            "type": "parcoords"
           }
          ],
          "pie": [
           {
            "automargin": true,
            "type": "pie"
           }
          ],
          "scatter": [
           {
            "marker": {
             "colorbar": {
              "outlinewidth": 0,
              "ticks": ""
             }
            },
            "type": "scatter"
           }
          ],
          "scatter3d": [
           {
            "line": {
             "colorbar": {
              "outlinewidth": 0,
              "ticks": ""
             }
            },
            "marker": {
             "colorbar": {
              "outlinewidth": 0,
              "ticks": ""
             }
            },
            "type": "scatter3d"
           }
          ],
          "scattercarpet": [
           {
            "marker": {
             "colorbar": {
              "outlinewidth": 0,
              "ticks": ""
             }
            },
            "type": "scattercarpet"
           }
          ],
          "scattergeo": [
           {
            "marker": {
             "colorbar": {
              "outlinewidth": 0,
              "ticks": ""
             }
            },
            "type": "scattergeo"
           }
          ],
          "scattergl": [
           {
            "marker": {
             "colorbar": {
              "outlinewidth": 0,
              "ticks": ""
             }
            },
            "type": "scattergl"
           }
          ],
          "scattermapbox": [
           {
            "marker": {
             "colorbar": {
              "outlinewidth": 0,
              "ticks": ""
             }
            },
            "type": "scattermapbox"
           }
          ],
          "scatterpolar": [
           {
            "marker": {
             "colorbar": {
              "outlinewidth": 0,
              "ticks": ""
             }
            },
            "type": "scatterpolar"
           }
          ],
          "scatterpolargl": [
           {
            "marker": {
             "colorbar": {
              "outlinewidth": 0,
              "ticks": ""
             }
            },
            "type": "scatterpolargl"
           }
          ],
          "scatterternary": [
           {
            "marker": {
             "colorbar": {
              "outlinewidth": 0,
              "ticks": ""
             }
            },
            "type": "scatterternary"
           }
          ],
          "surface": [
           {
            "colorbar": {
             "outlinewidth": 0,
             "ticks": ""
            },
            "colorscale": [
             [
              0,
              "#0d0887"
             ],
             [
              0.1111111111111111,
              "#46039f"
             ],
             [
              0.2222222222222222,
              "#7201a8"
             ],
             [
              0.3333333333333333,
              "#9c179e"
             ],
             [
              0.4444444444444444,
              "#bd3786"
             ],
             [
              0.5555555555555556,
              "#d8576b"
             ],
             [
              0.6666666666666666,
              "#ed7953"
             ],
             [
              0.7777777777777778,
              "#fb9f3a"
             ],
             [
              0.8888888888888888,
              "#fdca26"
             ],
             [
              1,
              "#f0f921"
             ]
            ],
            "type": "surface"
           }
          ],
          "table": [
           {
            "cells": {
             "fill": {
              "color": "#EBF0F8"
             },
             "line": {
              "color": "white"
             }
            },
            "header": {
             "fill": {
              "color": "#C8D4E3"
             },
             "line": {
              "color": "white"
             }
            },
            "type": "table"
           }
          ]
         },
         "layout": {
          "annotationdefaults": {
           "arrowcolor": "#2a3f5f",
           "arrowhead": 0,
           "arrowwidth": 1
          },
          "autotypenumbers": "strict",
          "coloraxis": {
           "colorbar": {
            "outlinewidth": 0,
            "ticks": ""
           }
          },
          "colorscale": {
           "diverging": [
            [
             0,
             "#8e0152"
            ],
            [
             0.1,
             "#c51b7d"
            ],
            [
             0.2,
             "#de77ae"
            ],
            [
             0.3,
             "#f1b6da"
            ],
            [
             0.4,
             "#fde0ef"
            ],
            [
             0.5,
             "#f7f7f7"
            ],
            [
             0.6,
             "#e6f5d0"
            ],
            [
             0.7,
             "#b8e186"
            ],
            [
             0.8,
             "#7fbc41"
            ],
            [
             0.9,
             "#4d9221"
            ],
            [
             1,
             "#276419"
            ]
           ],
           "sequential": [
            [
             0,
             "#0d0887"
            ],
            [
             0.1111111111111111,
             "#46039f"
            ],
            [
             0.2222222222222222,
             "#7201a8"
            ],
            [
             0.3333333333333333,
             "#9c179e"
            ],
            [
             0.4444444444444444,
             "#bd3786"
            ],
            [
             0.5555555555555556,
             "#d8576b"
            ],
            [
             0.6666666666666666,
             "#ed7953"
            ],
            [
             0.7777777777777778,
             "#fb9f3a"
            ],
            [
             0.8888888888888888,
             "#fdca26"
            ],
            [
             1,
             "#f0f921"
            ]
           ],
           "sequentialminus": [
            [
             0,
             "#0d0887"
            ],
            [
             0.1111111111111111,
             "#46039f"
            ],
            [
             0.2222222222222222,
             "#7201a8"
            ],
            [
             0.3333333333333333,
             "#9c179e"
            ],
            [
             0.4444444444444444,
             "#bd3786"
            ],
            [
             0.5555555555555556,
             "#d8576b"
            ],
            [
             0.6666666666666666,
             "#ed7953"
            ],
            [
             0.7777777777777778,
             "#fb9f3a"
            ],
            [
             0.8888888888888888,
             "#fdca26"
            ],
            [
             1,
             "#f0f921"
            ]
           ]
          },
          "colorway": [
           "#636efa",
           "#EF553B",
           "#00cc96",
           "#ab63fa",
           "#FFA15A",
           "#19d3f3",
           "#FF6692",
           "#B6E880",
           "#FF97FF",
           "#FECB52"
          ],
          "font": {
           "color": "#2a3f5f"
          },
          "geo": {
           "bgcolor": "white",
           "lakecolor": "white",
           "landcolor": "#E5ECF6",
           "showlakes": true,
           "showland": true,
           "subunitcolor": "white"
          },
          "hoverlabel": {
           "align": "left"
          },
          "hovermode": "closest",
          "mapbox": {
           "style": "light"
          },
          "paper_bgcolor": "white",
          "plot_bgcolor": "#E5ECF6",
          "polar": {
           "angularaxis": {
            "gridcolor": "white",
            "linecolor": "white",
            "ticks": ""
           },
           "bgcolor": "#E5ECF6",
           "radialaxis": {
            "gridcolor": "white",
            "linecolor": "white",
            "ticks": ""
           }
          },
          "scene": {
           "xaxis": {
            "backgroundcolor": "#E5ECF6",
            "gridcolor": "white",
            "gridwidth": 2,
            "linecolor": "white",
            "showbackground": true,
            "ticks": "",
            "zerolinecolor": "white"
           },
           "yaxis": {
            "backgroundcolor": "#E5ECF6",
            "gridcolor": "white",
            "gridwidth": 2,
            "linecolor": "white",
            "showbackground": true,
            "ticks": "",
            "zerolinecolor": "white"
           },
           "zaxis": {
            "backgroundcolor": "#E5ECF6",
            "gridcolor": "white",
            "gridwidth": 2,
            "linecolor": "white",
            "showbackground": true,
            "ticks": "",
            "zerolinecolor": "white"
           }
          },
          "shapedefaults": {
           "line": {
            "color": "#2a3f5f"
           }
          },
          "ternary": {
           "aaxis": {
            "gridcolor": "white",
            "linecolor": "white",
            "ticks": ""
           },
           "baxis": {
            "gridcolor": "white",
            "linecolor": "white",
            "ticks": ""
           },
           "bgcolor": "#E5ECF6",
           "caxis": {
            "gridcolor": "white",
            "linecolor": "white",
            "ticks": ""
           }
          },
          "title": {
           "x": 0.05
          },
          "xaxis": {
           "automargin": true,
           "gridcolor": "white",
           "linecolor": "white",
           "ticks": "",
           "title": {
            "standoff": 15
           },
           "zerolinecolor": "white",
           "zerolinewidth": 2
          },
          "yaxis": {
           "automargin": true,
           "gridcolor": "white",
           "linecolor": "white",
           "ticks": "",
           "title": {
            "standoff": 15
           },
           "zerolinecolor": "white",
           "zerolinewidth": 2
          }
         }
        }
       }
      }
     },
     "metadata": {},
     "output_type": "display_data"
    }
   ],
   "source": [
    "fig.update_layout(scene = dict(\r\n",
    "    xaxis_title = 'Intensidade de Cor',\r\n",
    "    yaxis_title = 'Álcool',\r\n",
    "    zaxis_title = 'Proline'\r\n",
    "))\r\n",
    "\r\n",
    "fig.show()"
   ]
  },
  {
   "cell_type": "code",
   "execution_count": 47,
   "metadata": {},
   "outputs": [
    {
     "data": {
      "text/html": [
       "<div>\n",
       "<style scoped>\n",
       "    .dataframe tbody tr th:only-of-type {\n",
       "        vertical-align: middle;\n",
       "    }\n",
       "\n",
       "    .dataframe tbody tr th {\n",
       "        vertical-align: top;\n",
       "    }\n",
       "\n",
       "    .dataframe thead th {\n",
       "        text-align: right;\n",
       "    }\n",
       "</style>\n",
       "<table border=\"1\" class=\"dataframe\">\n",
       "  <thead>\n",
       "    <tr style=\"text-align: right;\">\n",
       "      <th></th>\n",
       "      <th>Alcool</th>\n",
       "      <th>Malic_Acid</th>\n",
       "      <th>Po</th>\n",
       "      <th>Alcalinidade_po</th>\n",
       "      <th>Magnesio</th>\n",
       "      <th>Total_Phenols</th>\n",
       "      <th>Flavanoids</th>\n",
       "      <th>Nonflavanoid_Phenols</th>\n",
       "      <th>Proanthocyanins</th>\n",
       "      <th>Intensidade_de_cor</th>\n",
       "      <th>Hue</th>\n",
       "      <th>OD280</th>\n",
       "      <th>Proline</th>\n",
       "    </tr>\n",
       "  </thead>\n",
       "  <tbody>\n",
       "    <tr>\n",
       "      <th>0</th>\n",
       "      <td>0.705651</td>\n",
       "      <td>0.248429</td>\n",
       "      <td>0.584904</td>\n",
       "      <td>0.344431</td>\n",
       "      <td>0.410727</td>\n",
       "      <td>0.642114</td>\n",
       "      <td>0.554679</td>\n",
       "      <td>0.300340</td>\n",
       "      <td>0.477272</td>\n",
       "      <td>0.355340</td>\n",
       "      <td>0.477809</td>\n",
       "      <td>0.690386</td>\n",
       "      <td>0.593894</td>\n",
       "    </tr>\n",
       "    <tr>\n",
       "      <th>1</th>\n",
       "      <td>0.544689</td>\n",
       "      <td>0.478441</td>\n",
       "      <td>0.560136</td>\n",
       "      <td>0.538332</td>\n",
       "      <td>0.311462</td>\n",
       "      <td>0.244765</td>\n",
       "      <td>0.107135</td>\n",
       "      <td>0.618525</td>\n",
       "      <td>0.228276</td>\n",
       "      <td>0.482640</td>\n",
       "      <td>0.192550</td>\n",
       "      <td>0.160906</td>\n",
       "      <td>0.247400</td>\n",
       "    </tr>\n",
       "    <tr>\n",
       "      <th>2</th>\n",
       "      <td>0.311375</td>\n",
       "      <td>0.236899</td>\n",
       "      <td>0.472917</td>\n",
       "      <td>0.499917</td>\n",
       "      <td>0.247721</td>\n",
       "      <td>0.453059</td>\n",
       "      <td>0.382401</td>\n",
       "      <td>0.411747</td>\n",
       "      <td>0.397425</td>\n",
       "      <td>0.147735</td>\n",
       "      <td>0.473512</td>\n",
       "      <td>0.588976</td>\n",
       "      <td>0.156401</td>\n",
       "    </tr>\n",
       "  </tbody>\n",
       "</table>\n",
       "</div>"
      ],
      "text/plain": [
       "     Alcool  Malic_Acid        Po  Alcalinidade_po  Magnesio  Total_Phenols  \\\n",
       "0  0.705651    0.248429  0.584904         0.344431  0.410727       0.642114   \n",
       "1  0.544689    0.478441  0.560136         0.538332  0.311462       0.244765   \n",
       "2  0.311375    0.236899  0.472917         0.499917  0.247721       0.453059   \n",
       "\n",
       "   Flavanoids  Nonflavanoid_Phenols  Proanthocyanins  Intensidade_de_cor  \\\n",
       "0    0.554679              0.300340         0.477272            0.355340   \n",
       "1    0.107135              0.618525         0.228276            0.482640   \n",
       "2    0.382401              0.411747         0.397425            0.147735   \n",
       "\n",
       "        Hue     OD280   Proline  \n",
       "0  0.477809  0.690386  0.593894  \n",
       "1  0.192550  0.160906  0.247400  \n",
       "2  0.473512  0.588976  0.156401  "
      ]
     },
     "execution_count": 47,
     "metadata": {},
     "output_type": "execute_result"
    }
   ],
   "source": [
    "centros = pd.DataFrame(agrupador.cluster_centers_)\r\n",
    "centros.columns = colunas\r\n",
    "centros.head()"
   ]
  },
  {
   "cell_type": "code",
   "execution_count": 48,
   "metadata": {},
   "outputs": [
    {
     "data": {
      "application/vnd.plotly.v1+json": {
       "config": {
        "plotlyServerURL": "https://plot.ly"
       },
       "data": [
        {
         "marker": {
          "color": [
           0,
           0,
           0,
           0,
           0,
           0,
           0,
           0,
           0,
           0,
           0,
           0,
           0,
           0,
           0,
           0,
           0,
           0,
           0,
           0,
           0,
           0,
           0,
           0,
           0,
           0,
           0,
           0,
           0,
           0,
           0,
           0,
           0,
           0,
           0,
           0,
           0,
           0,
           0,
           0,
           0,
           0,
           0,
           0,
           0,
           0,
           0,
           0,
           0,
           0,
           0,
           0,
           0,
           0,
           0,
           0,
           0,
           0,
           0,
           2,
           1,
           1,
           2,
           2,
           2,
           2,
           2,
           2,
           1,
           2,
           1,
           2,
           2,
           0,
           2,
           2,
           2,
           2,
           2,
           2,
           2,
           2,
           2,
           1,
           2,
           2,
           2,
           2,
           2,
           2,
           2,
           2,
           1,
           2,
           2,
           0,
           2,
           2,
           2,
           2,
           2,
           2,
           2,
           2,
           2,
           2,
           2,
           2,
           2,
           2,
           2,
           2,
           2,
           2,
           2,
           2,
           2,
           2,
           1,
           2,
           2,
           2,
           2,
           2,
           2,
           2,
           2,
           2,
           2,
           2,
           1,
           1,
           1,
           1,
           1,
           1,
           1,
           1,
           1,
           1,
           1,
           1,
           1,
           1,
           1,
           1,
           1,
           1,
           1,
           1,
           1,
           1,
           1,
           1,
           1,
           1,
           1,
           1,
           1,
           1,
           1,
           1,
           1,
           1,
           1,
           1,
           1,
           1,
           1,
           1,
           1,
           1,
           1,
           1,
           1,
           1,
           1,
           1
          ]
         },
         "mode": "markers",
         "text": [
          0,
          0,
          0,
          0,
          0,
          0,
          0,
          0,
          0,
          0,
          0,
          0,
          0,
          0,
          0,
          0,
          0,
          0,
          0,
          0,
          0,
          0,
          0,
          0,
          0,
          0,
          0,
          0,
          0,
          0,
          0,
          0,
          0,
          0,
          0,
          0,
          0,
          0,
          0,
          0,
          0,
          0,
          0,
          0,
          0,
          0,
          0,
          0,
          0,
          0,
          0,
          0,
          0,
          0,
          0,
          0,
          0,
          0,
          0,
          2,
          1,
          1,
          2,
          2,
          2,
          2,
          2,
          2,
          1,
          2,
          1,
          2,
          2,
          0,
          2,
          2,
          2,
          2,
          2,
          2,
          2,
          2,
          2,
          1,
          2,
          2,
          2,
          2,
          2,
          2,
          2,
          2,
          1,
          2,
          2,
          0,
          2,
          2,
          2,
          2,
          2,
          2,
          2,
          2,
          2,
          2,
          2,
          2,
          2,
          2,
          2,
          2,
          2,
          2,
          2,
          2,
          2,
          2,
          1,
          2,
          2,
          2,
          2,
          2,
          2,
          2,
          2,
          2,
          2,
          2,
          1,
          1,
          1,
          1,
          1,
          1,
          1,
          1,
          1,
          1,
          1,
          1,
          1,
          1,
          1,
          1,
          1,
          1,
          1,
          1,
          1,
          1,
          1,
          1,
          1,
          1,
          1,
          1,
          1,
          1,
          1,
          1,
          1,
          1,
          1,
          1,
          1,
          1,
          1,
          1,
          1,
          1,
          1,
          1,
          1,
          1,
          1,
          1
         ],
         "type": "scatter3d",
         "x": [
          0.3720136518771331,
          0.26450511945392485,
          0.3754266211604095,
          0.5563139931740614,
          0.2593856655290102,
          0.4667235494880546,
          0.3387372013651877,
          0.3216723549488054,
          0.33447098976109213,
          0.5068259385665529,
          0.3813993174061433,
          0.31740614334470985,
          0.3686006825938566,
          0.3515358361774744,
          0.5307167235494881,
          0.5136518771331058,
          0.41979522184300344,
          0.4539249146757679,
          0.6331058020477814,
          0.325938566552901,
          0.37286689419795227,
          0.27474402730375425,
          0.21501706484641633,
          0.22610921501706485,
          0.1911262798634812,
          0.1962457337883959,
          0.30034129692832756,
          0.22781569965870305,
          0.27474402730375425,
          0.29180887372013653,
          0.37713310580204773,
          0.4795221843003413,
          0.21843003412969278,
          0.3515358361774744,
          0.2491467576791809,
          0.325938566552901,
          0.2832764505119454,
          0.2534129692832764,
          0.20648464163822525,
          0.325938566552901,
          0.4138225255972696,
          0.2559726962457338,
          0.35409556313993173,
          0.2627986348122867,
          0.32081911262798635,
          0.33788395904436863,
          0.3088737201365188,
          0.4112627986348123,
          0.41979522184300344,
          0.6501706484641638,
          0.5051194539249146,
          0.3686006825938566,
          0.4923208191126279,
          0.42832764505119447,
          0.38993174061433444,
          0.424061433447099,
          0.4351535836177475,
          0.40273037542662116,
          0.4709897610921502,
          0.057167235494880536,
          0.1697952218430034,
          0.3813993174061433,
          0.21501706484641633,
          0.2704778156996587,
          0.1424914675767918,
          0.2832764505119454,
          0.3430034129692833,
          0.2901023890784983,
          0.16126279863481227,
          0.13395904436860068,
          0.15102389078498293,
          0.17918088737201363,
          0.2098976109215017,
          0.1766211604095563,
          0.16467576791808872,
          0.21501706484641633,
          0.2832764505119454,
          0.11689419795221842,
          0.18088737201365188,
          0.1100682593856655,
          0.10409556313993173,
          0.22354948805460748,
          0.07849829351535836,
          0.30034129692832756,
          0.15102389078498293,
          0.1143344709897611,
          0.09982935153583619,
          0.11262798634812288,
          0.1296928327645051,
          0.03924914675767918,
          0.09556313993174059,
          0.1979522184300341,
          0.15102389078498293,
          0.07423208191126279,
          0.16808873720136516,
          0.11262798634812288,
          0.10409556313993173,
          0.13822525597269622,
          0.27474402730375425,
          0.08703071672354948,
          0.17235494880546073,
          0.09982935153583619,
          0.1296928327645051,
          0.06655290102389078,
          0.14163822525597267,
          0.12116040955631399,
          0.18088737201365188,
          0.17235494880546073,
          0.12116040955631399,
          0.11689419795221842,
          0.13822525597269622,
          0.06143344709897611,
          0.21501706484641633,
          0.15358361774744025,
          0.13822525597269622,
          0.052901023890784965,
          0.057167235494880536,
          0.06655290102389078,
          0.18088737201365188,
          0,
          0.16808873720136516,
          0.40273037542662116,
          0.06825938566552903,
          0.11262798634812288,
          0.1296928327645051,
          0.12627986348122863,
          0.22696245733788392,
          0.14675767918088736,
          0.07167235494880547,
          0.11262798634812288,
          0.2406143344709897,
          0.3515358361774744,
          0.37713310580204773,
          0.31740614334470985,
          0.35580204778157,
          0.4965870307167235,
          0.21928327645051196,
          0.31740614334470985,
          0.37713310580204773,
          0.31058020477815695,
          0.2832764505119454,
          0.3686006825938566,
          0.26194539249146753,
          0.2662116040955631,
          0.5912969283276451,
          0.23208191126279862,
          0.3088737201365188,
          0.5435153583617748,
          0.6092150170648464,
          0.6928327645051194,
          0.6245733788395904,
          0.8122866894197952,
          0.4965870307167235,
          0.78839590443686,
          0.5392491467576791,
          0.5648464163822525,
          0.659556313993174,
          0.5307167235494881,
          0.9999999999999999,
          0.893344709897611,
          0.5435153583617748,
          0.39249146757679176,
          0.36689419795221845,
          0.341296928327645,
          0.7081911262798635,
          0.45563139931740615,
          0.8020477815699658,
          0.7662116040955631,
          0.6296928327645052,
          0.6160409556313993,
          0.36006825938566556,
          0.7354947952218429,
          0.7184300341296928,
          0.5477815699658704,
          0.5136518771331058,
          0.7610921501706484,
          0.6843003412969284,
          0.6757679180887372
         ],
         "y": [
          0.8421052631578951,
          0.5710526315789473,
          0.560526315789474,
          0.8789473684210525,
          0.5815789473684214,
          0.8342105263157893,
          0.8842105263157896,
          0.797368421052632,
          1,
          0.7447368421052629,
          0.8078947368421052,
          0.8131578947368419,
          0.7157894736842105,
          0.9789473684210526,
          0.8815789473684212,
          0.6842105263157898,
          0.8605263157894738,
          0.736842105263158,
          0.831578947368421,
          0.6868421052631581,
          0.797368421052632,
          0.5,
          0.7052631578947373,
          0.47894736842105257,
          0.6499999999999999,
          0.5315789473684216,
          0.6210526315789475,
          0.5973684210526318,
          0.7473684210526317,
          0.7868421052631578,
          0.7105263157894739,
          0.6710526315789473,
          0.6973684210526314,
          0.7184210526315788,
          0.6526315789473687,
          0.6447368421052633,
          0.5921052631578947,
          0.5315789473684216,
          0.5368421052631582,
          0.8394736842105264,
          0.6657894736842107,
          0.6263157894736846,
          0.7500000000000004,
          0.5815789473684214,
          0.5315789473684216,
          0.836842105263158,
          0.8815789473684212,
          0.7552631578947371,
          0.8078947368421052,
          0.7657894736842104,
          0.5315789473684216,
          0.736842105263158,
          0.7342105263157896,
          0.7210526315789472,
          0.7131578947368422,
          0.6657894736842107,
          0.8394736842105264,
          0.594736842105263,
          0.7078947368421056,
          0.3526315789473684,
          0.34210526315789513,
          0.4236842105263161,
          0.6947368421052631,
          0.3526315789473684,
          0.30000000000000027,
          0.3526315789473684,
          0.5473684210526315,
          0.3526315789473684,
          0.6078947368421055,
          0.310526315789474,
          0.331578947368421,
          0.7447368421052629,
          0.6473684210526316,
          0.5157894736842108,
          0.2447368421052638,
          0.1657894736842107,
          0.5263157894736841,
          0.2131578947368422,
          0.34210526315789513,
          0.43947368421052646,
          0.2552631578947371,
          0.44473684210526354,
          0.2763157894736845,
          0.5315789473684216,
          0.2131578947368422,
          0.43157894736842106,
          0.29736842105263195,
          0.1631578947368424,
          0.16052631578947407,
          0.2763157894736845,
          0.2763157894736845,
          0.2552631578947371,
          0.43684210526315814,
          0.331578947368421,
          0.155263157894737,
          0.3789473684210529,
          0.20526315789473726,
          0.331578947368421,
          0.3526315789473684,
          0.331578947368421,
          0.2763157894736845,
          0.4131578947368424,
          0.34473684210526345,
          0.20789473684210558,
          0.38947368421052664,
          0.3657894736842109,
          0.3210526315789477,
          0.44473684210526354,
          0.3131578947368423,
          0.15263157894736867,
          0.11315789473684257,
          0.39210526315789496,
          0.19210526315789478,
          0.10000000000000053,
          0.2763157894736845,
          0,
          0.20789473684210558,
          0.3657894736842109,
          0.45789473684210513,
          0.2552631578947371,
          0.1105263157894738,
          0.13947368421052664,
          0.3657894736842109,
          0.5315789473684216,
          0.2210526315789476,
          0.2736842105263162,
          0.3684210526315792,
          0.20000000000000018,
          0.3526315789473684,
          0.26578947368421035,
          0.4815789473684209,
          0.4868421052631584,
          0.4684210526315793,
          0.43947368421052646,
          0.38947368421052664,
          0.4131578947368424,
          0.3210526315789477,
          0.3947368421052633,
          0.6473684210526316,
          0.47631578947368425,
          0.5,
          0.6131578947368421,
          0.655263157894737,
          0.6815789473684211,
          0.3210526315789477,
          0.560526315789474,
          0.7500000000000004,
          0.48421052631578965,
          0.6026315789473689,
          0.5394736842105265,
          0.6499999999999999,
          0.4631578947368422,
          0.5473684210526315,
          0.5789473684210531,
          0.4078947368421053,
          0.5631578947368423,
          0.7394736842105263,
          0.37368421052631584,
          0.8710526315789475,
          0.6447368421052633,
          0.3500000000000001,
          0.7000000000000002,
          0.47894736842105257,
          0.5078947368421058,
          0.7236842105263159,
          0.7105263157894739,
          0.6368421052631579,
          0.4710526315789476,
          0.6710526315789473,
          0.6236842105263158,
          0.3078947368421052,
          0.45789473684210513,
          0.823684210526316,
          0.7052631578947373,
          0.6236842105263158,
          0.5894736842105264,
          0.5631578947368423,
          0.8157894736842106
         ],
         "z": [
          0.5613409415121255,
          0.5506419400855921,
          0.6469329529243938,
          0.8573466476462198,
          0.3259629101283881,
          0.8359486447931527,
          0.7218259629101285,
          0.725392296718973,
          0.5470756062767476,
          0.5470756062767476,
          0.8787446504992867,
          0.7146932952924394,
          0.7432239657631955,
          0.6219686162624822,
          0.9051355206847361,
          0.7360912981455064,
          0.7146932952924394,
          0.6077032810271041,
          1,
          0.40442225392296727,
          0.35805991440798857,
          0.35092724679029963,
          0.5399429386590585,
          0.5256776034236805,
          0.40442225392296727,
          0.3937232524964337,
          0.6540656205420827,
          0.7182596291012839,
          0.4543509272467904,
          0.5399429386590585,
          0.7182596291012839,
          0.8823109843081313,
          0.5078459343794579,
          0.6825962910128388,
          0.5827389443651926,
          0.4579172610556348,
          0.4293865905848788,
          0.5898716119828816,
          0.529243937232525,
          0.3437945791726106,
          0.36875891583452214,
          0.5399429386590585,
          0.5827389443651926,
          0.2867332382310984,
          0.43295292439372324,
          0.5720399429386591,
          0.5613409415121255,
          0.5042796005706135,
          0.557774607703281,
          0.7004279600570614,
          0.6219686162624822,
          0.7039942938659058,
          0.6504992867332383,
          0.782453637660485,
          0.557774607703281,
          0.6005706134094152,
          0.4935805991440799,
          0.7075606276747504,
          0.7182596291012839,
          0.17261055634807418,
          0.2867332382310984,
          0.12268188302425106,
          0.2510699001426534,
          0.10128388017118403,
          0.054921540656205386,
          0.2853067047075606,
          0.15977175463623397,
          0.1654778887303852,
          0.33666191155492153,
          0.31383737517831667,
          0.4222539229671898,
          0.09415121255349498,
          0.13837375178316688,
          0.5042796005706135,
          0.4336661911554922,
          0.10699001426533525,
          0.08131241084165478,
          0.15834522111269614,
          0.33666191155492153,
          0.1319543509272468,
          0,
          0.3109843081312411,
          0.2510699001426534,
          0.16904422253922965,
          0.17261055634807418,
          0.12268188302425106,
          0.15477888730385161,
          0.20256776034236804,
          0.2867332382310984,
          0.24750356633380885,
          0.1440798858773181,
          0.12268188302425106,
          0.15477888730385161,
          0.008559201141226797,
          0.047788873038516394,
          0.4700427960057062,
          0.24750356633380885,
          0.10699001426533525,
          0.27246790299572043,
          0.09129814550641938,
          0.30813124108416545,
          0.20256776034236804,
          0.11412268188302424,
          0.09771754636233951,
          0.2810271041369472,
          0.02639087018544936,
          0.1654778887303852,
          0.14978601997146931,
          0.02425106990014264,
          0.2867332382310984,
          0.20256776034236804,
          0.033523537803138354,
          0.23466476462196864,
          0.11126961483594863,
          0.07631954350927247,
          0.09201141226818829,
          0.15477888730385161,
          0.047788873038516394,
          0.06704707560627673,
          0.20399429386590587,
          0.24750356633380885,
          0.13338088445078458,
          0.062054208273894434,
          0.07275320970042795,
          0.07275320970042795,
          0.07132667617689017,
          0.052781740370898694,
          0.1340941512125535,
          0.0456490727532097,
          0.21540656205420824,
          0.2510699001426534,
          0.17974322396576317,
          0.20114122681883026,
          0.22967189728958629,
          0.2653352353780314,
          0.297432239657632,
          0.3152639087018545,
          0.16904422253922965,
          0.21540656205420824,
          0.2225392296718973,
          0.22967189728958629,
          0.35805991440798857,
          0.17261055634807418,
          0.1940085592011412,
          0.4115549215406562,
          0.3937232524964337,
          0.09771754636233951,
          0.24750356633380885,
          0.2653352353780314,
          0.1940085592011412,
          0.15834522111269614,
          0.1440798858773181,
          0.1048502139800285,
          0.2831669044222539,
          0.25820256776034234,
          0.318830242510699,
          0.1440798858773181,
          0.4293865905848788,
          0.27246790299572043,
          0.24393723252496433,
          0.17261055634807418,
          0.2867332382310984,
          0.20827389443651925,
          0.2831669044222539,
          0.2403708987161198,
          0.17261055634807418,
          0.297432239657632,
          0.29029957203994294,
          0.33666191155492153,
          0.2510699001426534,
          0.1654778887303852,
          0.1369472182596291,
          0.27246790299572043,
          0.3295292439372326,
          0.33666191155492153,
          0.3972895863052782,
          0.40085592011412274,
          0.20114122681883026
         ]
        },
        {
         "marker": {
          "color": "red"
         },
         "mode": "markers",
         "text": [
          "0",
          "1",
          "2"
         ],
         "type": "scatter3d",
         "x": [
          0.35534045767358585,
          0.48264039559416694,
          0.1477347792579544
         ],
         "y": [
          0.7056514236410701,
          0.5446889952153111,
          0.3113752122241089
         ],
         "z": [
          0.5938939688033489,
          0.24739981844118794,
          0.15640099397174548
         ]
        }
       ],
       "layout": {
        "scene": {
         "xaxis": {
          "title": {
           "text": "Intensidade de Cor"
          }
         },
         "yaxis": {
          "title": {
           "text": "Álcool"
          }
         },
         "zaxis": {
          "title": {
           "text": "Proline"
          }
         }
        },
        "template": {
         "data": {
          "bar": [
           {
            "error_x": {
             "color": "#2a3f5f"
            },
            "error_y": {
             "color": "#2a3f5f"
            },
            "marker": {
             "line": {
              "color": "#E5ECF6",
              "width": 0.5
             }
            },
            "type": "bar"
           }
          ],
          "barpolar": [
           {
            "marker": {
             "line": {
              "color": "#E5ECF6",
              "width": 0.5
             }
            },
            "type": "barpolar"
           }
          ],
          "carpet": [
           {
            "aaxis": {
             "endlinecolor": "#2a3f5f",
             "gridcolor": "white",
             "linecolor": "white",
             "minorgridcolor": "white",
             "startlinecolor": "#2a3f5f"
            },
            "baxis": {
             "endlinecolor": "#2a3f5f",
             "gridcolor": "white",
             "linecolor": "white",
             "minorgridcolor": "white",
             "startlinecolor": "#2a3f5f"
            },
            "type": "carpet"
           }
          ],
          "choropleth": [
           {
            "colorbar": {
             "outlinewidth": 0,
             "ticks": ""
            },
            "type": "choropleth"
           }
          ],
          "contour": [
           {
            "colorbar": {
             "outlinewidth": 0,
             "ticks": ""
            },
            "colorscale": [
             [
              0,
              "#0d0887"
             ],
             [
              0.1111111111111111,
              "#46039f"
             ],
             [
              0.2222222222222222,
              "#7201a8"
             ],
             [
              0.3333333333333333,
              "#9c179e"
             ],
             [
              0.4444444444444444,
              "#bd3786"
             ],
             [
              0.5555555555555556,
              "#d8576b"
             ],
             [
              0.6666666666666666,
              "#ed7953"
             ],
             [
              0.7777777777777778,
              "#fb9f3a"
             ],
             [
              0.8888888888888888,
              "#fdca26"
             ],
             [
              1,
              "#f0f921"
             ]
            ],
            "type": "contour"
           }
          ],
          "contourcarpet": [
           {
            "colorbar": {
             "outlinewidth": 0,
             "ticks": ""
            },
            "type": "contourcarpet"
           }
          ],
          "heatmap": [
           {
            "colorbar": {
             "outlinewidth": 0,
             "ticks": ""
            },
            "colorscale": [
             [
              0,
              "#0d0887"
             ],
             [
              0.1111111111111111,
              "#46039f"
             ],
             [
              0.2222222222222222,
              "#7201a8"
             ],
             [
              0.3333333333333333,
              "#9c179e"
             ],
             [
              0.4444444444444444,
              "#bd3786"
             ],
             [
              0.5555555555555556,
              "#d8576b"
             ],
             [
              0.6666666666666666,
              "#ed7953"
             ],
             [
              0.7777777777777778,
              "#fb9f3a"
             ],
             [
              0.8888888888888888,
              "#fdca26"
             ],
             [
              1,
              "#f0f921"
             ]
            ],
            "type": "heatmap"
           }
          ],
          "heatmapgl": [
           {
            "colorbar": {
             "outlinewidth": 0,
             "ticks": ""
            },
            "colorscale": [
             [
              0,
              "#0d0887"
             ],
             [
              0.1111111111111111,
              "#46039f"
             ],
             [
              0.2222222222222222,
              "#7201a8"
             ],
             [
              0.3333333333333333,
              "#9c179e"
             ],
             [
              0.4444444444444444,
              "#bd3786"
             ],
             [
              0.5555555555555556,
              "#d8576b"
             ],
             [
              0.6666666666666666,
              "#ed7953"
             ],
             [
              0.7777777777777778,
              "#fb9f3a"
             ],
             [
              0.8888888888888888,
              "#fdca26"
             ],
             [
              1,
              "#f0f921"
             ]
            ],
            "type": "heatmapgl"
           }
          ],
          "histogram": [
           {
            "marker": {
             "colorbar": {
              "outlinewidth": 0,
              "ticks": ""
             }
            },
            "type": "histogram"
           }
          ],
          "histogram2d": [
           {
            "colorbar": {
             "outlinewidth": 0,
             "ticks": ""
            },
            "colorscale": [
             [
              0,
              "#0d0887"
             ],
             [
              0.1111111111111111,
              "#46039f"
             ],
             [
              0.2222222222222222,
              "#7201a8"
             ],
             [
              0.3333333333333333,
              "#9c179e"
             ],
             [
              0.4444444444444444,
              "#bd3786"
             ],
             [
              0.5555555555555556,
              "#d8576b"
             ],
             [
              0.6666666666666666,
              "#ed7953"
             ],
             [
              0.7777777777777778,
              "#fb9f3a"
             ],
             [
              0.8888888888888888,
              "#fdca26"
             ],
             [
              1,
              "#f0f921"
             ]
            ],
            "type": "histogram2d"
           }
          ],
          "histogram2dcontour": [
           {
            "colorbar": {
             "outlinewidth": 0,
             "ticks": ""
            },
            "colorscale": [
             [
              0,
              "#0d0887"
             ],
             [
              0.1111111111111111,
              "#46039f"
             ],
             [
              0.2222222222222222,
              "#7201a8"
             ],
             [
              0.3333333333333333,
              "#9c179e"
             ],
             [
              0.4444444444444444,
              "#bd3786"
             ],
             [
              0.5555555555555556,
              "#d8576b"
             ],
             [
              0.6666666666666666,
              "#ed7953"
             ],
             [
              0.7777777777777778,
              "#fb9f3a"
             ],
             [
              0.8888888888888888,
              "#fdca26"
             ],
             [
              1,
              "#f0f921"
             ]
            ],
            "type": "histogram2dcontour"
           }
          ],
          "mesh3d": [
           {
            "colorbar": {
             "outlinewidth": 0,
             "ticks": ""
            },
            "type": "mesh3d"
           }
          ],
          "parcoords": [
           {
            "line": {
             "colorbar": {
              "outlinewidth": 0,
              "ticks": ""
             }
            },
            "type": "parcoords"
           }
          ],
          "pie": [
           {
            "automargin": true,
            "type": "pie"
           }
          ],
          "scatter": [
           {
            "marker": {
             "colorbar": {
              "outlinewidth": 0,
              "ticks": ""
             }
            },
            "type": "scatter"
           }
          ],
          "scatter3d": [
           {
            "line": {
             "colorbar": {
              "outlinewidth": 0,
              "ticks": ""
             }
            },
            "marker": {
             "colorbar": {
              "outlinewidth": 0,
              "ticks": ""
             }
            },
            "type": "scatter3d"
           }
          ],
          "scattercarpet": [
           {
            "marker": {
             "colorbar": {
              "outlinewidth": 0,
              "ticks": ""
             }
            },
            "type": "scattercarpet"
           }
          ],
          "scattergeo": [
           {
            "marker": {
             "colorbar": {
              "outlinewidth": 0,
              "ticks": ""
             }
            },
            "type": "scattergeo"
           }
          ],
          "scattergl": [
           {
            "marker": {
             "colorbar": {
              "outlinewidth": 0,
              "ticks": ""
             }
            },
            "type": "scattergl"
           }
          ],
          "scattermapbox": [
           {
            "marker": {
             "colorbar": {
              "outlinewidth": 0,
              "ticks": ""
             }
            },
            "type": "scattermapbox"
           }
          ],
          "scatterpolar": [
           {
            "marker": {
             "colorbar": {
              "outlinewidth": 0,
              "ticks": ""
             }
            },
            "type": "scatterpolar"
           }
          ],
          "scatterpolargl": [
           {
            "marker": {
             "colorbar": {
              "outlinewidth": 0,
              "ticks": ""
             }
            },
            "type": "scatterpolargl"
           }
          ],
          "scatterternary": [
           {
            "marker": {
             "colorbar": {
              "outlinewidth": 0,
              "ticks": ""
             }
            },
            "type": "scatterternary"
           }
          ],
          "surface": [
           {
            "colorbar": {
             "outlinewidth": 0,
             "ticks": ""
            },
            "colorscale": [
             [
              0,
              "#0d0887"
             ],
             [
              0.1111111111111111,
              "#46039f"
             ],
             [
              0.2222222222222222,
              "#7201a8"
             ],
             [
              0.3333333333333333,
              "#9c179e"
             ],
             [
              0.4444444444444444,
              "#bd3786"
             ],
             [
              0.5555555555555556,
              "#d8576b"
             ],
             [
              0.6666666666666666,
              "#ed7953"
             ],
             [
              0.7777777777777778,
              "#fb9f3a"
             ],
             [
              0.8888888888888888,
              "#fdca26"
             ],
             [
              1,
              "#f0f921"
             ]
            ],
            "type": "surface"
           }
          ],
          "table": [
           {
            "cells": {
             "fill": {
              "color": "#EBF0F8"
             },
             "line": {
              "color": "white"
             }
            },
            "header": {
             "fill": {
              "color": "#C8D4E3"
             },
             "line": {
              "color": "white"
             }
            },
            "type": "table"
           }
          ]
         },
         "layout": {
          "annotationdefaults": {
           "arrowcolor": "#2a3f5f",
           "arrowhead": 0,
           "arrowwidth": 1
          },
          "autotypenumbers": "strict",
          "coloraxis": {
           "colorbar": {
            "outlinewidth": 0,
            "ticks": ""
           }
          },
          "colorscale": {
           "diverging": [
            [
             0,
             "#8e0152"
            ],
            [
             0.1,
             "#c51b7d"
            ],
            [
             0.2,
             "#de77ae"
            ],
            [
             0.3,
             "#f1b6da"
            ],
            [
             0.4,
             "#fde0ef"
            ],
            [
             0.5,
             "#f7f7f7"
            ],
            [
             0.6,
             "#e6f5d0"
            ],
            [
             0.7,
             "#b8e186"
            ],
            [
             0.8,
             "#7fbc41"
            ],
            [
             0.9,
             "#4d9221"
            ],
            [
             1,
             "#276419"
            ]
           ],
           "sequential": [
            [
             0,
             "#0d0887"
            ],
            [
             0.1111111111111111,
             "#46039f"
            ],
            [
             0.2222222222222222,
             "#7201a8"
            ],
            [
             0.3333333333333333,
             "#9c179e"
            ],
            [
             0.4444444444444444,
             "#bd3786"
            ],
            [
             0.5555555555555556,
             "#d8576b"
            ],
            [
             0.6666666666666666,
             "#ed7953"
            ],
            [
             0.7777777777777778,
             "#fb9f3a"
            ],
            [
             0.8888888888888888,
             "#fdca26"
            ],
            [
             1,
             "#f0f921"
            ]
           ],
           "sequentialminus": [
            [
             0,
             "#0d0887"
            ],
            [
             0.1111111111111111,
             "#46039f"
            ],
            [
             0.2222222222222222,
             "#7201a8"
            ],
            [
             0.3333333333333333,
             "#9c179e"
            ],
            [
             0.4444444444444444,
             "#bd3786"
            ],
            [
             0.5555555555555556,
             "#d8576b"
            ],
            [
             0.6666666666666666,
             "#ed7953"
            ],
            [
             0.7777777777777778,
             "#fb9f3a"
            ],
            [
             0.8888888888888888,
             "#fdca26"
            ],
            [
             1,
             "#f0f921"
            ]
           ]
          },
          "colorway": [
           "#636efa",
           "#EF553B",
           "#00cc96",
           "#ab63fa",
           "#FFA15A",
           "#19d3f3",
           "#FF6692",
           "#B6E880",
           "#FF97FF",
           "#FECB52"
          ],
          "font": {
           "color": "#2a3f5f"
          },
          "geo": {
           "bgcolor": "white",
           "lakecolor": "white",
           "landcolor": "#E5ECF6",
           "showlakes": true,
           "showland": true,
           "subunitcolor": "white"
          },
          "hoverlabel": {
           "align": "left"
          },
          "hovermode": "closest",
          "mapbox": {
           "style": "light"
          },
          "paper_bgcolor": "white",
          "plot_bgcolor": "#E5ECF6",
          "polar": {
           "angularaxis": {
            "gridcolor": "white",
            "linecolor": "white",
            "ticks": ""
           },
           "bgcolor": "#E5ECF6",
           "radialaxis": {
            "gridcolor": "white",
            "linecolor": "white",
            "ticks": ""
           }
          },
          "scene": {
           "xaxis": {
            "backgroundcolor": "#E5ECF6",
            "gridcolor": "white",
            "gridwidth": 2,
            "linecolor": "white",
            "showbackground": true,
            "ticks": "",
            "zerolinecolor": "white"
           },
           "yaxis": {
            "backgroundcolor": "#E5ECF6",
            "gridcolor": "white",
            "gridwidth": 2,
            "linecolor": "white",
            "showbackground": true,
            "ticks": "",
            "zerolinecolor": "white"
           },
           "zaxis": {
            "backgroundcolor": "#E5ECF6",
            "gridcolor": "white",
            "gridwidth": 2,
            "linecolor": "white",
            "showbackground": true,
            "ticks": "",
            "zerolinecolor": "white"
           }
          },
          "shapedefaults": {
           "line": {
            "color": "#2a3f5f"
           }
          },
          "ternary": {
           "aaxis": {
            "gridcolor": "white",
            "linecolor": "white",
            "ticks": ""
           },
           "baxis": {
            "gridcolor": "white",
            "linecolor": "white",
            "ticks": ""
           },
           "bgcolor": "#E5ECF6",
           "caxis": {
            "gridcolor": "white",
            "linecolor": "white",
            "ticks": ""
           }
          },
          "title": {
           "x": 0.05
          },
          "xaxis": {
           "automargin": true,
           "gridcolor": "white",
           "linecolor": "white",
           "ticks": "",
           "title": {
            "standoff": 15
           },
           "zerolinecolor": "white",
           "zerolinewidth": 2
          },
          "yaxis": {
           "automargin": true,
           "gridcolor": "white",
           "linecolor": "white",
           "ticks": "",
           "title": {
            "standoff": 15
           },
           "zerolinecolor": "white",
           "zerolinewidth": 2
          }
         }
        }
       }
      }
     },
     "metadata": {},
     "output_type": "display_data"
    }
   ],
   "source": [
    "fig.add_trace(go.Scatter3d(x = centros['Intensidade_de_cor'],\r\n",
    "                            y = centros['Alcool'],\r\n",
    "                            z = centros['Proline'], \r\n",
    "                            mode= 'markers',\r\n",
    "                            marker=dict(color = 'red'),\r\n",
    "                            text=[0, 1, 2]))\r\n",
    "\r\n",
    "fig.show()"
   ]
  },
  {
   "cell_type": "code",
   "execution_count": 49,
   "metadata": {},
   "outputs": [],
   "source": [
    "from sklearn.cluster import DBSCAN"
   ]
  },
  {
   "cell_type": "code",
   "execution_count": 50,
   "metadata": {},
   "outputs": [
    {
     "data": {
      "text/plain": [
       "DBSCAN(eps=1.31, metric='manhattan', min_samples=15)"
      ]
     },
     "execution_count": 50,
     "metadata": {},
     "output_type": "execute_result"
    }
   ],
   "source": [
    "agrupador = DBSCAN(eps=1.31, min_samples=15, metric='manhattan')\r\n",
    "agrupador.fit(df)"
   ]
  },
  {
   "cell_type": "code",
   "execution_count": 51,
   "metadata": {},
   "outputs": [
    {
     "data": {
      "text/plain": [
       "array([ 0,  0,  0,  0, -1,  0,  0,  0,  0,  0,  0,  0,  0, -1,  0,  0,  0,\n",
       "        0,  0,  0,  0,  0,  0,  0,  0, -1,  0,  0,  0,  0,  0,  0,  0,  0,\n",
       "        0,  0,  0,  0,  0, -1,  0, -1,  0, -1,  0, -1,  0,  0,  0,  0, -1,\n",
       "        0,  0,  0,  0,  0,  0,  0,  0, -1, -1, -1, -1, -1, -1, -1, -1,  1,\n",
       "       -1, -1, -1, -1, -1, -1, -1, -1, -1, -1, -1, -1, -1,  1, -1, -1, -1,\n",
       "        1, -1, -1, -1, -1,  1,  1, -1, -1, -1, -1, -1, -1, -1, -1, -1,  1,\n",
       "       -1,  1,  1, -1,  1,  1,  1, -1, -1, -1, -1, -1, -1, -1,  1,  1, -1,\n",
       "        1, -1, -1, -1, -1, -1,  1, -1, -1, -1, -1, -1,  2, -1,  2, -1,  2,\n",
       "       -1, -1,  2, -1, -1,  2, -1, -1,  2,  2, -1,  2,  2,  2, -1, -1, -1,\n",
       "        2, -1,  2,  2, -1, -1, -1,  2,  2,  2,  2,  2, -1,  2,  2,  2, -1,\n",
       "        2,  2,  2,  2,  2,  2,  2,  2], dtype=int64)"
      ]
     },
     "execution_count": 51,
     "metadata": {},
     "output_type": "execute_result"
    }
   ],
   "source": [
    "agrupador.labels_"
   ]
  },
  {
   "cell_type": "code",
   "execution_count": 52,
   "metadata": {},
   "outputs": [
    {
     "data": {
      "text/plain": [
       "array([-1,  0,  1,  2], dtype=int64)"
      ]
     },
     "execution_count": 52,
     "metadata": {},
     "output_type": "execute_result"
    }
   ],
   "source": [
    "np.unique(agrupador.labels_)"
   ]
  },
  {
   "cell_type": "code",
   "execution_count": 53,
   "metadata": {},
   "outputs": [
    {
     "data": {
      "text/plain": [
       "array([-1, -1, -1, -1, -1, -1, -1, -1, -1, -1, -1, -1, -1, -1, -1, -1, -1,\n",
       "       -1, -1, -1, -1, -1, -1, -1, -1, -1, -1, -1, -1, -1, -1, -1, -1, -1,\n",
       "       -1, -1, -1, -1, -1, -1, -1, -1, -1, -1, -1, -1, -1, -1, -1, -1, -1,\n",
       "       -1, -1, -1, -1, -1, -1, -1, -1, -1, -1, -1, -1, -1, -1, -1, -1, -1,\n",
       "       -1, -1, -1, -1, -1, -1, -1, -1, -1, -1, -1, -1, -1, -1, -1, -1, -1,\n",
       "       -1, -1, -1, -1, -1, -1, -1, -1, -1, -1, -1, -1, -1, -1, -1, -1, -1,\n",
       "       -1, -1, -1, -1, -1, -1, -1, -1, -1, -1, -1, -1, -1, -1, -1, -1, -1,\n",
       "       -1, -1, -1, -1, -1, -1, -1, -1, -1, -1, -1, -1, -1, -1, -1, -1, -1,\n",
       "       -1, -1, -1, -1, -1, -1, -1, -1, -1, -1, -1, -1, -1, -1, -1, -1, -1,\n",
       "       -1, -1, -1, -1, -1, -1, -1, -1, -1, -1, -1, -1, -1, -1, -1, -1, -1,\n",
       "       -1, -1, -1, -1, -1, -1, -1, -1], dtype=int64)"
      ]
     },
     "execution_count": 53,
     "metadata": {},
     "output_type": "execute_result"
    }
   ],
   "source": [
    "agrupador = DBSCAN(eps= 0.01, min_samples=15, metric='manhattan')\r\n",
    "agrupador.fit(df)\r\n",
    "agrupador.labels_"
   ]
  },
  {
   "cell_type": "code",
   "execution_count": 54,
   "metadata": {},
   "outputs": [],
   "source": [
    "from sklearn.cluster import KMeans, MeanShift, DBSCAN, estimate_bandwidth\r\n",
    "from sklearn.metrics import silhouette_score\r\n"
   ]
  },
  {
   "cell_type": "code",
   "execution_count": 55,
   "metadata": {},
   "outputs": [
    {
     "name": "stdout",
     "output_type": "stream",
     "text": [
      "Labels K-means [1 1 1 1 1 1 1 1 1 1 1 1 1 1 1 1 1 1 1 1 1 1 1 1 1 1 1 1 1 1 1 1 1 1 1 1 1\n",
      " 1 1 1 1 1 1 1 1 1 1 1 1 1 1 1 1 1 1 1 1 1 1 2 0 0 2 2 2 2 2 2 0 2 0 2 2 1\n",
      " 2 2 2 2 2 2 2 2 2 0 2 2 2 2 2 2 2 2 2 2 2 1 2 2 2 2 2 2 2 2 2 2 2 2 2 2 2\n",
      " 2 2 2 2 2 2 2 0 2 2 2 2 2 2 2 2 2 2 2 0 0 0 0 0 0 0 0 0 0 0 0 0 0 0 0 0 0\n",
      " 0 0 0 0 0 0 0 0 0 0 0 0 0 0 0 0 0 0 0 0 0 0 0 0 0 0 0 0 0 0]\n",
      "Labels DBSCAN: [ 0  0  0  0  0  0  0  0  0  0  0  0  0  0  0  0  0  0  0  0  0  0  0  0\n",
      "  0  0  0  0  0  0  0  0  0  0  0  0  0  0  0  0  0  0  0  0  0  0  0  0\n",
      "  0  0  0  0  0  0  0  0  0  0  0 -1 -1 -1  0  0  0  0  0  0  0 -1  0  0\n",
      "  0  0  0  0  0  0  0  0  0  0  0 -1  0  0  0  0  0  0  0  0  0  0  0  0\n",
      " -1  0  0  0  0  0  0  0  0  0  0  0  0  0 -1  0 -1  0  0  0  0  0 -1  0\n",
      "  0 -1  0  0 -1  0  0  0  0  0 -1 -1 -1 -1 -1 -1 -1 -1 -1 -1 -1 -1 -1 -1\n",
      " -1 -1 -1 -1 -1 -1 -1 -1 -1 -1 -1 -1 -1 -1 -1 -1 -1 -1 -1 -1 -1 -1 -1 -1\n",
      " -1 -1 -1 -1 -1 -1 -1 -1 -1 -1]\n",
      "Labels MeanShift [0 0 0 0 0 0 0 0 0 0 0 0 0 0 0 0 0 0 0 0 0 0 0 0 0 0 0 0 0 0 0 0 0 0 0 0 0\n",
      " 0 0 0 0 0 0 0 0 0 0 0 0 0 0 0 0 0 0 0 0 0 0 0 0 0 0 0 0 0 0 0 0 0 0 0 0 0\n",
      " 0 0 0 0 0 0 0 0 0 0 0 0 0 0 0 0 0 0 0 0 0 0 0 0 0 0 0 0 0 0 0 0 0 0 0 0 0\n",
      " 0 0 0 0 0 0 0 0 0 0 1 0 0 0 0 0 0 0 0 0 0 0 0 0 0 0 0 0 0 0 0 0 0 0 0 0 0\n",
      " 0 0 0 0 0 0 0 0 0 0 0 0 0 0 0 0 0 0 0 0 0 0 0 0 0 0 0 0 0 0]\n"
     ]
    }
   ],
   "source": [
    "agrupador_kmeans = KMeans(n_clusters=3)\r\n",
    "agrupador_DBSCAN = DBSCAN(eps=2.1, min_samples=56, metric='manhattan')\r\n",
    "\r\n",
    "BW = estimate_bandwidth(df, quantile=0.28)\r\n",
    "agrupador_meanshift = MeanShift(bandwidth= BW)\r\n",
    "\r\n",
    "labels_kmeans = agrupador_kmeans.fit_predict(df)\r\n",
    "labels_dbscan = agrupador_DBSCAN.fit_predict(df)\r\n",
    "labels_meanshift = agrupador_meanshift.fit_predict(df)\r\n",
    "\r\n",
    "print(\"Labels K-means\", labels_kmeans)\r\n",
    "print(\"Labels DBSCAN:\", labels_dbscan)\r\n",
    "print(\"Labels MeanShift\", labels_meanshift)"
   ]
  },
  {
   "cell_type": "code",
   "execution_count": 59,
   "metadata": {},
   "outputs": [
    {
     "name": "stdout",
     "output_type": "stream",
     "text": [
      "O coeficiente de silhoeta do K-means é:  0.3013463273503232\n",
      "O coeficiente de silhoeta dp DBSCAN é:  0.2770638783298969\n",
      "O coeficiente de silhoeta do MeanShift é:  0.26375348680377736\n"
     ]
    }
   ],
   "source": [
    "print(\"O coeficiente de silhoeta do K-means é: \", silhouette_score(df, labels_kmeans))\r\n",
    "print(\"O coeficiente de silhoeta dp DBSCAN é: \", silhouette_score(df, labels_dbscan)) \r\n",
    "print(\"O coeficiente de silhoeta do MeanShift é: \", silhouette_score(df, labels_meanshift))\r\n"
   ]
  },
  {
   "cell_type": "markdown",
   "metadata": {},
   "source": [
    "# Novo"
   ]
  },
  {
   "cell_type": "code",
   "execution_count": 57,
   "metadata": {},
   "outputs": [],
   "source": [
    "#20 valores para cada parâmetro.\r\n",
    "faixa_min_samples = [i for i in range(1,100,5)]\r\n",
    "faixa_eps = [i/10 for i in range(1,100,1)]"
   ]
  },
  {
   "cell_type": "code",
   "execution_count": 58,
   "metadata": {},
   "outputs": [
    {
     "ename": "AttributeError",
     "evalue": "'DBSCAN' object has no attribute 'clusters_centers_'",
     "output_type": "error",
     "traceback": [
      "\u001b[1;31m---------------------------------------------------------------------------\u001b[0m",
      "\u001b[1;31mAttributeError\u001b[0m                            Traceback (most recent call last)",
      "\u001b[1;32m<ipython-input-58-bc85bbff8c37>\u001b[0m in \u001b[0;36m<module>\u001b[1;34m\u001b[0m\n\u001b[1;32m----> 1\u001b[1;33m \u001b[0magrupador\u001b[0m\u001b[1;33m.\u001b[0m\u001b[0mclusters_centers_\u001b[0m\u001b[1;33m\u001b[0m\u001b[1;33m\u001b[0m\u001b[0m\n\u001b[0m",
      "\u001b[1;31mAttributeError\u001b[0m: 'DBSCAN' object has no attribute 'clusters_centers_'"
     ]
    }
   ],
   "source": [
    "agrupador.clusters_centers_"
   ]
  },
  {
   "cell_type": "code",
   "execution_count": 60,
   "metadata": {},
   "outputs": [],
   "source": [
    "from collections import Counter"
   ]
  },
  {
   "cell_type": "code",
   "execution_count": 61,
   "metadata": {},
   "outputs": [],
   "source": [
    "valores_silhueta = []\r\n",
    "eps_plot = []\r\n",
    "min_samples_plot = []\r\n",
    "for min_samples in faixa_min_samples:\r\n",
    "  for eps in faixa_eps:\r\n",
    "    labels = 0\r\n",
    "    agrupador = DBSCAN(eps = eps, min_samples = min_samples, metric = 'manhattan')\r\n",
    "    agrupador.fit_predict(df)\r\n",
    "    labels = agrupador.labels_\r\n",
    "    if(Counter(labels)[0] < len(df) and Counter(labels)[0] > 1): #porque não é possível calcular\r\n",
    "    # silhueta para apenas  um cluster ou para número de clústeres igual\r\n",
    "    # ao número de dados \r\n",
    "      media_silhueta = silhouette_score(df, labels)\r\n",
    "      valores_silhueta.append(media_silhueta)\r\n",
    "      eps_plot.append(eps)\r\n",
    "      min_samples_plot.append(min_samples)"
   ]
  },
  {
   "cell_type": "code",
   "execution_count": 62,
   "metadata": {},
   "outputs": [
    {
     "data": {
      "application/vnd.plotly.v1+json": {
       "config": {
        "plotlyServerURL": "https://plot.ly"
       },
       "data": [
        {
         "marker": {
          "line": {
           "color": "midnightblue"
          },
          "symbol": [
           "x"
          ]
         },
         "mode": "markers",
         "type": "scatter3d",
         "x": [
          56
         ],
         "y": [
          2.1
         ],
         "z": [
          0.2770638783298969
         ]
        },
        {
         "mode": "markers",
         "text": [
          0,
          0,
          0,
          0,
          0,
          0,
          0,
          0,
          0,
          0,
          0,
          0,
          0,
          0,
          0,
          0,
          0,
          0,
          0,
          0,
          0,
          0,
          0,
          0,
          0,
          0,
          0,
          0,
          0,
          0,
          0,
          0,
          0,
          0,
          0,
          0,
          0,
          0,
          0,
          0,
          0,
          0,
          0,
          0,
          0,
          0,
          0,
          0,
          0,
          0,
          0,
          0,
          0,
          0,
          0,
          0,
          0,
          0,
          0,
          0,
          0,
          0,
          0,
          0,
          0,
          0,
          0,
          0,
          0,
          0,
          0,
          0,
          0,
          0,
          0,
          0,
          0,
          0,
          0,
          0,
          0,
          0,
          0,
          0,
          0,
          0,
          0,
          0,
          0,
          0,
          0,
          0,
          0,
          0,
          0,
          0,
          0,
          0,
          0,
          0,
          0,
          0,
          0,
          0,
          0,
          0,
          0,
          0,
          0,
          0,
          0,
          0,
          0,
          0,
          0,
          0,
          0,
          0,
          0,
          0,
          0,
          0,
          0,
          0,
          0,
          0,
          0,
          0,
          0,
          0,
          0,
          0,
          0,
          0,
          0,
          0,
          0,
          0,
          0,
          0,
          0,
          0,
          0,
          0,
          0,
          0,
          0,
          0,
          0,
          0,
          0,
          0,
          0,
          0,
          0,
          0,
          0,
          0,
          0,
          0,
          0,
          0,
          0,
          0,
          0,
          0,
          0,
          0,
          0,
          0,
          0,
          0,
          0,
          0,
          0,
          0,
          0,
          0
         ],
         "type": "scatter3d",
         "x": [
          1,
          1,
          1,
          1,
          1,
          1,
          1,
          1,
          1,
          1,
          1,
          1,
          1,
          1,
          6,
          6,
          6,
          6,
          6,
          6,
          6,
          6,
          6,
          6,
          6,
          6,
          6,
          11,
          11,
          11,
          11,
          11,
          11,
          11,
          11,
          11,
          11,
          11,
          16,
          16,
          16,
          16,
          16,
          16,
          16,
          16,
          16,
          16,
          21,
          21,
          21,
          21,
          21,
          21,
          21,
          21,
          21,
          21,
          26,
          26,
          26,
          26,
          26,
          26,
          26,
          26,
          26,
          26,
          31,
          31,
          31,
          31,
          31,
          31,
          31,
          31,
          31,
          31,
          36,
          36,
          36,
          36,
          36,
          36,
          36,
          36,
          36,
          41,
          41,
          41,
          41,
          41,
          41,
          41,
          41,
          41,
          46,
          46,
          46,
          46,
          46,
          46,
          46,
          46,
          46,
          51,
          51,
          51,
          51,
          51,
          51,
          51,
          51,
          51,
          56,
          56,
          56,
          56,
          56,
          56,
          56,
          56,
          56,
          61,
          61,
          61,
          61,
          61,
          61,
          61,
          61,
          66,
          66,
          66,
          66,
          66,
          66,
          66,
          66,
          71,
          71,
          71,
          71,
          71,
          71,
          71,
          76,
          76,
          76,
          76,
          76,
          76,
          76,
          81,
          81,
          81,
          81,
          81,
          81,
          86,
          86,
          86,
          86,
          86,
          86,
          91,
          91,
          91,
          91,
          91,
          96,
          96,
          96,
          96,
          96
         ],
         "y": [
          0.8,
          0.9,
          1,
          1.1,
          1.2,
          1.3,
          1.4,
          1.5,
          1.6,
          1.7,
          1.8,
          1.9,
          2,
          2.1,
          0.9,
          1,
          1.1,
          1.2,
          1.3,
          1.4,
          1.5,
          1.6,
          1.7,
          1.8,
          1.9,
          2,
          2.1,
          1.1,
          1.2,
          1.3,
          1.4,
          1.5,
          1.6,
          1.7,
          1.8,
          1.9,
          2,
          2.1,
          1.2,
          1.3,
          1.4,
          1.5,
          1.6,
          1.7,
          1.8,
          1.9,
          2,
          2.1,
          1.3,
          1.4,
          1.5,
          1.6,
          1.7,
          1.8,
          1.9,
          2,
          2.1,
          2.2,
          1.4,
          1.5,
          1.6,
          1.7,
          1.8,
          1.9,
          2,
          2.1,
          2.2,
          2.3,
          1.4,
          1.5,
          1.6,
          1.7,
          1.8,
          1.9,
          2,
          2.1,
          2.2,
          2.3,
          1.5,
          1.6,
          1.7,
          1.8,
          1.9,
          2,
          2.1,
          2.2,
          2.3,
          1.6,
          1.7,
          1.8,
          1.9,
          2,
          2.1,
          2.2,
          2.3,
          2.4,
          1.6,
          1.7,
          1.8,
          1.9,
          2,
          2.1,
          2.2,
          2.3,
          2.4,
          1.7,
          1.8,
          1.9,
          2,
          2.1,
          2.2,
          2.3,
          2.4,
          2.5,
          1.8,
          1.9,
          2,
          2.1,
          2.2,
          2.3,
          2.4,
          2.5,
          2.6,
          1.9,
          2,
          2.1,
          2.2,
          2.3,
          2.4,
          2.5,
          2.6,
          2,
          2.1,
          2.2,
          2.3,
          2.4,
          2.5,
          2.6,
          2.7,
          2.1,
          2.2,
          2.3,
          2.4,
          2.5,
          2.6,
          2.7,
          2.1,
          2.2,
          2.3,
          2.4,
          2.5,
          2.6,
          2.7,
          2.2,
          2.3,
          2.4,
          2.5,
          2.6,
          2.7,
          2.2,
          2.3,
          2.4,
          2.5,
          2.6,
          2.7,
          2.3,
          2.4,
          2.5,
          2.6,
          2.7,
          2.4,
          2.5,
          2.6,
          2.7,
          2.8
         ],
         "z": [
          0.019387281906723904,
          -0.0032672423014202985,
          -0.028208396267962496,
          -0.11522305009785291,
          -0.2661727532131086,
          -0.2792822823474124,
          -0.25010085261006476,
          -0.2101760588630079,
          -0.11001790454755977,
          -0.06317768467632666,
          -0.0031760694603877654,
          0.04346430363524161,
          0.26375348680377736,
          0.26375348680377736,
          -0.03775789419137207,
          -0.13308126042581334,
          -0.025158860648212,
          0.14865945601763833,
          0.1665804934948538,
          0.09343681132055527,
          0.11761981236064588,
          0.16196662766170716,
          0.17274954978791301,
          0.17782550442101513,
          0.18059131805829634,
          0.21212306647494938,
          0.26375348680377736,
          -0.022787051226716575,
          0.004964503713208663,
          0.06796780020696808,
          0.18359828716381926,
          0.20787914064955879,
          0.13936144025047492,
          0.1564077418033013,
          0.1625286060825248,
          0.18850878235536184,
          0.22083613467024887,
          0.26375348680377736,
          0.12543858141293324,
          0.1464785819161462,
          0.14884178533011086,
          0.20784092053377873,
          0.2236336217072974,
          0.14740123004969524,
          0.1625286060825248,
          0.18850878235536184,
          0.22083613467024887,
          0.26375348680377736,
          0.12709675453348476,
          0.16021877969134432,
          0.17138334443917533,
          0.21918974751447634,
          0.24176636429746462,
          0.1625286060825248,
          0.18850878235536184,
          0.22083613467024887,
          0.26375348680377736,
          0.26375348680377736,
          0.16183939200354464,
          0.21120714224888248,
          0.2056595063584086,
          0.24568128259981994,
          0.1614578489158474,
          0.18850878235536184,
          0.22083613467024887,
          0.26375348680377736,
          0.26375348680377736,
          0.26375348680377736,
          0.142982708607875,
          0.20191658970839643,
          0.16225453706308687,
          0.23367215841143008,
          0.2541293255458931,
          0.17584056379550395,
          0.22083613467024887,
          0.26375348680377736,
          0.26375348680377736,
          0.26375348680377736,
          0.18852719974101934,
          0.19281569234966456,
          0.1922712691421121,
          0.24837933225966535,
          0.2568053178491136,
          0.22083613467024887,
          0.2488198345185815,
          0.26375348680377736,
          0.26375348680377736,
          0.20020588664353636,
          0.2164796317046836,
          0.2134429121262009,
          0.2534527299000867,
          0.1599832876217029,
          0.2488198345185815,
          0.2488198345185815,
          0.26375348680377736,
          0.26375348680377736,
          0.1264688311446348,
          0.20990967801945443,
          0.25301295966447596,
          0.25511522326338976,
          0.24412398248840145,
          0.2488198345185815,
          0.2488198345185815,
          0.2488198345185815,
          0.26375348680377736,
          0.14829773358112328,
          0.2384236163487086,
          0.2550715857620049,
          0.26888019753191755,
          0.26568923477583234,
          0.17377754592819528,
          0.1831693063323153,
          0.2488198345185815,
          0.2488198345185815,
          0.17969097407940818,
          0.24392370945708183,
          0.2546916138793592,
          0.2770638783298969,
          0.20497707427793735,
          0.1695780217684012,
          0.2488198345185815,
          0.2488198345185815,
          0.26375348680377736,
          0.07577944145151086,
          0.23418124069362678,
          0.2680870939900056,
          0.26355043380424664,
          0.20612929462224105,
          0.18750357510684804,
          0.2488198345185815,
          0.2488198345185815,
          0.2203888937073874,
          0.24367620253193858,
          0.2526698104220671,
          0.2542726755303836,
          0.17191490030331397,
          0.2078717025720004,
          0.2488198345185815,
          0.2118424660478481,
          0.24367620253193858,
          0.26419026242018256,
          0.26064823130227827,
          0.18586014694147796,
          0.17181372627846955,
          0.2488198345185815,
          0.2118424660478481,
          0.12687161400432956,
          0.2546124926627169,
          0.2684259654885547,
          0.20675399486101806,
          0.17685880801006557,
          0.2488198345185815,
          0.2118424660478481,
          0.15267955236760666,
          0.25032964635570715,
          0.22282344981403365,
          0.17685880801006557,
          0.1797750412941895,
          0.2118424660478481,
          0.15267955236760666,
          0.2367378414992274,
          0.2712252784421103,
          0.18362732792520703,
          0.1811337305721168,
          0.16274277941588794,
          0.23120640054191557,
          0.24725685341659523,
          0.24551414578844943,
          0.17138987813370068,
          0.16274277941588794,
          0.24157872731910307,
          0.24551414578844943,
          0.19759370215430566,
          0.16337404983017859,
          0.2118424660478481
         ]
        }
       ],
       "layout": {
        "scene": {
         "xaxis": {
          "title": {
           "text": "eps"
          }
         },
         "yaxis": {
          "title": {
           "text": "min_samples"
          }
         },
         "zaxis": {
          "title": {
           "text": "silhueta"
          }
         }
        },
        "template": {
         "data": {
          "bar": [
           {
            "error_x": {
             "color": "#2a3f5f"
            },
            "error_y": {
             "color": "#2a3f5f"
            },
            "marker": {
             "line": {
              "color": "#E5ECF6",
              "width": 0.5
             }
            },
            "type": "bar"
           }
          ],
          "barpolar": [
           {
            "marker": {
             "line": {
              "color": "#E5ECF6",
              "width": 0.5
             }
            },
            "type": "barpolar"
           }
          ],
          "carpet": [
           {
            "aaxis": {
             "endlinecolor": "#2a3f5f",
             "gridcolor": "white",
             "linecolor": "white",
             "minorgridcolor": "white",
             "startlinecolor": "#2a3f5f"
            },
            "baxis": {
             "endlinecolor": "#2a3f5f",
             "gridcolor": "white",
             "linecolor": "white",
             "minorgridcolor": "white",
             "startlinecolor": "#2a3f5f"
            },
            "type": "carpet"
           }
          ],
          "choropleth": [
           {
            "colorbar": {
             "outlinewidth": 0,
             "ticks": ""
            },
            "type": "choropleth"
           }
          ],
          "contour": [
           {
            "colorbar": {
             "outlinewidth": 0,
             "ticks": ""
            },
            "colorscale": [
             [
              0,
              "#0d0887"
             ],
             [
              0.1111111111111111,
              "#46039f"
             ],
             [
              0.2222222222222222,
              "#7201a8"
             ],
             [
              0.3333333333333333,
              "#9c179e"
             ],
             [
              0.4444444444444444,
              "#bd3786"
             ],
             [
              0.5555555555555556,
              "#d8576b"
             ],
             [
              0.6666666666666666,
              "#ed7953"
             ],
             [
              0.7777777777777778,
              "#fb9f3a"
             ],
             [
              0.8888888888888888,
              "#fdca26"
             ],
             [
              1,
              "#f0f921"
             ]
            ],
            "type": "contour"
           }
          ],
          "contourcarpet": [
           {
            "colorbar": {
             "outlinewidth": 0,
             "ticks": ""
            },
            "type": "contourcarpet"
           }
          ],
          "heatmap": [
           {
            "colorbar": {
             "outlinewidth": 0,
             "ticks": ""
            },
            "colorscale": [
             [
              0,
              "#0d0887"
             ],
             [
              0.1111111111111111,
              "#46039f"
             ],
             [
              0.2222222222222222,
              "#7201a8"
             ],
             [
              0.3333333333333333,
              "#9c179e"
             ],
             [
              0.4444444444444444,
              "#bd3786"
             ],
             [
              0.5555555555555556,
              "#d8576b"
             ],
             [
              0.6666666666666666,
              "#ed7953"
             ],
             [
              0.7777777777777778,
              "#fb9f3a"
             ],
             [
              0.8888888888888888,
              "#fdca26"
             ],
             [
              1,
              "#f0f921"
             ]
            ],
            "type": "heatmap"
           }
          ],
          "heatmapgl": [
           {
            "colorbar": {
             "outlinewidth": 0,
             "ticks": ""
            },
            "colorscale": [
             [
              0,
              "#0d0887"
             ],
             [
              0.1111111111111111,
              "#46039f"
             ],
             [
              0.2222222222222222,
              "#7201a8"
             ],
             [
              0.3333333333333333,
              "#9c179e"
             ],
             [
              0.4444444444444444,
              "#bd3786"
             ],
             [
              0.5555555555555556,
              "#d8576b"
             ],
             [
              0.6666666666666666,
              "#ed7953"
             ],
             [
              0.7777777777777778,
              "#fb9f3a"
             ],
             [
              0.8888888888888888,
              "#fdca26"
             ],
             [
              1,
              "#f0f921"
             ]
            ],
            "type": "heatmapgl"
           }
          ],
          "histogram": [
           {
            "marker": {
             "colorbar": {
              "outlinewidth": 0,
              "ticks": ""
             }
            },
            "type": "histogram"
           }
          ],
          "histogram2d": [
           {
            "colorbar": {
             "outlinewidth": 0,
             "ticks": ""
            },
            "colorscale": [
             [
              0,
              "#0d0887"
             ],
             [
              0.1111111111111111,
              "#46039f"
             ],
             [
              0.2222222222222222,
              "#7201a8"
             ],
             [
              0.3333333333333333,
              "#9c179e"
             ],
             [
              0.4444444444444444,
              "#bd3786"
             ],
             [
              0.5555555555555556,
              "#d8576b"
             ],
             [
              0.6666666666666666,
              "#ed7953"
             ],
             [
              0.7777777777777778,
              "#fb9f3a"
             ],
             [
              0.8888888888888888,
              "#fdca26"
             ],
             [
              1,
              "#f0f921"
             ]
            ],
            "type": "histogram2d"
           }
          ],
          "histogram2dcontour": [
           {
            "colorbar": {
             "outlinewidth": 0,
             "ticks": ""
            },
            "colorscale": [
             [
              0,
              "#0d0887"
             ],
             [
              0.1111111111111111,
              "#46039f"
             ],
             [
              0.2222222222222222,
              "#7201a8"
             ],
             [
              0.3333333333333333,
              "#9c179e"
             ],
             [
              0.4444444444444444,
              "#bd3786"
             ],
             [
              0.5555555555555556,
              "#d8576b"
             ],
             [
              0.6666666666666666,
              "#ed7953"
             ],
             [
              0.7777777777777778,
              "#fb9f3a"
             ],
             [
              0.8888888888888888,
              "#fdca26"
             ],
             [
              1,
              "#f0f921"
             ]
            ],
            "type": "histogram2dcontour"
           }
          ],
          "mesh3d": [
           {
            "colorbar": {
             "outlinewidth": 0,
             "ticks": ""
            },
            "type": "mesh3d"
           }
          ],
          "parcoords": [
           {
            "line": {
             "colorbar": {
              "outlinewidth": 0,
              "ticks": ""
             }
            },
            "type": "parcoords"
           }
          ],
          "pie": [
           {
            "automargin": true,
            "type": "pie"
           }
          ],
          "scatter": [
           {
            "marker": {
             "colorbar": {
              "outlinewidth": 0,
              "ticks": ""
             }
            },
            "type": "scatter"
           }
          ],
          "scatter3d": [
           {
            "line": {
             "colorbar": {
              "outlinewidth": 0,
              "ticks": ""
             }
            },
            "marker": {
             "colorbar": {
              "outlinewidth": 0,
              "ticks": ""
             }
            },
            "type": "scatter3d"
           }
          ],
          "scattercarpet": [
           {
            "marker": {
             "colorbar": {
              "outlinewidth": 0,
              "ticks": ""
             }
            },
            "type": "scattercarpet"
           }
          ],
          "scattergeo": [
           {
            "marker": {
             "colorbar": {
              "outlinewidth": 0,
              "ticks": ""
             }
            },
            "type": "scattergeo"
           }
          ],
          "scattergl": [
           {
            "marker": {
             "colorbar": {
              "outlinewidth": 0,
              "ticks": ""
             }
            },
            "type": "scattergl"
           }
          ],
          "scattermapbox": [
           {
            "marker": {
             "colorbar": {
              "outlinewidth": 0,
              "ticks": ""
             }
            },
            "type": "scattermapbox"
           }
          ],
          "scatterpolar": [
           {
            "marker": {
             "colorbar": {
              "outlinewidth": 0,
              "ticks": ""
             }
            },
            "type": "scatterpolar"
           }
          ],
          "scatterpolargl": [
           {
            "marker": {
             "colorbar": {
              "outlinewidth": 0,
              "ticks": ""
             }
            },
            "type": "scatterpolargl"
           }
          ],
          "scatterternary": [
           {
            "marker": {
             "colorbar": {
              "outlinewidth": 0,
              "ticks": ""
             }
            },
            "type": "scatterternary"
           }
          ],
          "surface": [
           {
            "colorbar": {
             "outlinewidth": 0,
             "ticks": ""
            },
            "colorscale": [
             [
              0,
              "#0d0887"
             ],
             [
              0.1111111111111111,
              "#46039f"
             ],
             [
              0.2222222222222222,
              "#7201a8"
             ],
             [
              0.3333333333333333,
              "#9c179e"
             ],
             [
              0.4444444444444444,
              "#bd3786"
             ],
             [
              0.5555555555555556,
              "#d8576b"
             ],
             [
              0.6666666666666666,
              "#ed7953"
             ],
             [
              0.7777777777777778,
              "#fb9f3a"
             ],
             [
              0.8888888888888888,
              "#fdca26"
             ],
             [
              1,
              "#f0f921"
             ]
            ],
            "type": "surface"
           }
          ],
          "table": [
           {
            "cells": {
             "fill": {
              "color": "#EBF0F8"
             },
             "line": {
              "color": "white"
             }
            },
            "header": {
             "fill": {
              "color": "#C8D4E3"
             },
             "line": {
              "color": "white"
             }
            },
            "type": "table"
           }
          ]
         },
         "layout": {
          "annotationdefaults": {
           "arrowcolor": "#2a3f5f",
           "arrowhead": 0,
           "arrowwidth": 1
          },
          "autotypenumbers": "strict",
          "coloraxis": {
           "colorbar": {
            "outlinewidth": 0,
            "ticks": ""
           }
          },
          "colorscale": {
           "diverging": [
            [
             0,
             "#8e0152"
            ],
            [
             0.1,
             "#c51b7d"
            ],
            [
             0.2,
             "#de77ae"
            ],
            [
             0.3,
             "#f1b6da"
            ],
            [
             0.4,
             "#fde0ef"
            ],
            [
             0.5,
             "#f7f7f7"
            ],
            [
             0.6,
             "#e6f5d0"
            ],
            [
             0.7,
             "#b8e186"
            ],
            [
             0.8,
             "#7fbc41"
            ],
            [
             0.9,
             "#4d9221"
            ],
            [
             1,
             "#276419"
            ]
           ],
           "sequential": [
            [
             0,
             "#0d0887"
            ],
            [
             0.1111111111111111,
             "#46039f"
            ],
            [
             0.2222222222222222,
             "#7201a8"
            ],
            [
             0.3333333333333333,
             "#9c179e"
            ],
            [
             0.4444444444444444,
             "#bd3786"
            ],
            [
             0.5555555555555556,
             "#d8576b"
            ],
            [
             0.6666666666666666,
             "#ed7953"
            ],
            [
             0.7777777777777778,
             "#fb9f3a"
            ],
            [
             0.8888888888888888,
             "#fdca26"
            ],
            [
             1,
             "#f0f921"
            ]
           ],
           "sequentialminus": [
            [
             0,
             "#0d0887"
            ],
            [
             0.1111111111111111,
             "#46039f"
            ],
            [
             0.2222222222222222,
             "#7201a8"
            ],
            [
             0.3333333333333333,
             "#9c179e"
            ],
            [
             0.4444444444444444,
             "#bd3786"
            ],
            [
             0.5555555555555556,
             "#d8576b"
            ],
            [
             0.6666666666666666,
             "#ed7953"
            ],
            [
             0.7777777777777778,
             "#fb9f3a"
            ],
            [
             0.8888888888888888,
             "#fdca26"
            ],
            [
             1,
             "#f0f921"
            ]
           ]
          },
          "colorway": [
           "#636efa",
           "#EF553B",
           "#00cc96",
           "#ab63fa",
           "#FFA15A",
           "#19d3f3",
           "#FF6692",
           "#B6E880",
           "#FF97FF",
           "#FECB52"
          ],
          "font": {
           "color": "#2a3f5f"
          },
          "geo": {
           "bgcolor": "white",
           "lakecolor": "white",
           "landcolor": "#E5ECF6",
           "showlakes": true,
           "showland": true,
           "subunitcolor": "white"
          },
          "hoverlabel": {
           "align": "left"
          },
          "hovermode": "closest",
          "mapbox": {
           "style": "light"
          },
          "paper_bgcolor": "white",
          "plot_bgcolor": "#E5ECF6",
          "polar": {
           "angularaxis": {
            "gridcolor": "white",
            "linecolor": "white",
            "ticks": ""
           },
           "bgcolor": "#E5ECF6",
           "radialaxis": {
            "gridcolor": "white",
            "linecolor": "white",
            "ticks": ""
           }
          },
          "scene": {
           "xaxis": {
            "backgroundcolor": "#E5ECF6",
            "gridcolor": "white",
            "gridwidth": 2,
            "linecolor": "white",
            "showbackground": true,
            "ticks": "",
            "zerolinecolor": "white"
           },
           "yaxis": {
            "backgroundcolor": "#E5ECF6",
            "gridcolor": "white",
            "gridwidth": 2,
            "linecolor": "white",
            "showbackground": true,
            "ticks": "",
            "zerolinecolor": "white"
           },
           "zaxis": {
            "backgroundcolor": "#E5ECF6",
            "gridcolor": "white",
            "gridwidth": 2,
            "linecolor": "white",
            "showbackground": true,
            "ticks": "",
            "zerolinecolor": "white"
           }
          },
          "shapedefaults": {
           "line": {
            "color": "#2a3f5f"
           }
          },
          "ternary": {
           "aaxis": {
            "gridcolor": "white",
            "linecolor": "white",
            "ticks": ""
           },
           "baxis": {
            "gridcolor": "white",
            "linecolor": "white",
            "ticks": ""
           },
           "bgcolor": "#E5ECF6",
           "caxis": {
            "gridcolor": "white",
            "linecolor": "white",
            "ticks": ""
           }
          },
          "title": {
           "x": 0.05
          },
          "xaxis": {
           "automargin": true,
           "gridcolor": "white",
           "linecolor": "white",
           "ticks": "",
           "title": {
            "standoff": 15
           },
           "zerolinecolor": "white",
           "zerolinewidth": 2
          },
          "yaxis": {
           "automargin": true,
           "gridcolor": "white",
           "linecolor": "white",
           "ticks": "",
           "title": {
            "standoff": 15
           },
           "zerolinecolor": "white",
           "zerolinewidth": 2
          }
         }
        }
       }
      }
     },
     "metadata": {},
     "output_type": "display_data"
    }
   ],
   "source": [
    "ind = valores_silhueta.index(max(valores_silhueta))\r\n",
    "#@title Default title text\r\n",
    "fig = go.Figure()\r\n",
    "fig.add_trace(go.Scatter3d(x=[min_samples_plot[ind]],\r\n",
    "                         y = [eps_plot[ind]], z = [max(valores_silhueta)],\r\n",
    "                         mode = 'markers',marker_line_color=\"midnightblue\", \r\n",
    "                          marker_symbol=['x']))\r\n",
    "fig.add_trace(go.Scatter3d(x=min_samples_plot,\r\n",
    "                         y = eps_plot, z = valores_silhueta,\r\n",
    "                         mode = 'markers',\r\n",
    "                        text = labels))\r\n",
    "fig.update_layout(scene = dict(\r\n",
    "                    xaxis_title='eps',\r\n",
    "                    yaxis_title='min_samples',\r\n",
    "                    zaxis_title='silhueta'))\r\n",
    "fig.show()"
   ]
  },
  {
   "cell_type": "code",
   "execution_count": 63,
   "metadata": {},
   "outputs": [
    {
     "name": "stdout",
     "output_type": "stream",
     "text": [
      "2.1\n",
      "56\n"
     ]
    }
   ],
   "source": [
    "# pega o índice do vamior valor do coeficiente de silhueta\r\n",
    "ind = valores_silhueta.index(max(valores_silhueta))\r\n",
    "# printa os valores de eps e min_samples para o maior valor de coeficiente de silhueta encontrado\r\n",
    "print(eps_plot[ind])\r\n",
    "print(min_samples_plot[ind])"
   ]
  },
  {
   "cell_type": "code",
   "execution_count": 64,
   "metadata": {},
   "outputs": [
    {
     "name": "stdout",
     "output_type": "stream",
     "text": [
      "0.2770638783298969\n"
     ]
    }
   ],
   "source": [
    "print(max(valores_silhueta))"
   ]
  },
  {
   "cell_type": "code",
   "execution_count": null,
   "metadata": {},
   "outputs": [],
   "source": []
  }
 ],
 "metadata": {
  "interpreter": {
   "hash": "7b4b4feff2f24a0f0a34464dbe537a36fda679851528fb8735cb41fa49dffb2d"
  },
  "kernelspec": {
   "display_name": "Python 3.8.8 64-bit ('base': conda)",
   "name": "python3"
  },
  "language_info": {
   "codemirror_mode": {
    "name": "ipython",
    "version": 3
   },
   "file_extension": ".py",
   "mimetype": "text/x-python",
   "name": "python",
   "nbconvert_exporter": "python",
   "pygments_lexer": "ipython3",
   "version": "3.8.8"
  }
 },
 "nbformat": 4,
 "nbformat_minor": 2
}