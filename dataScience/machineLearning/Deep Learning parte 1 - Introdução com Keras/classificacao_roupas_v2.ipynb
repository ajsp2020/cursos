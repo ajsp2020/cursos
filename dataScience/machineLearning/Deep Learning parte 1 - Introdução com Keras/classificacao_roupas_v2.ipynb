{
  "nbformat": 4,
  "nbformat_minor": 0,
  "metadata": {
    "colab": {
      "name": "classificacao_roupas.v2.ipynb",
      "provenance": [],
      "collapsed_sections": []
    },
    "kernelspec": {
      "name": "python3",
      "display_name": "Python 3"
    },
    "language_info": {
      "name": "python"
    }
  },
  "cells": [
    {
      "cell_type": "markdown",
      "metadata": {
        "id": "PXX0FuPqfuZN"
      },
      "source": [
        "Imports"
      ]
    },
    {
      "cell_type": "code",
      "metadata": {
        "id": "tiFMU-J4fgrH"
      },
      "source": [
        "import tensorflow\n",
        "from tensorflow import keras\n",
        "import matplotlib.pyplot as plt\n",
        "import numpy as np\n",
        "from tensorflow.keras.models import load_model"
      ],
      "execution_count": 1,
      "outputs": []
    },
    {
      "cell_type": "markdown",
      "metadata": {
        "id": "tMN0Q--HYM4E"
      },
      "source": [
        ""
      ]
    },
    {
      "cell_type": "code",
      "metadata": {
        "id": "r8E-zVWvfnW4"
      },
      "source": [
        "dataset = keras.datasets.fashion_mnist\n",
        "((imagens_treino, identificacoes_treino), (imagens_teste, identificacoes_teste)) = dataset.load_data()"
      ],
      "execution_count": 2,
      "outputs": []
    },
    {
      "cell_type": "markdown",
      "metadata": {
        "id": "BlnIDplTizHi"
      },
      "source": [
        "##### <font color = 'red'> OBS: Enquanto o modelo de Machine Learning aprende com as características que nomeamos, as funções de Deep Learning extraem essas características, pois entendem quais características são essas.</font>"
      ]
    },
    {
      "cell_type": "markdown",
      "metadata": {
        "id": "FzvhPeJbitl5"
      },
      "source": [
        "Explorando os dados"
      ]
    },
    {
      "cell_type": "code",
      "metadata": {
        "colab": {
          "base_uri": "https://localhost:8080/"
        },
        "id": "vmYU_OPLf1Ae",
        "outputId": "91ed1bea-3312-47be-e0de-50095ecddcf3"
      },
      "source": [
        "len(imagens_treino)\n",
        "imagens_treino.shape # O primeiro número indica que temos 60 000 imagens, o segundo que são compostas de 28 linhas e o terceiro que elas são compostas de 28 colunas.\n",
        "imagens_teste.shape\n",
        "len(identificacoes_teste)\n",
        "identificacoes_treino.min()\n",
        "identificacoes_treino.max()"
      ],
      "execution_count": 12,
      "outputs": [
        {
          "output_type": "execute_result",
          "data": {
            "text/plain": [
              "9"
            ]
          },
          "metadata": {
            "tags": []
          },
          "execution_count": 12
        }
      ]
    },
    {
      "cell_type": "code",
      "metadata": {
        "colab": {
          "base_uri": "https://localhost:8080/",
          "height": 282
        },
        "id": "UlnEBeMHf3J_",
        "outputId": "ab058ef6-23c5-43ab-b9b2-d60fd6b3c473"
      },
      "source": [
        "total_de_classificacoes = 10\n",
        "nomes_de_classificacoes = ['Camiseta', 'Calça', 'Pullover', \n",
        "                           'Vestido', 'Casaco', 'Sandália', 'Camisa',\n",
        "                           'Tênis', 'Bolsa', 'Bota']\n",
        "'''\n",
        "plt.imshow(imagens_treino[0])\n",
        "plt.title(identificacoes_treino[0])\n",
        "\n",
        "for imagem in range(10):\n",
        "  plt.subplot(2, 5, imagem+1)\n",
        "  plt.imshow(imagens_treino[imagem])\n",
        "  plt.title(nomes_de_classificacoes[identificacoes_treino[imagem]])\n",
        "'''  \n",
        "# Que cores tem nossa imagem?\n",
        "plt.imshow(imagens_treino[0])\n",
        "plt.colorbar()"
      ],
      "execution_count": 13,
      "outputs": [
        {
          "output_type": "execute_result",
          "data": {
            "text/plain": [
              "<matplotlib.colorbar.Colorbar at 0x7faa401f9f50>"
            ]
          },
          "metadata": {
            "tags": []
          },
          "execution_count": 13
        },
        {
          "output_type": "display_data",
          "data": {
            "image/png": "[encoded data removed]",
            "text/plain": [
              "<Figure size 432x288 with 2 Axes>"
            ]
          },
          "metadata": {
            "tags": [],
            "needs_background": "light"
          }
        }
      ]
    },
    {
      "cell_type": "markdown",
      "metadata": {
        "id": "LnKnY6ZWioIL"
      },
      "source": [
        "Exebição dos dados"
      ]
    },
    {
      "cell_type": "markdown",
      "metadata": {
        "id": "LpUZnaGfjkKr"
      },
      "source": [
        "## NORMALIZANDO AS IMAGENS"
      ]
    },
    {
      "cell_type": "code",
      "metadata": {
        "colab": {
          "base_uri": "https://localhost:8080/"
        },
        "id": "f_OSb8pmf91K",
        "outputId": "9ffef562-6b2e-424a-b400-70097a5cc0a0"
      },
      "source": [
        "# A função não linear introduz no modelo a transformação dos dados necessária para identificarmos as diferenças nas imagens que vamos classificar. Nesse caso, escolhemos a função ReLU.\n",
        "\n",
        "# Dividindo a cor em um intervalo de 0 a 1: (ajuda a diminuir a perda)\n",
        "imagens_treino = imagens_treino/float(255) # Normalização.\n",
        "\n",
        "modelo = keras.Sequential([ \n",
        "    keras.layers.Flatten(input_shape=(28, 28)), # Podemos observar a nossa camada de entrada, ou camada 0 que está “achatando” as nossas imagens de 28 por 28 pixels em um array de 784 pixels.\n",
        "    # Camada de entrada:\n",
        "    keras.layers.Dense(256, activation=tensorflow.nn.relu), # processamento:  A camada dense (densa) é aquela que faz as conexões entre todas as unidades da camada 2 com as unidades da camada 1. (camada 1)  \n",
        "    # Camadas ocultas: \n",
        "    # OBS: Como o modelo tem mais camadas para extrair características, ele tem um trabalho maior, o que gera um aumento no tempo que ele leva para treinar.\n",
        "    keras.layers.Dense(128, activation=tensorflow.nn.relu), # (camada 2)\n",
        "    keras.layers.Dense(64, activation=tensorflow.nn.relu), # (camada 3)\n",
        "    # Camada de saída:\n",
        "    keras.layers.Dense(10, activation=tensorflow.nn.softmax) # Saída\n",
        "])\n",
        "\n",
        "modelo.compile(optimizer='adam', \n",
        "               loss='sparse_categorical_crossentropy')\n",
        "\n",
        "modelo.fit(imagens_treino, identificacoes_treino)"
      ],
      "execution_count": 14,
      "outputs": [
        {
          "output_type": "stream",
          "text": [
            "1875/1875 [==============================] - 7s 4ms/step - loss: 0.4840\n"
          ],
          "name": "stdout"
        },
        {
          "output_type": "execute_result",
          "data": {
            "text/plain": [
              "<tensorflow.python.keras.callbacks.History at 0x7faa40198bd0>"
            ]
          },
          "metadata": {
            "tags": []
          },
          "execution_count": 14
        }
      ]
    },
    {
      "cell_type": "code",
      "metadata": {
        "id": "kPwCxjg8U4h3"
      },
      "source": [
        "# TENTANDO COPILAR COM MENOS CAMADA PARA PODER REDUZIR A PERDA -> NO CASO DA AULA A DIFERNÇA FOI MAIS SUBSTANCIAL\n",
        "\n",
        "# A função não linear introduz no modelo a transformação dos dados necessária para identificarmos as diferenças nas imagens que vamos classificar. Nesse caso, escolhemos a função ReLU.\n",
        "\n",
        "# Dividindo a cor em um intervalo de 0 a 1: (ajuda a diminuir a perda)\n",
        "imagens_treino = imagens_treino/float(255) # Normalização.\n"
      ],
      "execution_count": 15,
      "outputs": []
    },
    {
      "cell_type": "markdown",
      "metadata": {
        "id": "m-OqoTmgkKUf"
      },
      "source": [
        "CRIANDO E NORMALIZANDO O MODELO"
      ]
    },
    {
      "cell_type": "code",
      "metadata": {
        "id": "oONYxiggj7jA"
      },
      "source": [
        "modelo = keras.Sequential([ \n",
        "    # Camada de entrada:\n",
        "    keras.layers.Flatten(input_shape=(28, 28)), # Podemos observar a nossa camada de entrada, ou camada 0 que está “achatando” as nossas imagens de 28 por 28 pixels em um array de 784 pixels.\n",
        "    # Camadas ocultas: \n",
        "    keras.layers.Dense(256, activation=tensorflow.nn.relu), # processamento:  A camada dense (densa) é aquela que faz as conexões entre todas as unidades da camada 2 com as unidades da camada 1. (camada 1)  \n",
        "    keras.layers.Dropout(0.2), # Tentar deixar adormecido algumas camadas para tentar melhorar na acuracia e na perda (NORMALIZANDO O MODELO) (CAMADA 2)\n",
        "    # OBS: Como o modelo tem mais camadas para extrair características, ele tem um trabalho maior, o que gera um aumento no tempo que ele leva para treinar.\n",
        "    # Camada de saída:\n",
        "    keras.layers.Dense(10, activation=tensorflow.nn.softmax) # Saída (CAMADA 3)\n",
        "])\n",
        "\n",
        "# OBS: Os modelos visam minimizar a perda e aumentar a acurácia de teste.\n",
        "# OBS: Algo fundamental que serve tanto para Deep learning quanto Machine learning, redes neurais ou qualquer sistema que lide com probabilidades é sempre garantir que o modelo generalize bem para dados novos."
      ],
      "execution_count": null,
      "outputs": []
    },
    {
      "cell_type": "markdown",
      "metadata": {
        "id": "XyPV-znXkUlM"
      },
      "source": [
        "COMPILANDO O MODELO\n"
      ]
    },
    {
      "cell_type": "code",
      "metadata": {
        "id": "st-5w2JCkRHi"
      },
      "source": [
        "modelo.compile(optimizer='adam', \n",
        "               loss='sparse_categorical_crossentropy', \n",
        "               metrics=['accuracy']) # Para saber quando o nosso moodelo esta acertando"
      ],
      "execution_count": null,
      "outputs": []
    },
    {
      "cell_type": "markdown",
      "metadata": {
        "id": "tATo0AmakfUm"
      },
      "source": [
        "TREINANDO E NORMALIZANDO O MODELO"
      ]
    },
    {
      "cell_type": "code",
      "metadata": {
        "id": "pYsaSNvxkdHY"
      },
      "source": [
        "historico = modelo.fit(imagens_treino, identificacoes_treino, epochs=5, validation_split=0.2) # O epoch serve para aumentar o número de treinos e diminuir a perda, depois colocamas qual a parte que queremos para a valiidação"
      ],
      "execution_count": null,
      "outputs": []
    },
    {
      "cell_type": "markdown",
      "metadata": {
        "id": "Em2PT3cflKjL"
      },
      "source": [
        "SALVANDO E CARREGANNDO O MODELO TREINADO"
      ]
    },
    {
      "cell_type": "code",
      "metadata": {
        "id": "Bp5uMuC9hzaZ"
      },
      "source": [
        "modelo.save('modelo.h5') # Para salvar o modelo\n",
        "modelo_salvo = load_model('modelo.h5')"
      ],
      "execution_count": 12,
      "outputs": []
    },
    {
      "cell_type": "code",
      "metadata": {
        "colab": {
          "base_uri": "https://localhost:8080/"
        },
        "id": "9KRr1r_icqdx",
        "outputId": "f9f9c05b-eceb-435b-e3cb-1e25cea3b5d6"
      },
      "source": [
        "historico.history"
      ],
      "execution_count": 8,
      "outputs": [
        {
          "output_type": "execute_result",
          "data": {
            "text/plain": [
              "{'accuracy': [0.6505625247955322,\n",
              "  0.7640416622161865,\n",
              "  0.7917291522026062,\n",
              "  0.8082083463668823,\n",
              "  0.8193333148956299],\n",
              " 'loss': [1.0897984504699707,\n",
              "  0.6568430066108704,\n",
              "  0.5810146331787109,\n",
              "  0.5373198390007019,\n",
              "  0.5061997175216675],\n",
              " 'val_accuracy': [0.7569166421890259,\n",
              "  0.784333348274231,\n",
              "  0.8073333501815796,\n",
              "  0.8174166679382324,\n",
              "  0.8265833258628845],\n",
              " 'val_loss': [0.7004759907722473,\n",
              "  0.5885360836982727,\n",
              "  0.5378029346466064,\n",
              "  0.5077857375144958,\n",
              "  0.4835027754306793]}"
            ]
          },
          "metadata": {
            "tags": []
          },
          "execution_count": 8
        }
      ]
    },
    {
      "cell_type": "markdown",
      "metadata": {
        "id": "jXslLdevlQ4-"
      },
      "source": [
        "VIZALIZANDOO AS ACURACIAS DE TREINO E DE VALIDAÇÃO POR ÉPOCA"
      ]
    },
    {
      "cell_type": "code",
      "metadata": {
        "colab": {
          "base_uri": "https://localhost:8080/",
          "height": 313
        },
        "id": "KMFnOkX_cCto",
        "outputId": "6e8d87a9-e317-420b-82d8-140268c3fe08"
      },
      "source": [
        "plt.plot(historico.history['accuracy']) # Acuracia de treino\n",
        "plt.plot(historico.history['val_accuracy']) # Acuracia de validação\n",
        "plt.title('Acuracia por épocas')\n",
        "plt.xlabel('épocas')\n",
        "plt.ylabel('acurácia')\n",
        "plt.legend(['treino', 'validação'])"
      ],
      "execution_count": 9,
      "outputs": [
        {
          "output_type": "execute_result",
          "data": {
            "text/plain": [
              "<matplotlib.legend.Legend at 0x7f85b9bd04d0>"
            ]
          },
          "metadata": {
            "tags": []
          },
          "execution_count": 9
        },
        {
          "output_type": "display_data",
          "data": {
            "image/png": "[encoded data removed]",
            "text/plain": [
              "<Figure size 432x288 with 1 Axes>"
            ]
          },
          "metadata": {
            "tags": [],
            "needs_background": "light"
          }
        }
      ]
    },
    {
      "cell_type": "markdown",
      "metadata": {
        "id": "ARQpzZxYlbxc"
      },
      "source": [
        "VISUALIZANDO AS PERDAS DE TREINO E VALIIDAÇÃO POR TEMPO"
      ]
    },
    {
      "cell_type": "code",
      "metadata": {
        "colab": {
          "base_uri": "https://localhost:8080/",
          "height": 313
        },
        "id": "cUgYG-6cdzND",
        "outputId": "e965811e-6c0b-4b29-e10e-3e120c2d6183"
      },
      "source": [
        "''' \n",
        "OBS: Repare na curva de validação na qual o erro aumenta cada vez mais e na curva de treino que ele apenas reduz. \n",
        "Isso indica que nosso modelo está perdendo pouquíssima informação no treino e muita na validação. \n",
        "O que mostra que ele está servindo bem demais o modelo, overfitting.\n",
        "'''\n",
        "plt.plot(historico.history['loss']) # Acuracia de treino\n",
        "plt.plot(historico.history['val_loss']) # Acuracia de validação\n",
        "plt.title('Perda por épocas')\n",
        "plt.xlabel('épocas')\n",
        "plt.ylabel('perda')\n",
        "plt.legend(['treino', 'validação'])"
      ],
      "execution_count": 10,
      "outputs": [
        {
          "output_type": "execute_result",
          "data": {
            "text/plain": [
              "<matplotlib.legend.Legend at 0x7f85b9bab890>"
            ]
          },
          "metadata": {
            "tags": []
          },
          "execution_count": 10
        },
        {
          "output_type": "display_data",
          "data": {
            "image/png": "[encoded data removed]",
            "text/plain": [
              "<Figure size 432x288 with 1 Axes>"
            ]
          },
          "metadata": {
            "tags": [],
            "needs_background": "light"
          }
        }
      ]
    },
    {
      "cell_type": "markdown",
      "metadata": {
        "id": "oDo0eIHvlpEc"
      },
      "source": [
        "TESTANDO O MODELO E O MODELO SALVO"
      ]
    },
    {
      "cell_type": "code",
      "metadata": {
        "colab": {
          "base_uri": "https://localhost:8080/"
        },
        "id": "Qi40X0NAVApf",
        "outputId": "8752d292-a827-4311-d6e7-b7dd25d0c782"
      },
      "source": [
        "testes = modelo.predict(imagens_teste)\n",
        "# Para saber qual foi o resultado desse teste é nescessário pegar o maior número e sua posição vai indicar se acertou ou errou\n",
        "print('Resultado teste:',  np.argmax(testes[1]))\n",
        "print('Número da imagem de teste:',  identificacoes_teste[1])\n",
        "\n",
        "testes_modelo_salvo = modelo_salvo.predict(imagens_teste)\n",
        "print('resultado teste modelo salvo:', np.argmax(testes_modelo_salvo[1]))\n",
        "print('Número da imagem de teste:',  identificacoes_teste[1])"
      ],
      "execution_count": 14,
      "outputs": [
        {
          "output_type": "stream",
          "text": [
            "Resultado teste: 2\n",
            "Número da imagem de teste: 2\n",
            "resultado teste modelo salvo: 2\n",
            "Número da imagem de teste: 2\n"
          ],
          "name": "stdout"
        }
      ]
    },
    {
      "cell_type": "markdown",
      "metadata": {
        "id": "tvyz_om4ltE5"
      },
      "source": [
        "AVALIANDO O MODELO"
      ]
    },
    {
      "cell_type": "code",
      "metadata": {
        "colab": {
          "base_uri": "https://localhost:8080/"
        },
        "id": "fFUENePgXZdA",
        "outputId": "92e5fab9-d14c-4abd-ca8b-619b9e26b222"
      },
      "source": [
        "# Fazendo uma função de avaliação \n",
        "perda_teste, acuracia_teste = modelo.evaluate(imagens_teste, identificacoes_teste) # Essa função avalia como o nosso modelo está indo com os dados de teste, fornecendo os dados de acurácia e perda.\n",
        "print('Perda do teste:', perda_teste)\n",
        "print('Acuracia do teste:', acuracia_teste)"
      ],
      "execution_count": 6,
      "outputs": [
        {
          "output_type": "stream",
          "text": [
            "313/313 [==============================] - 1s 2ms/step - loss: 61.3935 - accuracy: 0.8495\n",
            "Perda do teste: 61.39346694946289\n",
            "Acuracia do teste: 0.8495000004768372\n"
          ],
          "name": "stdout"
        }
      ]
    },
    {
      "cell_type": "code",
      "metadata": {
        "id": "X1fUQbGdZ0sL"
      },
      "source": [
        ""
      ],
      "execution_count": null,
      "outputs": []
    }
  ]
}