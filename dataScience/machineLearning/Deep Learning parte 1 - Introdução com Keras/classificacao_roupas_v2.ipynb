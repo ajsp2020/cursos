{
  "nbformat": 4,
  "nbformat_minor": 0,
  "metadata": {
    "colab": {
      "name": "classificacao_roupas.v2.ipynb",
      "provenance": [],
      "collapsed_sections": []
    },
    "kernelspec": {
      "name": "python3",
      "display_name": "Python 3"
    },
    "language_info": {
      "name": "python"
    }
  },
  "cells": [
    {
      "cell_type": "markdown",
      "metadata": {
        "id": "PXX0FuPqfuZN"
      },
      "source": [
        "Imports"
      ]
    },
    {
      "cell_type": "code",
      "metadata": {
        "id": "tiFMU-J4fgrH"
      },
      "source": [
        "import tensorflow\n",
        "from tensorflow import keras\n",
        "import matplotlib.pyplot as plt\n",
        "import numpy as np\n",
        "from tensorflow.keras.models import load_model"
      ],
      "execution_count": 1,
      "outputs": []
    },
    {
      "cell_type": "markdown",
      "metadata": {
        "id": "tMN0Q--HYM4E"
      },
      "source": [
        ""
      ]
    },
    {
      "cell_type": "code",
      "metadata": {
        "id": "r8E-zVWvfnW4",
        "colab": {
          "base_uri": "https://localhost:8080/"
        },
        "outputId": "0a783a1a-4596-4fd8-9816-e98c201764e5"
      },
      "source": [
        "dataset = keras.datasets.fashion_mnist\n",
        "((imagens_treino, identificacoes_treino), (imagens_teste, identificacoes_teste)) = dataset.load_data()"
      ],
      "execution_count": 2,
      "outputs": [
        {
          "output_type": "stream",
          "text": [
            "Downloading data from https://storage.googleapis.com/tensorflow/tf-keras-datasets/train-labels-idx1-ubyte.gz\n",
            "32768/29515 [=================================] - 0s 0us/step\n",
            "40960/29515 [=========================================] - 0s 0us/step\n",
            "Downloading data from https://storage.googleapis.com/tensorflow/tf-keras-datasets/train-images-idx3-ubyte.gz\n",
            "26427392/26421880 [==============================] - 0s 0us/step\n",
            "26435584/26421880 [==============================] - 0s 0us/step\n",
            "Downloading data from https://storage.googleapis.com/tensorflow/tf-keras-datasets/t10k-labels-idx1-ubyte.gz\n",
            "16384/5148 [===============================================================================================] - 0s 0us/step\n",
            "Downloading data from https://storage.googleapis.com/tensorflow/tf-keras-datasets/t10k-images-idx3-ubyte.gz\n",
            "4423680/4422102 [==============================] - 0s 0us/step\n",
            "4431872/4422102 [==============================] - 0s 0us/step\n"
          ],
          "name": "stdout"
        }
      ]
    },
    {
      "cell_type": "markdown",
      "metadata": {
        "id": "BlnIDplTizHi"
      },
      "source": [
        "##### <font color = 'red'> OBS: Enquanto o modelo de Machine Learning aprende com as características que nomeamos, as funções de Deep Learning extraem essas características, pois entendem quais características são essas.</font>"
      ]
    },
    {
      "cell_type": "markdown",
      "metadata": {
        "id": "FzvhPeJbitl5"
      },
      "source": [
        "Explorando os dados"
      ]
    },
    {
      "cell_type": "code",
      "metadata": {
        "colab": {
          "base_uri": "https://localhost:8080/"
        },
        "id": "vmYU_OPLf1Ae",
        "outputId": "fd7ace79-80ea-469b-fcc0-11665fce15ec"
      },
      "source": [
        "len(imagens_treino)\n",
        "imagens_treino.shape # O primeiro número indica que temos 60 000 imagens, o segundo que são compostas de 28 linhas e o terceiro que elas são compostas de 28 colunas.\n",
        "imagens_teste.shape\n",
        "len(identificacoes_teste)\n",
        "identificacoes_treino.min()\n",
        "identificacoes_treino.max()"
      ],
      "execution_count": 3,
      "outputs": [
        {
          "output_type": "execute_result",
          "data": {
            "text/plain": [
              "9"
            ]
          },
          "metadata": {},
          "execution_count": 3
        }
      ]
    },
    {
      "cell_type": "code",
      "metadata": {
        "colab": {
          "base_uri": "https://localhost:8080/",
          "height": 282
        },
        "id": "UlnEBeMHf3J_",
        "outputId": "2ab0c82a-2916-4ca4-c176-50ae850a29a9"
      },
      "source": [
        "total_de_classificacoes = 10\n",
        "nomes_de_classificacoes = ['Camiseta', 'Calça', 'Pullover', \n",
        "                           'Vestido', 'Casaco', 'Sandália', 'Camisa',\n",
        "                           'Tênis', 'Bolsa', 'Bota']\n",
        "'''\n",
        "plt.imshow(imagens_treino[0])\n",
        "plt.title(identificacoes_treino[0])\n",
        "\n",
        "for imagem in range(10):\n",
        "  plt.subplot(2, 5, imagem+1)\n",
        "  plt.imshow(imagens_treino[imagem])\n",
        "  plt.title(nomes_de_classificacoes[identificacoes_treino[imagem]])\n",
        "'''  \n",
        "# Que cores tem nossa imagem?\n",
        "plt.imshow(imagens_treino[0])\n",
        "plt.colorbar()"
      ],
      "execution_count": 4,
      "outputs": [
        {
          "output_type": "execute_result",
          "data": {
            "text/plain": [
              "<matplotlib.colorbar.Colorbar at 0x7f0608373c10>"
            ]
          },
          "metadata": {},
          "execution_count": 4
        },
        {
          "output_type": "display_data",
          "data": {
            "image/png": "[encoded data removed]",
            "text/plain": [
              "<Figure size 432x288 with 2 Axes>"
            ]
          },
          "metadata": {
            "needs_background": "light"
          }
        }
      ]
    },
    {
      "cell_type": "markdown",
      "metadata": {
        "id": "LnKnY6ZWioIL"
      },
      "source": [
        "Exebição dos dados"
      ]
    },
    {
      "cell_type": "markdown",
      "metadata": {
        "id": "LpUZnaGfjkKr"
      },
      "source": [
        "## NORMALIZANDO AS IMAGENS"
      ]
    },
    {
      "cell_type": "code",
      "metadata": {
        "colab": {
          "base_uri": "https://localhost:8080/"
        },
        "id": "f_OSb8pmf91K",
        "outputId": "0a4c9fd4-7c0a-4296-fe60-308b5c4c50cd"
      },
      "source": [
        "# A função não linear introduz no modelo a transformação dos dados necessária para identificarmos as diferenças nas imagens que vamos classificar. Nesse caso, escolhemos a função ReLU.\n",
        "\n",
        "# Dividindo a cor em um intervalo de 0 a 1: (ajuda a diminuir a perda)\n",
        "imagens_treino = imagens_treino/float(255) # Normalização.\n",
        "\n",
        "modelo = keras.Sequential([ \n",
        "    keras.layers.Flatten(input_shape=(28, 28)), # Podemos observar a nossa camada de entrada, ou camada 0 que está “achatando” as nossas imagens de 28 por 28 pixels em um array de 784 pixels.\n",
        "    # Camada de entrada:\n",
        "    keras.layers.Dense(256, activation=tensorflow.nn.relu), # processamento:  A camada dense (densa) é aquela que faz as conexões entre todas as unidades da camada 2 com as unidades da camada 1. (camada 1)  \n",
        "    # Camadas ocultas: \n",
        "    # OBS: Como o modelo tem mais camadas para extrair características, ele tem um trabalho maior, o que gera um aumento no tempo que ele leva para treinar.\n",
        "    keras.layers.Dense(128, activation=tensorflow.nn.relu), # (camada 2)\n",
        "    keras.layers.Dense(64, activation=tensorflow.nn.relu), # (camada 3)\n",
        "    # Camada de saída:\n",
        "    keras.layers.Dense(10, activation=tensorflow.nn.softmax) # Saída\n",
        "])\n",
        "\n",
        "modelo.compile(optimizer='adam', \n",
        "               loss='sparse_categorical_crossentropy')\n",
        "\n",
        "modelo.fit(imagens_treino, identificacoes_treino)"
      ],
      "execution_count": 5,
      "outputs": [
        {
          "output_type": "stream",
          "text": [
            "1875/1875 [==============================] - 12s 6ms/step - loss: 0.4848\n"
          ],
          "name": "stdout"
        },
        {
          "output_type": "execute_result",
          "data": {
            "text/plain": [
              "<keras.callbacks.History at 0x7f0601705c50>"
            ]
          },
          "metadata": {},
          "execution_count": 5
        }
      ]
    },
    {
      "cell_type": "code",
      "metadata": {
        "id": "kPwCxjg8U4h3"
      },
      "source": [
        "# TENTANDO COPILAR COM MENOS CAMADA PARA PODER REDUZIR A PERDA -> NO CASO DA AULA A DIFERNÇA FOI MAIS SUBSTANCIAL\n",
        "\n",
        "# A função não linear introduz no modelo a transformação dos dados necessária para identificarmos as diferenças nas imagens que vamos classificar. Nesse caso, escolhemos a função ReLU.\n",
        "\n",
        "# Dividindo a cor em um intervalo de 0 a 1: (ajuda a diminuir a perda)\n",
        "imagens_treino = imagens_treino/float(255) # Normalização.\n"
      ],
      "execution_count": 6,
      "outputs": []
    },
    {
      "cell_type": "markdown",
      "metadata": {
        "id": "m-OqoTmgkKUf"
      },
      "source": [
        "CRIANDO E NORMALIZANDO O MODELO"
      ]
    },
    {
      "cell_type": "code",
      "metadata": {
        "id": "oONYxiggj7jA"
      },
      "source": [
        "modelo = keras.Sequential([ \n",
        "    # Camada de entrada:\n",
        "    keras.layers.Flatten(input_shape=(28, 28)), # Podemos observar a nossa camada de entrada, ou camada 0 que está “achatando” as nossas imagens de 28 por 28 pixels em um array de 784 pixels.\n",
        "    # Camadas ocultas: \n",
        "    keras.layers.Dense(256, activation=tensorflow.nn.relu), # processamento:  A camada dense (densa) é aquela que faz as conexões entre todas as unidades da camada 2 com as unidades da camada 1. (camada 1)  \n",
        "    keras.layers.Dropout(0.2), # Tentar deixar adormecido algumas camadas para tentar melhorar na acuracia e na perda (NORMALIZANDO O MODELO) (CAMADA 2)\n",
        "    # OBS: Como o modelo tem mais camadas para extrair características, ele tem um trabalho maior, o que gera um aumento no tempo que ele leva para treinar.\n",
        "    # Camada de saída:\n",
        "    keras.layers.Dense(10, activation=tensorflow.nn.softmax) # Saída (CAMADA 3)\n",
        "])\n",
        "\n",
        "# OBS: Os modelos visam minimizar a perda e aumentar a acurácia de teste.\n",
        "# OBS: Algo fundamental que serve tanto para Deep learning quanto Machine learning, redes neurais ou qualquer sistema que lide com probabilidades é sempre garantir que o modelo generalize bem para dados novos."
      ],
      "execution_count": 7,
      "outputs": []
    },
    {
      "cell_type": "markdown",
      "metadata": {
        "id": "XyPV-znXkUlM"
      },
      "source": [
        "COMPILANDO O MODELO\n"
      ]
    },
    {
      "cell_type": "code",
      "metadata": {
        "id": "st-5w2JCkRHi"
      },
      "source": [
        "modelo.compile(optimizer='adam', \n",
        "               loss='sparse_categorical_crossentropy', \n",
        "               metrics=['accuracy']) # Para saber quando o nosso moodelo esta acertando"
      ],
      "execution_count": 8,
      "outputs": []
    },
    {
      "cell_type": "markdown",
      "metadata": {
        "id": "tATo0AmakfUm"
      },
      "source": [
        "TREINANDO E NORMALIZANDO O MODELO"
      ]
    },
    {
      "cell_type": "code",
      "metadata": {
        "id": "pYsaSNvxkdHY",
        "colab": {
          "base_uri": "https://localhost:8080/"
        },
        "outputId": "4feae837-a8dd-4511-853b-f44a2113bb1b"
      },
      "source": [
        "historico = modelo.fit(imagens_treino, identificacoes_treino, epochs=5, validation_split=0.2) # O epoch serve para aumentar o número de treinos e diminuir a perda, depois colocamas qual a parte que queremos para a valiidação"
      ],
      "execution_count": 9,
      "outputs": [
        {
          "output_type": "stream",
          "text": [
            "Epoch 1/5\n",
            "1500/1500 [==============================] - 10s 6ms/step - loss: 1.0938 - accuracy: 0.6579 - val_loss: 0.6965 - val_accuracy: 0.7522\n",
            "Epoch 2/5\n",
            "1500/1500 [==============================] - 8s 5ms/step - loss: 0.6584 - accuracy: 0.7617 - val_loss: 0.5931 - val_accuracy: 0.7864\n",
            "Epoch 3/5\n",
            "1500/1500 [==============================] - 8s 5ms/step - loss: 0.5826 - accuracy: 0.7894 - val_loss: 0.5424 - val_accuracy: 0.8051\n",
            "Epoch 4/5\n",
            "1500/1500 [==============================] - 8s 6ms/step - loss: 0.5375 - accuracy: 0.8069 - val_loss: 0.5068 - val_accuracy: 0.8182\n",
            "Epoch 5/5\n",
            "1500/1500 [==============================] - 8s 5ms/step - loss: 0.5064 - accuracy: 0.8200 - val_loss: 0.4809 - val_accuracy: 0.8287\n"
          ],
          "name": "stdout"
        }
      ]
    },
    {
      "cell_type": "markdown",
      "metadata": {
        "id": "yOPPYT6AnkPT"
      },
      "source": [
        "SUMARIO DO MODELO"
      ]
    },
    {
      "cell_type": "code",
      "metadata": {
        "colab": {
          "base_uri": "https://localhost:8080/"
        },
        "id": "ZpySgcFDiczc",
        "outputId": "bd365432-8f94-45cf-edb5-3802782e7402"
      },
      "source": [
        "sumario_do_modelo = modelo.summary()\n",
        "# resumo do modelo"
      ],
      "execution_count": 10,
      "outputs": [
        {
          "output_type": "stream",
          "text": [
            "Model: \"sequential_1\"\n",
            "_________________________________________________________________\n",
            "Layer (type)                 Output Shape              Param #   \n",
            "=================================================================\n",
            "flatten_1 (Flatten)          (None, 784)               0         \n",
            "_________________________________________________________________\n",
            "dense_4 (Dense)              (None, 256)               200960    \n",
            "_________________________________________________________________\n",
            "dropout (Dropout)            (None, 256)               0         \n",
            "_________________________________________________________________\n",
            "dense_5 (Dense)              (None, 10)                2570      \n",
            "=================================================================\n",
            "Total params: 203,530\n",
            "Trainable params: 203,530\n",
            "Non-trainable params: 0\n",
            "_________________________________________________________________\n"
          ],
          "name": "stdout"
        }
      ]
    },
    {
      "cell_type": "markdown",
      "metadata": {
        "id": "2hCPoVcFn9YG"
      },
      "source": [
        "PESOS DA PRIMEIRA CAMADA DENSE\n"
      ]
    },
    {
      "cell_type": "code",
      "metadata": {
        "colab": {
          "base_uri": "https://localhost:8080/"
        },
        "id": "rC4x3K23m3Bz",
        "outputId": "a6b191ac-5dcf-4aae-f7ac-bfb13ae7dd20"
      },
      "source": [
        "pesos_camada_dense = modelo.layers[1].get_weights()[0]\n",
        "pesos_camada_dense\n",
        "\n",
        "\n",
        "# OBS: Os pesos dão mais importância às características essenciais da imagem.\n",
        "#     (“privilegiam” aspectos das nossas imagens que as diferem umas das outras.)"
      ],
      "execution_count": 19,
      "outputs": [
        {
          "output_type": "execute_result",
          "data": {
            "text/plain": [
              "array([[-0.02897105, -0.06574278,  0.06414272, ..., -0.03169997,\n",
              "         0.05566225,  0.0232066 ],\n",
              "       [-0.01660781, -0.05559881,  0.03725227, ...,  0.07475096,\n",
              "         0.06555597, -0.0682646 ],\n",
              "       [ 0.0386752 , -0.08518974,  0.00636277, ...,  0.06943522,\n",
              "        -0.02662366,  0.00304541],\n",
              "       ...,\n",
              "       [ 0.07228184, -0.40608534, -0.04410886, ..., -0.06076679,\n",
              "        -0.75056404, -0.009478  ],\n",
              "       [-0.05200134, -0.39066502,  0.06525205, ..., -0.04545422,\n",
              "        -0.48064908,  0.02350562],\n",
              "       [ 0.01484606, -0.29160047, -0.03076507, ..., -0.00475368,\n",
              "        -0.3624289 ,  0.03381228]], dtype=float32)"
            ]
          },
          "metadata": {},
          "execution_count": 19
        }
      ]
    },
    {
      "cell_type": "code",
      "metadata": {
        "colab": {
          "base_uri": "https://localhost:8080/"
        },
        "id": "VWNapR0sWf90",
        "outputId": "ec96bef1-f34e-46f1-d777-712acef01814"
      },
      "source": [
        "vieses_camada_dense = modelo.layers[1].get_weights()[1]\n",
        "vieses_camada_dense # Diz se estamos mais pertos ou distantes de conseguir o resultado esperado\n",
        "# Por convenção, os vieses são o segundo resultado no array devolvido pela função de pesos."
      ],
      "execution_count": 20,
      "outputs": [
        {
          "output_type": "execute_result",
          "data": {
            "text/plain": [
              "array([-0.00549036,  0.00961175, -0.00903207, -0.00651143,  0.03414417,\n",
              "       -0.00713004, -0.00553294, -0.00525116,  0.14705627,  0.06227177,\n",
              "       -0.00600145, -0.00659812,  0.14663248,  0.05360756, -0.00696029,\n",
              "        0.06071957, -0.00600447, -0.00599904,  0.08814219, -0.00761192,\n",
              "        0.0379955 ,  0.10674245, -0.03562681, -0.00555395,  0.09151512,\n",
              "        0.08847196,  0.10524447,  0.02979948, -0.00926046, -0.00451313,\n",
              "       -0.00439773, -0.00414217,  0.01353575,  0.06902873, -0.00505568,\n",
              "       -0.00722986,  0.04477123, -0.00706432, -0.00812348,  0.0904504 ,\n",
              "       -0.00522275, -0.00600322, -0.00923724,  0.17997701, -0.00687779,\n",
              "        0.07276749,  0.11918267, -0.00599367,  0.10494674,  0.03287184,\n",
              "        0.17806406,  0.01397444,  0.08274049, -0.00691547,  0.15154342,\n",
              "       -0.00600354, -0.00756415,  0.20147057,  0.12797786,  0.09716042,\n",
              "       -0.006546  , -0.00855352,  0.10082095,  0.127515  , -0.00983317,\n",
              "        0.0158327 , -0.00599967, -0.00600023, -0.00600385,  0.10645887,\n",
              "        0.05089437, -0.00582323,  0.01089705, -0.00461168, -0.00788409,\n",
              "       -0.00767674, -0.00599361, -0.00600395,  0.0024899 , -0.00381016,\n",
              "        0.14246564,  0.08020286,  0.10345064, -0.00351887,  0.06894055,\n",
              "        0.07611652, -0.00599851,  0.0540943 ,  0.16849567,  0.11674583,\n",
              "        0.17306198,  0.06999784,  0.06988573,  0.13487825, -0.00842316,\n",
              "        0.01060131,  0.12071623, -0.0066987 ,  0.0021971 ,  0.10328043,\n",
              "        0.04309095,  0.04750218, -0.00391789,  0.1913394 , -0.00751542,\n",
              "       -0.0060039 ,  0.03729954,  0.08265105, -0.0062916 ,  0.14482723,\n",
              "       -0.0072201 , -0.00218975, -0.00704826,  0.05376605,  0.01414269,\n",
              "       -0.00858188, -0.00735988,  0.06663602,  0.06506355, -0.00600123,\n",
              "       -0.00490854, -0.00511279,  0.16586676,  0.09577223,  0.12309718,\n",
              "        0.0251458 ,  0.10743168, -0.0051675 , -0.00629555, -0.00416954,\n",
              "        0.05211486,  0.10240167, -0.03315102,  0.09965742,  0.17948608,\n",
              "        0.02855207, -0.00600132,  0.16015548,  0.12257473,  0.14013584,\n",
              "        0.10932692, -0.00775182, -0.00600453, -0.00633627,  0.086     ,\n",
              "        0.1216464 ,  0.06067403, -0.00753256, -0.00599836, -0.0046625 ,\n",
              "        0.08365896,  0.07099727, -0.00600299, -0.00600478,  0.09729832,\n",
              "       -0.00344705, -0.00691661,  0.1311606 , -0.00600212, -0.00978061,\n",
              "       -0.00822109,  0.05942198,  0.1935727 ,  0.02088277,  0.02339807,\n",
              "       -0.00582714,  0.12134988,  0.09804379,  0.0214764 ,  0.13216902,\n",
              "       -0.00712287, -0.00952615,  0.10069793,  0.09538595,  0.029778  ,\n",
              "       -0.00715725,  0.04921189,  0.05056871, -0.00414611,  0.03086374,\n",
              "        0.04314273, -0.00653652, -0.00514953, -0.00589081,  0.15353416,\n",
              "        0.04118077,  0.01804154,  0.11361986,  0.08057827,  0.07591707,\n",
              "        0.02812243, -0.00599709, -0.00599777, -0.00570641,  0.0703721 ,\n",
              "        0.05892556,  0.05901536, -0.00711934,  0.09500898,  0.0966089 ,\n",
              "        0.13265589,  0.17248346,  0.00931124,  0.07887971, -0.00642291,\n",
              "        0.01435171,  0.18019815, -0.00554116,  0.13189487,  0.03344139,\n",
              "        0.11611716,  0.03527619, -0.00780326,  0.02918383,  0.09904733,\n",
              "        0.00525223,  0.05964614,  0.00755971,  0.01887495,  0.05551777,\n",
              "        0.04296546,  0.10757646,  0.07665652, -0.00907627,  0.05440953,\n",
              "        0.08181804,  0.0798615 ,  0.04928591,  0.05154743,  0.08152733,\n",
              "        0.0961033 ,  0.00312612, -0.00893062,  0.05686316,  0.00057407,\n",
              "        0.05927433,  0.03786155, -0.00473083,  0.11683806, -0.00396477,\n",
              "       -0.01159893,  0.08519571,  0.05905212, -0.00665827,  0.1756381 ,\n",
              "       -0.00796282, -0.00663213, -0.00595682,  0.01932855,  0.04285408,\n",
              "       -0.00844242,  0.0974434 ,  0.06555238, -0.00600465,  0.12513323,\n",
              "       -0.00819736], dtype=float32)"
            ]
          },
          "metadata": {},
          "execution_count": 20
        }
      ]
    },
    {
      "cell_type": "markdown",
      "metadata": {
        "id": "Em2PT3cflKjL"
      },
      "source": [
        "SALVANDO E CARREGANNDO O MODELO TREINADO"
      ]
    },
    {
      "cell_type": "code",
      "metadata": {
        "id": "Bp5uMuC9hzaZ"
      },
      "source": [
        "modelo.save('modelo.h5') # Para salvar o modelo\n",
        "modelo_salvo = load_model('modelo.h5')"
      ],
      "execution_count": 12,
      "outputs": []
    },
    {
      "cell_type": "code",
      "metadata": {
        "colab": {
          "base_uri": "https://localhost:8080/"
        },
        "id": "9KRr1r_icqdx",
        "outputId": "b044c0ce-efbd-4e8a-dd77-450868bf276d"
      },
      "source": [
        "historico.history"
      ],
      "execution_count": 13,
      "outputs": [
        {
          "output_type": "execute_result",
          "data": {
            "text/plain": [
              "{'accuracy': [0.6578541398048401,\n",
              "  0.7616666555404663,\n",
              "  0.789395809173584,\n",
              "  0.8069166541099548,\n",
              "  0.8199583292007446],\n",
              " 'loss': [1.093781590461731,\n",
              "  0.6584256887435913,\n",
              "  0.5826422572135925,\n",
              "  0.5374892950057983,\n",
              "  0.5063816905021667],\n",
              " 'val_accuracy': [0.7521666884422302,\n",
              "  0.7864166498184204,\n",
              "  0.8050833344459534,\n",
              "  0.8181666731834412,\n",
              "  0.8286666870117188],\n",
              " 'val_loss': [0.6964660882949829,\n",
              "  0.5931471586227417,\n",
              "  0.5423814654350281,\n",
              "  0.5067850947380066,\n",
              "  0.48087385296821594]}"
            ]
          },
          "metadata": {},
          "execution_count": 13
        }
      ]
    },
    {
      "cell_type": "markdown",
      "metadata": {
        "id": "jXslLdevlQ4-"
      },
      "source": [
        "VIZALIZANDOO AS ACURACIAS DE TREINO E DE VALIDAÇÃO POR ÉPOCA"
      ]
    },
    {
      "cell_type": "code",
      "metadata": {
        "colab": {
          "base_uri": "https://localhost:8080/",
          "height": 313
        },
        "id": "KMFnOkX_cCto",
        "outputId": "ecd1a136-65dd-42f8-c2ee-bf048857184c"
      },
      "source": [
        "plt.plot(historico.history['accuracy']) # Acuracia de treino\n",
        "plt.plot(historico.history['val_accuracy']) # Acuracia de validação\n",
        "plt.title('Acuracia por épocas')\n",
        "plt.xlabel('épocas')\n",
        "plt.ylabel('acurácia')\n",
        "plt.legend(['treino', 'validação'])"
      ],
      "execution_count": 14,
      "outputs": [
        {
          "output_type": "execute_result",
          "data": {
            "text/plain": [
              "<matplotlib.legend.Legend at 0x7f0601508f90>"
            ]
          },
          "metadata": {},
          "execution_count": 14
        },
        {
          "output_type": "display_data",
          "data": {
            "image/png": "[encoded data removed]",
            "text/plain": [
              "<Figure size 432x288 with 1 Axes>"
            ]
          },
          "metadata": {
            "needs_background": "light"
          }
        }
      ]
    },
    {
      "cell_type": "markdown",
      "metadata": {
        "id": "ARQpzZxYlbxc"
      },
      "source": [
        "VISUALIZANDO AS PERDAS DE TREINO E VALIIDAÇÃO POR TEMPO"
      ]
    },
    {
      "cell_type": "code",
      "metadata": {
        "colab": {
          "base_uri": "https://localhost:8080/",
          "height": 313
        },
        "id": "cUgYG-6cdzND",
        "outputId": "94f3d4a5-18cc-44c4-e3e3-77b2b2b30184"
      },
      "source": [
        "''' \n",
        "OBS: Repare na curva de validação na qual o erro aumenta cada vez mais e na curva de treino que ele apenas reduz. \n",
        "Isso indica que nosso modelo está perdendo pouquíssima informação no treino e muita na validação. \n",
        "O que mostra que ele está servindo bem demais o modelo, overfitting.\n",
        "'''\n",
        "plt.plot(historico.history['loss']) # Acuracia de treino\n",
        "plt.plot(historico.history['val_loss']) # Acuracia de validação\n",
        "plt.title('Perda por épocas')\n",
        "plt.xlabel('épocas')\n",
        "plt.ylabel('perda')\n",
        "plt.legend(['treino', 'validação'])"
      ],
      "execution_count": 15,
      "outputs": [
        {
          "output_type": "execute_result",
          "data": {
            "text/plain": [
              "<matplotlib.legend.Legend at 0x7f0601432250>"
            ]
          },
          "metadata": {},
          "execution_count": 15
        },
        {
          "output_type": "display_data",
          "data": {
            "image/png": "[encoded data removed]",
            "text/plain": [
              "<Figure size 432x288 with 1 Axes>"
            ]
          },
          "metadata": {
            "needs_background": "light"
          }
        }
      ]
    },
    {
      "cell_type": "markdown",
      "metadata": {
        "id": "oDo0eIHvlpEc"
      },
      "source": [
        "TESTANDO O MODELO E O MODELO SALVO"
      ]
    },
    {
      "cell_type": "code",
      "metadata": {
        "colab": {
          "base_uri": "https://localhost:8080/"
        },
        "id": "Qi40X0NAVApf",
        "outputId": "2fc00591-f103-45c2-ffb2-24db2e926c67"
      },
      "source": [
        "testes = modelo.predict(imagens_teste)\n",
        "# Para saber qual foi o resultado desse teste é nescessário pegar o maior número e sua posição vai indicar se acertou ou errou\n",
        "print('Resultado teste:',  np.argmax(testes[1]))\n",
        "print('Número da imagem de teste:',  identificacoes_teste[1])\n",
        "\n",
        "testes_modelo_salvo = modelo_salvo.predict(imagens_teste)\n",
        "print('resultado teste modelo salvo:', np.argmax(testes_modelo_salvo[1]))\n",
        "print('Número da imagem de teste:',  identificacoes_teste[1])"
      ],
      "execution_count": 16,
      "outputs": [
        {
          "output_type": "stream",
          "text": [
            "Resultado teste: 2\n",
            "Número da imagem de teste: 2\n",
            "resultado teste modelo salvo: 2\n",
            "Número da imagem de teste: 2\n"
          ],
          "name": "stdout"
        }
      ]
    },
    {
      "cell_type": "markdown",
      "metadata": {
        "id": "tvyz_om4ltE5"
      },
      "source": [
        "AVALIANDO O MODELO"
      ]
    },
    {
      "cell_type": "code",
      "metadata": {
        "colab": {
          "base_uri": "https://localhost:8080/"
        },
        "id": "fFUENePgXZdA",
        "outputId": "83b4b057-78e0-4614-b55b-798872daa072"
      },
      "source": [
        "# Fazendo uma função de avaliação \n",
        "perda_teste, acuracia_teste = modelo.evaluate(imagens_teste, identificacoes_teste) # Essa função avalia como o nosso modelo está indo com os dados de teste, fornecendo os dados de acurácia e perda.\n",
        "print('Perda do teste:', perda_teste)\n",
        "print('Acuracia do teste:', acuracia_teste)"
      ],
      "execution_count": 17,
      "outputs": [
        {
          "output_type": "stream",
          "text": [
            "313/313 [==============================] - 1s 4ms/step - loss: 19273.8008 - accuracy: 0.6911\n",
            "Perda do teste: 19273.80078125\n",
            "Acuracia do teste: 0.691100001335144\n"
          ],
          "name": "stdout"
        }
      ]
    },
    {
      "cell_type": "code",
      "metadata": {
        "id": "X1fUQbGdZ0sL"
      },
      "source": [
        ""
      ],
      "execution_count": 17,
      "outputs": []
    }
  ]
}