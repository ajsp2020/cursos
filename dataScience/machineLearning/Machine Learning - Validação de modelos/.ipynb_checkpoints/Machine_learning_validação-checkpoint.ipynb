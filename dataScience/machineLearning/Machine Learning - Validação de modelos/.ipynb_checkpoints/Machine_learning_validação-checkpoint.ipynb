{
 "cells": [
  {
   "cell_type": "markdown",
   "id": "c697837c",
   "metadata": {},
   "source": [
    "# <font color='blue'> Validação cruzada e aleatoridade inicial </font>"
   ]
  },
  {
   "cell_type": "markdown",
   "id": "78c0752e",
   "metadata": {},
   "source": [
    "## <font color='blue'> A influência da aleatoriedade na validação do modelo </font>"
   ]
  },
  {
   "cell_type": "markdown",
   "id": "83df1c47",
   "metadata": {},
   "source": [
    "### <font color='blue'> Baixando os dados: </font>"
   ]
  },
  {
   "cell_type": "code",
   "execution_count": 157,
   "id": "a559d008",
   "metadata": {},
   "outputs": [
    {
     "data": {
      "text/html": [
       "<div>\n",
       "<style scoped>\n",
       "    .dataframe tbody tr th:only-of-type {\n",
       "        vertical-align: middle;\n",
       "    }\n",
       "\n",
       "    .dataframe tbody tr th {\n",
       "        vertical-align: top;\n",
       "    }\n",
       "\n",
       "    .dataframe thead th {\n",
       "        text-align: right;\n",
       "    }\n",
       "</style>\n",
       "<table border=\"1\" class=\"dataframe\">\n",
       "  <thead>\n",
       "    <tr style=\"text-align: right;\">\n",
       "      <th></th>\n",
       "      <th>preco</th>\n",
       "      <th>vendido</th>\n",
       "      <th>idade_do_modelo</th>\n",
       "      <th>km_por_ano</th>\n",
       "    </tr>\n",
       "  </thead>\n",
       "  <tbody>\n",
       "    <tr>\n",
       "      <th>0</th>\n",
       "      <td>30941.02</td>\n",
       "      <td>1</td>\n",
       "      <td>18</td>\n",
       "      <td>35085.22134</td>\n",
       "    </tr>\n",
       "    <tr>\n",
       "      <th>1</th>\n",
       "      <td>40557.96</td>\n",
       "      <td>1</td>\n",
       "      <td>20</td>\n",
       "      <td>12622.05362</td>\n",
       "    </tr>\n",
       "    <tr>\n",
       "      <th>2</th>\n",
       "      <td>89627.50</td>\n",
       "      <td>0</td>\n",
       "      <td>12</td>\n",
       "      <td>11440.79806</td>\n",
       "    </tr>\n",
       "    <tr>\n",
       "      <th>3</th>\n",
       "      <td>95276.14</td>\n",
       "      <td>0</td>\n",
       "      <td>3</td>\n",
       "      <td>43167.32682</td>\n",
       "    </tr>\n",
       "    <tr>\n",
       "      <th>4</th>\n",
       "      <td>117384.68</td>\n",
       "      <td>1</td>\n",
       "      <td>4</td>\n",
       "      <td>12770.11290</td>\n",
       "    </tr>\n",
       "  </tbody>\n",
       "</table>\n",
       "</div>"
      ],
      "text/plain": [
       "       preco  vendido  idade_do_modelo   km_por_ano\n",
       "0   30941.02        1               18  35085.22134\n",
       "1   40557.96        1               20  12622.05362\n",
       "2   89627.50        0               12  11440.79806\n",
       "3   95276.14        0                3  43167.32682\n",
       "4  117384.68        1                4  12770.11290"
      ]
     },
     "execution_count": 157,
     "metadata": {},
     "output_type": "execute_result"
    }
   ],
   "source": [
    "import pandas as pd\n",
    "\n",
    "uri = \"https://gist.githubusercontent.com/guilhermesilveira/e99a526b2e7ccc6c3b70f53db43a87d2/raw/1605fc74aa778066bf2e6695e24d53cf65f2f447/machine-learning-carros-simulacao.csv\"\n",
    "dados = pd.read_csv(uri).drop(columns=[\"Unnamed: 0\"], axis=1)\n",
    "dados.head()"
   ]
  },
  {
   "cell_type": "markdown",
   "id": "1cf14b74",
   "metadata": {},
   "source": [
    "### <font color='blue'> Separrando os modelos de treino e teste: </font>"
   ]
  },
  {
   "cell_type": "code",
   "execution_count": 158,
   "id": "6fdc2aff",
   "metadata": {},
   "outputs": [
    {
     "name": "stdout",
     "output_type": "stream",
     "text": [
      "Treinaremos com 7500 elementos e testaremos com 2500 elementos\n"
     ]
    }
   ],
   "source": [
    "import numpy as np\n",
    "from sklearn.model_selection import train_test_split\n",
    "from sklearn.svm import LinearSVC\n",
    "from sklearn.metrics import accuracy_score\n",
    "\n",
    "x = dados[[\"preco\", \"idade_do_modelo\",\"km_por_ano\"]]\n",
    "y = dados[\"vendido\"]\n",
    "\n",
    "SEED = 158020\n",
    "np.random.seed(SEED)\n",
    "treino_x, teste_x, treino_y, teste_y = train_test_split(x, y, test_size = 0.25,\n",
    "                                                         stratify = y)\n",
    "print(\"Treinaremos com %d elementos e testaremos com %d elementos\" % (len(treino_x), len(teste_x)))"
   ]
  },
  {
   "cell_type": "markdown",
   "id": "dbebbc0f",
   "metadata": {},
   "source": [
    "### <font color='blue'> Decidindo oq é uma taxa de acerto aceitável: </font>"
   ]
  },
  {
   "cell_type": "code",
   "execution_count": 159,
   "id": "3f3eb304",
   "metadata": {},
   "outputs": [
    {
     "name": "stdout",
     "output_type": "stream",
     "text": [
      "A acurácia do dummy stratified foi de 58.00%\n"
     ]
    }
   ],
   "source": [
    "from sklearn.dummy import DummyClassifier\n",
    "\n",
    "dummy_stratified = DummyClassifier()\n",
    "dummy_stratified.fit(treino_x, treino_y)\n",
    "acuracia = dummy_stratified.score(teste_x, teste_y) * 100\n",
    "\n",
    "print(\"A acurácia do dummy stratified foi de %.2f%%\" % acuracia)"
   ]
  },
  {
   "cell_type": "markdown",
   "id": "f91f63e6",
   "metadata": {},
   "source": [
    "### <font color='blue'> Rodando uma arvore de decisão: </font>"
   ]
  },
  {
   "cell_type": "code",
   "execution_count": 160,
   "id": "387db49d",
   "metadata": {},
   "outputs": [
    {
     "name": "stdout",
     "output_type": "stream",
     "text": [
      "A acurácia foi 71.92%\n"
     ]
    }
   ],
   "source": [
    "\n",
    "from sklearn.tree import DecisionTreeClassifier\n",
    "\n",
    "SEED = 158020\n",
    "np.random.seed(SEED)\n",
    "modelo = DecisionTreeClassifier(max_depth=2)\n",
    "modelo.fit(treino_x, treino_y)\n",
    "previsoes = modelo.predict(teste_x)\n",
    "\n",
    "acuracia = accuracy_score(teste_y, previsoes) * 100\n",
    "print (\"A acurácia foi %.2f%%\" % acuracia)"
   ]
  },
  {
   "cell_type": "code",
   "execution_count": 161,
   "id": "31a2012a",
   "metadata": {},
   "outputs": [
    {
     "name": "stdout",
     "output_type": "stream",
     "text": [
      "Treinaremos com 7500 elementos e testaremos com 2500 elementos\n",
      "A acurácia do dummy stratified foi 76.84%\n"
     ]
    }
   ],
   "source": [
    "x = dados[[\"preco\", \"idade_do_modelo\",\"km_por_ano\"]]\n",
    "y = dados[\"vendido\"]\n",
    "\n",
    "SEED = 5\n",
    "np.random.seed(SEED)\n",
    "treino_x, teste_x, treino_y, teste_y = train_test_split(x, y, test_size = 0.25,\n",
    "                                                         stratify = y)\n",
    "print(\"Treinaremos com %d elementos e testaremos com %d elementos\" % (len(treino_x), len(teste_x)))\n",
    "\n",
    "modelo = DecisionTreeClassifier(max_depth=2)\n",
    "modelo.fit(treino_x, treino_y)\n",
    "previsoes = modelo.predict(teste_x)\n",
    "\n",
    "acuracia = accuracy_score(teste_y, previsoes) * 100\n",
    "print(\"A acurácia do dummy stratified foi %.2f%%\" % acuracia)"
   ]
  },
  {
   "cell_type": "markdown",
   "id": "c304e37f",
   "metadata": {},
   "source": [
    "## <font color='blue'> Usando e avaliando com o cross validate: </font>"
   ]
  },
  {
   "cell_type": "markdown",
   "id": "661dc7d9",
   "metadata": {},
   "source": [
    "https://scikit-learn.org/stable/modules/generated/sklearn.model_selection.cross_validate.html"
   ]
  },
  {
   "cell_type": "code",
   "execution_count": 162,
   "id": "e64f8a7d",
   "metadata": {},
   "outputs": [
    {
     "name": "stdout",
     "output_type": "stream",
     "text": [
      "Accuracy com cross validation, 3 = [74.99 , 76.57]\n"
     ]
    }
   ],
   "source": [
    "from sklearn.model_selection import cross_validate\n",
    "\n",
    "SEED = 158020\n",
    "np.random.seed(SEED)\n",
    "modelo = DecisionTreeClassifier(max_depth=2)\n",
    "results = cross_validate(modelo, x, y, cv=3)\n",
    "media = results['test_score'].mean()\n",
    "desvio_padrao = results['test_score'].std()\n",
    "print(\"Accuracy com cross validation, 3 = [%.2f , %.2f]\" % ((media - 2 * desvio_padrao) * 100, (media + 2 * desvio_padrao) * 100))"
   ]
  },
  {
   "cell_type": "code",
   "execution_count": 163,
   "id": "4dc3c86b",
   "metadata": {},
   "outputs": [
    {
     "name": "stdout",
     "output_type": "stream",
     "text": [
      "Accuracy com cross validation, 3 = [74.24 , 77.32]\n"
     ]
    }
   ],
   "source": [
    "SEED = 158020\n",
    "np.random.seed(SEED)\n",
    "modelo = DecisionTreeClassifier(max_depth=2)\n",
    "results = cross_validate(modelo, x, y, cv=10)\n",
    "media = results['test_score'].mean()\n",
    "desvio_padrao = results['test_score'].std()\n",
    "print(\"Accuracy com cross validation, 3 = [%.2f , %.2f]\" % ((media - 2 * desvio_padrao) * 100, (media + 2 * desvio_padrao) * 100))"
   ]
  },
  {
   "cell_type": "code",
   "execution_count": 164,
   "id": "d02eecd2",
   "metadata": {},
   "outputs": [
    {
     "name": "stdout",
     "output_type": "stream",
     "text": [
      "Accuracy com cross validation, 3 = [75.21 , 76.35]\n"
     ]
    }
   ],
   "source": [
    "SEED = 158020\n",
    "np.random.seed(SEED)\n",
    "modelo = DecisionTreeClassifier(max_depth=2)\n",
    "results = cross_validate(modelo, x, y, cv=5) # Usar 5 já é o suficiente.\n",
    "media = results['test_score'].mean()\n",
    "desvio_padrao = results['test_score'].std()\n",
    "print(\"Accuracy com cross validation, 3 = [%.2f , %.2f]\" % ((media - 2 * desvio_padrao) * 100, (media + 2 * desvio_padrao) * 100))"
   ]
  },
  {
   "cell_type": "markdown",
   "id": "50a6d9d0",
   "metadata": {},
   "source": [
    "# <font color='blue'> KFold e aleatoridade: </font>"
   ]
  },
  {
   "cell_type": "markdown",
   "id": "7e607b7c",
   "metadata": {},
   "source": [
    "## <font color='blue'> KFold com aleatorização: </font>"
   ]
  },
  {
   "cell_type": "markdown",
   "id": "a9307597",
   "metadata": {},
   "source": [
    "#### <font color='black'> Aleatoriedade no cross validate: </font>"
   ]
  },
  {
   "cell_type": "markdown",
   "id": "080d841e",
   "metadata": {},
   "source": [
    "https://scikit-learn.org/stable/modules/generated/sklearn.model_selection.KFold.html?highlight=kfold#sklearn.model_selection.KFold"
   ]
  },
  {
   "cell_type": "code",
   "execution_count": 165,
   "id": "b92e87cb",
   "metadata": {},
   "outputs": [],
   "source": [
    "def imprime_resultados(results):\n",
    "    media = results['test_score'].mean()\n",
    "    desvio_padrao = results['test_score'].std()\n",
    "    print(\"Accuracy médio: %.2f\" % (media * 100))\n",
    "    print(\"Accuracy intervalo: [%.2f , %.2f]\" % ((media - 2 * desvio_padrao) * 100, (media + 2 * desvio_padrao) * 100))"
   ]
  },
  {
   "cell_type": "code",
   "execution_count": 166,
   "id": "15092260",
   "metadata": {},
   "outputs": [
    {
     "name": "stdout",
     "output_type": "stream",
     "text": [
      "Accuracy médio: 75.78\n",
      "Accuracy intervalo: [74.37 , 77.19]\n"
     ]
    }
   ],
   "source": [
    "from sklearn.model_selection import KFold\n",
    "\n",
    "SEED = 158020\n",
    "np.random.seed(SEED)\n",
    "\n",
    "cv = KFold(n_splits= 10)\n",
    "modelo = DecisionTreeClassifier(max_depth= 2)\n",
    "results = cross_validate(modelo, x, y, cv= cv) # Usar 5 já é o suficiente.\n",
    "imprime_resultados(results)"
   ]
  },
  {
   "cell_type": "code",
   "execution_count": 167,
   "id": "ae5e3583",
   "metadata": {},
   "outputs": [
    {
     "name": "stdout",
     "output_type": "stream",
     "text": [
      "Accuracy médio: 75.78\n",
      "Accuracy intervalo: [73.58 , 77.98]\n"
     ]
    }
   ],
   "source": [
    "SEED = 158020\n",
    "np.random.seed(SEED)\n",
    "\n",
    "cv = KFold(n_splits= 10, shuffle= True)\n",
    "modelo = DecisionTreeClassifier(max_depth= 2)\n",
    "results = cross_validate(modelo, x, y, cv= cv) # Usar 5 já é o suficiente.\n",
    "imprime_resultados(results)"
   ]
  },
  {
   "cell_type": "markdown",
   "id": "6a85e896",
   "metadata": {},
   "source": [
    "# <font color='blue'> Estratificação: </font>"
   ]
  },
  {
   "cell_type": "markdown",
   "id": "e4b3dae9",
   "metadata": {},
   "source": [
    "## <font color='blue'> Estratificação com validação cruzada: </font>"
   ]
  },
  {
   "cell_type": "code",
   "execution_count": 168,
   "id": "3d071d8e",
   "metadata": {},
   "outputs": [],
   "source": [
    "### Simular situaçâo horrível de azar\n",
    "### <p> Pode ser \"azar\" como pode ser uma proporção de exemplos desbalanceado entre as classes</p>"
   ]
  },
  {
   "cell_type": "code",
   "execution_count": 169,
   "id": "fdc11a69",
   "metadata": {},
   "outputs": [
    {
     "data": {
      "text/html": [
       "<div>\n",
       "<style scoped>\n",
       "    .dataframe tbody tr th:only-of-type {\n",
       "        vertical-align: middle;\n",
       "    }\n",
       "\n",
       "    .dataframe tbody tr th {\n",
       "        vertical-align: top;\n",
       "    }\n",
       "\n",
       "    .dataframe thead th {\n",
       "        text-align: right;\n",
       "    }\n",
       "</style>\n",
       "<table border=\"1\" class=\"dataframe\">\n",
       "  <thead>\n",
       "    <tr style=\"text-align: right;\">\n",
       "      <th></th>\n",
       "      <th>preco</th>\n",
       "      <th>vendido</th>\n",
       "      <th>idade_do_modelo</th>\n",
       "      <th>km_por_ano</th>\n",
       "    </tr>\n",
       "  </thead>\n",
       "  <tbody>\n",
       "    <tr>\n",
       "      <th>4999</th>\n",
       "      <td>74023.29</td>\n",
       "      <td>0</td>\n",
       "      <td>12</td>\n",
       "      <td>24812.80412</td>\n",
       "    </tr>\n",
       "    <tr>\n",
       "      <th>5322</th>\n",
       "      <td>84843.49</td>\n",
       "      <td>0</td>\n",
       "      <td>13</td>\n",
       "      <td>23095.63834</td>\n",
       "    </tr>\n",
       "    <tr>\n",
       "      <th>5319</th>\n",
       "      <td>83100.27</td>\n",
       "      <td>0</td>\n",
       "      <td>19</td>\n",
       "      <td>36240.72746</td>\n",
       "    </tr>\n",
       "    <tr>\n",
       "      <th>5316</th>\n",
       "      <td>87932.13</td>\n",
       "      <td>0</td>\n",
       "      <td>16</td>\n",
       "      <td>32249.56426</td>\n",
       "    </tr>\n",
       "    <tr>\n",
       "      <th>5315</th>\n",
       "      <td>77937.01</td>\n",
       "      <td>0</td>\n",
       "      <td>15</td>\n",
       "      <td>28414.50704</td>\n",
       "    </tr>\n",
       "    <tr>\n",
       "      <th>...</th>\n",
       "      <td>...</td>\n",
       "      <td>...</td>\n",
       "      <td>...</td>\n",
       "      <td>...</td>\n",
       "    </tr>\n",
       "    <tr>\n",
       "      <th>5491</th>\n",
       "      <td>71910.43</td>\n",
       "      <td>1</td>\n",
       "      <td>9</td>\n",
       "      <td>25778.40812</td>\n",
       "    </tr>\n",
       "    <tr>\n",
       "      <th>1873</th>\n",
       "      <td>30456.53</td>\n",
       "      <td>1</td>\n",
       "      <td>6</td>\n",
       "      <td>15468.97608</td>\n",
       "    </tr>\n",
       "    <tr>\n",
       "      <th>1874</th>\n",
       "      <td>69342.41</td>\n",
       "      <td>1</td>\n",
       "      <td>11</td>\n",
       "      <td>16909.33538</td>\n",
       "    </tr>\n",
       "    <tr>\n",
       "      <th>5499</th>\n",
       "      <td>70520.39</td>\n",
       "      <td>1</td>\n",
       "      <td>16</td>\n",
       "      <td>19622.68262</td>\n",
       "    </tr>\n",
       "    <tr>\n",
       "      <th>0</th>\n",
       "      <td>30941.02</td>\n",
       "      <td>1</td>\n",
       "      <td>18</td>\n",
       "      <td>35085.22134</td>\n",
       "    </tr>\n",
       "  </tbody>\n",
       "</table>\n",
       "<p>10000 rows × 4 columns</p>\n",
       "</div>"
      ],
      "text/plain": [
       "         preco  vendido  idade_do_modelo   km_por_ano\n",
       "4999  74023.29        0               12  24812.80412\n",
       "5322  84843.49        0               13  23095.63834\n",
       "5319  83100.27        0               19  36240.72746\n",
       "5316  87932.13        0               16  32249.56426\n",
       "5315  77937.01        0               15  28414.50704\n",
       "...        ...      ...              ...          ...\n",
       "5491  71910.43        1                9  25778.40812\n",
       "1873  30456.53        1                6  15468.97608\n",
       "1874  69342.41        1               11  16909.33538\n",
       "5499  70520.39        1               16  19622.68262\n",
       "0     30941.02        1               18  35085.22134\n",
       "\n",
       "[10000 rows x 4 columns]"
      ]
     },
     "execution_count": 169,
     "metadata": {},
     "output_type": "execute_result"
    }
   ],
   "source": [
    "dados_azar = dados.sort_values(\"vendido\", ascending=True)\n",
    "x_azar = dados_azar[[\"preco\", \"idade_do_modelo\",\"km_por_ano\"]]\n",
    "y_azar = dados_azar[\"vendido\"]\n",
    "dados_azar"
   ]
  },
  {
   "cell_type": "code",
   "execution_count": 170,
   "id": "5384458f",
   "metadata": {},
   "outputs": [
    {
     "name": "stdout",
     "output_type": "stream",
     "text": [
      "Accuracy médio: 57.84\n",
      "Accuracy intervalo: [34.29 , 81.39]\n"
     ]
    }
   ],
   "source": [
    "from sklearn.model_selection import KFold\n",
    "\n",
    "SEED = 158020\n",
    "np.random.seed(SEED)\n",
    "\n",
    "cv = KFold(n_splits= 10)\n",
    "modelo = DecisionTreeClassifier(max_depth= 2)\n",
    "results = cross_validate(modelo, x_azar, y_azar, cv= cv) # Usar 5 já é o suficiente.\n",
    "imprime_resultados(results)"
   ]
  },
  {
   "cell_type": "code",
   "execution_count": 171,
   "id": "f7cdf438",
   "metadata": {},
   "outputs": [
    {
     "name": "stdout",
     "output_type": "stream",
     "text": [
      "Accuracy médio: 75.76\n",
      "Accuracy intervalo: [73.02 , 78.50]\n"
     ]
    }
   ],
   "source": [
    "SEED = 158020\n",
    "np.random.seed(SEED)\n",
    "\n",
    "cv = KFold(n_splits= 10, shuffle= True)\n",
    "modelo = DecisionTreeClassifier(max_depth= 2)\n",
    "results = cross_validate(modelo, x_azar, y_azar, cv= cv) # Usar 5 já é o suficiente.\n",
    "imprime_resultados(results)"
   ]
  },
  {
   "cell_type": "markdown",
   "id": "2f58ab85",
   "metadata": {},
   "source": [
    "https://scikit-learn.org/stable/modules/generated/sklearn.model_selection.StratifiedKFold.html?highlight=kfold#sklearn.model_selection.StratifiedKFold"
   ]
  },
  {
   "cell_type": "code",
   "execution_count": 172,
   "id": "d7299512",
   "metadata": {},
   "outputs": [
    {
     "name": "stdout",
     "output_type": "stream",
     "text": [
      "Accuracy médio: 75.78\n",
      "Accuracy intervalo: [74.10 , 77.46]\n"
     ]
    }
   ],
   "source": [
    "from sklearn.model_selection import StratifiedKFold\n",
    "\n",
    "SEED = 158020\n",
    "np.random.seed(SEED)\n",
    "\n",
    "cv = StratifiedKFold(n_splits= 10, shuffle= True) # Quando tem um desbalanço entre as duas classes é melhor usar o StratifideKFold\n",
    "modelo = DecisionTreeClassifier(max_depth= 2)\n",
    "results = cross_validate(modelo, x_azar, y_azar, cv= cv) # Usar 5 já é o suficiente.\n",
    "imprime_resultados(results)"
   ]
  },
  {
   "cell_type": "markdown",
   "id": "f493f86f",
   "metadata": {},
   "source": [
    "## <font color='blue'> Documentação e boas práticas: </font>"
   ]
  },
  {
   "cell_type": "markdown",
   "id": "cef909c5",
   "metadata": {},
   "source": [
    "https://scikit-learn.org/stable/modules/classes.html?highlight=model%20selection#module-sklearn.model_selection"
   ]
  },
  {
   "cell_type": "code",
   "execution_count": 173,
   "id": "8b76b22c",
   "metadata": {},
   "outputs": [],
   "source": [
    "# <font color='blue'> Dados agrupáveis: </font>"
   ]
  },
  {
   "cell_type": "code",
   "execution_count": 174,
   "id": "24f11126",
   "metadata": {},
   "outputs": [],
   "source": [
    "## <font color='blue'> Gerando dados aleatórios: </font>"
   ]
  },
  {
   "cell_type": "code",
   "execution_count": 175,
   "id": "711d5781",
   "metadata": {},
   "outputs": [],
   "source": [
    "### Gerando dados aleatórios de modelo de carro para simulação de agrupamento ao usar nosso estimador"
   ]
  },
  {
   "cell_type": "code",
   "execution_count": 176,
   "id": "33cacf06",
   "metadata": {},
   "outputs": [
    {
     "data": {
      "text/html": [
       "<div>\n",
       "<style scoped>\n",
       "    .dataframe tbody tr th:only-of-type {\n",
       "        vertical-align: middle;\n",
       "    }\n",
       "\n",
       "    .dataframe tbody tr th {\n",
       "        vertical-align: top;\n",
       "    }\n",
       "\n",
       "    .dataframe thead th {\n",
       "        text-align: right;\n",
       "    }\n",
       "</style>\n",
       "<table border=\"1\" class=\"dataframe\">\n",
       "  <thead>\n",
       "    <tr style=\"text-align: right;\">\n",
       "      <th></th>\n",
       "      <th>preco</th>\n",
       "      <th>vendido</th>\n",
       "      <th>idade_do_modelo</th>\n",
       "      <th>km_por_ano</th>\n",
       "      <th>modelo</th>\n",
       "    </tr>\n",
       "  </thead>\n",
       "  <tbody>\n",
       "    <tr>\n",
       "      <th>0</th>\n",
       "      <td>30941.02</td>\n",
       "      <td>1</td>\n",
       "      <td>18</td>\n",
       "      <td>35085.22134</td>\n",
       "      <td>19</td>\n",
       "    </tr>\n",
       "    <tr>\n",
       "      <th>1</th>\n",
       "      <td>40557.96</td>\n",
       "      <td>1</td>\n",
       "      <td>20</td>\n",
       "      <td>12622.05362</td>\n",
       "      <td>22</td>\n",
       "    </tr>\n",
       "    <tr>\n",
       "      <th>2</th>\n",
       "      <td>89627.50</td>\n",
       "      <td>0</td>\n",
       "      <td>12</td>\n",
       "      <td>11440.79806</td>\n",
       "      <td>14</td>\n",
       "    </tr>\n",
       "    <tr>\n",
       "      <th>3</th>\n",
       "      <td>95276.14</td>\n",
       "      <td>0</td>\n",
       "      <td>3</td>\n",
       "      <td>43167.32682</td>\n",
       "      <td>4</td>\n",
       "    </tr>\n",
       "    <tr>\n",
       "      <th>4</th>\n",
       "      <td>117384.68</td>\n",
       "      <td>1</td>\n",
       "      <td>4</td>\n",
       "      <td>12770.11290</td>\n",
       "      <td>4</td>\n",
       "    </tr>\n",
       "  </tbody>\n",
       "</table>\n",
       "</div>"
      ],
      "text/plain": [
       "       preco  vendido  idade_do_modelo   km_por_ano  modelo\n",
       "0   30941.02        1               18  35085.22134      19\n",
       "1   40557.96        1               20  12622.05362      22\n",
       "2   89627.50        0               12  11440.79806      14\n",
       "3   95276.14        0                3  43167.32682       4\n",
       "4  117384.68        1                4  12770.11290       4"
      ]
     },
     "execution_count": 176,
     "metadata": {},
     "output_type": "execute_result"
    }
   ],
   "source": [
    "np.random.seed(SEED)\n",
    "dados['modelo']= dados.idade_do_modelo + np.random.randint(-2,3, size=10000)\n",
    "dados.modelo = dados.modelo + abs(dados.modelo.min()) + 1 # Tirando o valor negativo e somando 1\n",
    "dados.head()"
   ]
  },
  {
   "cell_type": "code",
   "execution_count": null,
   "id": "0a10c849",
   "metadata": {},
   "outputs": [],
   "source": []
  },
  {
   "cell_type": "code",
   "execution_count": 177,
   "id": "f23db104",
   "metadata": {},
   "outputs": [
    {
     "data": {
      "text/plain": [
       "array([19, 22, 14,  4, 12, 11, 20,  6, 18,  8,  7, 23, 17, 15, 13, 16, 10,\n",
       "        5, 21,  9, 24,  2,  3,  1], dtype=int64)"
      ]
     },
     "execution_count": 177,
     "metadata": {},
     "output_type": "execute_result"
    }
   ],
   "source": [
    "dados.modelo.unique()"
   ]
  },
  {
   "cell_type": "code",
   "execution_count": 178,
   "id": "7c0bad17",
   "metadata": {},
   "outputs": [
    {
     "data": {
      "text/plain": [
       "20    873\n",
       "19    830\n",
       "18    788\n",
       "21    707\n",
       "17    687\n",
       "15    669\n",
       "16    616\n",
       "22    597\n",
       "14    577\n",
       "13    576\n",
       "12    497\n",
       "11    397\n",
       "10    376\n",
       "23    347\n",
       "9     320\n",
       "8     288\n",
       "7     217\n",
       "24    199\n",
       "6     186\n",
       "5     120\n",
       "4      66\n",
       "3      44\n",
       "2      20\n",
       "1       3\n",
       "Name: modelo, dtype: int64"
      ]
     },
     "execution_count": 178,
     "metadata": {},
     "output_type": "execute_result"
    }
   ],
   "source": [
    "dados.modelo.value_counts()"
   ]
  },
  {
   "cell_type": "code",
   "execution_count": 179,
   "id": "b7166014",
   "metadata": {},
   "outputs": [],
   "source": [
    "## <font color='blue'> Validação cruzada usando grupos: </font>"
   ]
  },
  {
   "cell_type": "code",
   "execution_count": 180,
   "id": "01d24c97",
   "metadata": {},
   "outputs": [],
   "source": [
    "#### Rodando nosso classificador:"
   ]
  },
  {
   "cell_type": "markdown",
   "id": "b8ad1e0c",
   "metadata": {},
   "source": [
    "https://scikit-learn.org/stable/modules/generated/sklearn.model_selection.GroupKFold.html"
   ]
  },
  {
   "cell_type": "markdown",
   "id": "6cda30d4",
   "metadata": {},
   "source": [
    "https://scikit-learn.org/stable/modules/generated/sklearn.model_selection.cross_validate.html"
   ]
  },
  {
   "cell_type": "code",
   "execution_count": 181,
   "id": "4ea83370",
   "metadata": {},
   "outputs": [],
   "source": [
    "#### Testando validção cruzada com groupKFold"
   ]
  },
  {
   "cell_type": "code",
   "execution_count": 182,
   "id": "af16f393",
   "metadata": {},
   "outputs": [
    {
     "name": "stdout",
     "output_type": "stream",
     "text": [
      "Accuracy médio: 75.76\n",
      "Accuracy intervalo: [72.91 , 78.60]\n"
     ]
    }
   ],
   "source": [
    "from sklearn.model_selection import GroupKFold\n",
    "\n",
    "SEED = 158020\n",
    "np.random.seed(SEED)\n",
    "\n",
    "cv = GroupKFold(n_splits= 10) # Quando tem um desbalanço entre as duas classes é melhor usar o StratifideKFold\n",
    "modelo = DecisionTreeClassifier(max_depth= 2)\n",
    "results = cross_validate(modelo, x_azar, y_azar, cv= cv, groups= dados.modelo) # Usar 5 já é o suficiente.\n",
    "imprime_resultados(results)"
   ]
  },
  {
   "cell_type": "code",
   "execution_count": 183,
   "id": "9c078c4b",
   "metadata": {},
   "outputs": [],
   "source": [
    "# <font color='blue'> Pipeline de treino e validaçaõ: </font>"
   ]
  },
  {
   "cell_type": "code",
   "execution_count": 184,
   "id": "f7f16855",
   "metadata": {},
   "outputs": [],
   "source": [
    "## <font color='blue'> A importância do pipeline no crossvalidate: </font>"
   ]
  },
  {
   "cell_type": "code",
   "execution_count": 185,
   "id": "ada748c2",
   "metadata": {},
   "outputs": [],
   "source": [
    "### Cross validation com StandardScaler"
   ]
  },
  {
   "cell_type": "markdown",
   "id": "9620c41c",
   "metadata": {},
   "source": [
    "https://scikit-learn.org/stable/modules/generated/sklearn.preprocessing.StandardScaler.html"
   ]
  },
  {
   "cell_type": "markdown",
   "id": "fdae12dd",
   "metadata": {},
   "source": [
    "https://scikit-learn.org/stable/modules/generated/sklearn.svm.SVC.html"
   ]
  },
  {
   "cell_type": "code",
   "execution_count": null,
   "id": "c8bd1086",
   "metadata": {},
   "outputs": [],
   "source": []
  },
  {
   "cell_type": "code",
   "execution_count": 186,
   "id": "edd84710",
   "metadata": {},
   "outputs": [
    {
     "name": "stdout",
     "output_type": "stream",
     "text": [
      "A Acirácia foi de 77.48%\n"
     ]
    }
   ],
   "source": [
    "from sklearn.preprocessing import StandardScaler\n",
    "from sklearn.svm import SVC\n",
    "\n",
    "SEED = 301\n",
    "np.random.seed(SEED)\n",
    "# Escalando os X´s\n",
    "\n",
    "scaler = StandardScaler()\n",
    "scaler.fit(treino_x)\n",
    "treino_x_escalado = scaler.transform(treino_x)\n",
    "teste_x_escalado = scaler.transform(teste_x)\n",
    "# Rodando o modelo:\n",
    "modelo = SVC()\n",
    "modelo.fit(treino_x_escalado, treino_y)\n",
    "previsoes = modelo.predict(teste_x_escalado)\n",
    "\n",
    "acuracia = accuracy_score(teste_y, previsoes) * 100\n",
    "print(\"A Acirácia foi de %.2f%%\" % acuracia)"
   ]
  },
  {
   "cell_type": "markdown",
   "id": "5f132ad9",
   "metadata": {},
   "source": [
    "from sklearn.model_selection import GroupKFold\n",
    "\n",
    "SEED = 301\n",
    "np.random.seed(SEED)\n",
    "\n",
    "cv = GroupKFold(n_splits= 10) # Quando tem um desbalanço entre as duas classes é melhor usar o StratifideKFold\n",
    "modelo = SVC()\n",
    "results = cross_validate(modelo, x_azar, y_azar, cv= cv, groups= dados.modelo) # Usar 5 já é o suficiente.\n",
    "imprime_resultados(results)"
   ]
  },
  {
   "cell_type": "markdown",
   "id": "e8bfc96c",
   "metadata": {},
   "source": [
    "https://scikit-learn.org/stable/modules/generated/sklearn.pipeline.Pipeline.html"
   ]
  },
  {
   "cell_type": "code",
   "execution_count": 193,
   "id": "a9fe4bf5",
   "metadata": {},
   "outputs": [
    {
     "name": "stdout",
     "output_type": "stream",
     "text": [
      "Accuracy médio: 76.66\n",
      "Accuracy intervalo: [73.65 , 79.66]\n"
     ]
    }
   ],
   "source": [
    "from sklearn.pipeline import Pipeline\n",
    "\n",
    "SEED = 301\n",
    "np.random.seed(SEED)\n",
    "\n",
    "scaler = StandardScaler()\n",
    "modelo = SVC()\n",
    "\n",
    "# Com o pipeline pode ser feito um pré-processamento mais do que uma vez.\n",
    "pipeline = Pipeline([('transformacao',scaler), ('estimador', modelo)])\n",
    "\n",
    "cv = GroupKFold(n_splits= 10) # Quando tem um desbalanço entre as duas classes é melhor usar o StratifideKFold\n",
    "results = cross_validate(pipeline, x_azar, y_azar, cv= cv, groups= dados.modelo) # Usar 5 já é o suficiente.\n",
    "imprime_resultados(results)"
   ]
  },
  {
   "cell_type": "code",
   "execution_count": null,
   "id": "a1bb8143",
   "metadata": {},
   "outputs": [],
   "source": []
  }
 ],
 "metadata": {
  "kernelspec": {
   "display_name": "Python 3",
   "language": "python",
   "name": "python3"
  },
  "language_info": {
   "codemirror_mode": {
    "name": "ipython",
    "version": 3
   },
   "file_extension": ".py",
   "mimetype": "text/x-python",
   "name": "python",
   "nbconvert_exporter": "python",
   "pygments_lexer": "ipython3",
   "version": "3.8.8"
  }
 },
 "nbformat": 4,
 "nbformat_minor": 5
}
