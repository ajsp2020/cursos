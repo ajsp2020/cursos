{
 "metadata": {
  "language_info": {
   "codemirror_mode": {
    "name": "ipython",
    "version": 3
   },
   "file_extension": ".py",
   "mimetype": "text/x-python",
   "name": "python",
   "nbconvert_exporter": "python",
   "pygments_lexer": "ipython3",
   "version": "3.9.5"
  },
  "orig_nbformat": 2,
  "kernelspec": {
   "name": "python395jvsc74a57bd0ba9badd6fe3e8ca5cff0835dde77e47b2605c410e16655f71b6694d1bd8da611",
   "display_name": "Python 3.9.5 64-bit (windows store)"
  },
  "metadata": {
   "interpreter": {
    "hash": "ba9badd6fe3e8ca5cff0835dde77e47b2605c410e16655f71b6694d1bd8da611"
   }
  }
 },
 "nbformat": 4,
 "nbformat_minor": 2,
 "cells": [
  {
   "source": [
    "# Definindo Funções"
   ],
   "cell_type": "markdown",
   "metadata": {}
  },
  {
   "source": [
    "### - Funções são pequenas partes de código que realizam tarefas específicas;\n",
    "### - Pode ou não receber entrada de dados e retornar ums saída de dados;\n",
    "### - Muito uteis para executar procedimentos similares por repetidas vezes;\n",
    "\n",
    "### OBS: Procure realizar sempre funções simples\n",
    "\n"
   ],
   "cell_type": "markdown",
   "metadata": {}
  },
  {
   "source": [
    "## Exemplo de utilização de funções:"
   ],
   "cell_type": "markdown",
   "metadata": {}
  },
  {
   "cell_type": "code",
   "execution_count": null,
   "metadata": {},
   "outputs": [],
   "source": [
    "cores = ['verde', 'amarelo', 'azul', 'branco']"
   ]
  },
  {
   "source": [
    "### Utilizando uma funçõa integrada (Built-in)  do python print()"
   ],
   "cell_type": "markdown",
   "metadata": {}
  },
  {
   "cell_type": "code",
   "execution_count": null,
   "metadata": {},
   "outputs": [],
   "source": [
    "print(cores)"
   ]
  },
  {
   "cell_type": "code",
   "execution_count": null,
   "metadata": {},
   "outputs": [],
   "source": [
    "cores.append('roxo')"
   ]
  },
  {
   "cell_type": "code",
   "execution_count": null,
   "metadata": {},
   "outputs": [],
   "source": [
    "cores"
   ]
  },
  {
   "source": [
    "## Como definir funções:"
   ],
   "cell_type": "markdown",
   "metadata": {}
  },
  {
   "source": [
    "### def nome_da_funcao(parametros_de_entrada):\n",
    "###     bloco_da_funcao\n",
    "\n",
    "### Onde:\n",
    "### nome_da_funcao -> SEMPRE, com letras minúsculas, e se for nome composto, separados por underline (Snake Case)\n",
    "### parametros_de_entrada -> Opcionais, onte tendo mais de um , cada um separado por vírgula, pode ser opcionais ou noao;\n",
    "### bloco_da_funcao -> Também chamado de corpo da função ou implementção, é onde o processsamento da função acontece.\n",
    "### Neste bloco, pode ter ou não retorno\n",
    "\n",
    "### OBS: Beja que para defininir uma função, uitilizamos a palavra reservada 'def' informando ao python que estamos definindo uma função. Também abrimos o bloco de ódigo com o já conhecido dois pontos : queé utilizado e,Python para definir blocos."
   ],
   "cell_type": "markdown",
   "metadata": {}
  },
  {
   "source": [
    "## Definndo a primeira funçao>"
   ],
   "cell_type": "markdown",
   "metadata": {}
  },
  {
   "cell_type": "code",
   "execution_count": 13,
   "metadata": {},
   "outputs": [],
   "source": [
    "def diz_oi():\n",
    "    print('oi!')"
   ]
  },
  {
   "source": [
    "### OBS: Veja que dentro das nossas funções podemos utlizar outras funções;\n",
    "### Veja que nossa funcao só executa uma tarefa;\n",
    "### Veja que essa funcao não recebe nenhum parâmetro de entrada;\n",
    "### Veja que essa função retorna nada"
   ],
   "cell_type": "markdown",
   "metadata": {}
  },
  {
   "source": [
    "## Utilzando funções:"
   ],
   "cell_type": "markdown",
   "metadata": {}
  },
  {
   "source": [
    "### Chamada de execução:"
   ],
   "cell_type": "markdown",
   "metadata": {}
  },
  {
   "cell_type": "code",
   "execution_count": 17,
   "metadata": {},
   "outputs": [
    {
     "output_type": "stream",
     "name": "stdout",
     "text": [
      "oi!\n"
     ]
    }
   ],
   "source": [
    "diz_oi()"
   ]
  },
  {
   "cell_type": "code",
   "execution_count": 18,
   "metadata": {},
   "outputs": [],
   "source": [
    "### ATENÇÂO: nunca esqueça de utilizar o parênteses ao executar uma função:"
   ]
  },
  {
   "cell_type": "code",
   "execution_count": 19,
   "metadata": {},
   "outputs": [],
   "source": [
    "# Exemplo 2:"
   ]
  },
  {
   "cell_type": "code",
   "execution_count": 20,
   "metadata": {},
   "outputs": [],
   "source": [
    "def candar_parabens():\n",
    "    print('Parabens...')\n",
    "    print('Parabens...')\n",
    "    print('Parabens...')\n",
    "    print('Parabens...')\n",
    "    print('Parabens...')"
   ]
  },
  {
   "cell_type": "code",
   "execution_count": 21,
   "metadata": {},
   "outputs": [
    {
     "output_type": "stream",
     "name": "stdout",
     "text": [
      "Parabens...\nParabens...\nParabens...\nParabens...\nParabens...\n"
     ]
    }
   ],
   "source": [
    "candar_parabens()"
   ]
  },
  {
   "cell_type": "code",
   "execution_count": 22,
   "metadata": {},
   "outputs": [],
   "source": [
    "### Em Python, podemos inclusive criar variáveisdo tipo de uma função e executar esta fução através da variável"
   ]
  },
  {
   "cell_type": "code",
   "execution_count": 24,
   "metadata": {},
   "outputs": [
    {
     "output_type": "stream",
     "name": "stdout",
     "text": [
      "Parabens...\nParabens...\nParabens...\nParabens...\nParabens...\n"
     ]
    }
   ],
   "source": [
    "canta = candar_parabens\n",
    "canta()"
   ]
  },
  {
   "cell_type": "code",
   "execution_count": null,
   "metadata": {},
   "outputs": [],
   "source": []
  }
 ]
}