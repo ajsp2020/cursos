{
 "metadata": {
  "language_info": {
   "codemirror_mode": {
    "name": "ipython",
    "version": 3
   },
   "file_extension": ".py",
   "mimetype": "text/x-python",
   "name": "python",
   "nbconvert_exporter": "python",
   "pygments_lexer": "ipython3",
   "version": "3.8.5-final"
  },
  "orig_nbformat": 2,
  "kernelspec": {
   "name": "python385jvsc74a57bd07b4b4feff2f24a0f0a34464dbe537a36fda679851528fb8735cb41fa49dffb2d",
   "display_name": "Python 3.8.5 64-bit (conda)"
  }
 },
 "nbformat": 4,
 "nbformat_minor": 2,
 "cells": [
  {
   "source": [
    "# Tipo none"
   ],
   "cell_type": "markdown",
   "metadata": {}
  },
  {
   "source": [
    "### O tipo de dado None em Python representa o tipo sem tipo, ou poderia ser conhecido também \n",
    "### como o tipo vazio, porém, falar que é um tipo sem tipo é mais apropriado.\n",
    "\n",
    "### - Podemos utilizar None quando queremos criar uma variável e inicializá-la com um tipo sem tipo, \n",
    "### antes de recebermos um valor final\n",
    "\n",
    "### OBS: O tipo None em Python é sempre considedado com False"
   ],
   "cell_type": "markdown",
   "metadata": {}
  },
  {
   "cell_type": "code",
   "execution_count": null,
   "metadata": {},
   "outputs": [],
   "source": [
    "\n"
   ]
  }
 ]
}