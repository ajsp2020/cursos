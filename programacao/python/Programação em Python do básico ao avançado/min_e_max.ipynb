{
 "cells": [
  {
   "cell_type": "markdown",
   "metadata": {},
   "source": [
    "# Min e Max\r\n",
    "\r\n",
    "### max() -> Retorna o maior valor em um iterável ou o maior de dois ou mais elementos\r\n",
    "### min() -> Retorna o menor valor em um iterável ou o menor de dois ou mais elementos"
   ]
  },
  {
   "cell_type": "code",
   "execution_count": 18,
   "metadata": {},
   "outputs": [],
   "source": [
    "numeros = 1, 8, 4, 99, 34, 129\r\n",
    "lista = [ 1, 8, 4, 99, 34, 129]\r\n",
    "tupla = ( 1, 8, 4, 99, 34, 129)\r\n",
    "conjunto = { 1, 8, 4, 99, 34, 129}\r\n",
    "letras = 'abcdef'\r\n",
    "dicionario = {}\r\n",
    "for i in range(len(letras)):\r\n",
    "    dicionario[letras[i]] = numeros[i]"
   ]
  },
  {
   "cell_type": "code",
   "execution_count": 19,
   "metadata": {},
   "outputs": [
    {
     "name": "stdout",
     "output_type": "stream",
     "text": [
      "129\n",
      "129\n",
      "129\n",
      "f\n",
      "129\n"
     ]
    }
   ],
   "source": [
    "print(max(lista))\r\n",
    "print(max(tupla))\r\n",
    "print(max(conjunto))\r\n",
    "print(max(dicionario))\r\n",
    "print(max(dicionario.values()))\r\n"
   ]
  },
  {
   "cell_type": "code",
   "execution_count": 21,
   "metadata": {},
   "outputs": [],
   "source": [
    "# Faça um programa que receba dois valores do usuário e mostre o maior\r\n",
    "val1 = int(input('Informe o valor 1'))\r\n",
    "val2 = int(input('Informe o segundo valor'))\r\n",
    "print(max(val1, val2))"
   ]
  },
  {
   "cell_type": "code",
   "execution_count": 23,
   "metadata": {},
   "outputs": [
    {
     "name": "stdout",
     "output_type": "stream",
     "text": [
      "t\n"
     ]
    }
   ],
   "source": [
    "print(max('Antonio joao'))"
   ]
  },
  {
   "cell_type": "code",
   "execution_count": 24,
   "metadata": {},
   "outputs": [
    {
     "name": "stdout",
     "output_type": "stream",
     "text": [
      "1\n",
      "1\n",
      "1\n",
      "a\n",
      "1\n"
     ]
    }
   ],
   "source": [
    "print(min(lista))\r\n",
    "print(min(tupla))\r\n",
    "print(min(conjunto))\r\n",
    "print(min(dicionario))\r\n",
    "print(min(dicionario.values()))\r\n"
   ]
  },
  {
   "cell_type": "code",
   "execution_count": 25,
   "metadata": {},
   "outputs": [
    {
     "name": "stdout",
     "output_type": "stream",
     "text": [
      "Tim\n",
      "Arya\n"
     ]
    }
   ],
   "source": [
    "nomes = ['Arya', 'Sansa', 'Dora', 'Tim', 'Ollivander']\r\n",
    "print(max(nomes))\r\n",
    "print(min(nomes))\r\n"
   ]
  },
  {
   "cell_type": "code",
   "execution_count": 26,
   "metadata": {},
   "outputs": [
    {
     "name": "stdout",
     "output_type": "stream",
     "text": [
      "Ollivander\n",
      "Tim\n"
     ]
    }
   ],
   "source": [
    "print(max(nomes, key=lambda nome: len(nome)))\r\n",
    "print(min(nomes, key=lambda nome: len(nome)))\r\n"
   ]
  },
  {
   "cell_type": "code",
   "execution_count": 31,
   "metadata": {},
   "outputs": [],
   "source": [
    "musicas = [\r\n",
    "    {\"titulo\": \"Thunderstruck\", \"tocou\": 3},\r\n",
    "    {\"titulo\": \"Dead Skin Mask\", \"tocou\": 2},\r\n",
    "    {\"titulo\": \"Back in Black\", \"tocou\": 4},\r\n",
    "    {\"titulo\": \"Too old to rock in roll, too young to die\", \"tocou\": 32}\r\n",
    "\r\n",
    "]"
   ]
  },
  {
   "cell_type": "code",
   "execution_count": 32,
   "metadata": {},
   "outputs": [
    {
     "name": "stdout",
     "output_type": "stream",
     "text": [
      "{'titulo': 'Too old to rock in roll, too young to die', 'tocou': 32}\n",
      "{'titulo': 'Dead Skin Mask', 'tocou': 2}\n"
     ]
    }
   ],
   "source": [
    "print(max(musicas, key=lambda musica: musica['tocou']))\r\n",
    "print(min(musicas, key=lambda musica: musica['tocou']))\r\n"
   ]
  },
  {
   "cell_type": "code",
   "execution_count": 33,
   "metadata": {},
   "outputs": [
    {
     "name": "stdout",
     "output_type": "stream",
     "text": [
      "Too old to rock in roll, too young to die\n",
      "Dead Skin Mask\n"
     ]
    }
   ],
   "source": [
    "# DESAFIO! Imprimindo somente o título da muica\r\n",
    "\r\n",
    "print(max(musicas, key=lambda musica: musica['tocou'])['titulo'])\r\n",
    "print(min(musicas, key=lambda musica: musica['tocou'])['titulo'])\r\n"
   ]
  },
  {
   "cell_type": "code",
   "execution_count": 34,
   "metadata": {},
   "outputs": [
    {
     "name": "stdout",
     "output_type": "stream",
     "text": [
      "Too old to rock in roll, too young to die\n"
     ]
    }
   ],
   "source": [
    "max = 0\r\n",
    "for musica in musicas:\r\n",
    "    if musica['tocou'] > max:\r\n",
    "        max = musica['tocou']\r\n",
    "\r\n",
    "for musica in musicas:\r\n",
    "    if musica['tocou'] == max:\r\n",
    "        print(musica['titulo'])"
   ]
  },
  {
   "cell_type": "code",
   "execution_count": null,
   "metadata": {},
   "outputs": [],
   "source": []
  }
 ],
 "metadata": {
  "interpreter": {
   "hash": "7b4b4feff2f24a0f0a34464dbe537a36fda679851528fb8735cb41fa49dffb2d"
  },
  "kernelspec": {
   "display_name": "Python 3.8.8 64-bit ('base': conda)",
   "name": "python3"
  },
  "language_info": {
   "codemirror_mode": {
    "name": "ipython",
    "version": 3
   },
   "file_extension": ".py",
   "mimetype": "text/x-python",
   "name": "python",
   "nbconvert_exporter": "python",
   "pygments_lexer": "ipython3",
   "version": "3.8.8"
  },
  "orig_nbformat": 4
 },
 "nbformat": 4,
 "nbformat_minor": 2
}