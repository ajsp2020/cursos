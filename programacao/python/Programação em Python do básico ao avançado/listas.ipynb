{
 "metadata": {
  "language_info": {
   "codemirror_mode": {
    "name": "ipython",
    "version": 3
   },
   "file_extension": ".py",
   "mimetype": "text/x-python",
   "name": "python",
   "nbconvert_exporter": "python",
   "pygments_lexer": "ipython3",
   "version": "3.9.4"
  },
  "orig_nbformat": 2,
  "kernelspec": {
   "name": "python394jvsc74a57bd0ba9badd6fe3e8ca5cff0835dde77e47b2605c410e16655f71b6694d1bd8da611",
   "display_name": "Python 3.9.4 64-bit (windows store)"
  },
  "metadata": {
   "interpreter": {
    "hash": "ba9badd6fe3e8ca5cff0835dde77e47b2605c410e16655f71b6694d1bd8da611"
   }
  }
 },
 "nbformat": 4,
 "nbformat_minor": 2,
 "cells": [
  {
   "source": [
    "# Listas\n",
    "\n",
    "Listas em Python funciona com vetores/matrizes (arrays) em outras linguagem, com a diferença de serem DINÂMICO\n",
    "e também de podermos colocar QUALQUER tipo de dados\n",
    "\n",
    "Linguagens C/Java: Arrays\n",
    "    - Possuem tamanho e tipo de dado fixo;\n",
    "    Ou seja, nestas linguagens se você criar um array do tipo int e com tamanho 5m estes arrau será SEMPRE\n",
    "    do tipo inteiro e poderá ter SEMPRE no máximo 5 valores\n",
    "\n",
    "Já em Python:\n",
    "    - Dinâmico: Não possui tamanho fixo; Ou seja, podemos criar a lista e simplesmente ir adicionando elementos;\n",
    "    - Qualquer tipo de dado: Não possuem tipo de dado fixo; Ou seja, podemos colocar qualquer tipo de dados;\n",
    "    - As listas em Python são representadas pod colchetes: []"
   ],
   "cell_type": "markdown",
   "metadata": {}
  },
  {
   "cell_type": "code",
   "execution_count": 2,
   "metadata": {},
   "outputs": [],
   "source": [
    "type([])\n",
    "\n",
    "lista1 = [1, 99, 4, 27, 15, 22, 3, 1, 44 ,42, 27]\n",
    "\n",
    "lista2 = ['A', 'n', 't', 'o', 'n', 'i', 'o']\n",
    "\n",
    "lista3 = []\n",
    "\n",
    "lista4 = list(range(11))\n",
    "\n",
    "lista5 = list('Antonio João')\n",
    "\n",
    "lista6 = ['Programação', 'em', 'Python', 'Essencial']\n"
   ]
  },
  {
   "source": [
    "## Checando se valor está na lista:"
   ],
   "cell_type": "markdown",
   "metadata": {}
  },
  {
   "cell_type": "code",
   "execution_count": 3,
   "metadata": {},
   "outputs": [
    {
     "output_type": "stream",
     "name": "stdout",
     "text": [
      "Encontrei o numero 8\n"
     ]
    }
   ],
   "source": [
    "num = 8\n",
    "if num in lista4:\n",
    "    print(f\"Encontrei o numero {num}\")\n",
    "\n",
    "else:\n",
    "    print(f\"Não econtrei o numero {num}\")"
   ]
  },
  {
   "cell_type": "code",
   "execution_count": 4,
   "metadata": {},
   "outputs": [
    {
     "output_type": "stream",
     "name": "stdout",
     "text": [
      "Encontrei a letra o\n"
     ]
    }
   ],
   "source": [
    "letra = 'o'\n",
    "\n",
    "if letra in lista5:\n",
    "    print(f\"Encontrei a letra {letra}\")\n",
    "\n",
    "else:\n",
    "    print(f\"Não econtrei a letra {letra}\")"
   ]
  },
  {
   "source": [
    "## Ordenando uma lista:"
   ],
   "cell_type": "markdown",
   "metadata": {}
  },
  {
   "cell_type": "code",
   "execution_count": 5,
   "metadata": {},
   "outputs": [
    {
     "output_type": "stream",
     "name": "stdout",
     "text": [
      "[1, 1, 3, 4, 15, 22, 27, 27, 42, 44, 99]\n[' ', 'A', 'J', 'i', 'n', 'n', 'o', 'o', 'o', 'o', 't', 'ã']\n"
     ]
    }
   ],
   "source": [
    "lista1.sort()\n",
    "print(lista1)\n",
    "\n",
    "lista5.sort()\n",
    "print(lista5)"
   ]
  },
  {
   "source": [
    "## Contando o numero de ocorrencia de um valor:"
   ],
   "cell_type": "markdown",
   "metadata": {}
  },
  {
   "cell_type": "code",
   "execution_count": 6,
   "metadata": {},
   "outputs": [
    {
     "output_type": "stream",
     "name": "stdout",
     "text": [
      "2\n4\n"
     ]
    }
   ],
   "source": [
    "print(lista1.count(1))\n",
    "print(lista5.count('o'))\n"
   ]
  },
  {
   "source": [
    "## Adicinar elemento em listas:\n",
    "### Para adicionar elementos em lista utilizamos a função append\n",
    "\n",
    "### OBS; Com append, só se consegue adicionar um elemento por vez"
   ],
   "cell_type": "markdown",
   "metadata": {}
  },
  {
   "cell_type": "code",
   "execution_count": 8,
   "metadata": {},
   "outputs": [
    {
     "output_type": "stream",
     "name": "stdout",
     "text": [
      "[1, 1, 3, 4, 15, 22, 27, 27, 42, 44, 99]\n[1, 1, 3, 4, 15, 22, 27, 27, 42, 44, 99, 42]\n"
     ]
    }
   ],
   "source": [
    "print(lista1)\n",
    "lista1.append(42)\n",
    "print(lista1)"
   ]
  },
  {
   "cell_type": "code",
   "execution_count": 9,
   "metadata": {},
   "outputs": [
    {
     "output_type": "stream",
     "name": "stdout",
     "text": [
      "[1, 1, 3, 4, 15, 22, 27, 27, 42, 44, 99, 42, [8, 3, 1]]\nEcncontrei a lista\n"
     ]
    }
   ],
   "source": [
    "lista1.append([8, 3, 1]) # Coloca a lista como elemento único\n",
    "print(lista1)\n",
    "\n",
    "if [8, 3, 1] in lista1:\n",
    "    print(\"Ecncontrei a lista\")\n",
    "else:\n",
    "    print(\"Não encontrei a lista\")\n"
   ]
  },
  {
   "cell_type": "code",
   "execution_count": 10,
   "metadata": {},
   "outputs": [
    {
     "output_type": "stream",
     "name": "stdout",
     "text": [
      "[1, 1, 3, 4, 15, 22, 27, 27, 42, 44, 99, 42, [8, 3, 1], 123, 44, 67]\n"
     ]
    }
   ],
   "source": [
    "lista1.extend([123, 44, 67]) # Coloca cada elemento da lista como elemento adicional á lista (não aceita valor único)\n",
    "print(lista1)"
   ]
  },
  {
   "source": [
    "## Podemos inserir o novo elemento na lista informando a posição do índice\n",
    "### OBS: Isso não substitui o valor inicial. O mesmo será deslocado para a direita"
   ],
   "cell_type": "markdown",
   "metadata": {}
  },
  {
   "cell_type": "code",
   "execution_count": 12,
   "metadata": {},
   "outputs": [
    {
     "output_type": "stream",
     "name": "stdout",
     "text": [
      "[1, 1, 'Novo Valor', 3, 4, 15, 22, 27, 27, 42, 44, 99, 42, [8, 3, 1], 123, 44, 67]\n"
     ]
    }
   ],
   "source": [
    "lista1.insert(2, 'Novo Valor')\n",
    "print(lista1)\n",
    "\n"
   ]
  },
  {
   "cell_type": "code",
   "execution_count": 13,
   "metadata": {},
   "outputs": [],
   "source": [
    "type([])\n",
    "\n",
    "lista1 = [1, 99, 4, 27, 15, 22, 3, 1, 44 ,42, 27]\n",
    "\n",
    "lista2 = ['A', 'n', 't', 'o', 'n', 'i', 'o']\n",
    "\n",
    "lista3 = []\n",
    "\n",
    "lista4 = list(range(11))\n",
    "\n",
    "lista5 = list('Antonio João')\n",
    "\n",
    "lista6 = ['Programação', 'em', 'Python', 'Essencial']\n"
   ]
  },
  {
   "source": [
    "## Podemos facilmente juntar duas listas"
   ],
   "cell_type": "markdown",
   "metadata": {}
  },
  {
   "cell_type": "code",
   "execution_count": 15,
   "metadata": {},
   "outputs": [
    {
     "output_type": "stream",
     "name": "stdout",
     "text": [
      "[1, 99, 4, 27, 15, 22, 3, 1, 44, 42, 27, 'A', 'n', 't', 'o', 'n', 'i', 'o']\n[1, 99, 4, 27, 15, 22, 3, 1, 44, 42, 27, 'A', 'n', 't', 'o', 'n', 'i', 'o']\n"
     ]
    }
   ],
   "source": [
    "lista6 = lista1 + lista2\n",
    "lista1.extend(lista2)\n",
    "print(lista6)\n",
    "print(lista1)\n"
   ]
  },
  {
   "source": [
    "## Podemos facilmente reverter uma lista"
   ],
   "cell_type": "markdown",
   "metadata": {}
  },
  {
   "source": [
    "### Forma1"
   ],
   "cell_type": "markdown",
   "metadata": {}
  },
  {
   "cell_type": "code",
   "execution_count": 16,
   "metadata": {},
   "outputs": [
    {
     "output_type": "stream",
     "name": "stdout",
     "text": [
      "['o', 'i', 'n', 'o', 't', 'n', 'A', 27, 42, 44, 1, 3, 22, 15, 27, 4, 99, 1]\n['o', 'i', 'n', 'o', 't', 'n', 'A']\n"
     ]
    }
   ],
   "source": [
    "lista1.reverse()\n",
    "lista2.reverse()\n",
    "print(lista1)\n",
    "print(lista2)"
   ]
  },
  {
   "source": [
    "### Forma2"
   ],
   "cell_type": "markdown",
   "metadata": {}
  },
  {
   "cell_type": "code",
   "execution_count": 18,
   "metadata": {},
   "outputs": [
    {
     "output_type": "stream",
     "name": "stdout",
     "text": [
      "[10, 9, 8, 7, 6, 5, 4, 3, 2, 1, 0]\n"
     ]
    }
   ],
   "source": [
    "print(lista4[::-1])"
   ]
  },
  {
   "cell_type": "code",
   "execution_count": 19,
   "metadata": {},
   "outputs": [],
   "source": [
    "type([])\n",
    "\n",
    "lista1 = [1, 99, 4, 27, 15, 22, 3, 1, 44 ,42, 27]\n",
    "\n",
    "lista2 = ['A', 'n', 't', 'o', 'n', 'i', 'o']\n",
    "\n",
    "lista3 = []\n",
    "\n",
    "lista4 = list(range(11))\n",
    "\n",
    "lista5 = list('Antonio João')\n",
    "\n",
    "lista6 = ['Programação', 'em', 'Python', 'Essencial']"
   ]
  },
  {
   "source": [
    "## Copiar uma lista\n"
   ],
   "cell_type": "markdown",
   "metadata": {}
  },
  {
   "cell_type": "code",
   "execution_count": 21,
   "metadata": {},
   "outputs": [
    {
     "output_type": "stream",
     "name": "stdout",
     "text": [
      "['A', 'n', 't', 'o', 'n', 'i', 'o']\n"
     ]
    }
   ],
   "source": [
    "lista6 = lista2.copy()\n",
    "print(lista6)\n"
   ]
  },
  {
   "source": [
    "## Podemos contar quantos elementos existem dentro da lista\n"
   ],
   "cell_type": "markdown",
   "metadata": {}
  },
  {
   "cell_type": "code",
   "execution_count": 22,
   "metadata": {},
   "outputs": [
    {
     "output_type": "stream",
     "name": "stdout",
     "text": [
      "11\n"
     ]
    }
   ],
   "source": [
    "print(len(lista1))"
   ]
  },
  {
   "source": [
    "## PODEMOS REMOVER FACILMENTE O ÚLTIMO ELEMENTO DE UMA LISTA:\n",
    "### OBS: O pop não somente remove o último elemento mas também o retorna"
   ],
   "cell_type": "markdown",
   "metadata": {}
  },
  {
   "cell_type": "code",
   "execution_count": 23,
   "metadata": {},
   "outputs": [
    {
     "output_type": "stream",
     "name": "stdout",
     "text": [
      "['A', 'n', 't', 'o', 'n', 'i', 'o', ' ', 'J', 'o', 'ã', 'o']\n['A', 'n', 't', 'o', 'n', 'i', 'o', ' ', 'J', 'o', 'ã']\n"
     ]
    }
   ],
   "source": [
    "print(lista5)\n",
    "lista5.pop()\n",
    "print(lista5)\n"
   ]
  },
  {
   "source": [
    "## Podemos remover um elemento pelo índice:"
   ],
   "cell_type": "markdown",
   "metadata": {}
  },
  {
   "source": [
    "### OBS: Os elementos a direita deste índice serão deslocados para a esquerda.\n",
    "### OBS: Se não houver elemento no índice informado, terermos o erro IndexError."
   ],
   "cell_type": "markdown",
   "metadata": {}
  },
  {
   "cell_type": "code",
   "execution_count": 24,
   "metadata": {},
   "outputs": [
    {
     "output_type": "stream",
     "name": "stdout",
     "text": [
      "['A', 'n', 'o', 'n', 'i', 'o', ' ', 'J', 'o', 'ã']\n"
     ]
    }
   ],
   "source": [
    "lista5.pop(2)\n",
    "print(lista5)\n",
    "\n"
   ]
  },
  {
   "source": [
    "## Podemos remover todos os elementos (zerar a lista)"
   ],
   "cell_type": "markdown",
   "metadata": {}
  },
  {
   "cell_type": "code",
   "execution_count": 25,
   "metadata": {},
   "outputs": [
    {
     "output_type": "stream",
     "name": "stdout",
     "text": [
      "['A', 'n', 'o', 'n', 'i', 'o', ' ', 'J', 'o', 'ã']\n[]\n"
     ]
    }
   ],
   "source": [
    "print(lista5)\n",
    "lista5.clear()\n",
    "print(lista5)"
   ]
  },
  {
   "cell_type": "code",
   "execution_count": 26,
   "metadata": {},
   "outputs": [],
   "source": [
    "type([])\n",
    "\n",
    "lista1 = [1, 99, 4, 27, 15, 22, 3, 1, 44 ,42, 27]\n",
    "\n",
    "lista2 = ['A', 'n', 't', 'o', 'n', 'i', 'o']\n",
    "\n",
    "lista3 = []\n",
    "\n",
    "lista4 = list(range(11))\n",
    "\n",
    "lista5 = list('Antonio João')\n",
    "\n",
    "lista6 = ['Programação', 'em', 'Python', 'Essencial']\n"
   ]
  },
  {
   "source": [
    "## Podemos facilmente repetir elementos em uma lista"
   ],
   "cell_type": "markdown",
   "metadata": {}
  },
  {
   "cell_type": "code",
   "execution_count": 27,
   "metadata": {},
   "outputs": [
    {
     "output_type": "stream",
     "name": "stdout",
     "text": [
      "[1, 2, 3]\n[1, 2, 3, 1, 2, 3, 1, 2, 3]\n"
     ]
    }
   ],
   "source": [
    "nova = [1, 2, 3]\n",
    "print(nova)\n",
    "nova *=3\n",
    "print(nova)\n"
   ]
  },
  {
   "source": [
    "## Podemos facilmente converter ums string para uma lista"
   ],
   "cell_type": "markdown",
   "metadata": {}
  },
  {
   "source": [
    "### Exemplo 1"
   ],
   "cell_type": "markdown",
   "metadata": {}
  },
  {
   "cell_type": "code",
   "execution_count": 28,
   "metadata": {},
   "outputs": [
    {
     "output_type": "stream",
     "name": "stdout",
     "text": [
      "Programação em Python Essencial\n['Programação', 'em', 'Python', 'Essencial']\n"
     ]
    }
   ],
   "source": [
    "curso = 'Programação em Python Essencial'\n",
    "print(curso)\n",
    "curso = curso.split()\n",
    "print(curso)\n"
   ]
  },
  {
   "source": [
    "### OBS: Por padrão, o split separa os elementod da lista pelo espaço entre elas."
   ],
   "cell_type": "markdown",
   "metadata": {}
  },
  {
   "source": [
    "###  Exemplo 2"
   ],
   "cell_type": "markdown",
   "metadata": {}
  },
  {
   "cell_type": "code",
   "execution_count": 29,
   "metadata": {},
   "outputs": [
    {
     "output_type": "stream",
     "name": "stdout",
     "text": [
      "Programação,em,Python,Essencial\n['Programação', 'em', 'Python', 'Essencial']\n"
     ]
    }
   ],
   "source": [
    "curso = 'Programação,em,Python,Essencial'\n",
    "print(curso)\n",
    "curso = curso.split(',')\n",
    "print(curso)\n"
   ]
  },
  {
   "source": [
    "## Convertendo uma lista em uma string"
   ],
   "cell_type": "markdown",
   "metadata": {}
  },
  {
   "cell_type": "code",
   "execution_count": 30,
   "metadata": {},
   "outputs": [
    {
     "output_type": "stream",
     "name": "stdout",
     "text": [
      "['Programação', 'em', 'Python', 'Essencial']\nProgramação em Python Essencial\n"
     ]
    }
   ],
   "source": [
    "print(lista6)\n",
    "curso = ' '.join(lista6)\n",
    "print(curso)"
   ]
  },
  {
   "cell_type": "code",
   "execution_count": 31,
   "metadata": {},
   "outputs": [
    {
     "output_type": "stream",
     "name": "stdout",
     "text": [
      "Programação$em$Python$Essencial\n"
     ]
    }
   ],
   "source": [
    "curso = '$'.join(lista6)\n",
    "print(curso)\n"
   ]
  },
  {
   "source": [
    "## Podemos realmente colocar qualquer tipo de dado em uma lista, inclusive misturando esses dados"
   ],
   "cell_type": "markdown",
   "metadata": {}
  },
  {
   "cell_type": "code",
   "execution_count": 32,
   "metadata": {},
   "outputs": [
    {
     "output_type": "stream",
     "name": "stdout",
     "text": [
      "[1, 2.34, True, 'geek', 'd', [1, 2, 3], 45115454]\n<class 'list'>\n"
     ]
    }
   ],
   "source": [
    "lista7 = [1, 2.34, True, 'geek', 'd', [1, 2, 3], 45115454]\n",
    "print(lista7)\n",
    "print(type(lista7))"
   ]
  },
  {
   "cell_type": "code",
   "execution_count": 1,
   "metadata": {},
   "outputs": [],
   "source": [
    "type([])\n",
    "\n",
    "lista1 = [1, 99, 4, 27, 15, 22, 3, 1, 44 ,42, 27]\n",
    "\n",
    "lista2 = ['A', 'n', 't', 'o', 'n', 'i', 'o']\n",
    "\n",
    "lista3 = []\n",
    "\n",
    "lista4 = list(range(11))\n",
    "\n",
    "lista5 = list('Antonio João')\n",
    "\n",
    "lista6 = ['Programação', 'em', 'Python', 'Essencial']\n"
   ]
  },
  {
   "source": [
    "## Iterando sobre listas"
   ],
   "cell_type": "markdown",
   "metadata": {}
  },
  {
   "source": [
    "Exemplo 1 - Utilizando for:"
   ],
   "cell_type": "markdown",
   "metadata": {}
  },
  {
   "cell_type": "code",
   "execution_count": 3,
   "metadata": {},
   "outputs": [
    {
     "output_type": "stream",
     "name": "stdout",
     "text": [
      "1\n99\n4\n27\n15\n22\n3\n1\n44\n42\n27\n"
     ]
    }
   ],
   "source": [
    "for elemento in lista1:\n",
    "    print(elemento)"
   ]
  },
  {
   "cell_type": "code",
   "execution_count": 4,
   "metadata": {},
   "outputs": [
    {
     "output_type": "stream",
     "name": "stdout",
     "text": [
      "0\n1\n2\n3\n4\n5\n6\n7\n8\n9\n10\n55\n"
     ]
    }
   ],
   "source": [
    "soma = 0\n",
    "for elemento in lista4:\n",
    "    print(elemento)\n",
    "    soma = soma + elemento\n",
    "print(soma)"
   ]
  },
  {
   "cell_type": "code",
   "execution_count": 5,
   "metadata": {},
   "outputs": [
    {
     "output_type": "stream",
     "name": "stdout",
     "text": [
      "A\nn\nt\no\nn\ni\no\nAntonio\n"
     ]
    }
   ],
   "source": [
    "soma = ''\n",
    "for elemento in lista2:\n",
    "    print(elemento)\n",
    "    soma = soma + elemento\n",
    "print(soma)"
   ]
  },
  {
   "source": [
    "Exemplo 2 - Utilizando while:"
   ],
   "cell_type": "markdown",
   "metadata": {}
  },
  {
   "cell_type": "code",
   "execution_count": 6,
   "metadata": {},
   "outputs": [
    {
     "output_type": "stream",
     "name": "stdout",
     "text": [
      "Adicione um produto na lista o digite 'sair' para sair: \n",
      "Adicione um produto na lista o digite 'sair' para sair: \n",
      "Adicione um produto na lista o digite 'sair' para sair: \n",
      "Adicione um produto na lista o digite 'sair' para sair: \n",
      "Xbox X\n",
      "Mouse\n",
      "PC\n"
     ]
    }
   ],
   "source": [
    "carrinho = []\n",
    "produto = ''\n",
    "while produto != 'sair':\n",
    "    print(\"Adicione um produto na lista o digite 'sair' para sair: \")\n",
    "    produto = input()\n",
    "    if produto != 'sair':\n",
    "        carrinho.append(produto)\n",
    "\n",
    "for produto in carrinho:\n",
    "    print(produto)"
   ]
  },
  {
   "source": [
    "Utilizando vaiáveis em listas\n"
   ],
   "cell_type": "markdown",
   "metadata": {}
  },
  {
   "cell_type": "code",
   "execution_count": 8,
   "metadata": {},
   "outputs": [
    {
     "output_type": "stream",
     "name": "stdout",
     "text": [
      "[1, 2, 3, 4, 5]\n[1, 2, 3, 4, 5]\n"
     ]
    }
   ],
   "source": [
    "numeros = [1, 2, 3, 4, 5]\n",
    "print(numeros)\n",
    "num1 = 1\n",
    "num2 = 2\n",
    "num3 = 3\n",
    "num4 = 4\n",
    "num5 = 5\n",
    "\n",
    "numeros = [num1, num2, num3, num4, num5]\n",
    "print(numeros)"
   ]
  },
  {
   "source": [
    "Fazemos acesso aos elementos de forma indexada"
   ],
   "cell_type": "markdown",
   "metadata": {}
  },
  {
   "cell_type": "code",
   "execution_count": 12,
   "metadata": {},
   "outputs": [
    {
     "output_type": "stream",
     "name": "stdout",
     "text": [
      "verde\namarelo\nazul\nbranco\n"
     ]
    }
   ],
   "source": [
    "cores = ['verde', 'amarelo','azul', 'branco']\n",
    "print(cores[0])\n",
    "print(cores[1])\n",
    "print(cores[2])\n",
    "print(cores[3])\n"
   ]
  },
  {
   "source": [
    "Fazer acesso aos elementos de forma indexada inversa"
   ],
   "cell_type": "markdown",
   "metadata": {}
  },
  {
   "cell_type": "code",
   "execution_count": 13,
   "metadata": {},
   "outputs": [
    {
     "output_type": "execute_result",
     "data": {
      "text/plain": [
       "'branco'"
      ]
     },
     "metadata": {},
     "execution_count": 13
    }
   ],
   "source": [
    "cores[-1]"
   ]
  },
  {
   "cell_type": "code",
   "execution_count": 14,
   "metadata": {},
   "outputs": [
    {
     "output_type": "stream",
     "name": "stdout",
     "text": [
      "verde\namarelo\nazul\nbranco\n"
     ]
    }
   ],
   "source": [
    "for cor in cores:\n",
    "    print(cor)"
   ]
  },
  {
   "cell_type": "code",
   "execution_count": 15,
   "metadata": {},
   "outputs": [
    {
     "output_type": "stream",
     "name": "stdout",
     "text": [
      "verde\namarelo\nazul\nbranco\n"
     ]
    }
   ],
   "source": [
    "indice = 0\n",
    "while indice < len(cores):\n",
    "    print(cores[indice])\n",
    "    indice += 1"
   ]
  },
  {
   "source": [
    "Gerar indice em um for"
   ],
   "cell_type": "markdown",
   "metadata": {}
  },
  {
   "cell_type": "code",
   "execution_count": 16,
   "metadata": {},
   "outputs": [
    {
     "output_type": "stream",
     "name": "stdout",
     "text": [
      "0 verde\n1 amarelo\n2 azul\n3 branco\n"
     ]
    }
   ],
   "source": [
    "for indice, cor in enumerate(cores):\n",
    "    print(indice, cor)"
   ]
  },
  {
   "source": [
    "Outros métodos não tão importantes mas também úteis"
   ],
   "cell_type": "markdown",
   "metadata": {}
  },
  {
   "source": [
    "Encontrar o indice de um elementos na lista"
   ],
   "cell_type": "markdown",
   "metadata": {}
  },
  {
   "cell_type": "code",
   "execution_count": 19,
   "metadata": {},
   "outputs": [
    {
     "output_type": "stream",
     "name": "stdout",
     "text": [
      "1\n4\n"
     ]
    }
   ],
   "source": [
    "numeros = [5, 6, 7, 8, 9, 10]\n",
    "# Qual indice da lista esta o valor 6\n",
    "print(numeros.index(6))\n",
    "# Qual indice da lista esta o valor 9\n",
    "print(numeros.index(9))\n",
    "\n",
    "# OBS: caso não tenha este elemento na lista, será apresentado erro ValueError"
   ]
  },
  {
   "cell_type": "code",
   "execution_count": 21,
   "metadata": {},
   "outputs": [
    {
     "output_type": "stream",
     "name": "stdout",
     "text": [
      "0\n"
     ]
    }
   ],
   "source": [
    "numeros = [5, 6, 7, 5,  8, 9, 10]\n",
    "print(numeros.index(5))\n",
    "\n",
    "# Retorna o indice do primeiro elemento encontrado"
   ]
  },
  {
   "source": [
    "Podemos fazer busca dentro de um range, ou seja, qual indice começar a buscar"
   ],
   "cell_type": "markdown",
   "metadata": {}
  },
  {
   "cell_type": "code",
   "execution_count": 24,
   "metadata": {},
   "outputs": [
    {
     "output_type": "stream",
     "name": "stdout",
     "text": [
      "3\n"
     ]
    }
   ],
   "source": [
    "print(numeros.index(5, 1)) \n",
    "# Buscando a partir do indice 1\n",
    "# OBS: caso não tenha este elemento na lista, será apresentado erro ValueError"
   ]
  },
  {
   "source": [
    "Podemos fazer busca dentro de um range , inicio/fim"
   ],
   "cell_type": "markdown",
   "metadata": {}
  },
  {
   "cell_type": "code",
   "execution_count": 25,
   "metadata": {},
   "outputs": [
    {
     "output_type": "stream",
     "name": "stdout",
     "text": [
      "4\n"
     ]
    }
   ],
   "source": [
    "print(numeros.index(8, 3, 6))\n",
    "# Buscando o indice do valor 8, entre os indices 3 e 6"
   ]
  },
  {
   "source": [
    "## Revisão de slicing"
   ],
   "cell_type": "markdown",
   "metadata": {}
  },
  {
   "source": [
    "#lista[inicio:fim:passo]\n",
    "#range[inicio:fim:passo]"
   ],
   "cell_type": "code",
   "metadata": {},
   "execution_count": null,
   "outputs": []
  },
  {
   "source": [
    "Trabalhando com slice de lista com parametro ínicio"
   ],
   "cell_type": "markdown",
   "metadata": {}
  },
  {
   "cell_type": "code",
   "execution_count": 1,
   "metadata": {},
   "outputs": [],
   "source": [
    "lista = [1, 2, 3, 4]"
   ]
  },
  {
   "cell_type": "code",
   "execution_count": 2,
   "metadata": {},
   "outputs": [
    {
     "output_type": "stream",
     "name": "stdout",
     "text": [
      "[2, 3, 4]\n"
     ]
    }
   ],
   "source": [
    "print(lista[1:])"
   ]
  },
  {
   "cell_type": "code",
   "execution_count": 3,
   "metadata": {},
   "outputs": [
    {
     "output_type": "stream",
     "name": "stdout",
     "text": [
      "[1, 2, 3, 4]\n"
     ]
    }
   ],
   "source": [
    "print(lista[::])"
   ]
  },
  {
   "source": [
    "Trabalhando com lista com parametro fim"
   ],
   "cell_type": "markdown",
   "metadata": {}
  },
  {
   "cell_type": "code",
   "execution_count": 4,
   "metadata": {},
   "outputs": [
    {
     "output_type": "stream",
     "name": "stdout",
     "text": [
      "[1, 2]\n"
     ]
    }
   ],
   "source": [
    "print(lista[:2])"
   ]
  },
  {
   "cell_type": "code",
   "execution_count": 5,
   "metadata": {},
   "outputs": [
    {
     "output_type": "stream",
     "name": "stdout",
     "text": [
      "[2, 3]\n"
     ]
    }
   ],
   "source": [
    "print(lista[1:3])"
   ]
  },
  {
   "source": [
    "Trabalhando com lista com parametro passo"
   ],
   "cell_type": "markdown",
   "metadata": {}
  },
  {
   "cell_type": "code",
   "execution_count": 7,
   "metadata": {},
   "outputs": [
    {
     "output_type": "stream",
     "name": "stdout",
     "text": [
      "[2, 4]\n"
     ]
    }
   ],
   "source": [
    "print(lista[1::2])"
   ]
  },
  {
   "cell_type": "code",
   "execution_count": 8,
   "metadata": {},
   "outputs": [
    {
     "output_type": "stream",
     "name": "stdout",
     "text": [
      "[1, 3]\n"
     ]
    }
   ],
   "source": [
    "print(lista[::2])"
   ]
  },
  {
   "source": [
    "Invertendo valores em uma lista"
   ],
   "cell_type": "markdown",
   "metadata": {}
  },
  {
   "cell_type": "code",
   "execution_count": 11,
   "metadata": {},
   "outputs": [],
   "source": [
    "nomes = ['Antonio', 'João']"
   ]
  },
  {
   "cell_type": "code",
   "execution_count": 12,
   "metadata": {},
   "outputs": [],
   "source": [
    "nomes[0], nomes[1] = nomes[1], nomes[0]"
   ]
  },
  {
   "cell_type": "code",
   "execution_count": 13,
   "metadata": {},
   "outputs": [
    {
     "output_type": "stream",
     "name": "stdout",
     "text": [
      "['João', 'Antonio']\n"
     ]
    }
   ],
   "source": [
    "print(nomes)"
   ]
  },
  {
   "cell_type": "code",
   "execution_count": 14,
   "metadata": {},
   "outputs": [],
   "source": [
    "nomes = ['Antonio', 'João']\n"
   ]
  },
  {
   "cell_type": "code",
   "execution_count": 15,
   "metadata": {},
   "outputs": [],
   "source": [
    "nomes.reverse()"
   ]
  },
  {
   "cell_type": "code",
   "execution_count": 16,
   "metadata": {},
   "outputs": [
    {
     "output_type": "stream",
     "name": "stdout",
     "text": [
      "['João', 'Antonio']\n"
     ]
    }
   ],
   "source": [
    "print(nomes)"
   ]
  },
  {
   "source": [
    "Soma*, valor máximo*, Valor mínimo*, tamanho\n",
    "* se os valores forem todos inteiros ou reais"
   ],
   "cell_type": "markdown",
   "metadata": {}
  },
  {
   "cell_type": "code",
   "execution_count": 17,
   "metadata": {},
   "outputs": [],
   "source": [
    "lista = [1 , 2, 3, 4, 5, 6]"
   ]
  },
  {
   "cell_type": "code",
   "execution_count": 20,
   "metadata": {},
   "outputs": [
    {
     "output_type": "stream",
     "name": "stdout",
     "text": [
      "21\n"
     ]
    }
   ],
   "source": [
    "print(sum(lista))"
   ]
  },
  {
   "cell_type": "code",
   "execution_count": 21,
   "metadata": {},
   "outputs": [
    {
     "output_type": "stream",
     "name": "stdout",
     "text": [
      "6\n"
     ]
    }
   ],
   "source": [
    "print(max(lista))"
   ]
  },
  {
   "cell_type": "code",
   "execution_count": 22,
   "metadata": {},
   "outputs": [
    {
     "output_type": "stream",
     "name": "stdout",
     "text": [
      "1\n"
     ]
    }
   ],
   "source": [
    "print(min(lista))"
   ]
  },
  {
   "cell_type": "code",
   "execution_count": 23,
   "metadata": {},
   "outputs": [
    {
     "output_type": "stream",
     "name": "stdout",
     "text": [
      "6\n"
     ]
    }
   ],
   "source": [
    "print(len(lista))"
   ]
  },
  {
   "source": [
    "Transformar lista em tupla"
   ],
   "cell_type": "markdown",
   "metadata": {}
  },
  {
   "cell_type": "code",
   "execution_count": 25,
   "metadata": {},
   "outputs": [
    {
     "output_type": "stream",
     "name": "stdout",
     "text": [
      "[1, 2, 3, 4, 5, 6]\n"
     ]
    }
   ],
   "source": [
    "print(lista)"
   ]
  },
  {
   "cell_type": "code",
   "execution_count": 26,
   "metadata": {},
   "outputs": [
    {
     "output_type": "stream",
     "name": "stdout",
     "text": [
      "<class 'list'>\n"
     ]
    }
   ],
   "source": [
    "print(type(lista))"
   ]
  },
  {
   "cell_type": "code",
   "execution_count": 27,
   "metadata": {},
   "outputs": [],
   "source": [
    "tupla = tuple(lista)"
   ]
  },
  {
   "cell_type": "code",
   "execution_count": 28,
   "metadata": {},
   "outputs": [
    {
     "output_type": "stream",
     "name": "stdout",
     "text": [
      "(1, 2, 3, 4, 5, 6)\n"
     ]
    }
   ],
   "source": [
    "print(tupla)"
   ]
  },
  {
   "cell_type": "code",
   "execution_count": 29,
   "metadata": {},
   "outputs": [
    {
     "output_type": "stream",
     "name": "stdout",
     "text": [
      "<class 'tuple'>\n"
     ]
    }
   ],
   "source": [
    "print(type(tupla))"
   ]
  },
  {
   "source": [
    "Desempacotamento de listas"
   ],
   "cell_type": "markdown",
   "metadata": {}
  },
  {
   "cell_type": "code",
   "execution_count": 30,
   "metadata": {},
   "outputs": [],
   "source": [
    "lista = [1 ,2 ,3]"
   ]
  },
  {
   "cell_type": "code",
   "execution_count": 31,
   "metadata": {},
   "outputs": [],
   "source": [
    "num1, num2, num3 = lista"
   ]
  },
  {
   "cell_type": "code",
   "execution_count": 32,
   "metadata": {},
   "outputs": [
    {
     "output_type": "stream",
     "name": "stdout",
     "text": [
      "1\n2\n3\n"
     ]
    }
   ],
   "source": [
    "print(num1)\n",
    "print(num2)\n",
    "print(num3)"
   ]
  },
  {
   "source": [
    "OBS: Se tivermos um numero diferente elementos para desempacotar que variaveis para receber os valores terá value error"
   ],
   "cell_type": "markdown",
   "metadata": {}
  },
  {
   "source": [
    "Copiando uma lista para outro (Shallow coppy Deep Copy)"
   ],
   "cell_type": "markdown",
   "metadata": {}
  },
  {
   "cell_type": "code",
   "execution_count": 33,
   "metadata": {},
   "outputs": [
    {
     "output_type": "stream",
     "name": "stdout",
     "text": [
      "[1, 2, 3]\n"
     ]
    }
   ],
   "source": [
    "print(lista)"
   ]
  },
  {
   "source": [
    "Deep Copy"
   ],
   "cell_type": "markdown",
   "metadata": {}
  },
  {
   "cell_type": "code",
   "execution_count": 34,
   "metadata": {},
   "outputs": [
    {
     "output_type": "stream",
     "name": "stdout",
     "text": [
      "[1, 2, 3]\n"
     ]
    }
   ],
   "source": [
    "nova = lista.copy()\n",
    "print(nova)"
   ]
  },
  {
   "cell_type": "code",
   "execution_count": 35,
   "metadata": {},
   "outputs": [],
   "source": [
    "nova.append(4)"
   ]
  },
  {
   "cell_type": "code",
   "execution_count": 36,
   "metadata": {},
   "outputs": [
    {
     "output_type": "stream",
     "name": "stdout",
     "text": [
      "[1, 2, 3]\n[1, 2, 3, 4]\n"
     ]
    }
   ],
   "source": [
    "print(lista)\n",
    "print(nova)"
   ]
  },
  {
   "source": [
    "Shallow Copy"
   ],
   "cell_type": "markdown",
   "metadata": {}
  },
  {
   "cell_type": "code",
   "execution_count": 37,
   "metadata": {},
   "outputs": [
    {
     "output_type": "stream",
     "name": "stdout",
     "text": [
      "[1, 2, 3]\n"
     ]
    }
   ],
   "source": [
    "print(lista)"
   ]
  },
  {
   "cell_type": "code",
   "execution_count": 38,
   "metadata": {},
   "outputs": [],
   "source": [
    "nova = lista"
   ]
  },
  {
   "cell_type": "code",
   "execution_count": 39,
   "metadata": {},
   "outputs": [
    {
     "output_type": "stream",
     "name": "stdout",
     "text": [
      "[1, 2, 3]\n"
     ]
    }
   ],
   "source": [
    "print(nova)"
   ]
  },
  {
   "cell_type": "code",
   "execution_count": 40,
   "metadata": {},
   "outputs": [],
   "source": [
    "nova.append(4)"
   ]
  },
  {
   "cell_type": "code",
   "execution_count": 41,
   "metadata": {},
   "outputs": [
    {
     "output_type": "stream",
     "name": "stdout",
     "text": [
      "[1, 2, 3, 4]\n[1, 2, 3, 4]\n"
     ]
    }
   ],
   "source": [
    "print(lista)\n",
    "print(nova)"
   ]
  },
  {
   "cell_type": "code",
   "execution_count": null,
   "metadata": {},
   "outputs": [],
   "source": []
  }
 ]
}