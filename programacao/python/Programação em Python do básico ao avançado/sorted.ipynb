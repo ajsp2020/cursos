{
 "cells": [
  {
   "cell_type": "markdown",
   "metadata": {},
   "source": [
    "# Sorted\r\n",
    "\r\n",
    "### OBS: Não confunda, apesar do nome, com a função sort() que já estudamos em Listas. O sort() só funciona em lista\r\n",
    "###      Podemos utilizar o sorted() com qualquer interável. \r\n",
    "\r\n",
    "### sorted() serve para ordenar elememtos\r\n",
    "\r\n",
    "### OBS: O sorted, SEMPRE retorna uma lista com os elementos do iterável ordenados"
   ]
  },
  {
   "cell_type": "code",
   "execution_count": 1,
   "metadata": {},
   "outputs": [
    {
     "name": "stdout",
     "output_type": "stream",
     "text": [
      "[6, 1, 8, 2]\n",
      "[1, 2, 6, 8]\n",
      "[6, 1, 8, 2]\n"
     ]
    }
   ],
   "source": [
    "# Exemplo:\r\n",
    "numeros = [6, 1, 8, 2]\r\n",
    "print(numeros)\r\n",
    "print(sorted(numeros))\r\n",
    "print(numeros)"
   ]
  },
  {
   "cell_type": "code",
   "execution_count": 2,
   "metadata": {},
   "outputs": [
    {
     "name": "stdout",
     "output_type": "stream",
     "text": [
      "[8, 6, 2, 1]\n"
     ]
    }
   ],
   "source": [
    "# Adicionando parâmetros ao sorted()\r\n",
    "\r\n",
    "print(sorted(numeros, reverse=True))"
   ]
  },
  {
   "cell_type": "code",
   "execution_count": 3,
   "metadata": {},
   "outputs": [
    {
     "name": "stdout",
     "output_type": "stream",
     "text": [
      "(1, 2, 6, 8)\n"
     ]
    }
   ],
   "source": [
    "print(tuple(sorted(numeros)))"
   ]
  },
  {
   "cell_type": "code",
   "execution_count": 4,
   "metadata": {},
   "outputs": [
    {
     "name": "stdout",
     "output_type": "stream",
     "text": [
      "{8, 1, 2, 6}\n"
     ]
    }
   ],
   "source": [
    "print(set(sorted(numeros)))"
   ]
  },
  {
   "cell_type": "code",
   "execution_count": 5,
   "metadata": {},
   "outputs": [],
   "source": [
    "# Uilizando o sorted() para coisas mais complexas\r\n",
    "\r\n",
    "usuarios = [\r\n",
    "    {\"username\":\"samuel\", \"tweets\": [\"Eu adoro bolos\", \"Eu adoro pizzas\"]},\r\n",
    "    {\"username\":\"carla\", \"tweets\": [\"Eu amo meu gato\"]},\r\n",
    "    {\"username\":\"jeff\", \"tweets\": []},\r\n",
    "    {\"username\":\"bob123\", \"tweets\": []},\r\n",
    "    {\"username\":\"doggo\", \"tweets\": [\"Eu gosto de cachorros\", \"Vou sair hoje\"]},\r\n",
    "    {\"username\":\"gal\", \"tweets\": []}\r\n",
    "]"
   ]
  },
  {
   "cell_type": "code",
   "execution_count": 9,
   "metadata": {},
   "outputs": [
    {
     "name": "stdout",
     "output_type": "stream",
     "text": [
      "[{'username': 'samuel', 'tweets': ['Eu adoro bolos', 'Eu adoro pizzas']}, {'username': 'carla', 'tweets': ['Eu amo meu gato']}, {'username': 'jeff', 'tweets': []}, {'username': 'bob123', 'tweets': []}, {'username': 'doggo', 'tweets': ['Eu gosto de cachorros', 'Vou sair hoje']}, {'username': 'gal', 'tweets': []}]\n"
     ]
    }
   ],
   "source": [
    "print(usuarios)"
   ]
  },
  {
   "cell_type": "code",
   "execution_count": 10,
   "metadata": {},
   "outputs": [
    {
     "name": "stdout",
     "output_type": "stream",
     "text": [
      "[{'username': 'bob123', 'tweets': []}, {'username': 'carla', 'tweets': ['Eu amo meu gato']}, {'username': 'doggo', 'tweets': ['Eu gosto de cachorros', 'Vou sair hoje']}, {'username': 'gal', 'tweets': []}, {'username': 'jeff', 'tweets': []}, {'username': 'samuel', 'tweets': ['Eu adoro bolos', 'Eu adoro pizzas']}]\n"
     ]
    }
   ],
   "source": [
    "print(sorted(usuarios, key=lambda usuario: usuario[\"username\"]))"
   ]
  },
  {
   "cell_type": "code",
   "execution_count": 13,
   "metadata": {},
   "outputs": [
    {
     "name": "stdout",
     "output_type": "stream",
     "text": [
      "[{'username': 'jeff', 'tweets': []}, {'username': 'bob123', 'tweets': []}, {'username': 'gal', 'tweets': []}, {'username': 'samuel', 'tweets': ['Eu adoro bolos', 'Eu adoro pizzas']}, {'username': 'carla', 'tweets': ['Eu amo meu gato']}, {'username': 'doggo', 'tweets': ['Eu gosto de cachorros', 'Vou sair hoje']}]\n"
     ]
    }
   ],
   "source": [
    "print(sorted(usuarios, key=lambda usuario: usuario[\"tweets\"]))"
   ]
  },
  {
   "cell_type": "code",
   "execution_count": 15,
   "metadata": {},
   "outputs": [],
   "source": [
    "musicas = [\r\n",
    "    {\"titulo\": \"Thunderstruck\", \"tocou\": 3},\r\n",
    "    {\"titulo\": \"Dead Skin Mask\", \"tocou\": 2},\r\n",
    "    {\"titulo\": \"Back in Black\", \"tocou\": 4},\r\n",
    "    {\"titulo\": \"Too old to rock in roll, too young to diw\", \"tocou\": 32}\r\n",
    "\r\n",
    "]"
   ]
  },
  {
   "cell_type": "code",
   "execution_count": 16,
   "metadata": {},
   "outputs": [
    {
     "name": "stdout",
     "output_type": "stream",
     "text": [
      "[{'titulo': 'Dead Skin Mask', 'tocou': 2}, {'titulo': 'Thunderstruck', 'tocou': 3}, {'titulo': 'Back in Black', 'tocou': 4}, {'titulo': 'Too old to rock in roll, too young to diw', 'tocou': 32}]\n",
      "[{'titulo': 'Too old to rock in roll, too young to diw', 'tocou': 32}, {'titulo': 'Back in Black', 'tocou': 4}, {'titulo': 'Thunderstruck', 'tocou': 3}, {'titulo': 'Dead Skin Mask', 'tocou': 2}]\n"
     ]
    }
   ],
   "source": [
    "# Da menos tocada para a mais tocada\r\n",
    "print(sorted(musicas, key=lambda musica: musica['tocou']))\r\n",
    "\r\n",
    "# Da mais tocada para a menos tocada\r\n",
    "print(sorted(musicas, key=lambda musica: musica['tocou'], reverse=True))\r\n"
   ]
  },
  {
   "cell_type": "code",
   "execution_count": null,
   "metadata": {},
   "outputs": [],
   "source": []
  }
 ],
 "metadata": {
  "interpreter": {
   "hash": "7b4b4feff2f24a0f0a34464dbe537a36fda679851528fb8735cb41fa49dffb2d"
  },
  "kernelspec": {
   "display_name": "Python 3.8.8 64-bit ('base': conda)",
   "name": "python3"
  },
  "language_info": {
   "codemirror_mode": {
    "name": "ipython",
    "version": 3
   },
   "file_extension": ".py",
   "mimetype": "text/x-python",
   "name": "python",
   "nbconvert_exporter": "python",
   "pygments_lexer": "ipython3",
   "version": "3.8.8"
  },
  "orig_nbformat": 4
 },
 "nbformat": 4,
 "nbformat_minor": 2
}