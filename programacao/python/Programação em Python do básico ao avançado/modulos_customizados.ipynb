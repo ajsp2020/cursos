{
 "cells": [
  {
   "cell_type": "markdown",
   "source": [
    "# Módulos customizados\n",
    "\n",
    "### Módulos são aquivos\n",
    "### Pode importar funções e variáveis"
   ],
   "metadata": {}
  },
  {
   "cell_type": "code",
   "execution_count": 1,
   "source": [
    "from funcoes_com_parametros2 import multiplica\n",
    "\n",
    "print(multiplica(2, 3))"
   ],
   "outputs": [
    {
     "output_type": "stream",
     "name": "stdout",
     "text": [
      "6\n"
     ]
    }
   ],
   "metadata": {}
  },
  {
   "cell_type": "code",
   "execution_count": null,
   "source": [],
   "outputs": [],
   "metadata": {}
  }
 ],
 "metadata": {
  "orig_nbformat": 4,
  "language_info": {
   "name": "python",
   "version": "3.8.2",
   "mimetype": "text/x-python",
   "codemirror_mode": {
    "name": "ipython",
    "version": 3
   },
   "pygments_lexer": "ipython3",
   "nbconvert_exporter": "python",
   "file_extension": ".py"
  },
  "kernelspec": {
   "name": "python3",
   "display_name": "Python 3.8.2 64-bit ('Alura': conda)"
  },
  "interpreter": {
   "hash": "b712654a4e44784f513bc0735fa9d8fc6ade93e64d2807413d38cfef60ed5ddd"
  }
 },
 "nbformat": 4,
 "nbformat_minor": 2
}