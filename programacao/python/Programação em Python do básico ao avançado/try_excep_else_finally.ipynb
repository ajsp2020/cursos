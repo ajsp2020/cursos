{
 "cells": [
  {
   "cell_type": "markdown",
   "source": [
    "## Try/ Excep / Else / Finally\n",
    "\n",
    "### Dica quando e onde traar código:\n",
    "\n",
    "# TODA ENTRADA DEVE SER TRATADA"
   ],
   "metadata": {}
  },
  {
   "cell_type": "code",
   "execution_count": 8,
   "source": [
    "num = int(input('Informe um número: '))\n",
    "print(f\"Você digitou {num}\")\n"
   ],
   "outputs": [
    {
     "output_type": "error",
     "ename": "ValueError",
     "evalue": "invalid literal for int() with base 10: 'aaa'",
     "traceback": [
      "\u001b[0;31m---------------------------------------------------------------------------\u001b[0m",
      "\u001b[0;31mValueError\u001b[0m                                Traceback (most recent call last)",
      "\u001b[0;32m<ipython-input-8-3446f0193797>\u001b[0m in \u001b[0;36m<module>\u001b[0;34m\u001b[0m\n\u001b[0;32m----> 1\u001b[0;31m \u001b[0mnum\u001b[0m \u001b[0;34m=\u001b[0m \u001b[0mint\u001b[0m\u001b[0;34m(\u001b[0m\u001b[0minput\u001b[0m\u001b[0;34m(\u001b[0m\u001b[0;34m'Informe um número: '\u001b[0m\u001b[0;34m)\u001b[0m\u001b[0;34m)\u001b[0m\u001b[0;34m\u001b[0m\u001b[0;34m\u001b[0m\u001b[0m\n\u001b[0m\u001b[1;32m      2\u001b[0m \u001b[0mprint\u001b[0m\u001b[0;34m(\u001b[0m\u001b[0;34mf\"Você digitou {num}\"\u001b[0m\u001b[0;34m)\u001b[0m\u001b[0;34m\u001b[0m\u001b[0;34m\u001b[0m\u001b[0m\n",
      "\u001b[0;31mValueError\u001b[0m: invalid literal for int() with base 10: 'aaa'"
     ]
    }
   ],
   "metadata": {}
  },
  {
   "cell_type": "code",
   "execution_count": 10,
   "source": [
    "try:\n",
    "    num = int(input('Informe um número: '))\n",
    "    print(f\"Você digitou {num}\")\n",
    "except ValueError:\n",
    "    print('Valor incorreto')"
   ],
   "outputs": [
    {
     "output_type": "stream",
     "name": "stdout",
     "text": [
      "Você digitou 58\n"
     ]
    }
   ],
   "metadata": {}
  },
  {
   "cell_type": "code",
   "execution_count": 12,
   "source": [
    "# Else -> É executado somente se não ocorrer o erro.\n",
    "\n",
    "try:\n",
    "    num = int(input('Informe um número: '))\n",
    "except ValueError:\n",
    "    print('Valor incorreto')\n",
    "else:\n",
    "    print(f\"Você digitou {num}\")"
   ],
   "outputs": [
    {
     "output_type": "stream",
     "name": "stdout",
     "text": [
      "Você digitou 58\n"
     ]
    }
   ],
   "metadata": {}
  },
  {
   "cell_type": "code",
   "execution_count": 13,
   "source": [
    "# O bloco finally é sempre executado. Idenpendente se houver exceção ou não e é geralmente utilizado para fechar ou deslocar recursos \n",
    "\n",
    "try:\n",
    "    num = int(input('Informe um número: '))\n",
    "except ValueError:\n",
    "    print('Valor incorreto')\n",
    "else:\n",
    "    print(f\"Você digitou {num}\")  \n",
    "finally:\n",
    "    print('Execundo o finally')"
   ],
   "outputs": [
    {
     "output_type": "stream",
     "name": "stdout",
     "text": [
      "Você digitou 5\n",
      "Execundo o finally\n"
     ]
    }
   ],
   "metadata": {}
  },
  {
   "cell_type": "code",
   "execution_count": 23,
   "source": [
    "# Exemplo mais complexo\n",
    "\n",
    "def dividir(a, b):\n",
    "    try:\n",
    "        return int(a) / int(b)\n",
    "    except ValueError:\n",
    "        print('Valor incorreto')"
   ],
   "outputs": [],
   "metadata": {}
  },
  {
   "cell_type": "code",
   "execution_count": 25,
   "source": [
    "num1 = input('Informe o primeiro numero: ')\n",
    "num2 = input('Digite o segundo numero: ')\n",
    "dividir(num1, num2)"
   ],
   "outputs": [
    {
     "output_type": "stream",
     "name": "stdout",
     "text": [
      "Valor incorreto\n"
     ]
    }
   ],
   "metadata": {}
  },
  {
   "cell_type": "code",
   "execution_count": 26,
   "source": [
    "\n",
    "def dividir(a, b):\n",
    "    try:\n",
    "        return int(a) / int(b)\n",
    "    except:\n",
    "        print('Valor incorreto')"
   ],
   "outputs": [],
   "metadata": {}
  },
  {
   "cell_type": "code",
   "execution_count": 27,
   "source": [
    "\n",
    "def dividir(a, b):\n",
    "    try:\n",
    "        return int(a) / int(b)\n",
    "    except (ValueError, ZeroDivisionError) as err:\n",
    "        print(f'Occorreuu o problema: {err}')"
   ],
   "outputs": [],
   "metadata": {}
  },
  {
   "cell_type": "code",
   "execution_count": null,
   "source": [],
   "outputs": [],
   "metadata": {}
  }
 ],
 "metadata": {
  "orig_nbformat": 4,
  "language_info": {
   "name": "python",
   "version": "3.8.2",
   "mimetype": "text/x-python",
   "codemirror_mode": {
    "name": "ipython",
    "version": 3
   },
   "pygments_lexer": "ipython3",
   "nbconvert_exporter": "python",
   "file_extension": ".py"
  },
  "kernelspec": {
   "name": "python3",
   "display_name": "Python 3.8.2 64-bit ('Alura': conda)"
  },
  "interpreter": {
   "hash": "b712654a4e44784f513bc0735fa9d8fc6ade93e64d2807413d38cfef60ed5ddd"
  }
 },
 "nbformat": 4,
 "nbformat_minor": 2
}