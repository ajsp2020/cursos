{
 "cells": [
  {
   "cell_type": "markdown",
   "metadata": {},
   "source": [
    "# Utilizando lambdas\r\n",
    "\r\n",
    "### Conhecidas por Expressões Lambdas, ou simplismete Lambdas, são funnções sem nome, ou seja, funções anônimas\r\n"
   ]
  },
  {
   "cell_type": "code",
   "execution_count": 1,
   "metadata": {},
   "outputs": [
    {
     "name": "stdout",
     "output_type": "stream",
     "text": [
      "13\n"
     ]
    }
   ],
   "source": [
    "def funcao(x):\r\n",
    "    return 3 * x + 1\r\n",
    "\r\n",
    "print(funcao(4))"
   ]
  },
  {
   "cell_type": "markdown",
   "metadata": {},
   "source": [
    "## Expressão Lambda"
   ]
  },
  {
   "cell_type": "code",
   "execution_count": 2,
   "metadata": {},
   "outputs": [
    {
     "data": {
      "text/plain": [
       "<function __main__.<lambda>(x)>"
      ]
     },
     "execution_count": 2,
     "metadata": {},
     "output_type": "execute_result"
    }
   ],
   "source": [
    "lambda x: 3 * x + 1 \r\n",
    "\r\n"
   ]
  },
  {
   "cell_type": "markdown",
   "metadata": {},
   "source": [
    "## Utilizando a expressao lambda"
   ]
  },
  {
   "cell_type": "code",
   "execution_count": 3,
   "metadata": {},
   "outputs": [
    {
     "name": "stdout",
     "output_type": "stream",
     "text": [
      "13\n"
     ]
    }
   ],
   "source": [
    "calc = lambda x: 3 * x + 1 \r\n",
    "\r\n",
    "print(calc(4))"
   ]
  },
  {
   "cell_type": "markdown",
   "metadata": {},
   "source": [
    "# Expressôes lambdas com múltiplas entradas"
   ]
  },
  {
   "cell_type": "code",
   "execution_count": 5,
   "metadata": {},
   "outputs": [
    {
     "name": "stdout",
     "output_type": "stream",
     "text": [
      "Angelina Jolie\n",
      "Felicity Jones\n"
     ]
    }
   ],
   "source": [
    "nome_completo = lambda nome, sobrenome: nome.strip().title() + ' ' + sobrenome.strip().title()\r\n",
    "\r\n",
    "print(nome_completo(' angelina', 'JOLIE'))\r\n",
    "print(nome_completo('   FELICITY', ' jones '))"
   ]
  },
  {
   "cell_type": "markdown",
   "metadata": {},
   "source": []
  },
  {
   "cell_type": "code",
   "execution_count": 7,
   "metadata": {},
   "outputs": [],
   "source": [
    "zero = lambda: 'Como não amar python'\r\n",
    "\r\n",
    "uma = lambda x: 3 * x + 1\r\n",
    "\r\n",
    "duas = lambda x, y: (x * y) ** 5\r\n",
    "\r\n",
    "tres = lambda x, y, z: 3 / (1/x + 1/y + 1/z)"
   ]
  },
  {
   "cell_type": "code",
   "execution_count": 10,
   "metadata": {},
   "outputs": [
    {
     "name": "stdout",
     "output_type": "stream",
     "text": [
      "Como não amar python\n",
      "19\n",
      "52521875\n",
      "4.909090909090908\n"
     ]
    }
   ],
   "source": [
    "print(zero())\r\n",
    "print(uma(6))\r\n",
    "print(duas(5, 7))\r\n",
    "print(tres(3, 6, 9))"
   ]
  },
  {
   "cell_type": "markdown",
   "metadata": {},
   "source": [
    "### OBS: Se passarmos mais argumentos do que parâmetros esperados teremos TypeError"
   ]
  },
  {
   "cell_type": "code",
   "execution_count": 11,
   "metadata": {},
   "outputs": [
    {
     "name": "stdout",
     "output_type": "stream",
     "text": [
      "['Isaac Asimov', 'Ray Bradbury', 'Robert Heinlein', 'Arthur C. Clarje', 'Frank Hebert', 'Orsonnn Scott Card', 'Douglas Adams', 'H. G. Wells', 'Leigh Brackett']\n"
     ]
    }
   ],
   "source": [
    "autores = ['Isaac Asimov', 'Ray Bradbury', 'Robert Heinlein', 'Arthur C. Clarje', 'Frank Hebert', 'Orsonnn Scott Card', 'Douglas Adams', 'H. G. Wells', 'Leigh Brackett']\r\n",
    "\r\n",
    "print(autores)"
   ]
  },
  {
   "cell_type": "code",
   "execution_count": 12,
   "metadata": {},
   "outputs": [
    {
     "name": "stdout",
     "output_type": "stream",
     "text": [
      "['Douglas Adams', 'Isaac Asimov', 'Leigh Brackett', 'Ray Bradbury', 'Orsonnn Scott Card', 'Arthur C. Clarje', 'Frank Hebert', 'Robert Heinlein', 'H. G. Wells']\n"
     ]
    }
   ],
   "source": [
    "autores.sort(key=lambda sobrenome: sobrenome.split(' ')[-1].lower())\r\n",
    "\r\n",
    "print(autores)"
   ]
  },
  {
   "cell_type": "markdown",
   "metadata": {},
   "source": [
    "Função Quadratica:\r\n",
    "f(x) = a * x ** 2 + b * x + c"
   ]
  },
  {
   "cell_type": "code",
   "execution_count": 14,
   "metadata": {},
   "outputs": [
    {
     "name": "stdout",
     "output_type": "stream",
     "text": [
      "-5\n",
      "0\n",
      "9\n",
      "13\n"
     ]
    }
   ],
   "source": [
    "def geradora_funcao_quadratica(a, b, c):\r\n",
    "    return lambda x: a * x ** 2 + b * x + c\r\n",
    "\r\n",
    "teste = geradora_funcao_quadratica(2, 3, -5)\r\n",
    "\r\n",
    "print(teste(0))\r\n",
    "print(teste(1))\r\n",
    "print(teste(2))\r\n",
    "\r\n",
    "print(geradora_funcao_quadratica(3, 0, 1)(2))"
   ]
  },
  {
   "cell_type": "code",
   "execution_count": null,
   "metadata": {},
   "outputs": [],
   "source": []
  }
 ],
 "metadata": {
  "interpreter": {
   "hash": "7b4b4feff2f24a0f0a34464dbe537a36fda679851528fb8735cb41fa49dffb2d"
  },
  "kernelspec": {
   "display_name": "Python 3.8.5 64-bit ('base': conda)",
   "name": "python3"
  },
  "language_info": {
   "codemirror_mode": {
    "name": "ipython",
    "version": 3
   },
   "file_extension": ".py",
   "mimetype": "text/x-python",
   "name": "python",
   "nbconvert_exporter": "python",
   "pygments_lexer": "ipython3",
   "version": "3.8.5"
  },
  "orig_nbformat": 4
 },
 "nbformat": 4,
 "nbformat_minor": 2
}