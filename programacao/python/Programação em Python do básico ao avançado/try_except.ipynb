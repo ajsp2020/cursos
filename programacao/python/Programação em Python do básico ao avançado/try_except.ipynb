{
 "cells": [
  {
   "cell_type": "markdown",
   "source": [
    "# O Bloco try/except\n",
    "\n",
    "## - Utilizamos o bloco try/except para tratar erro que podem ocorrer no nosso código. Previnindo assim que o programa para de funcionar e o unuário receba mensagem de erro inesperadas.\n",
    "\n",
    "### A forma geral mais simples é:\n",
    "\n",
    "### try:\n",
    "###     //execução problemática\n",
    "### except:\n",
    "###     // oq deve ser feito em caso de problema"
   ],
   "metadata": {}
  },
  {
   "cell_type": "code",
   "execution_count": null,
   "source": [
    "# Exemplo 1 - Tratando um erro genérico"
   ],
   "outputs": [],
   "metadata": {}
  },
  {
   "cell_type": "code",
   "execution_count": 1,
   "source": [
    "try:\n",
    "    geek()\n",
    "except:\n",
    "    print(\"Deu algum problema\")"
   ],
   "outputs": [
    {
     "output_type": "stream",
     "name": "stdout",
     "text": [
      "Deu algum problema\n"
     ]
    }
   ],
   "metadata": {}
  },
  {
   "cell_type": "code",
   "execution_count": 2,
   "source": [
    "# OBS: Tratar erro de forma genérica não é a melhor forma de tratamento de erro. O ideal é SEMPRE tratar de forma específica"
   ],
   "outputs": [],
   "metadata": {}
  },
  {
   "cell_type": "code",
   "execution_count": 3,
   "source": [
    "# Exemplo 2 - Tratando um erro específico"
   ],
   "outputs": [],
   "metadata": {}
  },
  {
   "cell_type": "code",
   "execution_count": 5,
   "source": [
    "try:\n",
    "    geek()\n",
    "except NameError:\n",
    "    print(\"Você está utilizando uma função inexistente\")"
   ],
   "outputs": [
    {
     "output_type": "stream",
     "name": "stdout",
     "text": [
      "Você está utilizando uma função inexistente\n"
     ]
    }
   ],
   "metadata": {}
  },
  {
   "cell_type": "code",
   "execution_count": 7,
   "source": [
    "try:\n",
    "    len(5)\n",
    "except TypeError as err:\n",
    "    print(f\"A aplicação seguinte erro: {err}\")"
   ],
   "outputs": [
    {
     "output_type": "stream",
     "name": "stdout",
     "text": [
      "A aplicação seguinte erro: object of type 'int' has no len()\n"
     ]
    }
   ],
   "metadata": {}
  },
  {
   "cell_type": "code",
   "execution_count": 10,
   "source": [
    "try:\n",
    "    len(5)\n",
    "except NameError as erra:\n",
    "    print(f\"Deu NameError: {erra}\")\n",
    "except TypeError as errb:\n",
    "    print(f\"Deu TypeError: {errb}\")\n",
    "except:\n",
    "    print(\"Deu um erro diferente\")"
   ],
   "outputs": [
    {
     "output_type": "stream",
     "name": "stdout",
     "text": [
      "Deu TypeError: object of type 'int' has no len()\n"
     ]
    }
   ],
   "metadata": {}
  },
  {
   "cell_type": "code",
   "execution_count": 14,
   "source": [
    "def pega_valor(dicionario, chave):\n",
    "    try:\n",
    "        return dicionario[chave]\n",
    "    except KeyError:\n",
    "        return None"
   ],
   "outputs": [],
   "metadata": {}
  },
  {
   "cell_type": "code",
   "execution_count": 15,
   "source": [
    "dic = {\"nome\" :\"geek\"}\n",
    "print(pega_valor(dic, \"game\"))"
   ],
   "outputs": [
    {
     "output_type": "stream",
     "name": "stdout",
     "text": [
      "None\n"
     ]
    }
   ],
   "metadata": {}
  },
  {
   "cell_type": "code",
   "execution_count": null,
   "source": [],
   "outputs": [],
   "metadata": {}
  }
 ],
 "metadata": {
  "orig_nbformat": 4,
  "language_info": {
   "name": "python",
   "version": "3.8.2",
   "mimetype": "text/x-python",
   "codemirror_mode": {
    "name": "ipython",
    "version": 3
   },
   "pygments_lexer": "ipython3",
   "nbconvert_exporter": "python",
   "file_extension": ".py"
  },
  "kernelspec": {
   "name": "python3",
   "display_name": "Python 3.8.2 64-bit ('Alura': conda)"
  },
  "interpreter": {
   "hash": "b712654a4e44784f513bc0735fa9d8fc6ade93e64d2807413d38cfef60ed5ddd"
  }
 },
 "nbformat": 4,
 "nbformat_minor": 2
}