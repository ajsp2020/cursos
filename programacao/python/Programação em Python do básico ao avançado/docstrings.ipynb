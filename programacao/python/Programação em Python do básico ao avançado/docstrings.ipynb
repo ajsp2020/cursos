{
 "metadata": {
  "language_info": {
   "codemirror_mode": {
    "name": "ipython",
    "version": 3
   },
   "file_extension": ".py",
   "mimetype": "text/x-python",
   "name": "python",
   "nbconvert_exporter": "python",
   "pygments_lexer": "ipython3",
   "version": "3.9.5"
  },
  "orig_nbformat": 2,
  "kernelspec": {
   "name": "python395jvsc74a57bd0ba9badd6fe3e8ca5cff0835dde77e47b2605c410e16655f71b6694d1bd8da611",
   "display_name": "Python 3.9.5 64-bit (windows store)"
  },
  "metadata": {
   "interpreter": {
    "hash": "ba9badd6fe3e8ca5cff0835dde77e47b2605c410e16655f71b6694d1bd8da611"
   }
  }
 },
 "nbformat": 4,
 "nbformat_minor": 2,
 "cells": [
  {
   "source": [
    "# Documentando funções com Docstrings"
   ],
   "cell_type": "markdown",
   "metadata": {}
  },
  {
   "source": [
    "## Exemplos\n",
    "\n",
    "### OBS: Podemos ter acesso a documentação de uuma função em python utilizando a propriedade especial __doc__\n",
    "\n",
    "### Podemos ainda fazer acesso a documentação com a função help()"
   ],
   "cell_type": "markdown",
   "metadata": {}
  },
  {
   "cell_type": "code",
   "execution_count": 7,
   "metadata": {},
   "outputs": [],
   "source": [
    "def diz_oi():\n",
    "    \"\"\" Uma função simples que retorna a string oi\"\"\"\n",
    "    return 'OI!'"
   ]
  },
  {
   "cell_type": "code",
   "execution_count": 6,
   "metadata": {},
   "outputs": [
    {
     "output_type": "stream",
     "name": "stdout",
     "text": [
      "Help on function diz_oi in module __main__:\n\ndiz_oi()\n    Uma função simples que retorna a string oi\n\nNone\n"
     ]
    }
   ],
   "source": [
    "print(help(diz_oi))"
   ]
  },
  {
   "cell_type": "code",
   "execution_count": 10,
   "metadata": {},
   "outputs": [],
   "source": [
    "def exponencial(numero, potencia=2):\n",
    "    \"\"\"\n",
    "    Função que retorna por padrão o quadrado de 'numero' ou 'numero' á potencia informada.\n",
    "    :param numero: Número que desejamos gerar o exponencial\n",
    "    :param potencia: Potência que queremos gerar o exponencial. Por padrão é 2.\n",
    "    :return: Retorna o exponencial de 'numero' por 'potencia'.\n",
    "    \"\"\""
   ]
  },
  {
   "cell_type": "code",
   "execution_count": 11,
   "metadata": {},
   "outputs": [
    {
     "output_type": "stream",
     "name": "stdout",
     "text": [
      "Help on function exponencial in module __main__:\n\nexponencial(numero, potencia=2)\n    Função que retorna por padrão o quadrado de 'numero' ou 'numero' á potencia informada.\n    :param numero: Número que desejamos gerar o exponencial\n    :param potencia: Potência que queremos gerar o exponencial. Por padrão é 2.\n    :return: Retorna o exponencial de 'numero' por 'potencia'.\n\n"
     ]
    }
   ],
   "source": [
    "help(exponencial)"
   ]
  },
  {
   "cell_type": "code",
   "execution_count": null,
   "metadata": {},
   "outputs": [],
   "source": []
  }
 ]
}