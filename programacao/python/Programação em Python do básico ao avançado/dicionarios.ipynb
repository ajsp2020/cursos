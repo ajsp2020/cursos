{
 "metadata": {
  "language_info": {
   "codemirror_mode": {
    "name": "ipython",
    "version": 3
   },
   "file_extension": ".py",
   "mimetype": "text/x-python",
   "name": "python",
   "nbconvert_exporter": "python",
   "pygments_lexer": "ipython3",
   "version": "3.8.5"
  },
  "orig_nbformat": 2,
  "kernelspec": {
   "name": "python385jvsc74a57bd07b4b4feff2f24a0f0a34464dbe537a36fda679851528fb8735cb41fa49dffb2d",
   "display_name": "Python 3.8.5 64-bit (conda)"
  }
 },
 "nbformat": 4,
 "nbformat_minor": 2,
 "cells": [
  {
   "source": [
    "# Dicionário"
   ],
   "cell_type": "markdown",
   "metadata": {}
  },
  {
   "source": [
    "### OBS: Em algumas linguagens de programação, os dicionários Python são conhecidos por mapas\n",
    "# \n",
    "### Dicionários são coleções do tipo chave/valor. \n",
    "\n",
    "### Dicionários são representados por {}"
   ],
   "cell_type": "markdown",
   "metadata": {}
  },
  {
   "source": [
    "### OBS: Sobre dicionários:\n",
    "###     - Chave e valor são separados por dois pontos {chave:valor};\n",
    "###     - Tanto chave quanto valor podem ser qualquer tipo de dado;\n",
    "###     - Podemos misturar tipos de dados;"
   ],
   "cell_type": "markdown",
   "metadata": {}
  },
  {
   "cell_type": "code",
   "execution_count": 2,
   "metadata": {},
   "outputs": [
    {
     "output_type": "stream",
     "name": "stdout",
     "text": [
      "<class 'dict'>\n"
     ]
    }
   ],
   "source": [
    "print(type({}))"
   ]
  },
  {
   "source": [
    "## Criação de dicionários"
   ],
   "cell_type": "markdown",
   "metadata": {}
  },
  {
   "source": [
    "### Forma 1 (mais comum)"
   ],
   "cell_type": "markdown",
   "metadata": {}
  },
  {
   "cell_type": "code",
   "execution_count": 3,
   "metadata": {},
   "outputs": [],
   "source": [
    "paises = {'br': 'Brasil', 'eua': 'Estados Unidos', 'py': 'Paraguai'}"
   ]
  },
  {
   "cell_type": "code",
   "execution_count": 4,
   "metadata": {},
   "outputs": [
    {
     "output_type": "stream",
     "name": "stdout",
     "text": [
      "{'br': 'Brasil', 'eua': 'Estados Unidos', 'py': 'Paraguai'}\n<class 'dict'>\n"
     ]
    }
   ],
   "source": [
    "print(paises)\n",
    "print(type(paises))"
   ]
  },
  {
   "source": [
    "### Forma 2 (menos comum):"
   ],
   "cell_type": "markdown",
   "metadata": {}
  },
  {
   "cell_type": "code",
   "execution_count": 8,
   "metadata": {},
   "outputs": [],
   "source": [
    "paises = dict(br='Brasil', eua='Estados Unidos', py='Paraguay')"
   ]
  },
  {
   "source": [
    "## Acessando elementos:"
   ],
   "cell_type": "markdown",
   "metadata": {}
  },
  {
   "source": [
    "### Forma 1 - Acessando via chave, da mesma forma que lista/tupla"
   ],
   "cell_type": "markdown",
   "metadata": {}
  },
  {
   "cell_type": "code",
   "execution_count": 10,
   "metadata": {},
   "outputs": [
    {
     "output_type": "stream",
     "name": "stdout",
     "text": [
      "Brasil\nParaguay\n"
     ]
    }
   ],
   "source": [
    "print(paises['br'])\n",
    "print(paises['py'])"
   ]
  },
  {
   "source": [
    "### OBS: Caso tentamos fazer um acesso utilizando uma chave que não existe, teremos o erro KeyError"
   ],
   "cell_type": "markdown",
   "metadata": {}
  },
  {
   "source": [
    "### Forma 2 - Acessando via get - Recomendada\n"
   ],
   "cell_type": "markdown",
   "metadata": {}
  },
  {
   "cell_type": "code",
   "execution_count": 13,
   "metadata": {},
   "outputs": [
    {
     "output_type": "stream",
     "name": "stdout",
     "text": [
      "Brasil\nNone\n"
     ]
    }
   ],
   "source": [
    "print(paises.get('br'))\n",
    "print(paises.get('ru'))"
   ]
  },
  {
   "source": [
    "### Caso o get não encontre o objeto com a chave informada será retornado o valor None e não será gerado KeyError"
   ],
   "cell_type": "markdown",
   "metadata": {}
  },
  {
   "source": [
    "russia = paises.get('ru')\n",
    "\n",
    "if russia:\n",
    "    print('Encontrei o pais')\n",
    "else:\n",
    "    print('Não encontrei o pais')"
   ],
   "cell_type": "markdown",
   "metadata": {}
  },
  {
   "cell_type": "code",
   "execution_count": 16,
   "metadata": {},
   "outputs": [
    {
     "output_type": "stream",
     "name": "stdout",
     "text": [
      "Encontrei o pais Paraguay\n"
     ]
    }
   ],
   "source": [
    "pais = paises.get('py')\n",
    "\n",
    "if pais:\n",
    "    print(f'Encontrei o pais {pais}')\n",
    "else:\n",
    "    print('Não encontrei o pais')"
   ]
  },
  {
   "source": [
    "### - Podemos definir um valor padrão para caso não encontremos o objeto com a chave informada"
   ],
   "cell_type": "markdown",
   "metadata": {}
  },
  {
   "cell_type": "code",
   "execution_count": 17,
   "metadata": {},
   "outputs": [
    {
     "output_type": "stream",
     "name": "stdout",
     "text": [
      "Encontrei o pais Paraguay\n"
     ]
    }
   ],
   "source": [
    "pais = paises.get('py', 'Não encontrado')\n",
    "\n",
    "print(f'Encontrei o pais {pais}')\n"
   ]
  },
  {
   "cell_type": "code",
   "execution_count": 18,
   "metadata": {},
   "outputs": [
    {
     "output_type": "stream",
     "name": "stdout",
     "text": [
      "Encontrei o pais Não encontrado\n"
     ]
    }
   ],
   "source": [
    "pais = paises.get('ru', 'Não encontrado')\n",
    "\n",
    "print(f'Encontrei o pais {pais}')"
   ]
  },
  {
   "source": [
    "### - Podemos verificar se dererminada chave se encontra em um dicionário"
   ],
   "cell_type": "markdown",
   "metadata": {}
  },
  {
   "cell_type": "code",
   "execution_count": 20,
   "metadata": {},
   "outputs": [
    {
     "output_type": "stream",
     "name": "stdout",
     "text": [
      "True\nFalse\nFalse\n"
     ]
    }
   ],
   "source": [
    "print('br' in paises)\n",
    "print('ru' in paises)\n",
    "print('Estados Unidos' in paises)"
   ]
  },
  {
   "cell_type": "code",
   "execution_count": 22,
   "metadata": {},
   "outputs": [],
   "source": [
    "if 'ru' in paises:\n",
    "    russia = paises['ru']"
   ]
  },
  {
   "source": [
    "### - Podemos utilzar qualquer tipo de dado (int, float, string, boolean), inclusive lista, tupla, dicionário, como chaves de dicionário"
   ],
   "cell_type": "markdown",
   "metadata": {}
  },
  {
   "source": [
    "### Tuplas, por exemplo, são bastante interessantes de serem utilizadas com chave de dicionários, pois as mesmas são imutáveis"
   ],
   "cell_type": "markdown",
   "metadata": {}
  },
  {
   "cell_type": "code",
   "execution_count": 26,
   "metadata": {},
   "outputs": [],
   "source": [
    "localidades = {\n",
    "    (35.6895, 39.6917): 'Escritório em Tókio',\n",
    "    (40.7128, 74.0060): 'Escritório em Nova York',\n",
    "    (37.7749, 122.4194): 'Escritório em São Paulo',\n",
    "}"
   ]
  },
  {
   "cell_type": "code",
   "execution_count": 27,
   "metadata": {},
   "outputs": [
    {
     "output_type": "stream",
     "name": "stdout",
     "text": [
      "{(35.6895, 39.6917): 'Escritório em Tókio', (40.7128, 74.006): 'Escritório em Nova York', (37.7749, 122.4194): 'Escritório em São Paulo'}\n<class 'dict'>\n"
     ]
    }
   ],
   "source": [
    "print(localidades)\n",
    "print(type(localidades))"
   ]
  },
  {
   "source": [
    "## Adicionar elementos em um dicionário"
   ],
   "cell_type": "markdown",
   "metadata": {}
  },
  {
   "cell_type": "code",
   "execution_count": 12,
   "metadata": {},
   "outputs": [],
   "source": [
    "receita ={'jan': 100, 'fev': 120, 'mar': 300}"
   ]
  },
  {
   "cell_type": "code",
   "execution_count": 13,
   "metadata": {},
   "outputs": [
    {
     "output_type": "stream",
     "name": "stdout",
     "text": [
      "{'jan': 100, 'fev': 120, 'mar': 300}\n<class 'dict'>\n"
     ]
    }
   ],
   "source": [
    "print(receita)\n",
    "print(type(receita))"
   ]
  },
  {
   "source": [
    "- Forma 1: Mais commum"
   ],
   "cell_type": "markdown",
   "metadata": {}
  },
  {
   "cell_type": "code",
   "execution_count": 14,
   "metadata": {},
   "outputs": [],
   "source": [
    "receita['abr'] = 350"
   ]
  },
  {
   "cell_type": "code",
   "execution_count": 15,
   "metadata": {},
   "outputs": [
    {
     "output_type": "stream",
     "name": "stdout",
     "text": [
      "{'jan': 100, 'fev': 120, 'mar': 300, 'abr': 350}\n"
     ]
    }
   ],
   "source": [
    "print(receita)"
   ]
  },
  {
   "source": [
    "- Forma 2"
   ],
   "cell_type": "markdown",
   "metadata": {}
  },
  {
   "cell_type": "code",
   "execution_count": 17,
   "metadata": {},
   "outputs": [],
   "source": [
    "novo_dado = {\"mai\": 500}"
   ]
  },
  {
   "cell_type": "code",
   "execution_count": 18,
   "metadata": {},
   "outputs": [],
   "source": [
    "receita.update(novo_dado)"
   ]
  },
  {
   "cell_type": "code",
   "execution_count": 19,
   "metadata": {},
   "outputs": [
    {
     "output_type": "stream",
     "name": "stdout",
     "text": [
      "{'jan': 100, 'fev': 120, 'mar': 300, 'abr': 350, 'mai': 500}\n"
     ]
    }
   ],
   "source": [
    "print(receita)"
   ]
  },
  {
   "source": [
    "## Atualizando dados em um dicionário:"
   ],
   "cell_type": "markdown",
   "metadata": {}
  },
  {
   "source": [
    "- Forma 1:"
   ],
   "cell_type": "markdown",
   "metadata": {}
  },
  {
   "cell_type": "code",
   "execution_count": 20,
   "metadata": {},
   "outputs": [],
   "source": [
    "receita['mai'] = 550"
   ]
  },
  {
   "cell_type": "code",
   "execution_count": 21,
   "metadata": {},
   "outputs": [
    {
     "output_type": "stream",
     "name": "stdout",
     "text": [
      "{'jan': 100, 'fev': 120, 'mar': 300, 'abr': 350, 'mai': 550}\n"
     ]
    }
   ],
   "source": [
    "print(receita)"
   ]
  },
  {
   "source": [
    "- Foma 2"
   ],
   "cell_type": "markdown",
   "metadata": {}
  },
  {
   "cell_type": "code",
   "execution_count": 22,
   "metadata": {},
   "outputs": [],
   "source": [
    "receita.update({'mai': 600})"
   ]
  },
  {
   "cell_type": "code",
   "execution_count": 23,
   "metadata": {},
   "outputs": [
    {
     "output_type": "stream",
     "name": "stdout",
     "text": [
      "{'jan': 100, 'fev': 120, 'mar': 300, 'abr': 350, 'mai': 600}\n"
     ]
    }
   ],
   "source": [
    "print(receita)"
   ]
  },
  {
   "source": [
    "### CONCLUSÃO 1:  A forma de adicionar novos elementos ou atualizar dados em um dicionário é a mesma.\n",
    "### CONCLUSÃO 2: Em dicionários, NÂO podemos ter chaver repetidads."
   ],
   "cell_type": "markdown",
   "metadata": {}
  },
  {
   "source": [
    "## Remover dados de um dicionário"
   ],
   "cell_type": "markdown",
   "metadata": {}
  },
  {
   "source": [
    "* Forma 1: Mais comum"
   ],
   "cell_type": "markdown",
   "metadata": {}
  },
  {
   "cell_type": "code",
   "execution_count": 24,
   "metadata": {},
   "outputs": [
    {
     "output_type": "execute_result",
     "data": {
      "text/plain": [
       "300"
      ]
     },
     "metadata": {},
     "execution_count": 24
    }
   ],
   "source": [
    "receita.pop('mar')"
   ]
  },
  {
   "cell_type": "code",
   "execution_count": 25,
   "metadata": {},
   "outputs": [
    {
     "output_type": "stream",
     "name": "stdout",
     "text": [
      "{'jan': 100, 'fev': 120, 'abr': 350, 'mai': 600}\n"
     ]
    }
   ],
   "source": [
    "print(receita)"
   ]
  },
  {
   "source": [
    "### OBS 1: Aqui precisamos sempre informar a chave e caso não encontre o elemento , um KeyError é retornado\n",
    "### OBS 2: Ao removermos um objeto o valor desse objeto é sempre retornado"
   ],
   "cell_type": "markdown",
   "metadata": {}
  },
  {
   "source": [
    "- Forma 2:"
   ],
   "cell_type": "markdown",
   "metadata": {}
  },
  {
   "cell_type": "code",
   "execution_count": 26,
   "metadata": {},
   "outputs": [],
   "source": [
    "del receita['fev']"
   ]
  },
  {
   "cell_type": "code",
   "execution_count": 27,
   "metadata": {},
   "outputs": [
    {
     "output_type": "stream",
     "name": "stdout",
     "text": [
      "{'jan': 100, 'abr': 350, 'mai': 600}\n"
     ]
    }
   ],
   "source": [
    "print(receita)"
   ]
  },
  {
   "source": [
    "### OBS: Se a chave não existir será gerado um keyError \n",
    "### Neste caso o valor removido não é retornado"
   ],
   "cell_type": "markdown",
   "metadata": {}
  },
  {
   "source": [
    "## Métodos de dicionário:"
   ],
   "cell_type": "markdown",
   "metadata": {}
  },
  {
   "cell_type": "code",
   "execution_count": 37,
   "metadata": {},
   "outputs": [],
   "source": [
    "d = dict(a=1, b=2, c=3)"
   ]
  },
  {
   "cell_type": "code",
   "execution_count": 36,
   "metadata": {},
   "outputs": [
    {
     "output_type": "stream",
     "name": "stdout",
     "text": [
      "{}\n<class 'dict'>\n"
     ]
    }
   ],
   "source": [
    "print(d)\n",
    "print(type(d))"
   ]
  },
  {
   "source": [
    "Limpar o dicionário (Zerar dados)"
   ],
   "cell_type": "markdown",
   "metadata": {}
  },
  {
   "cell_type": "code",
   "execution_count": 34,
   "metadata": {},
   "outputs": [],
   "source": [
    "d.clear()\n"
   ]
  },
  {
   "cell_type": "code",
   "execution_count": 35,
   "metadata": {},
   "outputs": [
    {
     "output_type": "stream",
     "name": "stdout",
     "text": [
      "{}\n"
     ]
    }
   ],
   "source": [
    "print(d)"
   ]
  },
  {
   "source": [
    "## Copiando um dicionário para outro"
   ],
   "cell_type": "markdown",
   "metadata": {}
  },
  {
   "source": [
    "* Forma 1: Deep copy"
   ],
   "cell_type": "markdown",
   "metadata": {}
  },
  {
   "cell_type": "code",
   "execution_count": 40,
   "metadata": {},
   "outputs": [],
   "source": [
    "d = dict(a=1, b=2, c=3)"
   ]
  },
  {
   "cell_type": "code",
   "execution_count": 42,
   "metadata": {},
   "outputs": [],
   "source": [
    "novo = d.copy()"
   ]
  },
  {
   "cell_type": "code",
   "execution_count": 43,
   "metadata": {},
   "outputs": [
    {
     "output_type": "stream",
     "name": "stdout",
     "text": [
      "{'a': 1, 'b': 2, 'c': 3}\n"
     ]
    }
   ],
   "source": [
    "print(novo)"
   ]
  },
  {
   "cell_type": "code",
   "execution_count": 44,
   "metadata": {},
   "outputs": [],
   "source": [
    "novo['d'] = 4"
   ]
  },
  {
   "cell_type": "code",
   "execution_count": 45,
   "metadata": {},
   "outputs": [
    {
     "output_type": "stream",
     "name": "stdout",
     "text": [
      "{'a': 1, 'b': 2, 'c': 3}\n{'a': 1, 'b': 2, 'c': 3, 'd': 4}\n"
     ]
    }
   ],
   "source": [
    "print(d)\n",
    "print(novo)"
   ]
  },
  {
   "source": [
    "- Forma 2: Shallow copy"
   ],
   "cell_type": "markdown",
   "metadata": {}
  },
  {
   "cell_type": "code",
   "execution_count": 46,
   "metadata": {},
   "outputs": [],
   "source": [
    "novo = d"
   ]
  },
  {
   "cell_type": "code",
   "execution_count": 47,
   "metadata": {},
   "outputs": [
    {
     "output_type": "stream",
     "name": "stdout",
     "text": [
      "{'a': 1, 'b': 2, 'c': 3}\n"
     ]
    }
   ],
   "source": [
    "print(novo)"
   ]
  },
  {
   "cell_type": "code",
   "execution_count": 48,
   "metadata": {},
   "outputs": [],
   "source": [
    "novo['d'] = 4"
   ]
  },
  {
   "cell_type": "code",
   "execution_count": 49,
   "metadata": {},
   "outputs": [
    {
     "output_type": "stream",
     "name": "stdout",
     "text": [
      "{'a': 1, 'b': 2, 'c': 3, 'd': 4}\n{'a': 1, 'b': 2, 'c': 3, 'd': 4}\n"
     ]
    }
   ],
   "source": [
    "print(d)\n",
    "print(novo)"
   ]
  },
  {
   "source": [
    "## Forma não usual de criação de dicionários"
   ],
   "cell_type": "markdown",
   "metadata": {}
  },
  {
   "cell_type": "code",
   "execution_count": 50,
   "metadata": {},
   "outputs": [],
   "source": [
    "outro = {}.fromkeys('a', 'b')"
   ]
  },
  {
   "cell_type": "code",
   "execution_count": 51,
   "metadata": {},
   "outputs": [
    {
     "output_type": "stream",
     "name": "stdout",
     "text": [
      "{'a': 'b'}\n<class 'dict'>\n"
     ]
    }
   ],
   "source": [
    "print(outro)\n",
    "print(type(outro))"
   ]
  },
  {
   "cell_type": "code",
   "execution_count": 52,
   "metadata": {},
   "outputs": [],
   "source": [
    "usuario = {}.fromkeys(['nome', 'pontos', 'email', 'profile'], 'desconhecido')"
   ]
  },
  {
   "cell_type": "code",
   "execution_count": 54,
   "metadata": {},
   "outputs": [
    {
     "output_type": "stream",
     "name": "stdout",
     "text": [
      "{'nome': 'desconhecido', 'pontos': 'desconhecido', 'email': 'desconhecido', 'profile': 'desconhecido'}\n<class 'dict'>\n"
     ]
    }
   ],
   "source": [
    "print(usuario)\n",
    "print(type(usuario))"
   ]
  },
  {
   "source": [
    "### O método fromkeys recebe dois parametros: im interável e um valor.\n",
    "### Ele vai gerar para cada valor do iterável uma chave e irá atribuir a esta chave o valor informado"
   ],
   "cell_type": "markdown",
   "metadata": {}
  },
  {
   "cell_type": "code",
   "execution_count": 56,
   "metadata": {},
   "outputs": [],
   "source": [
    "veja = {}.fromkeys('teste','valor')"
   ]
  },
  {
   "cell_type": "code",
   "execution_count": 57,
   "metadata": {},
   "outputs": [
    {
     "output_type": "stream",
     "name": "stdout",
     "text": [
      "{'t': 'valor', 'e': 'valor', 's': 'valor'}\n"
     ]
    }
   ],
   "source": [
    "print(veja)"
   ]
  },
  {
   "cell_type": "code",
   "execution_count": 63,
   "metadata": {},
   "outputs": [],
   "source": [
    "veja = {}.fromkeys(range(1, 11), 'novo')"
   ]
  },
  {
   "cell_type": "code",
   "execution_count": 64,
   "metadata": {},
   "outputs": [
    {
     "output_type": "stream",
     "name": "stdout",
     "text": [
      "{1: 'novo', 2: 'novo', 3: 'novo', 4: 'novo', 5: 'novo', 6: 'novo', 7: 'novo', 8: 'novo', 9: 'novo', 10: 'novo'}\n"
     ]
    }
   ],
   "source": [
    "print(veja)"
   ]
  },
  {
   "cell_type": "code",
   "execution_count": null,
   "metadata": {},
   "outputs": [],
   "source": []
  }
 ]
}