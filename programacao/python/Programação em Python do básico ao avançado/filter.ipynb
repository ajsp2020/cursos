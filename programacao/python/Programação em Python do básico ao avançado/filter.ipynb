{
 "cells": [
  {
   "cell_type": "markdown",
   "metadata": {},
   "source": [
    "# Filter\r\n",
    "\r\n",
    "### filter() -> Serve para filtar dados de uma determinada coleção. \r\n",
    "\r\n"
   ]
  },
  {
   "cell_type": "code",
   "execution_count": 1,
   "metadata": {},
   "outputs": [],
   "source": [
    "valores = 1, 2, 3, 4, 5, 6"
   ]
  },
  {
   "cell_type": "code",
   "execution_count": 2,
   "metadata": {},
   "outputs": [
    {
     "name": "stdout",
     "output_type": "stream",
     "text": [
      "3.5\n"
     ]
    }
   ],
   "source": [
    "media = sum(valores) / len(valores)\r\n",
    "print(media)"
   ]
  },
  {
   "cell_type": "code",
   "execution_count": 7,
   "metadata": {},
   "outputs": [
    {
     "name": "stdout",
     "output_type": "stream",
     "text": [
      "media = 2.183333333333333\n"
     ]
    }
   ],
   "source": [
    "# Biblioteca para trabalhar com dados estatisticos\r\n",
    "import statistics\r\n",
    "\r\n",
    "# Dados coletados de algum sensor\r\n",
    "dados = [1.3, 2.7, 0.8, 4.1, 4.3, -0.1]\r\n",
    "\r\n",
    "# Calulando a media dos dados ultilizando a função mean()\r\n",
    "media = statistics.mean(dados)\r\n",
    "print(f'media = {media}')"
   ]
  },
  {
   "cell_type": "markdown",
   "metadata": {},
   "source": [
    "### OBS: Assim como a funão map(), a filter() recebe dois parâmetros, sendo uma função e um iterável"
   ]
  },
  {
   "cell_type": "code",
   "execution_count": 9,
   "metadata": {},
   "outputs": [
    {
     "name": "stdout",
     "output_type": "stream",
     "text": [
      "[2.7, 4.1, 4.3]\n",
      "Novamente : []\n"
     ]
    }
   ],
   "source": [
    "res = filter(lambda x: x > media, dados)\r\n",
    "print(list(res))\r\n",
    "print(f'Novamente : {list(res)}')"
   ]
  },
  {
   "cell_type": "markdown",
   "metadata": {},
   "source": [
    "### OBS: ASSIM COMO NA FUÇÃO MAP, APÓS SEREM UTILIZADOS OS DADOS DE FILTER ELES SÃO EXCLUIDOS DA MEMÓRIIA"
   ]
  },
  {
   "cell_type": "code",
   "execution_count": 10,
   "metadata": {},
   "outputs": [],
   "source": [
    "paises = ['', 'Argentina', '', 'Brasil', 'Chile', '', 'Colombia', '', 'Equador', '', '', 'Venezuela']"
   ]
  },
  {
   "cell_type": "code",
   "execution_count": 11,
   "metadata": {},
   "outputs": [
    {
     "name": "stdout",
     "output_type": "stream",
     "text": [
      "['', 'Argentina', '', 'Brasil', 'Chile', '', 'Colombia', '', 'Equador', '', '', 'Venezuela']\n"
     ]
    }
   ],
   "source": [
    "print(paises)"
   ]
  },
  {
   "cell_type": "code",
   "execution_count": 12,
   "metadata": {},
   "outputs": [
    {
     "name": "stdout",
     "output_type": "stream",
     "text": [
      "['Argentina', 'Brasil', 'Chile', 'Colombia', 'Equador', 'Venezuela']\n"
     ]
    }
   ],
   "source": [
    "res = filter(None, paises)\r\n",
    "print(list(res))"
   ]
  },
  {
   "cell_type": "code",
   "execution_count": 13,
   "metadata": {},
   "outputs": [
    {
     "name": "stdout",
     "output_type": "stream",
     "text": [
      "['Argentina', 'Brasil', 'Chile', 'Colombia', 'Equador', 'Venezuela']\n"
     ]
    }
   ],
   "source": [
    "res = filter(lambda pais: len(pais)>0, paises)\r\n",
    "print(list(res))"
   ]
  },
  {
   "cell_type": "code",
   "execution_count": 15,
   "metadata": {},
   "outputs": [
    {
     "name": "stdout",
     "output_type": "stream",
     "text": [
      "['Argentina', 'Brasil', 'Chile', 'Colombia', 'Equador', 'Venezuela']\n"
     ]
    }
   ],
   "source": [
    "res = filter(lambda pais: pais != '', paises)\r\n",
    "print(list(res))"
   ]
  },
  {
   "cell_type": "markdown",
   "metadata": {},
   "source": [
    "### A diferença entre map() e filter() é:\r\n",
    "### map() -> Recebe dois parâmetros, uma função e um iterável e retorna um objeto mapeado a função para cada elemento do iterável\r\n",
    "### filter() -> Recebe dois parâmetros, uma fução e um iterável e retorna um objeto filtrando apenas os elementos de acordo com a função"
   ]
  },
  {
   "cell_type": "markdown",
   "metadata": {},
   "source": [
    "## Exemplo mais complexo"
   ]
  },
  {
   "cell_type": "code",
   "execution_count": 19,
   "metadata": {},
   "outputs": [],
   "source": [
    "usuarios = [\r\n",
    "    {\"username\":\"samuel\", \"tweets\": [\"Eu adoro bolos\", \"Eu adoro pizzas\"]},\r\n",
    "    {\"username\":\"carla\", \"tweets\": [\"Eu amo meu gato\"]},\r\n",
    "    {\"username\":\"jeff\", \"tweets\": []},\r\n",
    "    {\"username\":\"bob123\", \"tweets\": []},\r\n",
    "    {\"username\":\"doggo\", \"tweets\": [\"Eu gosto de cachorros\", \"Vou sair hoje\"]},\r\n",
    "    {\"username\":\"gal\", \"tweets\": []}\r\n",
    "]"
   ]
  },
  {
   "cell_type": "code",
   "execution_count": 20,
   "metadata": {},
   "outputs": [
    {
     "name": "stdout",
     "output_type": "stream",
     "text": [
      "[{'username': 'samuel', 'tweets': ['Eu adoro bolos', 'Eu adoro pizzas']}, {'username': 'carla', 'tweets': ['Eu amo meu gato']}, {'username': 'jeff', 'tweets': []}, {'username': 'bob123', 'tweets': []}, {'username': 'doggo', 'tweets': ['Eu gosto de cachorros', 'Vou sair hoje']}, {'username': 'gal', 'tweets': []}]\n"
     ]
    }
   ],
   "source": [
    "print(usuarios)"
   ]
  },
  {
   "cell_type": "markdown",
   "metadata": {},
   "source": [
    "### Filtrar os usuários que estão inativos no tweeter"
   ]
  },
  {
   "cell_type": "code",
   "execution_count": 22,
   "metadata": {},
   "outputs": [
    {
     "name": "stdout",
     "output_type": "stream",
     "text": [
      "[{'username': 'jeff', 'tweets': []}, {'username': 'bob123', 'tweets': []}, {'username': 'gal', 'tweets': []}]\n"
     ]
    }
   ],
   "source": [
    "# Forma 1\r\n",
    "inativos = list(filter(lambda usuario: len(usuario['tweets']) == 0, usuarios))\r\n",
    "print(inativos)"
   ]
  },
  {
   "cell_type": "code",
   "execution_count": 23,
   "metadata": {},
   "outputs": [
    {
     "name": "stdout",
     "output_type": "stream",
     "text": [
      "[{'username': 'jeff', 'tweets': []}, {'username': 'bob123', 'tweets': []}, {'username': 'gal', 'tweets': []}]\n"
     ]
    }
   ],
   "source": [
    "# Forma 2\r\n",
    "\r\n",
    "inativos = list(filter(lambda usuario: not usuario['tweets'], usuarios))\r\n",
    "print(inativos)\r\n"
   ]
  },
  {
   "cell_type": "markdown",
   "metadata": {},
   "source": [
    "## Combinar filter() e map()"
   ]
  },
  {
   "cell_type": "code",
   "execution_count": 28,
   "metadata": {},
   "outputs": [
    {
     "name": "stdout",
     "output_type": "stream",
     "text": [
      "['Sua intrutora é Ana']\n"
     ]
    }
   ],
   "source": [
    "nomes = ['Vanessa', 'Ana', 'Maria']\r\n",
    "\r\n",
    "# Devemos criar uma lista contendo 'Sua instrutura é' + nome, desde que cada nome tenha menos de 5 caracteres\r\n",
    "\r\n",
    "lista = list(map(lambda nome: f'Sua intrutora é {nome}', filter(lambda nome: len(nome) < 5, nomes)))\r\n",
    "print(lista)\r\n"
   ]
  },
  {
   "cell_type": "code",
   "execution_count": null,
   "metadata": {},
   "outputs": [],
   "source": []
  }
 ],
 "metadata": {
  "interpreter": {
   "hash": "7b4b4feff2f24a0f0a34464dbe537a36fda679851528fb8735cb41fa49dffb2d"
  },
  "kernelspec": {
   "display_name": "Python 3.8.8 64-bit ('base': conda)",
   "name": "python3"
  },
  "language_info": {
   "codemirror_mode": {
    "name": "ipython",
    "version": 3
   },
   "file_extension": ".py",
   "mimetype": "text/x-python",
   "name": "python",
   "nbconvert_exporter": "python",
   "pygments_lexer": "ipython3",
   "version": "3.8.8"
  },
  "orig_nbformat": 4
 },
 "nbformat": 4,
 "nbformat_minor": 2
}