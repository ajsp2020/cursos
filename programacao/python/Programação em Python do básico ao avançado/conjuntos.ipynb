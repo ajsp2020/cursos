{
 "metadata": {
  "language_info": {
   "codemirror_mode": {
    "name": "ipython",
    "version": 3
   },
   "file_extension": ".py",
   "mimetype": "text/x-python",
   "name": "python",
   "nbconvert_exporter": "python",
   "pygments_lexer": "ipython3",
   "version": "3.8.5"
  },
  "orig_nbformat": 2,
  "kernelspec": {
   "name": "python385jvsc74a57bd07b4b4feff2f24a0f0a34464dbe537a36fda679851528fb8735cb41fa49dffb2d",
   "display_name": "Python 3.8.5 64-bit (conda)"
  }
 },
 "nbformat": 4,
 "nbformat_minor": 2,
 "cells": [
  {
   "source": [
    "# Conjuntos"
   ],
   "cell_type": "markdown",
   "metadata": {}
  },
  {
   "source": [
    "## Conjuntos em qualquer linguagem de programação estamos fazendo referência à Teoria dos Conjuntos\n",
    "## - No phyton os conjuntos são chamados de Sets.\n",
    "## - Sets (conjuntos) não possuem valores duplicados\n",
    "## - Sets (conjuntos) não possuem valores ordenados\n",
    "## Elementos não são acessados via índice, ou seja, conjuntos não são indexados\n",
    "\n",
    "## Conjuntos são bons para se utilizar quando precisamos armazenar elementos mas não nos importamos com a ordenação deles. Quando não precisamos nos preocupar com chaves, valores e itens duplicados\n",
    "\n",
    "## Os conjutos (sets) são referenciado em Python com chaves {}\n",
    "\n",
    "## Difereça entre Conjuntos (Set)  e Mapas (Dicionario) em Python:\n",
    "##      - Um dicionário tem chave/valor;\n",
    "##      - Um conjunto tem apenas valor;"
   ],
   "cell_type": "markdown",
   "metadata": {}
  },
  {
   "source": [
    "## Definindo um conjunto:"
   ],
   "cell_type": "markdown",
   "metadata": {}
  },
  {
   "source": [
    "Forma 1:"
   ],
   "cell_type": "markdown",
   "metadata": {}
  },
  {
   "cell_type": "code",
   "execution_count": 13,
   "metadata": {},
   "outputs": [],
   "source": [
    "s = set({1, 2, 3 ,4, 5, 5, 6, 7, 2, 3})"
   ]
  },
  {
   "cell_type": "code",
   "execution_count": 14,
   "metadata": {},
   "outputs": [
    {
     "output_type": "stream",
     "name": "stdout",
     "text": [
      "{1, 2, 3, 4, 5, 6, 7}\n"
     ]
    }
   ],
   "source": [
    "print(s)"
   ]
  },
  {
   "cell_type": "code",
   "execution_count": 15,
   "metadata": {},
   "outputs": [
    {
     "output_type": "stream",
     "name": "stdout",
     "text": [
      "<class 'set'>\n"
     ]
    }
   ],
   "source": [
    "print(type(s))"
   ]
  },
  {
   "source": [
    "### OBS: Ao criar um conjunto, caso seja adicionado um valor já existente, o mesmo será ignoradosem gerar erro e não fará parte do conjunto."
   ],
   "cell_type": "markdown",
   "metadata": {}
  },
  {
   "source": [
    "Forma 2: (mais comum)"
   ],
   "cell_type": "markdown",
   "metadata": {}
  },
  {
   "cell_type": "code",
   "execution_count": 16,
   "metadata": {},
   "outputs": [],
   "source": [
    "s = {1, 2, 3, 4, 5, 5}"
   ]
  },
  {
   "cell_type": "code",
   "execution_count": 17,
   "metadata": {},
   "outputs": [
    {
     "output_type": "stream",
     "name": "stdout",
     "text": [
      "{1, 2, 3, 4, 5}\n"
     ]
    }
   ],
   "source": [
    "print(s)"
   ]
  },
  {
   "cell_type": "code",
   "execution_count": 18,
   "metadata": {},
   "outputs": [
    {
     "output_type": "stream",
     "name": "stdout",
     "text": [
      "<class 'set'>\n"
     ]
    }
   ],
   "source": [
    "print(type(s))"
   ]
  },
  {
   "source": [
    "### Podemos verificar se determinado elemento está contido no conjunto"
   ],
   "cell_type": "markdown",
   "metadata": {}
  },
  {
   "cell_type": "code",
   "execution_count": 19,
   "metadata": {},
   "outputs": [
    {
     "output_type": "stream",
     "name": "stdout",
     "text": [
      "Tem o 3\n"
     ]
    }
   ],
   "source": [
    "if 3 in s:\n",
    "    print(\"Tem o 3\")\n",
    "else:\n",
    "    print(\"Não tem o 3\")"
   ]
  },
  {
   "cell_type": "code",
   "execution_count": 20,
   "metadata": {},
   "outputs": [
    {
     "output_type": "stream",
     "name": "stdout",
     "text": [
      "Dados: [99, 2, 34, 23, 2, 12, 1, 44, 5, 34] com 10 elementos\n"
     ]
    }
   ],
   "source": [
    "dados = [99, 2, 34, 23, 2, 12, 1, 44, 5, 34]\n",
    "print(f'Dados: {dados} com {len(dados)} elementos')"
   ]
  },
  {
   "cell_type": "code",
   "execution_count": 21,
   "metadata": {},
   "outputs": [
    {
     "output_type": "stream",
     "name": "stdout",
     "text": [
      "Lista: [99, 2, 34, 23, 2, 12, 1, 44, 5, 34] com 10 elementos\n"
     ]
    }
   ],
   "source": [
    "lista = list(dados)\n",
    "print(f'Lista: {lista} com {len(lista)} elementos')"
   ]
  },
  {
   "cell_type": "code",
   "execution_count": 22,
   "metadata": {},
   "outputs": [
    {
     "output_type": "stream",
     "name": "stdout",
     "text": [
      "Tupla: (99, 2, 34, 23, 2, 12, 1, 44, 5, 34) com 10 elementos\n"
     ]
    }
   ],
   "source": [
    "tupla = tuple(dados)\n",
    "print(f'Tupla: {tupla} com {len(tupla)} elementos')"
   ]
  },
  {
   "cell_type": "code",
   "execution_count": 23,
   "metadata": {},
   "outputs": [
    {
     "output_type": "stream",
     "name": "stdout",
     "text": [
      "Dicionario: {99: 'dict', 2: 'dict', 34: 'dict', 23: 'dict', 12: 'dict', 1: 'dict', 44: 'dict', 5: 'dict'} com 8 elementos\n"
     ]
    }
   ],
   "source": [
    "dicionario = {}.fromkeys(dados, 'dict')\n",
    "print(f'Dicionario: {dicionario} com {len(dicionario)} elementos')"
   ]
  },
  {
   "cell_type": "code",
   "execution_count": 24,
   "metadata": {},
   "outputs": [
    {
     "output_type": "stream",
     "name": "stdout",
     "text": [
      "Conjunto: {1, 2, 99, 34, 5, 12, 44, 23} com 8 elementos\n"
     ]
    }
   ],
   "source": [
    "conjunto = set(dados)\n",
    "print(f'Conjunto: {conjunto} com {len(conjunto)} elementos')"
   ]
  },
  {
   "source": [
    "### Assim como todo outro conjunto python podemos colocar tipos de dados misturados em Sets"
   ],
   "cell_type": "markdown",
   "metadata": {}
  },
  {
   "cell_type": "code",
   "execution_count": 25,
   "metadata": {},
   "outputs": [],
   "source": [
    "s = {1, 'b', True, 34.22, 44}"
   ]
  },
  {
   "cell_type": "code",
   "execution_count": 26,
   "metadata": {},
   "outputs": [
    {
     "output_type": "stream",
     "name": "stdout",
     "text": [
      "{1, 34.22, 44, 'b'}\n<class 'set'>\n"
     ]
    }
   ],
   "source": [
    "print(s)\n",
    "print(type(s))"
   ]
  },
  {
   "source": [
    "### Podemos iterar em um set normalmete"
   ],
   "cell_type": "markdown",
   "metadata": {}
  },
  {
   "cell_type": "code",
   "execution_count": 27,
   "metadata": {},
   "outputs": [
    {
     "output_type": "stream",
     "name": "stdout",
     "text": [
      "1\n34.22\n44\nb\n"
     ]
    }
   ],
   "source": [
    "for valor in s:\n",
    "    print(valor)"
   ]
  },
  {
   "source": [
    "## Usos interessantes com sets"
   ],
   "cell_type": "markdown",
   "metadata": {}
  },
  {
   "source": [
    "### Imagine que fizemos um formulário de cadastro de visitantes em uma feira ou museu e os visitantes informam manualmente a cidade de onde vieram.\n",
    "\n",
    "### Nós informamos cada cidade uma lista Python, já que em uma lista podemos adicionar novos elementos e ter repetição\n"
   ],
   "cell_type": "markdown",
   "metadata": {}
  },
  {
   "cell_type": "code",
   "execution_count": 30,
   "metadata": {},
   "outputs": [],
   "source": [
    "cidades = ['Belo Horizonte', 'São Paulo', 'Campo Grande', 'Cuiaba', 'Campo Grande', 'São Paulo', 'Cuiaba']"
   ]
  },
  {
   "cell_type": "code",
   "execution_count": 31,
   "metadata": {},
   "outputs": [
    {
     "output_type": "stream",
     "name": "stdout",
     "text": [
      "['Belo Horizonte', 'São Paulo', 'Campo Grande', 'Cuiaba', 'Campo Grande', 'São Paulo', 'Cuiaba']\n7\n"
     ]
    }
   ],
   "source": [
    "print(cidades)\n",
    "print(len(cidades))"
   ]
  },
  {
   "source": [
    "### Agora precisamos saber quantas cidades distintas temos."
   ],
   "cell_type": "markdown",
   "metadata": {}
  },
  {
   "cell_type": "code",
   "execution_count": 33,
   "metadata": {},
   "outputs": [
    {
     "output_type": "stream",
     "name": "stdout",
     "text": [
      "4\n"
     ]
    }
   ],
   "source": [
    "print(len(set(cidades)))"
   ]
  },
  {
   "source": [
    "## Adicionando elementos em um conjunto"
   ],
   "cell_type": "markdown",
   "metadata": {}
  },
  {
   "cell_type": "code",
   "execution_count": 35,
   "metadata": {},
   "outputs": [],
   "source": [
    "s = {1, 2, 3}"
   ]
  },
  {
   "cell_type": "code",
   "execution_count": 36,
   "metadata": {},
   "outputs": [],
   "source": [
    "s.add(4)"
   ]
  },
  {
   "cell_type": "code",
   "execution_count": 37,
   "metadata": {},
   "outputs": [
    {
     "output_type": "stream",
     "name": "stdout",
     "text": [
      "{1, 2, 3, 4}\n"
     ]
    }
   ],
   "source": [
    "print(s)"
   ]
  },
  {
   "source": [
    "## Remover elementos em um conjunto"
   ],
   "cell_type": "markdown",
   "metadata": {}
  },
  {
   "source": [
    "### Forma 1:"
   ],
   "cell_type": "markdown",
   "metadata": {}
  },
  {
   "cell_type": "code",
   "execution_count": 40,
   "metadata": {},
   "outputs": [],
   "source": [
    "s.remove(3) # Não é índice, informamos o valor a ser removido"
   ]
  },
  {
   "cell_type": "code",
   "execution_count": 41,
   "metadata": {},
   "outputs": [
    {
     "output_type": "stream",
     "name": "stdout",
     "text": [
      "{1, 2, 4}\n"
     ]
    }
   ],
   "source": [
    "print(s)"
   ]
  },
  {
   "source": [
    "### OBS: Caso o valor não seja encontrado será gerado o erro KeyError. Nenhum valor é retornado"
   ],
   "cell_type": "markdown",
   "metadata": {}
  },
  {
   "source": [
    "### Forma 2:"
   ],
   "cell_type": "markdown",
   "metadata": {}
  },
  {
   "cell_type": "code",
   "execution_count": 44,
   "metadata": {},
   "outputs": [],
   "source": [
    "s.discard(2)"
   ]
  },
  {
   "cell_type": "code",
   "execution_count": 46,
   "metadata": {},
   "outputs": [
    {
     "output_type": "stream",
     "name": "stdout",
     "text": [
      "{1, 4}\n"
     ]
    }
   ],
   "source": [
    "print(s)"
   ]
  },
  {
   "source": [
    "### OBS: Se o valor não for encontrado, nenhum erro é gerado"
   ],
   "cell_type": "markdown",
   "metadata": {}
  },
  {
   "source": [
    "## Copiando um conjunto para outro"
   ],
   "cell_type": "markdown",
   "metadata": {}
  },
  {
   "cell_type": "code",
   "execution_count": 49,
   "metadata": {},
   "outputs": [],
   "source": [
    "s = {1, 2, 3}"
   ]
  },
  {
   "cell_type": "code",
   "execution_count": 50,
   "metadata": {},
   "outputs": [
    {
     "output_type": "stream",
     "name": "stdout",
     "text": [
      "{1, 2, 3}\n"
     ]
    }
   ],
   "source": [
    "print(s)"
   ]
  },
  {
   "source": [
    "### Forma 1 = Deep Copy"
   ],
   "cell_type": "markdown",
   "metadata": {}
  },
  {
   "cell_type": "code",
   "execution_count": 52,
   "metadata": {},
   "outputs": [
    {
     "output_type": "stream",
     "name": "stdout",
     "text": [
      "{1, 2, 3}\n"
     ]
    }
   ],
   "source": [
    "novo = s.copy()\n",
    "print(novo)"
   ]
  },
  {
   "cell_type": "code",
   "execution_count": 54,
   "metadata": {},
   "outputs": [
    {
     "output_type": "stream",
     "name": "stdout",
     "text": [
      "{1, 2, 3, 4}\n"
     ]
    }
   ],
   "source": [
    "novo.add(4)\n",
    "print(novo)"
   ]
  },
  {
   "cell_type": "code",
   "execution_count": 55,
   "metadata": {},
   "outputs": [
    {
     "output_type": "stream",
     "name": "stdout",
     "text": [
      "{1, 2, 3}\n"
     ]
    }
   ],
   "source": [
    "print(s)"
   ]
  },
  {
   "source": [
    "### Forma 2: - Shallow Copy"
   ],
   "cell_type": "markdown",
   "metadata": {}
  },
  {
   "cell_type": "code",
   "execution_count": 57,
   "metadata": {},
   "outputs": [],
   "source": [
    "novo = s"
   ]
  },
  {
   "cell_type": "code",
   "execution_count": 58,
   "metadata": {},
   "outputs": [],
   "source": [
    "novo.add(4)"
   ]
  },
  {
   "cell_type": "code",
   "execution_count": 59,
   "metadata": {},
   "outputs": [
    {
     "output_type": "stream",
     "name": "stdout",
     "text": [
      "{1, 2, 3, 4}\n{1, 2, 3, 4}\n"
     ]
    }
   ],
   "source": [
    "print(novo)\n",
    "print(s)"
   ]
  },
  {
   "source": [
    "### Podemos remover todos os itens de um conjunto"
   ],
   "cell_type": "markdown",
   "metadata": {}
  },
  {
   "cell_type": "code",
   "execution_count": 61,
   "metadata": {},
   "outputs": [],
   "source": [
    "s.clear()"
   ]
  },
  {
   "cell_type": "code",
   "execution_count": 62,
   "metadata": {},
   "outputs": [
    {
     "output_type": "stream",
     "name": "stdout",
     "text": [
      "set()\n"
     ]
    }
   ],
   "source": [
    "print(s)"
   ]
  },
  {
   "source": [
    "## Métodos Matemáticos de Conjuntos"
   ],
   "cell_type": "markdown",
   "metadata": {}
  },
  {
   "source": [
    "### Imagine que temos dois conjuntos: Um contendoo estudadess do curso Python e um contendo estudades do curos de java."
   ],
   "cell_type": "markdown",
   "metadata": {}
  },
  {
   "cell_type": "code",
   "execution_count": 65,
   "metadata": {},
   "outputs": [],
   "source": [
    "estudantes_python = {'Marcos', 'Patrícia', 'Ellen', 'Pedro', 'Julia', 'Guilherme'}\n",
    "estudantes_java = {'Fernando', 'Gustavo', 'Julia', 'Ana', 'Patrícia'}"
   ]
  },
  {
   "source": [
    "### OBS: VEja que alguns alumos que estuam Python também estudam Java."
   ],
   "cell_type": "markdown",
   "metadata": {}
  },
  {
   "source": [
    "### Precisamos gerar um conjunto com nomes de estudantes únicos"
   ],
   "cell_type": "markdown",
   "metadata": {}
  },
  {
   "source": [
    "### Forma 1 - Utilizando union:"
   ],
   "cell_type": "markdown",
   "metadata": {}
  },
  {
   "cell_type": "code",
   "execution_count": 69,
   "metadata": {},
   "outputs": [
    {
     "output_type": "stream",
     "name": "stdout",
     "text": [
      "{'Ellen', 'Julia', 'Marcos', 'Ana', 'Patrícia', 'Fernando', 'Guilherme', 'Gustavo', 'Pedro'}\n"
     ]
    }
   ],
   "source": [
    "unicos1 = estudantes_python.union(estudantes_java)\n",
    "print(unicos1)"
   ]
  },
  {
   "source": [
    "### Forma 2: Utilizando o caractere pipe |"
   ],
   "cell_type": "markdown",
   "metadata": {}
  },
  {
   "cell_type": "code",
   "execution_count": 71,
   "metadata": {},
   "outputs": [
    {
     "output_type": "stream",
     "name": "stdout",
     "text": [
      "{'Ellen', 'Julia', 'Marcos', 'Ana', 'Patrícia', 'Fernando', 'Guilherme', 'Gustavo', 'Pedro'}\n"
     ]
    }
   ],
   "source": [
    "unicos2 = estudantes_python | estudantes_java\n",
    "print(unicos2)"
   ]
  },
  {
   "source": [
    "## Gerar um conjunto de estudantes que estão em ambos os cursos"
   ],
   "cell_type": "markdown",
   "metadata": {}
  },
  {
   "source": [
    "### Forma 1: Utilizando intersection"
   ],
   "cell_type": "markdown",
   "metadata": {}
  },
  {
   "cell_type": "code",
   "execution_count": 74,
   "metadata": {},
   "outputs": [
    {
     "output_type": "stream",
     "name": "stdout",
     "text": [
      "{'Julia', 'Patrícia'}\n"
     ]
    }
   ],
   "source": [
    "ambos1 = estudantes_python.intersection(estudantes_java)\n",
    "print(ambos1)"
   ]
  },
  {
   "source": [
    "### Forma 2 - Utlizando o &"
   ],
   "cell_type": "markdown",
   "metadata": {}
  },
  {
   "cell_type": "code",
   "execution_count": 77,
   "metadata": {},
   "outputs": [
    {
     "output_type": "stream",
     "name": "stdout",
     "text": [
      "{'Julia', 'Patrícia'}\n"
     ]
    }
   ],
   "source": [
    "ambos2 = estudantes_python & estudantes_java\n",
    "print(ambos2)"
   ]
  },
  {
   "source": [
    "## Gerar um conjunto de estudantes que nap estão no outro"
   ],
   "cell_type": "markdown",
   "metadata": {}
  },
  {
   "cell_type": "code",
   "execution_count": 79,
   "metadata": {},
   "outputs": [
    {
     "output_type": "stream",
     "name": "stdout",
     "text": [
      "{'Guilherme', 'Ellen', 'Marcos', 'Pedro'}\n"
     ]
    }
   ],
   "source": [
    "so_python = estudantes_python.difference(estudantes_java)\n",
    "print(so_python)"
   ]
  },
  {
   "cell_type": "code",
   "execution_count": 80,
   "metadata": {},
   "outputs": [
    {
     "output_type": "stream",
     "name": "stdout",
     "text": [
      "{'Gustavo', 'Ana', 'Fernando'}\n"
     ]
    }
   ],
   "source": [
    "so_java = estudantes_java.difference(estudantes_python)\n",
    "print(so_java)"
   ]
  },
  {
   "cell_type": "code",
   "execution_count": 81,
   "metadata": {},
   "outputs": [],
   "source": [
    "## Soma*, Valor Máximo*, Valor Mínimo*, tamanho\n",
    "### * Se os valores forem todos interios ou reais"
   ]
  },
  {
   "cell_type": "code",
   "execution_count": 82,
   "metadata": {},
   "outputs": [],
   "source": [
    "s = {1, 2, 3, 4, 5, 6}"
   ]
  },
  {
   "cell_type": "code",
   "execution_count": 84,
   "metadata": {},
   "outputs": [
    {
     "output_type": "stream",
     "name": "stdout",
     "text": [
      "21\n6\n1\n6\n"
     ]
    }
   ],
   "source": [
    "print(sum(s))\n",
    "print(max(s))\n",
    "print(min(s))\n",
    "print(len(s))"
   ]
  },
  {
   "cell_type": "code",
   "execution_count": null,
   "metadata": {},
   "outputs": [],
   "source": []
  }
 ]
}