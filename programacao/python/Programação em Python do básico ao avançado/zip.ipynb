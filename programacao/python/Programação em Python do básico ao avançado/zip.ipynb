{
 "cells": [
  {
   "cell_type": "markdown",
   "source": [
    "# <font color='blue'> Zip </font>\r\n",
    "\r\n",
    "### zip() -> Cria um iterável (Zip object) que agrega elemento de cada um dos iteráveis passados como entrada em pares."
   ],
   "metadata": {}
  },
  {
   "cell_type": "code",
   "execution_count": 24,
   "source": [
    "lista1 = list(range(1, 4))\r\n",
    "lista2 = list(range(4, 7))"
   ],
   "outputs": [],
   "metadata": {}
  },
  {
   "cell_type": "code",
   "execution_count": 25,
   "source": [
    "zip1 = zip(lista1, lista2, 'abc')\r\n",
    "print(zip1)\r\n",
    "print(type(zip1))"
   ],
   "outputs": [
    {
     "output_type": "stream",
     "name": "stdout",
     "text": [
      "<zip object at 0x0000020402A77E00>\n",
      "<class 'zip'>\n"
     ]
    }
   ],
   "metadata": {}
  },
  {
   "cell_type": "code",
   "execution_count": 26,
   "source": [
    "### Sempre podemos gerar uma lista, tupla, ou dicionário"
   ],
   "outputs": [],
   "metadata": {}
  },
  {
   "cell_type": "code",
   "execution_count": 27,
   "source": [
    "print(list(zip1))\r\n",
    "\r\n",
    "zip1 = zip(lista1, lista2, 'abc')\r\n",
    "print(tuple(zip1))\r\n",
    "\r\n",
    "zip1 = zip(lista1, lista2, 'abc')\r\n",
    "print(set(zip1))\r\n",
    "\r\n",
    "zip1 = zip(lista1, lista2)\r\n",
    "print(dict(zip1))"
   ],
   "outputs": [
    {
     "output_type": "stream",
     "name": "stdout",
     "text": [
      "[(1, 4, 'a'), (2, 5, 'b'), (3, 6, 'c')]\n",
      "((1, 4, 'a'), (2, 5, 'b'), (3, 6, 'c'))\n",
      "{(1, 4, 'a'), (3, 6, 'c'), (2, 5, 'b')}\n",
      "{1: 4, 2: 5, 3: 6}\n"
     ]
    }
   ],
   "metadata": {}
  },
  {
   "cell_type": "code",
   "execution_count": 28,
   "source": [
    "lista3 = list(range(7, 12))"
   ],
   "outputs": [],
   "metadata": {}
  },
  {
   "cell_type": "code",
   "execution_count": 29,
   "source": [
    "zip2 = zip(lista1, lista2, lista3)"
   ],
   "outputs": [],
   "metadata": {}
  },
  {
   "cell_type": "code",
   "execution_count": 31,
   "source": [
    "# OBS: O zip() utiliza como parâmetro o menos tamanho em iterável. Isso significa que se estiver trabalhando com iteráveis de tamanhos diferentews, irá parar quando os elementos do menor iterável acabar\r\n",
    "\r\n",
    "print(list(zip2))"
   ],
   "outputs": [
    {
     "output_type": "stream",
     "name": "stdout",
     "text": [
      "[(1, 4, 7), (2, 5, 8), (3, 6, 9)]\n"
     ]
    }
   ],
   "metadata": {}
  },
  {
   "cell_type": "markdown",
   "source": [
    "### Podemos utilizar diferentes iteráveis com zip"
   ],
   "metadata": {}
  },
  {
   "cell_type": "code",
   "execution_count": 35,
   "source": [
    "tupla = tuple(range(1, 6))\r\n",
    "lista = list(range(6, 11))\r\n",
    "letras = 'abcde'\r\n",
    "numeros = list(range(11, 16))\r\n",
    "dicionario = {}\r\n",
    "\r\n",
    "for i in range(len(letras)):\r\n",
    "    dicionario[letras[i]] = numeros[i]"
   ],
   "outputs": [],
   "metadata": {}
  },
  {
   "cell_type": "code",
   "execution_count": 37,
   "source": [
    "zt = zip(tupla, lista, dicionario.values())\r\n",
    "print(list(zt))"
   ],
   "outputs": [
    {
     "output_type": "stream",
     "name": "stdout",
     "text": [
      "[(1, 6, 11), (2, 7, 12), (3, 8, 13), (4, 9, 14), (5, 10, 15)]\n"
     ]
    }
   ],
   "metadata": {}
  },
  {
   "cell_type": "markdown",
   "source": [
    "### Lista de tuplas"
   ],
   "metadata": {}
  },
  {
   "cell_type": "code",
   "execution_count": 38,
   "source": [
    "dados = [(0, 1), (1, 2), (2, 3), (3, 4), (4, 5)]\r\n",
    "\r\n",
    "print(list(zip(*dados))) # Se utiliza o * para fazer a descompactação"
   ],
   "outputs": [
    {
     "output_type": "stream",
     "name": "stdout",
     "text": [
      "[(0, 1, 2, 3, 4), (1, 2, 3, 4, 5)]\n"
     ]
    }
   ],
   "metadata": {}
  },
  {
   "cell_type": "markdown",
   "source": [
    "### Exemplos mais complexos:"
   ],
   "metadata": {}
  },
  {
   "cell_type": "code",
   "execution_count": 39,
   "source": [
    "prova1 = [80, 91, 78]\r\n",
    "prova2 = [98, 89, 53]\r\n",
    "alunos = ['maria', 'pedro', 'carla']"
   ],
   "outputs": [],
   "metadata": {}
  },
  {
   "cell_type": "code",
   "execution_count": 40,
   "source": [
    "final = {dado[0]:max(dado[1], dado[2]) for dado in zip(alunos, prova1, prova2)}"
   ],
   "outputs": [],
   "metadata": {}
  },
  {
   "cell_type": "code",
   "execution_count": 41,
   "source": [
    "print(final)"
   ],
   "outputs": [
    {
     "output_type": "stream",
     "name": "stdout",
     "text": [
      "{'maria': 98, 'pedro': 91, 'carla': 78}\n"
     ]
    }
   ],
   "metadata": {}
  },
  {
   "cell_type": "code",
   "execution_count": 42,
   "source": [
    "final = zip(alunos, map(lambda nota: max(nota), zip(prova1, prova2)))\r\n",
    "print(dict(final))"
   ],
   "outputs": [
    {
     "output_type": "stream",
     "name": "stdout",
     "text": [
      "{'maria': 98, 'pedro': 91, 'carla': 78}\n"
     ]
    }
   ],
   "metadata": {}
  },
  {
   "cell_type": "code",
   "execution_count": 44,
   "source": [
    "list(zip(prova1, prova2))"
   ],
   "outputs": [
    {
     "output_type": "execute_result",
     "data": {
      "text/plain": [
       "[(80, 98), (91, 89), (78, 53)]"
      ]
     },
     "metadata": {},
     "execution_count": 44
    }
   ],
   "metadata": {}
  },
  {
   "cell_type": "code",
   "execution_count": 45,
   "source": [
    "list( map(lambda nota: max(nota), zip(prova1, prova2)))"
   ],
   "outputs": [
    {
     "output_type": "execute_result",
     "data": {
      "text/plain": [
       "[98, 91, 78]"
      ]
     },
     "metadata": {},
     "execution_count": 45
    }
   ],
   "metadata": {}
  },
  {
   "cell_type": "code",
   "execution_count": 46,
   "source": [
    "dict(zip(alunos, map(lambda nota: max(nota), zip(prova1, prova2))))"
   ],
   "outputs": [
    {
     "output_type": "execute_result",
     "data": {
      "text/plain": [
       "{'maria': 98, 'pedro': 91, 'carla': 78}"
      ]
     },
     "metadata": {},
     "execution_count": 46
    }
   ],
   "metadata": {}
  },
  {
   "cell_type": "code",
   "execution_count": null,
   "source": [],
   "outputs": [],
   "metadata": {}
  }
 ],
 "metadata": {
  "orig_nbformat": 4,
  "language_info": {
   "name": "python"
  }
 },
 "nbformat": 4,
 "nbformat_minor": 2
}