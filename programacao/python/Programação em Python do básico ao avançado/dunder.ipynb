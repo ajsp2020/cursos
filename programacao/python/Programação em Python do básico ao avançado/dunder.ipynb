{
 "cells": [
  {
   "cell_type": "markdown",
   "source": [
    "# Dunder name e Dunder Main\n",
    "\n",
    "### Dunder name -> __name__\n",
    "### Dunder Main -> __main__\n",
    "\n",
    "### Em Python são utilizados dunder para criar funções, atributos, propriedade e etc utilizando Double Under para não gerar coflito com nomes desses elementos nan programação.\n",
    "\n",
    "### Em Pythhon, se executarmos um módulo Python diretamente na linha de comando, internamente o Python atribuirá à variável __name__ o valor __main__ indicando que este módulo é o módulo de execução principal. "
   ],
   "metadata": {}
  },
  {
   "cell_type": "code",
   "execution_count": null,
   "source": [],
   "outputs": [],
   "metadata": {}
  }
 ],
 "metadata": {
  "orig_nbformat": 4,
  "language_info": {
   "name": "python"
  }
 },
 "nbformat": 4,
 "nbformat_minor": 2
}