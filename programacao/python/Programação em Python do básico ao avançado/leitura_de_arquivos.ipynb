{
 "cells": [
  {
   "cell_type": "markdown",
   "source": [
    "# Leitura de arquivos\n",
    "\n",
    "### Para ler o conteúdo de um arquivo em Python, utilizamos a função integrada open()\n",
    "\n",
    "### open() -> A forma mais simples de utilização nós passamos apenas o nome do arquivo a ser lido que retorna um _io.TextIOWrapper.\n",
    "\n",
    "### <_io.TextIOWrapper name='texto.txt' mode='r' encoding='UTF-8'>\n",
    "\n",
    "### mode r -> modo de leitura"
   ],
   "metadata": {}
  },
  {
   "cell_type": "code",
   "execution_count": 1,
   "source": [
    "arquivo = open('texto.txt')\n",
    "print(arquivo)\n",
    "print(type(arquivo))"
   ],
   "outputs": [
    {
     "output_type": "stream",
     "name": "stdout",
     "text": [
      "<_io.TextIOWrapper name='texto.txt' mode='r' encoding='UTF-8'>\n",
      "<class '_io.TextIOWrapper'>\n"
     ]
    }
   ],
   "metadata": {}
  },
  {
   "cell_type": "code",
   "execution_count": 2,
   "source": [
    "# Para ler o conteúdo de um aquivo, após sua abertura, devemos utilizar a função read()\n",
    "print(arquivo.read())"
   ],
   "outputs": [
    {
     "output_type": "stream",
     "name": "stdout",
     "text": [
      "Lorem Ipsum é simplesmente uma simulação de texto da\n"
     ]
    }
   ],
   "metadata": {}
  },
  {
   "cell_type": "code",
   "execution_count": 3,
   "source": [
    "arquivo.close()"
   ],
   "outputs": [],
   "metadata": {}
  },
  {
   "cell_type": "code",
   "execution_count": null,
   "source": [],
   "outputs": [],
   "metadata": {}
  }
 ],
 "metadata": {
  "orig_nbformat": 4,
  "language_info": {
   "name": "python",
   "version": "3.8.2",
   "mimetype": "text/x-python",
   "codemirror_mode": {
    "name": "ipython",
    "version": 3
   },
   "pygments_lexer": "ipython3",
   "nbconvert_exporter": "python",
   "file_extension": ".py"
  },
  "kernelspec": {
   "name": "python3",
   "display_name": "Python 3.8.2 64-bit ('Alura': conda)"
  },
  "interpreter": {
   "hash": "b712654a4e44784f513bc0735fa9d8fc6ade93e64d2807413d38cfef60ed5ddd"
  }
 },
 "nbformat": 4,
 "nbformat_minor": 2
}