{
 "cells": [
  {
   "cell_type": "markdown",
   "source": [
    "# trabalhando com módulos biltint (Os módulos integrado, que já vem instalado no Python)\n",
    "\n"
   ],
   "metadata": {}
  },
  {
   "cell_type": "code",
   "execution_count": 1,
   "source": [
    "# Utilizando alias (apelidos) para módulos/funções\n",
    "\n",
    "import random as rdm\n",
    "print(rdm.random())"
   ],
   "outputs": [
    {
     "output_type": "stream",
     "name": "stdout",
     "text": [
      "0.7786168751701009\n"
     ]
    }
   ],
   "metadata": {}
  },
  {
   "cell_type": "code",
   "execution_count": 2,
   "source": [
    "# Podemos importar todas as funções de um módulo unsado o *\n",
    "from random import *\n",
    "\n",
    "print(random())"
   ],
   "outputs": [
    {
     "output_type": "stream",
     "name": "stdout",
     "text": [
      "0.07622237684320476\n"
     ]
    }
   ],
   "metadata": {}
  },
  {
   "cell_type": "code",
   "execution_count": 3,
   "source": [
    "# importando todo o módulo\n",
    "\n",
    "import random\n",
    "print(random.random())"
   ],
   "outputs": [
    {
     "output_type": "stream",
     "name": "stdout",
     "text": [
      "0.4050769647434256\n"
     ]
    }
   ],
   "metadata": {}
  },
  {
   "cell_type": "code",
   "execution_count": 6,
   "source": [
    "from random import randint as rdi, random as rdm \n",
    "print(rdi(5,89))\n",
    "print(rdm())"
   ],
   "outputs": [
    {
     "output_type": "stream",
     "name": "stdout",
     "text": [
      "75\n",
      "0.4498509614881544\n"
     ]
    }
   ],
   "metadata": {}
  },
  {
   "cell_type": "code",
   "execution_count": 8,
   "source": [
    "# Costumamos utilizar tuple para colocar mútiplos import do mesmo módulo\n",
    "\n",
    "from random import(\n",
    "    random,\n",
    "    randint,\n",
    "    shuffle,\n",
    "    choice\n",
    ")\n",
    "\n",
    "print(random())\n",
    "print(randint(3,7))\n",
    "\n",
    "lista = ['Geek','University','Python']\n",
    "shuffle(lista)\n",
    "print(lista)\n",
    "print(choice('Universitty'))\n",
    "\n"
   ],
   "outputs": [
    {
     "output_type": "stream",
     "name": "stdout",
     "text": [
      "0.6385534855608188\n",
      "3\n",
      "['Python', 'Geek', 'University']\n",
      "t\n"
     ]
    }
   ],
   "metadata": {}
  },
  {
   "cell_type": "code",
   "execution_count": null,
   "source": [],
   "outputs": [],
   "metadata": {}
  },
  {
   "cell_type": "code",
   "execution_count": null,
   "source": [],
   "outputs": [],
   "metadata": {}
  }
 ],
 "metadata": {
  "orig_nbformat": 4,
  "language_info": {
   "name": "python",
   "version": "3.8.2",
   "mimetype": "text/x-python",
   "codemirror_mode": {
    "name": "ipython",
    "version": 3
   },
   "pygments_lexer": "ipython3",
   "nbconvert_exporter": "python",
   "file_extension": ".py"
  },
  "kernelspec": {
   "name": "python3",
   "display_name": "Python 3.8.2 64-bit ('Alura': conda)"
  },
  "interpreter": {
   "hash": "b712654a4e44784f513bc0735fa9d8fc6ade93e64d2807413d38cfef60ed5ddd"
  }
 },
 "nbformat": 4,
 "nbformat_minor": 2
}