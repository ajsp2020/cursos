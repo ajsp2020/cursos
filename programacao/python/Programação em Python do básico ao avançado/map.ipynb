{
 "cells": [
  {
   "cell_type": "markdown",
   "metadata": {},
   "source": [
    "# Map\r\n",
    "\r\n",
    "Com map, fazemos mapeamento de valores para função."
   ]
  },
  {
   "cell_type": "code",
   "execution_count": 2,
   "metadata": {},
   "outputs": [
    {
     "name": "stdout",
     "output_type": "stream",
     "text": [
      "12.566370614359172\n",
      "88.24733763933729\n"
     ]
    }
   ],
   "source": [
    "import math\r\n",
    "\r\n",
    "def area(r):\r\n",
    "    \"\"\"Calcula a área de um cículo com raio 'r' \"\"\"\r\n",
    "    return math.pi * (r**2)\r\n",
    "\r\n",
    "print(area(2))\r\n",
    "print(area(5.3))"
   ]
  },
  {
   "cell_type": "markdown",
   "metadata": {},
   "source": [
    "## Forma Comum"
   ]
  },
  {
   "cell_type": "code",
   "execution_count": 3,
   "metadata": {},
   "outputs": [
    {
     "name": "stdout",
     "output_type": "stream",
     "text": [
      "[12.566370614359172, 78.53981633974483, 158.36768566746147, 0.2827433388230814, 314.1592653589793, 6082.12337734984]\n"
     ]
    }
   ],
   "source": [
    "raios = [2, 5, 7.1, 0.3, 10, 44]\r\n",
    "\r\n",
    "areas = []\r\n",
    "for r in raios:\r\n",
    "    areas.append((area(r)))\r\n",
    "\r\n",
    "print(areas)"
   ]
  },
  {
   "cell_type": "markdown",
   "metadata": {},
   "source": [
    "## Forma 2 - Map"
   ]
  },
  {
   "cell_type": "code",
   "execution_count": 4,
   "metadata": {},
   "outputs": [
    {
     "name": "stdout",
     "output_type": "stream",
     "text": [
      "<map object at 0x0000025AFA941370>\n",
      "<class 'map'>\n",
      "[12.566370614359172, 78.53981633974483, 158.36768566746147, 0.2827433388230814, 314.1592653589793, 6082.12337734984]\n"
     ]
    }
   ],
   "source": [
    "# Map é uma função que recebe dois parâmetros: O primiero a função, o segundo um iterável. Retorna um Map Object\r\n",
    "areas = map(area, raios)\r\n",
    "print(areas)\r\n",
    "print(type(areas))\r\n",
    "print(list((areas)))"
   ]
  },
  {
   "cell_type": "markdown",
   "metadata": {},
   "source": [
    "## Forma 3 - Map com lambda"
   ]
  },
  {
   "cell_type": "code",
   "execution_count": 5,
   "metadata": {},
   "outputs": [
    {
     "name": "stdout",
     "output_type": "stream",
     "text": [
      "[12.566370614359172, 78.53981633974483, 158.36768566746147, 0.2827433388230814, 314.1592653589793, 6082.12337734984]\n"
     ]
    }
   ],
   "source": [
    "print(list(map(lambda r: math.pi * (r ** 2), raios)))"
   ]
  },
  {
   "cell_type": "markdown",
   "metadata": {},
   "source": [
    "OBS: Após utilizar a função map() deopis da primeira utilizção do resultado, eke zera."
   ]
  },
  {
   "cell_type": "markdown",
   "metadata": {},
   "source": [
    "Para fixar -- Map\r\n",
    "\r\n",
    "Temos dados iteráveis:\r\n",
    "dados: a1, a2, ... , an\r\n",
    "\r\n",
    "Temos uma função:\r\n",
    "Função: f(x)\r\n",
    "\r\n",
    "Utilizamos a função map(f, dados) onde o map irá 'mapear' cada elemento dos dados e aplicar a função.\r\n",
    "\r\n",
    "O Map Object: f(a1), f(a2), f(...), f(an)"
   ]
  },
  {
   "cell_type": "markdown",
   "metadata": {},
   "source": [
    "## Mais um exemplo"
   ]
  },
  {
   "cell_type": "code",
   "execution_count": 6,
   "metadata": {},
   "outputs": [
    {
     "name": "stdout",
     "output_type": "stream",
     "text": [
      "[('Berlin', 29), ('Cairo', 36), ('Buenos Aires', 19), ('Los Angeles', 26), ('Tokio', 27), ('Nova York', 28), ('Londres', 22)]\n"
     ]
    }
   ],
   "source": [
    "cidades = [('Berlin', 29), ('Cairo', 36), ('Buenos Aires', 19), ('Los Angeles', 26), ('Tokio', 27), ('Nova York', 28), ('Londres', 22)]\r\n",
    "\r\n",
    "print(cidades)"
   ]
  },
  {
   "cell_type": "code",
   "execution_count": 7,
   "metadata": {},
   "outputs": [
    {
     "name": "stdout",
     "output_type": "stream",
     "text": [
      "[('Berlin', 84.2), ('Cairo', 96.8), ('Buenos Aires', 66.2), ('Los Angeles', 78.80000000000001), ('Tokio', 80.6), ('Nova York', 82.4), ('Londres', 71.6)]\n"
     ]
    }
   ],
   "source": [
    "# f = 9/5 * c + 32\r\n",
    "\r\n",
    "c_para_f = lambda dado: (dado[0],(9/5 * dado[1] + 32))\r\n",
    "\r\n",
    "print(list(map(c_para_f, cidades)))"
   ]
  },
  {
   "cell_type": "code",
   "execution_count": 8,
   "metadata": {},
   "outputs": [
    {
     "name": "stdout",
     "output_type": "stream",
     "text": [
      "{'Berlin': 84.2, 'Cairo': 96.8, 'Buenos Aires': 66.2, 'Los Angeles': 78.80000000000001, 'Tokio': 80.6, 'Nova York': 82.4, 'Londres': 71.6}\n"
     ]
    }
   ],
   "source": [
    "\r\n",
    "print(dict(map(c_para_f, cidades)))"
   ]
  },
  {
   "cell_type": "code",
   "execution_count": null,
   "metadata": {},
   "outputs": [],
   "source": []
  }
 ],
 "metadata": {
  "interpreter": {
   "hash": "7b4b4feff2f24a0f0a34464dbe537a36fda679851528fb8735cb41fa49dffb2d"
  },
  "kernelspec": {
   "display_name": "Python 3.8.5 64-bit ('base': conda)",
   "name": "python3"
  },
  "language_info": {
   "codemirror_mode": {
    "name": "ipython",
    "version": 3
   },
   "file_extension": ".py",
   "mimetype": "text/x-python",
   "name": "python",
   "nbconvert_exporter": "python",
   "pygments_lexer": "ipython3",
   "version": "3.8.5"
  },
  "orig_nbformat": 4
 },
 "nbformat": 4,
 "nbformat_minor": 2
}