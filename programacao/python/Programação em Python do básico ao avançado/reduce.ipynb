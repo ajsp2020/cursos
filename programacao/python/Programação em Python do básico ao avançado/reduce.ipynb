{
 "cells": [
  {
   "cell_type": "markdown",
   "metadata": {},
   "source": [
    "# Reduce\r\n",
    "\r\n",
    "### OBS: A partir do Python3_ a função reduce() não é mais uma função integrada (built-in). Agora temos que importar e utilizar esta função a partir do módulo 'functools'\r\n",
    "\r\n",
    "### Utilize a função reduce() se você realmente precisa dela. Em  todo caso 99% dasd nezes um loop é mais legivel.\r\n",
    "\r\n",
    "### Para entende o reduce\r\n",
    "\r\n",
    "### Imagine que você tem uma coleção de dados:\r\n",
    "\r\n",
    "### dados = [a1, a2, a3, ... , an]\r\n",
    "\r\n",
    "### E você tem uma função que receba dois parâmetros:\r\n",
    "\r\n",
    "### def funcao(x, y):\r\n",
    "###     return x * y\r\n",
    "\r\n",
    "### Assim como map() e filter(), a função reduce() recebe dois parâmetros: a função e o iterável\r\n",
    "\r\n",
    "### reduce(funcao, dados)\r\n",
    "\r\n",
    "### A função reduce(), funciona da seguinte forma:\r\n",
    "### Passo 1: res1 = f(a1, a2) # Aplica a função nos dois primeiros elementos da coleção guarda o resultado.\r\n",
    "### Passo 2: res2 = f(res1, a3) # Aplica a função passando o resultado do passo1 mais o terceiro elemento e guarda o res.\r\n",
    "\r\n",
    "### Isso é repetido até o final\r\n",
    "\r\n",
    "### Passo n: resn = f(res(n-1), an)\r\n"
   ]
  },
  {
   "cell_type": "code",
   "execution_count": 1,
   "metadata": {},
   "outputs": [],
   "source": [
    "# Multiplicando todos elementos de uma lista"
   ]
  },
  {
   "cell_type": "code",
   "execution_count": 3,
   "metadata": {},
   "outputs": [
    {
     "name": "stdout",
     "output_type": "stream",
     "text": [
      "25878772920\n"
     ]
    }
   ],
   "source": [
    "from functools import reduce\r\n",
    "\r\n",
    "dados = [2, 3, 4, 5, 7, 11, 13, 17, 19, 23, 29]\r\n",
    "\r\n",
    "# Para utilizar o reduce() nós precisamos de uma função que recebe dois parâmetros\r\n",
    "mult = lambda x, y: x * y\r\n",
    "\r\n",
    "res = reduce(mult, dados)\r\n",
    "print(res)"
   ]
  },
  {
   "cell_type": "code",
   "execution_count": 4,
   "metadata": {},
   "outputs": [
    {
     "name": "stdout",
     "output_type": "stream",
     "text": [
      "25878772920\n"
     ]
    }
   ],
   "source": [
    "# Utilizando um loop normal\r\n",
    "res = 1\r\n",
    "for n in dados:\r\n",
    "    res = res * n\r\n",
    "\r\n",
    "print(res)"
   ]
  },
  {
   "cell_type": "code",
   "execution_count": null,
   "metadata": {},
   "outputs": [],
   "source": []
  }
 ],
 "metadata": {
  "interpreter": {
   "hash": "7b4b4feff2f24a0f0a34464dbe537a36fda679851528fb8735cb41fa49dffb2d"
  },
  "kernelspec": {
   "display_name": "Python 3.8.8 64-bit ('base': conda)",
   "name": "python3"
  },
  "language_info": {
   "codemirror_mode": {
    "name": "ipython",
    "version": 3
   },
   "file_extension": ".py",
   "mimetype": "text/x-python",
   "name": "python",
   "nbconvert_exporter": "python",
   "pygments_lexer": "ipython3",
   "version": "3.8.8"
  },
  "orig_nbformat": 4
 },
 "nbformat": 4,
 "nbformat_minor": 2
}