{
 "metadata": {
  "language_info": {
   "codemirror_mode": {
    "name": "ipython",
    "version": 3
   },
   "file_extension": ".py",
   "mimetype": "text/x-python",
   "name": "python",
   "nbconvert_exporter": "python",
   "pygments_lexer": "ipython3",
   "version": "3.9.4"
  },
  "orig_nbformat": 2,
  "kernelspec": {
   "name": "python394jvsc74a57bd0ba9badd6fe3e8ca5cff0835dde77e47b2605c410e16655f71b6694d1bd8da611",
   "display_name": "Python 3.9.4 64-bit (windows store)"
  },
  "metadata": {
   "interpreter": {
    "hash": "ba9badd6fe3e8ca5cff0835dde77e47b2605c410e16655f71b6694d1bd8da611"
   }
  }
 },
 "nbformat": 4,
 "nbformat_minor": 2,
 "cells": [
  {
   "source": [
    "# Módulo Collections - Counter"
   ],
   "cell_type": "markdown",
   "metadata": {}
  },
  {
   "source": [
    "### Collections -> High-performace Container Datetypes\n",
    "\n",
    "### Counter -> Recebe um interável como parâmetro e cria um objeto do  tipo Collections Counter que é parecido com um dicionário , contendo como chave o elemento da lista passada como parâmetro e como valor a quantidade de ocorrências desse elemento"
   ],
   "cell_type": "markdown",
   "metadata": {}
  },
  {
   "source": [
    "## Realizando o import"
   ],
   "cell_type": "markdown",
   "metadata": {}
  },
  {
   "cell_type": "code",
   "execution_count": 6,
   "metadata": {},
   "outputs": [],
   "source": [
    "from collections import Counter"
   ]
  },
  {
   "source": [
    "### Podemos utilizar qualquer iterável"
   ],
   "cell_type": "markdown",
   "metadata": {}
  },
  {
   "source": [
    "## Exemplo 1:"
   ],
   "cell_type": "markdown",
   "metadata": {}
  },
  {
   "cell_type": "code",
   "execution_count": 7,
   "metadata": {},
   "outputs": [],
   "source": [
    "lista = [1, 1, 1, 2, 2, 3, 3, 3, 3, 1, 1, 2, 2, 4, 4, 4, 5, 5, 5, 5, 6, 45, 45, 66, 66, 43, 34]"
   ]
  },
  {
   "source": [
    "## Utilizando o Counter"
   ],
   "cell_type": "markdown",
   "metadata": {}
  },
  {
   "cell_type": "code",
   "execution_count": 9,
   "metadata": {},
   "outputs": [],
   "source": [
    "res = Counter(lista)"
   ]
  },
  {
   "cell_type": "code",
   "execution_count": 10,
   "metadata": {},
   "outputs": [
    {
     "output_type": "stream",
     "name": "stdout",
     "text": [
      "<class 'collections.Counter'>\nCounter({1: 5, 2: 4, 3: 4, 5: 4, 4: 3, 45: 2, 66: 2, 6: 1, 43: 1, 34: 1})\n"
     ]
    }
   ],
   "source": [
    "print(type(res))\n",
    "print(res)"
   ]
  },
  {
   "source": [
    "### Veja que para cada elemento da lista o Counter criou uma chave e colocou como valor a quantidade de ocorrências"
   ],
   "cell_type": "markdown",
   "metadata": {}
  },
  {
   "source": [
    "## Exemplo 2:"
   ],
   "cell_type": "markdown",
   "metadata": {}
  },
  {
   "cell_type": "code",
   "execution_count": 12,
   "metadata": {},
   "outputs": [
    {
     "output_type": "stream",
     "name": "stdout",
     "text": [
      "Counter({'o': 4, 'n': 2, 'A': 1, 't': 1, 'i': 1, ' ': 1, 'J': 1, 'a': 1})\n"
     ]
    }
   ],
   "source": [
    "print(Counter('Antonio Joao'))"
   ]
  },
  {
   "source": [
    "## Exemplo 3:"
   ],
   "cell_type": "markdown",
   "metadata": {}
  },
  {
   "cell_type": "code",
   "execution_count": 16,
   "metadata": {},
   "outputs": [],
   "source": [
    "texto = \"\"\" A Wikipédia é um projeto de enciclopédia colaborativa, universal e multilíngue estabelecido na internet sob o princípio wiki. Tem como propósito fornecer um conteúdo livre, objetivo e verificável​​, que todos possam editar e melhorar. O projeto é definido pelos princípios fundadores. O conteúdo é disponibilizado sob a licença Creative Commons BY-SA e pode ser copiado e reutilizado sob a mesma licença — mesmo para fins comerciais — desde que respeitando os termos e condições de uso.\n",
    "\n",
    "Todos os editores da Wikipédia são voluntários. Eles integram uma comunidade colaborativa, sem um líder, na qual os membros coordenam os seus esforços no âmbito dos projetos temáticos e diversos espaços de discussão. Dentre as várias páginas de ajuda à disposição dos interessados em contribuir, estão as que explicam como criar um artigo ou editar um artigo. Em caso de dúvidas, não hesite em perguntar.\n",
    "\n",
    "Todos podem publicar conteúdo on-line desde que criem uma conta e sigam as regras básicas estabelecidas pela comunidade, como por exemplo a verificabilidade da informação ou notoriedade do tema. Debates e comentários sobre os artigos são bem-vindos. As páginas de discussão servem para centralizar reflexões e avaliações sobre como melhorar o conteúdo da Wikipédia.   \"\"\""
   ]
  },
  {
   "cell_type": "code",
   "execution_count": 17,
   "metadata": {},
   "outputs": [],
   "source": [
    "palavras = texto.split()"
   ]
  },
  {
   "cell_type": "code",
   "execution_count": 18,
   "metadata": {},
   "outputs": [
    {
     "output_type": "stream",
     "name": "stdout",
     "text": [
      "['A', 'Wikipédia', 'é', 'um', 'projeto', 'de', 'enciclopédia', 'colaborativa,', 'universal', 'e', 'multilíngue', 'estabelecido', 'na', 'internet', 'sob', 'o', 'princípio', 'wiki.', 'Tem', 'como', 'propósito', 'fornecer', 'um', 'conteúdo', 'livre,', 'objetivo', 'e', 'verificável\\u200b\\u200b,', 'que', 'todos', 'possam', 'editar', 'e', 'melhorar.', 'O', 'projeto', 'é', 'definido', 'pelos', 'princípios', 'fundadores.', 'O', 'conteúdo', 'é', 'disponibilizado', 'sob', 'a', 'licença', 'Creative', 'Commons', 'BY-SA', 'e', 'pode', 'ser', 'copiado', 'e', 'reutilizado', 'sob', 'a', 'mesma', 'licença', '—', 'mesmo', 'para', 'fins', 'comerciais', '—', 'desde', 'que', 'respeitando', 'os', 'termos', 'e', 'condições', 'de', 'uso.', 'Todos', 'os', 'editores', 'da', 'Wikipédia', 'são', 'voluntários.', 'Eles', 'integram', 'uma', 'comunidade', 'colaborativa,', 'sem', 'um', 'líder,', 'na', 'qual', 'os', 'membros', 'coordenam', 'os', 'seus', 'esforços', 'no', 'âmbito', 'dos', 'projetos', 'temáticos', 'e', 'diversos', 'espaços', 'de', 'discussão.', 'Dentre', 'as', 'várias', 'páginas', 'de', 'ajuda', 'à', 'disposição', 'dos', 'interessados', 'em', 'contribuir,', 'estão', 'as', 'que', 'explicam', 'como', 'criar', 'um', 'artigo', 'ou', 'editar', 'um', 'artigo.', 'Em', 'caso', 'de', 'dúvidas,', 'não', 'hesite', 'em', 'perguntar.', 'Todos', 'podem', 'publicar', 'conteúdo', 'on-line', 'desde', 'que', 'criem', 'uma', 'conta', 'e', 'sigam', 'as', 'regras', 'básicas', 'estabelecidas', 'pela', 'comunidade,', 'como', 'por', 'exemplo', 'a', 'verificabilidade', 'da', 'informação', 'ou', 'notoriedade', 'do', 'tema.', 'Debates', 'e', 'comentários', 'sobre', 'os', 'artigos', 'são', 'bem-vindos.', 'As', 'páginas', 'de', 'discussão', 'servem', 'para', 'centralizar', 'reflexões', 'e', 'avaliações', 'sobre', 'como', 'melhorar', 'o', 'conteúdo', 'da', 'Wikipédia.']\n"
     ]
    }
   ],
   "source": [
    "print(palavras)"
   ]
  },
  {
   "cell_type": "code",
   "execution_count": 19,
   "metadata": {},
   "outputs": [],
   "source": [
    "res = Counter(palavras)"
   ]
  },
  {
   "cell_type": "code",
   "execution_count": 20,
   "metadata": {},
   "outputs": [
    {
     "output_type": "stream",
     "name": "stdout",
     "text": [
      "Counter({'e': 10, 'de': 6, 'um': 5, 'os': 5, 'como': 4, 'conteúdo': 4, 'que': 4, 'é': 3, 'sob': 3, 'a': 3, 'da': 3, 'as': 3, 'Wikipédia': 2, 'projeto': 2, 'colaborativa,': 2, 'na': 2, 'o': 2, 'editar': 2, 'O': 2, 'licença': 2, '—': 2, 'para': 2, 'desde': 2, 'Todos': 2, 'são': 2, 'uma': 2, 'dos': 2, 'páginas': 2, 'em': 2, 'ou': 2, 'sobre': 2, 'A': 1, 'enciclopédia': 1, 'universal': 1, 'multilíngue': 1, 'estabelecido': 1, 'internet': 1, 'princípio': 1, 'wiki.': 1, 'Tem': 1, 'propósito': 1, 'fornecer': 1, 'livre,': 1, 'objetivo': 1, 'verificável\\u200b\\u200b,': 1, 'todos': 1, 'possam': 1, 'melhorar.': 1, 'definido': 1, 'pelos': 1, 'princípios': 1, 'fundadores.': 1, 'disponibilizado': 1, 'Creative': 1, 'Commons': 1, 'BY-SA': 1, 'pode': 1, 'ser': 1, 'copiado': 1, 'reutilizado': 1, 'mesma': 1, 'mesmo': 1, 'fins': 1, 'comerciais': 1, 'respeitando': 1, 'termos': 1, 'condições': 1, 'uso.': 1, 'editores': 1, 'voluntários.': 1, 'Eles': 1, 'integram': 1, 'comunidade': 1, 'sem': 1, 'líder,': 1, 'qual': 1, 'membros': 1, 'coordenam': 1, 'seus': 1, 'esforços': 1, 'no': 1, 'âmbito': 1, 'projetos': 1, 'temáticos': 1, 'diversos': 1, 'espaços': 1, 'discussão.': 1, 'Dentre': 1, 'várias': 1, 'ajuda': 1, 'à': 1, 'disposição': 1, 'interessados': 1, 'contribuir,': 1, 'estão': 1, 'explicam': 1, 'criar': 1, 'artigo': 1, 'artigo.': 1, 'Em': 1, 'caso': 1, 'dúvidas,': 1, 'não': 1, 'hesite': 1, 'perguntar.': 1, 'podem': 1, 'publicar': 1, 'on-line': 1, 'criem': 1, 'conta': 1, 'sigam': 1, 'regras': 1, 'básicas': 1, 'estabelecidas': 1, 'pela': 1, 'comunidade,': 1, 'por': 1, 'exemplo': 1, 'verificabilidade': 1, 'informação': 1, 'notoriedade': 1, 'do': 1, 'tema.': 1, 'Debates': 1, 'comentários': 1, 'artigos': 1, 'bem-vindos.': 1, 'As': 1, 'discussão': 1, 'servem': 1, 'centralizar': 1, 'reflexões': 1, 'avaliações': 1, 'melhorar': 1, 'Wikipédia.': 1})\n"
     ]
    }
   ],
   "source": [
    "print(res)"
   ]
  },
  {
   "source": [
    "## Encontrando as palavras com mais ocorrência no texto"
   ],
   "cell_type": "markdown",
   "metadata": {}
  },
  {
   "cell_type": "code",
   "execution_count": 22,
   "metadata": {},
   "outputs": [
    {
     "output_type": "stream",
     "name": "stdout",
     "text": [
      "[('e', 10), ('de', 6), ('um', 5), ('os', 5), ('como', 4), ('conteúdo', 4), ('que', 4), ('é', 3), ('sob', 3), ('a', 3)]\n"
     ]
    }
   ],
   "source": [
    "print(res.most_common(10))"
   ]
  },
  {
   "cell_type": "code",
   "execution_count": null,
   "metadata": {},
   "outputs": [],
   "source": []
  }
 ]
}