{
 "cells": [
  {
   "cell_type": "markdown",
   "source": [
    "# Pacotes\n",
    "\n",
    "### Módulos -> É apenas um arquivo Python que pode ter diversas funções para utilizarmos.\n",
    "### Pacotes -> É um diretório contendo uma coleção de módulos.\n",
    "\n",
    "### OBS: Nas versões 2.x do Python, um pacote Python deveria conter  dentro dele um aquivo chamado __init__.py\n",
    "\n",
    "### Nas vers~eos do Python 3.x, não é mais obrigatória a utilização deste arquivo, mas normmalmente ainda é utilizado para manter compatibilidade."
   ],
   "metadata": {}
  },
  {
   "cell_type": "code",
   "execution_count": null,
   "source": [],
   "outputs": [],
   "metadata": {}
  }
 ],
 "metadata": {
  "orig_nbformat": 4,
  "language_info": {
   "name": "python"
  }
 },
 "nbformat": 4,
 "nbformat_minor": 2
}