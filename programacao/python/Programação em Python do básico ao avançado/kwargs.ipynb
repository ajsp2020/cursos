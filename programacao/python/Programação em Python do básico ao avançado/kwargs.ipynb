{
 "metadata": {
  "language_info": {
   "codemirror_mode": {
    "name": "ipython",
    "version": 3
   },
   "file_extension": ".py",
   "mimetype": "text/x-python",
   "name": "python",
   "nbconvert_exporter": "python",
   "pygments_lexer": "ipython3",
   "version": "3.9.5"
  },
  "orig_nbformat": 2,
  "kernelspec": {
   "name": "python395jvsc74a57bd0ba9badd6fe3e8ca5cff0835dde77e47b2605c410e16655f71b6694d1bd8da611",
   "display_name": "Python 3.9.5 64-bit (windows store)"
  },
  "metadata": {
   "interpreter": {
    "hash": "ba9badd6fe3e8ca5cff0835dde77e47b2605c410e16655f71b6694d1bd8da611"
   }
  }
 },
 "nbformat": 4,
 "nbformat_minor": 2,
 "cells": [
  {
   "source": [
    "# **kwargs"
   ],
   "cell_type": "markdown",
   "metadata": {}
  },
  {
   "source": [
    "### Poderiamos chamar este parâmetro de **xis, mas por convenção chamamos de **kwargs\n",
    "### Este é mais m parâmetrom mas diferente do *args que coloca os valores extras em uuuma tupla, o **kwargs exige que utilizzemos parâmtros nomeados, e transforma esses parâmetros extras em um dicionário"
   ],
   "cell_type": "markdown",
   "metadata": {}
  },
  {
   "cell_type": "code",
   "execution_count": 3,
   "metadata": {},
   "outputs": [],
   "source": [
    "## Exemplo"
   ]
  },
  {
   "cell_type": "code",
   "execution_count": 6,
   "metadata": {},
   "outputs": [
    {
     "output_type": "stream",
     "name": "stdout",
     "text": [
      "{'marcos': 'verde', 'julia': 'amarelo', 'fernanda': 'azul', 'vanessa': 'branco'}\n"
     ]
    }
   ],
   "source": [
    "def cores__favoritas(**kwargs):\n",
    "    print(kwargs)\n",
    "\n",
    "cores__favoritas(marcos='verde', julia='amarelo', fernanda='azul', vanessa='branco')"
   ]
  },
  {
   "cell_type": "code",
   "execution_count": 7,
   "metadata": {},
   "outputs": [
    {
     "output_type": "stream",
     "name": "stdout",
     "text": [
      "A cor favorita de Marcos é verde\nA cor favorita de Julia é amarelo\nA cor favorita de Fernanda é azul\nA cor favorita de Vanessa é branco\n"
     ]
    }
   ],
   "source": [
    "def cores__favoritas(**kwargs):\n",
    "    for pessoa, cor in kwargs.items():\n",
    "        print(f'A cor favorita de {pessoa.title()} é {cor}')\n",
    "\n",
    "cores__favoritas(marcos='verde', julia='amarelo', fernanda='azul', vanessa='branco')"
   ]
  },
  {
   "source": [
    "### OBS: O parâmetros *args e **kwargs não são obrigatórios"
   ],
   "cell_type": "markdown",
   "metadata": {}
  },
  {
   "cell_type": "code",
   "execution_count": 9,
   "metadata": {},
   "outputs": [],
   "source": [
    "## Exemplo mais complexo>"
   ]
  },
  {
   "cell_type": "code",
   "execution_count": 10,
   "metadata": {},
   "outputs": [],
   "source": [
    "def complemento_especial(**kwargs):\n",
    "    if 'geek' in kwargs and kwargs['geek'] == 'Python':\n",
    "        return 'Você recebeu um cumprimento Pythonico Geek!'\n",
    "    elif 'geek' in kwargs:\n",
    "        return f\"{kwargs['geek']} Geek\"\n",
    "    return 'Não tenho certeza de quem voce é' "
   ]
  },
  {
   "cell_type": "code",
   "execution_count": 11,
   "metadata": {},
   "outputs": [
    {
     "output_type": "stream",
     "name": "stdout",
     "text": [
      "Não tenho certeza de quem voce é\nVocê recebeu um cumprimento Pythonico Geek!\nOi Geek\nespecial Geek\n"
     ]
    }
   ],
   "source": [
    "print(complemento_especial())\n",
    "print(complemento_especial(geek='Python'))\n",
    "print(complemento_especial(geek='Oi'))\n",
    "print(complemento_especial(geek='especial'))"
   ]
  },
  {
   "source": [
    "### Nas nossas funçoes, podemos ter (NESTA ORDEM):\n",
    "### - Parâmetros obrigaórios;\n",
    "### - *args;\n",
    "### - Parâmetros default (nâo obrigatórios);\n",
    "### - **kwards"
   ],
   "cell_type": "markdown",
   "metadata": {}
  },
  {
   "cell_type": "code",
   "execution_count": 14,
   "metadata": {},
   "outputs": [],
   "source": [
    "def minha_funcao(idade, nome, *args, solteiro=False, **kwargs):\n",
    "    print(f'{nome} tem {idade} anos')\n",
    "    print(args)\n",
    "    if solteiro:\n",
    "        print('solteiro')\n",
    "    else:\n",
    "        print('casado')\n",
    "    print(kwargs)"
   ]
  },
  {
   "cell_type": "code",
   "execution_count": 15,
   "metadata": {},
   "outputs": [
    {
     "output_type": "stream",
     "name": "stdout",
     "text": [
      "julia tem 8 anos\n()\ncasado\n{}\nFelicity tem 18 anos\n(4, 5, 3)\nsolteiro\n{}\nFelipe tem 34 anos\n()\ncasado\n{'eu': 'Não', 'voce': 'Vai'}\nCarla tem 19 anos\n(9, 4, 3)\ncasado\n{'java': False, 'python': True}\n"
     ]
    }
   ],
   "source": [
    "minha_funcao(8, 'julia')\n",
    "minha_funcao(18, 'Felicity', 4, 5, 3, solteiro=True)\n",
    "minha_funcao(34, 'Felipe', eu='Não', voce='Vai')\n",
    "minha_funcao(19, 'Carla', 9, 4, 3, java=False, python=True)"
   ]
  },
  {
   "cell_type": "code",
   "execution_count": 16,
   "metadata": {},
   "outputs": [],
   "source": [
    "## Desempacotar com **kwargs"
   ]
  },
  {
   "cell_type": "code",
   "execution_count": 17,
   "metadata": {},
   "outputs": [],
   "source": [
    "def mostra_nomes(**kwargs):\n",
    "    return f\"{kwargs['nome']} {kwargs['sobrenome']}\"\n",
    "\n",
    "nomes = {'nome':'Felicity', 'sobrenome': 'Jone'}"
   ]
  },
  {
   "cell_type": "code",
   "execution_count": 18,
   "metadata": {},
   "outputs": [
    {
     "output_type": "stream",
     "name": "stdout",
     "text": [
      "Felicity Jone\n"
     ]
    }
   ],
   "source": [
    "print(mostra_nomes(**nomes))"
   ]
  },
  {
   "cell_type": "code",
   "execution_count": 19,
   "metadata": {},
   "outputs": [
    {
     "output_type": "stream",
     "name": "stdout",
     "text": [
      "6\n"
     ]
    }
   ],
   "source": [
    "def somas_multiplos_numeros(a, b, c):\n",
    "    print(a + b + c)\n",
    "\n",
    "somas_multiplos_numeros(1, 2, 3)"
   ]
  },
  {
   "cell_type": "code",
   "execution_count": 23,
   "metadata": {},
   "outputs": [],
   "source": [
    "lista = [1, 2, 3]\n",
    "tupla = (1, 2, 3)\n",
    "conjunto = {1, 2, 3}"
   ]
  },
  {
   "cell_type": "code",
   "execution_count": 24,
   "metadata": {},
   "outputs": [
    {
     "output_type": "stream",
     "name": "stdout",
     "text": [
      "6\n6\n6\n"
     ]
    }
   ],
   "source": [
    "somas_multiplos_numeros(*lista)\n",
    "somas_multiplos_numeros(*tupla)\n",
    "somas_multiplos_numeros(*conjunto)\n",
    "\n"
   ]
  },
  {
   "cell_type": "code",
   "execution_count": 25,
   "metadata": {},
   "outputs": [],
   "source": [
    "dicionario = dict(a=1, b=2, c=3)"
   ]
  },
  {
   "cell_type": "code",
   "execution_count": 26,
   "metadata": {},
   "outputs": [
    {
     "output_type": "stream",
     "name": "stdout",
     "text": [
      "6\n"
     ]
    }
   ],
   "source": [
    "somas_multiplos_numeros(**dicionario)"
   ]
  },
  {
   "source": [
    "### OBS! Os nomes da chave em um dicioário devem ser os mesmos dos parâmetros da função"
   ],
   "cell_type": "markdown",
   "metadata": {}
  },
  {
   "cell_type": "code",
   "execution_count": 28,
   "metadata": {},
   "outputs": [
    {
     "output_type": "error",
     "ename": "TypeError",
     "evalue": "somas_multiplos_numeros() got an unexpected keyword argument 'lang'",
     "traceback": [
      "\u001b[1;31m---------------------------------------------------------------------------\u001b[0m",
      "\u001b[1;31mTypeError\u001b[0m                                 Traceback (most recent call last)",
      "\u001b[1;32m<ipython-input-28-75185858659f>\u001b[0m in \u001b[0;36m<module>\u001b[1;34m\u001b[0m\n\u001b[1;32m----> 1\u001b[1;33m \u001b[0msomas_multiplos_numeros\u001b[0m\u001b[1;33m(\u001b[0m\u001b[1;33m**\u001b[0m\u001b[0mdicionario\u001b[0m\u001b[1;33m,\u001b[0m \u001b[0mlang\u001b[0m\u001b[1;33m=\u001b[0m\u001b[1;34m'Python'\u001b[0m\u001b[1;33m)\u001b[0m\u001b[1;33m\u001b[0m\u001b[1;33m\u001b[0m\u001b[0m\n\u001b[0m",
      "\u001b[1;31mTypeError\u001b[0m: somas_multiplos_numeros() got an unexpected keyword argument 'lang'"
     ]
    }
   ],
   "source": [
    "somas_multiplos_numeros(**dicionario, lang='Python')\n"
   ]
  },
  {
   "cell_type": "code",
   "execution_count": null,
   "metadata": {},
   "outputs": [],
   "source": []
  }
 ]
}