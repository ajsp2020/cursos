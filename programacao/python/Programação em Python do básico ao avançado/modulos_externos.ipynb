{
 "cells": [
  {
   "cell_type": "markdown",
   "source": [
    "# Módulos Externos\n",
    "\n",
    "### Utilizamos o gerenciador de pacotes chamados Pip - Python Installer Packege\n",
    "### https://pypi.org\n",
    "### pip install nome_do_modulo"
   ],
   "metadata": {}
  },
  {
   "cell_type": "code",
   "execution_count": null,
   "source": [],
   "outputs": [],
   "metadata": {}
  }
 ],
 "metadata": {
  "orig_nbformat": 4,
  "language_info": {
   "name": "python",
   "version": "3.8.2"
  },
  "kernelspec": {
   "name": "python3",
   "display_name": "Python 3.8.2 64-bit"
  },
  "interpreter": {
   "hash": "31f2aee4e71d21fbe5cf8b01ff0e069b9275f58929596ceb00d14d90e3e16cd6"
  }
 },
 "nbformat": 4,
 "nbformat_minor": 2
}