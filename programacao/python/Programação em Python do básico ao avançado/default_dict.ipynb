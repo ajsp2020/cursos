{
 "metadata": {
  "language_info": {
   "codemirror_mode": {
    "name": "ipython",
    "version": 3
   },
   "file_extension": ".py",
   "mimetype": "text/x-python",
   "name": "python",
   "nbconvert_exporter": "python",
   "pygments_lexer": "ipython3",
   "version": "3.9.4"
  },
  "orig_nbformat": 2,
  "kernelspec": {
   "name": "python394jvsc74a57bd0ba9badd6fe3e8ca5cff0835dde77e47b2605c410e16655f71b6694d1bd8da611",
   "display_name": "Python 3.9.4 64-bit (windows store)"
  },
  "metadata": {
   "interpreter": {
    "hash": "ba9badd6fe3e8ca5cff0835dde77e47b2605c410e16655f71b6694d1bd8da611"
   }
  }
 },
 "nbformat": 4,
 "nbformat_minor": 2,
 "cells": [
  {
   "source": [
    "# Módulo Collections - Defaulf Dict"
   ],
   "cell_type": "markdown",
   "metadata": {}
  },
  {
   "source": [
    "### Default Dict -> Ao criar um dicionário utilzando-o, nós podemos informamos um valor default, podendo utilizar um lambda para isso. Esse valor será utilizado sempre que não houver um valor definido. Caso tentemos acessar uma chave que não existe, essa chave será criada e o valor default seráa tribuido"
   ],
   "cell_type": "markdown",
   "metadata": {}
  },
  {
   "source": [
    "## Fazendo o Import"
   ],
   "cell_type": "markdown",
   "metadata": {}
  },
  {
   "source": [
    "### OBS: Lambda são funções sem nome que podem ou não receber parâmetros de entrada e retornar valores"
   ],
   "cell_type": "markdown",
   "metadata": {}
  },
  {
   "cell_type": "code",
   "execution_count": 4,
   "metadata": {},
   "outputs": [],
   "source": [
    "from collections import defaultdict"
   ]
  },
  {
   "cell_type": "code",
   "execution_count": 6,
   "metadata": {},
   "outputs": [],
   "source": [
    "dicionario = defaultdict(lambda: 0)"
   ]
  },
  {
   "cell_type": "code",
   "execution_count": 7,
   "metadata": {},
   "outputs": [
    {
     "output_type": "stream",
     "name": "stdout",
     "text": [
      "defaultdict(<function <lambda> at 0x000002E52DB28EE0>, {})\n"
     ]
    }
   ],
   "source": [
    "print(dicionario)"
   ]
  },
  {
   "cell_type": "code",
   "execution_count": 8,
   "metadata": {},
   "outputs": [],
   "source": [
    "dicionario['nome'] = 'Antonio João Pereira'"
   ]
  },
  {
   "cell_type": "code",
   "execution_count": 9,
   "metadata": {},
   "outputs": [
    {
     "output_type": "stream",
     "name": "stdout",
     "text": [
      "defaultdict(<function <lambda> at 0x000002E52DB28EE0>, {'nome': 'Antonio João Pereira'})\n"
     ]
    }
   ],
   "source": [
    "print(dicionario)"
   ]
  },
  {
   "cell_type": "code",
   "execution_count": 10,
   "metadata": {},
   "outputs": [
    {
     "output_type": "stream",
     "name": "stdout",
     "text": [
      "0\n"
     ]
    }
   ],
   "source": [
    "print(dicionario['outro']) # Não gera o KeyError"
   ]
  },
  {
   "cell_type": "code",
   "execution_count": null,
   "metadata": {},
   "outputs": [],
   "source": []
  }
 ]
}