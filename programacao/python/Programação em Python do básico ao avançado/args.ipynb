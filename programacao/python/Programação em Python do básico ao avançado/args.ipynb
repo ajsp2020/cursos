{
 "metadata": {
  "language_info": {
   "codemirror_mode": {
    "name": "ipython",
    "version": 3
   },
   "file_extension": ".py",
   "mimetype": "text/x-python",
   "name": "python",
   "nbconvert_exporter": "python",
   "pygments_lexer": "ipython3",
   "version": "3.9.5"
  },
  "orig_nbformat": 2,
  "kernelspec": {
   "name": "python395jvsc74a57bd0ba9badd6fe3e8ca5cff0835dde77e47b2605c410e16655f71b6694d1bd8da611",
   "display_name": "Python 3.9.5 64-bit (windows store)"
  },
  "metadata": {
   "interpreter": {
    "hash": "ba9badd6fe3e8ca5cff0835dde77e47b2605c410e16655f71b6694d1bd8da611"
   }
  }
 },
 "nbformat": 4,
 "nbformat_minor": 2,
 "cells": [
  {
   "source": [
    "# Entendendo o *args"
   ],
   "cell_type": "markdown",
   "metadata": {}
  },
  {
   "cell_type": "code",
   "execution_count": 2,
   "metadata": {},
   "outputs": [],
   "source": [
    "### - O *args é um parâmetro, como qualquer outro. Isso siginifica que você poderá chamar de qualquer coisa, desde que começe com aasterisco. \n",
    "### Exemplo>\n",
    "\n",
    "### *xis\n",
    "### Mas por convenção, utilizamos *args para defini-lo\n",
    "\n",
    "## O parâmetro *args utilizado em uma função. coloca os valores extras informadoso como entrada em uma tupla. Entrão desde já lembre-se que tuplas são imutáveis. "
   ]
  },
  {
   "cell_type": "code",
   "execution_count": 3,
   "metadata": {},
   "outputs": [],
   "source": [
    "# Exemplos:"
   ]
  },
  {
   "cell_type": "code",
   "execution_count": 4,
   "metadata": {},
   "outputs": [],
   "source": [
    "def soma_todos_os_numeros(num1, num2, num3):\n",
    "    return num1 + num2 + num3"
   ]
  },
  {
   "cell_type": "code",
   "execution_count": 5,
   "metadata": {},
   "outputs": [
    {
     "output_type": "stream",
     "name": "stdout",
     "text": [
      "19\n"
     ]
    }
   ],
   "source": [
    "print(soma_todos_os_numeros(4, 6, 9))"
   ]
  },
  {
   "cell_type": "code",
   "execution_count": 7,
   "metadata": {},
   "outputs": [
    {
     "output_type": "error",
     "ename": "TypeError",
     "evalue": "soma_todos_os_numeros() missing 1 required positional argument: 'num3'",
     "traceback": [
      "\u001b[1;31m---------------------------------------------------------------------------\u001b[0m",
      "\u001b[1;31mTypeError\u001b[0m                                 Traceback (most recent call last)",
      "\u001b[1;32m<ipython-input-7-6d1b976a8346>\u001b[0m in \u001b[0;36m<module>\u001b[1;34m\u001b[0m\n\u001b[1;32m----> 1\u001b[1;33m \u001b[0mprint\u001b[0m\u001b[1;33m(\u001b[0m\u001b[0msoma_todos_os_numeros\u001b[0m\u001b[1;33m(\u001b[0m\u001b[1;36m4\u001b[0m\u001b[1;33m,\u001b[0m \u001b[1;36m6\u001b[0m\u001b[1;33m)\u001b[0m\u001b[1;33m)\u001b[0m\u001b[1;33m\u001b[0m\u001b[1;33m\u001b[0m\u001b[0m\n\u001b[0m",
      "\u001b[1;31mTypeError\u001b[0m: soma_todos_os_numeros() missing 1 required positional argument: 'num3'"
     ]
    }
   ],
   "source": [
    "print(soma_todos_os_numeros(4, 6))"
   ]
  },
  {
   "cell_type": "code",
   "execution_count": 8,
   "metadata": {},
   "outputs": [
    {
     "output_type": "error",
     "ename": "TypeError",
     "evalue": "soma_todos_os_numeros() takes 3 positional arguments but 4 were given",
     "traceback": [
      "\u001b[1;31m---------------------------------------------------------------------------\u001b[0m",
      "\u001b[1;31mTypeError\u001b[0m                                 Traceback (most recent call last)",
      "\u001b[1;32m<ipython-input-8-8350aa70833a>\u001b[0m in \u001b[0;36m<module>\u001b[1;34m\u001b[0m\n\u001b[1;32m----> 1\u001b[1;33m \u001b[0mprint\u001b[0m\u001b[1;33m(\u001b[0m\u001b[0msoma_todos_os_numeros\u001b[0m\u001b[1;33m(\u001b[0m\u001b[1;36m4\u001b[0m\u001b[1;33m,\u001b[0m \u001b[1;36m6\u001b[0m\u001b[1;33m,\u001b[0m \u001b[1;36m4\u001b[0m\u001b[1;33m,\u001b[0m \u001b[1;36m5\u001b[0m\u001b[1;33m)\u001b[0m\u001b[1;33m)\u001b[0m\u001b[1;33m\u001b[0m\u001b[1;33m\u001b[0m\u001b[0m\n\u001b[0m",
      "\u001b[1;31mTypeError\u001b[0m: soma_todos_os_numeros() takes 3 positional arguments but 4 were given"
     ]
    }
   ],
   "source": [
    "print(soma_todos_os_numeros(4, 6, 4, 5))"
   ]
  },
  {
   "source": [
    "## Entendendo o args"
   ],
   "cell_type": "markdown",
   "metadata": {}
  },
  {
   "cell_type": "code",
   "execution_count": 12,
   "metadata": {},
   "outputs": [],
   "source": [
    "def soma_todos_os_numeros(*args):\n",
    "    total = 0\n",
    "    for numero in args:\n",
    "        total = total + numero\n",
    "    return total"
   ]
  },
  {
   "cell_type": "code",
   "execution_count": 13,
   "metadata": {},
   "outputs": [
    {
     "output_type": "stream",
     "name": "stdout",
     "text": [
      "0\n1\n5\n15\n34\n"
     ]
    }
   ],
   "source": [
    "print(soma_todos_os_numeros())\n",
    "print(soma_todos_os_numeros(1))\n",
    "print(soma_todos_os_numeros(2, 3))\n",
    "print(soma_todos_os_numeros(4, 5, 6))\n",
    "print(soma_todos_os_numeros(7, 8, 9, 10))\n"
   ]
  },
  {
   "cell_type": "code",
   "execution_count": 14,
   "metadata": {},
   "outputs": [],
   "source": [
    "def soma_todos_os_numeros(*args):\n",
    "    return sum(args) # args retorna uma tupla"
   ]
  },
  {
   "cell_type": "code",
   "execution_count": 15,
   "metadata": {},
   "outputs": [
    {
     "output_type": "stream",
     "name": "stdout",
     "text": [
      "0\n1\n5\n15\n34\n"
     ]
    }
   ],
   "source": [
    "print(soma_todos_os_numeros())\n",
    "print(soma_todos_os_numeros(1))\n",
    "print(soma_todos_os_numeros(2, 3))\n",
    "print(soma_todos_os_numeros(4, 5, 6))\n",
    "print(soma_todos_os_numeros(7, 8, 9, 10))"
   ]
  },
  {
   "cell_type": "code",
   "execution_count": 18,
   "metadata": {},
   "outputs": [],
   "source": [
    "def soma_todos_os_numeros(nome, *args):\n",
    "    return sum(args) # args retorna uma tupla"
   ]
  },
  {
   "cell_type": "code",
   "execution_count": 19,
   "metadata": {},
   "outputs": [
    {
     "output_type": "stream",
     "name": "stdout",
     "text": [
      "0\n1\n5\n15\n34\n"
     ]
    }
   ],
   "source": [
    "print(soma_todos_os_numeros('James'))\n",
    "print(soma_todos_os_numeros('James',1))\n",
    "print(soma_todos_os_numeros('James',2, 3))\n",
    "print(soma_todos_os_numeros('James',4, 5, 6))\n",
    "print(soma_todos_os_numeros('James',7, 8, 9, 10))"
   ]
  },
  {
   "source": [
    "## Outro exemplo de utilização do *args"
   ],
   "cell_type": "markdown",
   "metadata": {}
  },
  {
   "cell_type": "code",
   "execution_count": 24,
   "metadata": {},
   "outputs": [],
   "source": [
    "def verifica_info(*args):\n",
    "    if 'Geek' in args and 'University' in args:\n",
    "        return 'Bem-vindo' \n",
    "    return 'Eu não tenho certeza que você é'"
   ]
  },
  {
   "cell_type": "code",
   "execution_count": 25,
   "metadata": {},
   "outputs": [
    {
     "output_type": "stream",
     "name": "stdout",
     "text": [
      "Eu não tenho certeza que você é\nBem-vindo\nEu não tenho certeza que você é\n"
     ]
    }
   ],
   "source": [
    "print(verifica_info())\n",
    "print(verifica_info(1, True, 'University', 'Geek'))\n",
    "print(verifica_info(1, 'University', 3.145))"
   ]
  },
  {
   "cell_type": "code",
   "execution_count": 26,
   "metadata": {},
   "outputs": [],
   "source": [
    "def soma_todos_os_numeros(*args):\n",
    "    return sum(args) "
   ]
  },
  {
   "cell_type": "code",
   "execution_count": 29,
   "metadata": {},
   "outputs": [
    {
     "output_type": "stream",
     "name": "stdout",
     "text": [
      "0\n1\n5\n15\n34\n"
     ]
    }
   ],
   "source": [
    "print(soma_todos_os_numeros())\n",
    "print(soma_todos_os_numeros(1))\n",
    "print(soma_todos_os_numeros(2, 3))\n",
    "print(soma_todos_os_numeros(4, 5, 6))\n",
    "print(soma_todos_os_numeros(7, 8, 9, 10))"
   ]
  },
  {
   "cell_type": "code",
   "execution_count": 30,
   "metadata": {},
   "outputs": [],
   "source": [
    "numeros = [1, 2, 3, 4, 5, 6, 7]\n"
   ]
  },
  {
   "source": [
    "## Desempacotador:"
   ],
   "cell_type": "markdown",
   "metadata": {}
  },
  {
   "cell_type": "code",
   "execution_count": 32,
   "metadata": {},
   "outputs": [
    {
     "output_type": "stream",
     "name": "stdout",
     "text": [
      "28\n"
     ]
    }
   ],
   "source": [
    "print(soma_todos_os_numeros(*numeros))"
   ]
  },
  {
   "source": [
    "### OBS: O asterisco serve para que informemos ao Python que estamos passando uma coleção de dados. Desta forma, ele saberá que presisará antes desempadotar estes dados"
   ],
   "cell_type": "markdown",
   "metadata": {}
  },
  {
   "cell_type": "code",
   "execution_count": null,
   "metadata": {},
   "outputs": [],
   "source": []
  }
 ]
}