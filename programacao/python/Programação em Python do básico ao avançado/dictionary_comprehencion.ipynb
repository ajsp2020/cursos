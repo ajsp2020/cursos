{
 "cells": [
  {
   "cell_type": "markdown",
   "metadata": {},
   "source": [
    "# Dictionary Comprehension\r\n",
    "\r\n",
    "### Pense no Seguinte:\r\n",
    "\r\n",
    "### Se quisermos criar uma lista fazemos:\r\n",
    "\r\n",
    "#### lista = [1, 2, 3, 4]\r\n",
    "\r\n",
    "### Se quuisermos criar uma tupla:\r\n",
    "\r\n",
    "#### tupla = (1, 2, 3, 4)\r\n",
    "\r\n",
    "### Se quisermos criar um set (conjunto):\r\n",
    "\r\n",
    "#### conjunto = {1, 2, 3, 4}\r\n",
    "\r\n",
    "### Se quizermos criar um dicionário:\r\n",
    "\r\n",
    "#### dicionario = {'a': 1, 'b': 2, 'c': 3, 'd': 4, 'e': 5}\r\n",
    "\r\n",
    "### Sintaxy\r\n",
    "\r\n",
    "#### {chave:valor for valor in iterável}"
   ]
  },
  {
   "cell_type": "markdown",
   "metadata": {},
   "source": [
    "## Exemplos:"
   ]
  },
  {
   "cell_type": "code",
   "execution_count": 1,
   "metadata": {},
   "outputs": [
    {
     "name": "stdout",
     "output_type": "stream",
     "text": [
      "{'a': 1, 'b': 4, 'c': 9, 'd': 16, 'e': 25}\n"
     ]
    }
   ],
   "source": [
    "numeros = {'a': 1, 'b': 2, 'c': 3, 'd': 4, 'e': 5}\r\n",
    "\r\n",
    "quadrado = {chave:valor ** 2 for chave, valor in numeros.items()}\r\n",
    "print(quadrado)"
   ]
  },
  {
   "cell_type": "code",
   "execution_count": 4,
   "metadata": {},
   "outputs": [
    {
     "name": "stdout",
     "output_type": "stream",
     "text": [
      "{1: 1, 2: 4, 3: 9, 4: 16, 5: 25}\n"
     ]
    }
   ],
   "source": [
    "numeros = [1, 2, 3, 4, 5]\r\n",
    "\r\n",
    "quadrados = {valor: valor ** 2 for valor in numeros}\r\n",
    "\r\n",
    "print(quadrados)"
   ]
  },
  {
   "cell_type": "code",
   "execution_count": 7,
   "metadata": {},
   "outputs": [
    {
     "name": "stdout",
     "output_type": "stream",
     "text": [
      "{'a': 1, 'b': 2, 'c': 3, 'd': 4, 'e': 5}\n"
     ]
    }
   ],
   "source": [
    "chaves = 'abcde'\r\n",
    "valores = [1, 2, 3, 4, 5]\r\n",
    "\r\n",
    "mistura = {chaves[i]: valores[i] for i in range(0, len(chaves))}\r\n",
    "print(mistura)"
   ]
  },
  {
   "cell_type": "markdown",
   "metadata": {},
   "source": [
    "## Exemplo com lógica condicional"
   ]
  },
  {
   "cell_type": "code",
   "execution_count": 9,
   "metadata": {},
   "outputs": [
    {
     "name": "stdout",
     "output_type": "stream",
     "text": [
      "{1: 'impar', 2: 'par', 3: 'impar', 4: 'par', 5: 'impar'}\n"
     ]
    }
   ],
   "source": [
    "res = {num: ('par' if num % 2 == 0 else 'impar') for num in valores}\r\n",
    "\r\n",
    "print(res)"
   ]
  },
  {
   "cell_type": "code",
   "execution_count": null,
   "metadata": {},
   "outputs": [],
   "source": []
  }
 ],
 "metadata": {
  "interpreter": {
   "hash": "ba9badd6fe3e8ca5cff0835dde77e47b2605c410e16655f71b6694d1bd8da611"
  },
  "kernelspec": {
   "display_name": "Python 3.9.5 64-bit (windows store)",
   "name": "python3"
  },
  "language_info": {
   "codemirror_mode": {
    "name": "ipython",
    "version": 3
   },
   "file_extension": ".py",
   "mimetype": "text/x-python",
   "name": "python",
   "nbconvert_exporter": "python",
   "pygments_lexer": "ipython3",
   "version": "3.8.5"
  },
  "orig_nbformat": 4
 },
 "nbformat": 4,
 "nbformat_minor": 2
}