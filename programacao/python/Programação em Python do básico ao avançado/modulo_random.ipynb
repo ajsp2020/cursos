{
 "cells": [
  {
   "cell_type": "markdown",
   "source": [
    "# Módulo Random e o que são módulos \n",
    "\n",
    "### - Em python, módulos nada mais são do que outros arquivos Python\n",
    "### Módulo Random -> Possui várias funções para geração de números pseudo-aleatório"
   ],
   "metadata": {}
  },
  {
   "cell_type": "code",
   "execution_count": 1,
   "source": [
    "# Forma 1 - Importando todo o módulo (não recomendado)\n",
    "# OBS: Ao realizar o import de todo o módulo, todas as funções, atributos, classes e propriedades que estiverem dentro ficarão disponível.\n",
    "import random # Gera um número pseudo-aleattório enttre 0 e 1\n",
    "print(random.random()) # Colocamos o nome do pacote e o nome da função.\n"
   ],
   "outputs": [
    {
     "output_type": "stream",
     "name": "stdout",
     "text": [
      "0.22391651538189072\n"
     ]
    }
   ],
   "metadata": {}
  },
  {
   "cell_type": "code",
   "execution_count": 7,
   "source": [
    "# Forma 2 - Importando uma função específica do módulo\n",
    "from random import random \n",
    "\n",
    "for i in range(10):\n",
    "    print(random())"
   ],
   "outputs": [
    {
     "output_type": "stream",
     "name": "stdout",
     "text": [
      "0.3070793163134564\n",
      "0.9720254708456337\n",
      "0.521923977934566\n",
      "0.3228445997485876\n",
      "0.8723714710773989\n",
      "0.5800705927997312\n",
      "0.3038145463288606\n",
      "0.6090742209564162\n",
      "0.29803698794800515\n",
      "0.9393177488246914\n"
     ]
    }
   ],
   "metadata": {}
  },
  {
   "cell_type": "code",
   "execution_count": 8,
   "source": [
    "# uniform() -> Gerar um número pseudo-aleatório entre valores estabelecidos\n",
    "from random import uniform\n",
    "\n",
    "for i in range(10):\n",
    "    print(uniform(3, 7))"
   ],
   "outputs": [
    {
     "output_type": "stream",
     "name": "stdout",
     "text": [
      "5.678165220318617\n",
      "6.978553558812158\n",
      "3.0941286523331315\n",
      "3.9075573320791386\n",
      "4.411945386041271\n",
      "5.8257387010287776\n",
      "5.608769987344111\n",
      "5.792191888880112\n",
      "6.44696289219201\n",
      "6.173920996380501\n"
     ]
    }
   ],
   "metadata": {}
  },
  {
   "cell_type": "code",
   "execution_count": 9,
   "source": [
    "# randint() -> Gera valores pseudo-aleatórios entre os valores estabelecidos.\n",
    "from random import randint\n",
    "# Gerador de apostas para mega-sena\n",
    "for i in range(6):\n",
    "    print(randint(1, 61), end=', ')"
   ],
   "outputs": [
    {
     "output_type": "stream",
     "name": "stdout",
     "text": [
      "36, 46, 51, 49, 57, 2, "
     ]
    }
   ],
   "metadata": {}
  },
  {
   "cell_type": "code",
   "execution_count": 11,
   "source": [
    "# choice() -> Mostra um valor aleatório entre um iterável.\n",
    "from random import choice\n",
    "\n",
    "jogadas = ['pedra', 'papel', 'tesoura']\n",
    "print(choice(jogadas))\n",
    "print(choice('Meu nome é'))"
   ],
   "outputs": [
    {
     "output_type": "stream",
     "name": "stdout",
     "text": [
      "pedra\n",
      "u\n"
     ]
    }
   ],
   "metadata": {}
  },
  {
   "cell_type": "code",
   "execution_count": 15,
   "source": [
    "# shuffle() -> Tem a função de embaralhar dados\n",
    "from random import shuffle\n",
    "\n",
    "cartas = ['K', 'Q', 'J', 'A', '2', '3', '4', '5', '6', '7']\n",
    "print(cartas)\n",
    "shuffle(cartas)\n",
    "print(cartas)"
   ],
   "outputs": [
    {
     "output_type": "stream",
     "name": "stdout",
     "text": [
      "['K', 'Q', 'J', 'A', '2', '3', '4', '5', '6', '7']\n",
      "['4', '2', '3', 'J', '5', '7', 'Q', 'A', '6', 'K']\n"
     ]
    }
   ],
   "metadata": {}
  },
  {
   "cell_type": "code",
   "execution_count": null,
   "source": [],
   "outputs": [],
   "metadata": {}
  }
 ],
 "metadata": {
  "orig_nbformat": 4,
  "language_info": {
   "name": "python",
   "version": "3.8.2",
   "mimetype": "text/x-python",
   "codemirror_mode": {
    "name": "ipython",
    "version": 3
   },
   "pygments_lexer": "ipython3",
   "nbconvert_exporter": "python",
   "file_extension": ".py"
  },
  "kernelspec": {
   "name": "python3",
   "display_name": "Python 3.8.2 64-bit ('Alura': conda)"
  },
  "interpreter": {
   "hash": "b712654a4e44784f513bc0735fa9d8fc6ade93e64d2807413d38cfef60ed5ddd"
  }
 },
 "nbformat": 4,
 "nbformat_minor": 2
}